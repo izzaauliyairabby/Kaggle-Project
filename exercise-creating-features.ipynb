{
 "cells": [
  {
   "cell_type": "markdown",
   "id": "764b11ff",
   "metadata": {
    "papermill": {
     "duration": 0.005413,
     "end_time": "2024-11-23T15:19:38.472853",
     "exception": false,
     "start_time": "2024-11-23T15:19:38.467440",
     "status": "completed"
    },
    "tags": []
   },
   "source": [
    "**This notebook is an exercise in the [Feature Engineering](https://www.kaggle.com/learn/feature-engineering) course.  You can reference the tutorial at [this link](https://www.kaggle.com/ryanholbrook/creating-features).**\n",
    "\n",
    "---\n"
   ]
  },
  {
   "cell_type": "markdown",
   "id": "a8e6d3a4",
   "metadata": {
    "papermill": {
     "duration": 0.004378,
     "end_time": "2024-11-23T15:19:38.481920",
     "exception": false,
     "start_time": "2024-11-23T15:19:38.477542",
     "status": "completed"
    },
    "tags": []
   },
   "source": [
    "# Introduction #\n",
    "\n",
    "In this exercise you'll start developing the features you identified in Exercise 2 as having the most potential. As you work through this exercise, you might take a moment to look at the data documentation again and consider whether the features we're creating make sense from a real-world perspective, and whether there are any useful combinations that stand out to you.\n",
    "\n",
    "Run this cell to set everything up!"
   ]
  },
  {
   "cell_type": "code",
   "execution_count": 1,
   "id": "c98452da",
   "metadata": {
    "execution": {
     "iopub.execute_input": "2024-11-23T15:19:38.493265Z",
     "iopub.status.busy": "2024-11-23T15:19:38.492733Z",
     "iopub.status.idle": "2024-11-23T15:19:41.717590Z",
     "shell.execute_reply": "2024-11-23T15:19:41.716134Z"
    },
    "papermill": {
     "duration": 3.234011,
     "end_time": "2024-11-23T15:19:41.720472",
     "exception": false,
     "start_time": "2024-11-23T15:19:38.486461",
     "status": "completed"
    },
    "tags": []
   },
   "outputs": [],
   "source": [
    "# Setup feedback system\n",
    "from learntools.core import binder\n",
    "binder.bind(globals())\n",
    "from learntools.feature_engineering_new.ex3 import *\n",
    "\n",
    "import numpy as np\n",
    "import pandas as pd\n",
    "from sklearn.model_selection import cross_val_score\n",
    "from xgboost import XGBRegressor\n",
    "\n",
    "\n",
    "def score_dataset(X, y, model=XGBRegressor()):\n",
    "    # Label encoding for categoricals\n",
    "    for colname in X.select_dtypes([\"category\", \"object\"]):\n",
    "        X[colname], _ = X[colname].factorize()\n",
    "    # Metric for Housing competition is RMSLE (Root Mean Squared Log Error)\n",
    "    score = cross_val_score(\n",
    "        model, X, y, cv=5, scoring=\"neg_mean_squared_log_error\",\n",
    "    )\n",
    "    score = -1 * score.mean()\n",
    "    score = np.sqrt(score)\n",
    "    return score\n",
    "\n",
    "\n",
    "# Prepare data\n",
    "df = pd.read_csv(\"../input/fe-course-data/ames.csv\")\n",
    "X = df.copy()\n",
    "y = X.pop(\"SalePrice\")"
   ]
  },
  {
   "cell_type": "markdown",
   "id": "7bd4575c",
   "metadata": {
    "papermill": {
     "duration": 0.005161,
     "end_time": "2024-11-23T15:19:41.731520",
     "exception": false,
     "start_time": "2024-11-23T15:19:41.726359",
     "status": "completed"
    },
    "tags": []
   },
   "source": [
    "-------------------------------------------------------------------------------\n",
    "\n",
    "Let's start with a few mathematical combinations. We'll focus on features describing areas -- having the same units (square-feet) makes it easy to combine them in sensible ways. Since we're using XGBoost (a tree-based model), we'll focus on ratios and sums.\n",
    "\n",
    "# 1) Create Mathematical Transforms\n",
    "\n",
    "Create the following features:\n",
    "\n",
    "- `LivLotRatio`: the ratio of `GrLivArea` to `LotArea`\n",
    "- `Spaciousness`: the sum of `FirstFlrSF` and `SecondFlrSF` divided by `TotRmsAbvGrd`\n",
    "- `TotalOutsideSF`: the sum of `WoodDeckSF`, `OpenPorchSF`, `EnclosedPorch`, `Threeseasonporch`, and `ScreenPorch`"
   ]
  },
  {
   "cell_type": "code",
   "execution_count": 2,
   "id": "d91a15d6",
   "metadata": {
    "execution": {
     "iopub.execute_input": "2024-11-23T15:19:41.744661Z",
     "iopub.status.busy": "2024-11-23T15:19:41.743360Z",
     "iopub.status.idle": "2024-11-23T15:19:41.769996Z",
     "shell.execute_reply": "2024-11-23T15:19:41.768468Z"
    },
    "lines_to_next_cell": 0,
    "papermill": {
     "duration": 0.036444,
     "end_time": "2024-11-23T15:19:41.772951",
     "exception": false,
     "start_time": "2024-11-23T15:19:41.736507",
     "status": "completed"
    },
    "tags": []
   },
   "outputs": [
    {
     "data": {
      "application/javascript": [
       "parent.postMessage({\"jupyterEvent\": \"custom.exercise_interaction\", \"data\": {\"outcomeType\": 1, \"valueTowardsCompletion\": 0.2, \"interactionType\": 1, \"questionType\": 2, \"questionId\": \"1_Q1\", \"learnToolsVersion\": \"0.3.4\", \"failureMessage\": \"\", \"exceptionClass\": \"\", \"trace\": \"\"}}, \"*\")"
      ],
      "text/plain": [
       "<IPython.core.display.Javascript object>"
      ]
     },
     "metadata": {},
     "output_type": "display_data"
    },
    {
     "data": {
      "text/markdown": [
       "<span style=\"color:#33cc33\">Correct</span>"
      ],
      "text/plain": [
       "Correct"
      ]
     },
     "metadata": {},
     "output_type": "display_data"
    }
   ],
   "source": [
    "# YOUR CODE HERE\n",
    "X_1 = pd.DataFrame()  # dataframe to hold new features\n",
    "\n",
    "X_1[\"LivLotRatio\"] = df.GrLivArea / df.LotArea\n",
    "X_1[\"Spaciousness\"] = (df.FirstFlrSF + df.SecondFlrSF) / df.TotRmsAbvGrd\n",
    "X_1[\"TotalOutsideSF\"] = df.WoodDeckSF + df.OpenPorchSF + df.EnclosedPorch + df.Threeseasonporch + df.ScreenPorch\n",
    "\n",
    "\n",
    "# Check your answer\n",
    "q_1.check()"
   ]
  },
  {
   "cell_type": "code",
   "execution_count": 3,
   "id": "83920a9d",
   "metadata": {
    "execution": {
     "iopub.execute_input": "2024-11-23T15:19:41.786525Z",
     "iopub.status.busy": "2024-11-23T15:19:41.785434Z",
     "iopub.status.idle": "2024-11-23T15:19:41.791075Z",
     "shell.execute_reply": "2024-11-23T15:19:41.789763Z"
    },
    "lines_to_next_cell": 0,
    "papermill": {
     "duration": 0.01518,
     "end_time": "2024-11-23T15:19:41.793611",
     "exception": false,
     "start_time": "2024-11-23T15:19:41.778431",
     "status": "completed"
    },
    "tags": []
   },
   "outputs": [],
   "source": [
    "# Lines below will give you a hint or solution code\n",
    "#q_1.hint()\n",
    "#q_1.solution()"
   ]
  },
  {
   "cell_type": "markdown",
   "id": "b1510f02",
   "metadata": {
    "papermill": {
     "duration": 0.005059,
     "end_time": "2024-11-23T15:19:41.805553",
     "exception": false,
     "start_time": "2024-11-23T15:19:41.800494",
     "status": "completed"
    },
    "tags": []
   },
   "source": [
    "-------------------------------------------------------------------------------\n",
    "\n",
    "If you've discovered an interaction effect between a numeric feature and a categorical feature, you might want to model it explicitly using a one-hot encoding, like so:\n",
    "\n",
    "```\n",
    "# One-hot encode Categorical feature, adding a column prefix \"Cat\"\n",
    "X_new = pd.get_dummies(df.Categorical, prefix=\"Cat\")\n",
    "\n",
    "# Multiply row-by-row\n",
    "X_new = X_new.mul(df.Continuous, axis=0)\n",
    "\n",
    "# Join the new features to the feature set\n",
    "X = X.join(X_new)\n",
    "```\n",
    "\n",
    "# 2) Interaction with a Categorical\n",
    "\n",
    "We discovered an interaction between `BldgType` and `GrLivArea` in Exercise 2. Now create their interaction features."
   ]
  },
  {
   "cell_type": "code",
   "execution_count": 4,
   "id": "a866e5cd",
   "metadata": {
    "execution": {
     "iopub.execute_input": "2024-11-23T15:19:41.818975Z",
     "iopub.status.busy": "2024-11-23T15:19:41.818457Z",
     "iopub.status.idle": "2024-11-23T15:19:41.839110Z",
     "shell.execute_reply": "2024-11-23T15:19:41.837851Z"
    },
    "lines_to_next_cell": 0,
    "papermill": {
     "duration": 0.03055,
     "end_time": "2024-11-23T15:19:41.841482",
     "exception": false,
     "start_time": "2024-11-23T15:19:41.810932",
     "status": "completed"
    },
    "tags": []
   },
   "outputs": [
    {
     "data": {
      "application/javascript": [
       "parent.postMessage({\"jupyterEvent\": \"custom.exercise_interaction\", \"data\": {\"outcomeType\": 1, \"valueTowardsCompletion\": 0.2, \"interactionType\": 1, \"questionType\": 2, \"questionId\": \"2_Q2\", \"learnToolsVersion\": \"0.3.4\", \"failureMessage\": \"\", \"exceptionClass\": \"\", \"trace\": \"\"}}, \"*\")"
      ],
      "text/plain": [
       "<IPython.core.display.Javascript object>"
      ]
     },
     "metadata": {},
     "output_type": "display_data"
    },
    {
     "data": {
      "text/markdown": [
       "<span style=\"color:#33cc33\">Correct</span>"
      ],
      "text/plain": [
       "Correct"
      ]
     },
     "metadata": {},
     "output_type": "display_data"
    }
   ],
   "source": [
    "# YOUR CODE HERE\n",
    "# One-hot encode BldgType. Use `prefix=\"Bldg\"` in `get_dummies`\n",
    "X_2 = pd.get_dummies(df.BldgType, prefix=\"Bldg\")\n",
    "# Multiply\n",
    "X_2 = X_2.mul(df.GrLivArea, axis=0)\n",
    "\n",
    "\n",
    "# Check your answer\n",
    "q_2.check()"
   ]
  },
  {
   "cell_type": "code",
   "execution_count": 5,
   "id": "03f855f0",
   "metadata": {
    "execution": {
     "iopub.execute_input": "2024-11-23T15:19:41.855959Z",
     "iopub.status.busy": "2024-11-23T15:19:41.855446Z",
     "iopub.status.idle": "2024-11-23T15:19:41.861156Z",
     "shell.execute_reply": "2024-11-23T15:19:41.859732Z"
    },
    "lines_to_next_cell": 0,
    "papermill": {
     "duration": 0.015927,
     "end_time": "2024-11-23T15:19:41.863659",
     "exception": false,
     "start_time": "2024-11-23T15:19:41.847732",
     "status": "completed"
    },
    "tags": []
   },
   "outputs": [],
   "source": [
    "# Lines below will give you a hint or solution code\n",
    "#q_2.hint()\n",
    "#q_2.solution()"
   ]
  },
  {
   "cell_type": "markdown",
   "id": "c6bf0272",
   "metadata": {
    "lines_to_next_cell": 0,
    "papermill": {
     "duration": 0.00576,
     "end_time": "2024-11-23T15:19:41.875263",
     "exception": false,
     "start_time": "2024-11-23T15:19:41.869503",
     "status": "completed"
    },
    "tags": []
   },
   "source": [
    "# 3) Count Feature\n",
    "\n",
    "Let's try creating a feature that describes how many kinds of outdoor areas a dwelling has. Create a feature `PorchTypes` that counts how many of the following are greater than 0.0:\n",
    "\n",
    "```\n",
    "WoodDeckSF\n",
    "OpenPorchSF\n",
    "EnclosedPorch\n",
    "Threeseasonporch\n",
    "ScreenPorch\n",
    "```"
   ]
  },
  {
   "cell_type": "code",
   "execution_count": 6,
   "id": "c6a3b095",
   "metadata": {
    "execution": {
     "iopub.execute_input": "2024-11-23T15:19:41.887893Z",
     "iopub.status.busy": "2024-11-23T15:19:41.887444Z",
     "iopub.status.idle": "2024-11-23T15:19:41.905957Z",
     "shell.execute_reply": "2024-11-23T15:19:41.904893Z"
    },
    "lines_to_next_cell": 0,
    "papermill": {
     "duration": 0.027642,
     "end_time": "2024-11-23T15:19:41.908257",
     "exception": false,
     "start_time": "2024-11-23T15:19:41.880615",
     "status": "completed"
    },
    "tags": []
   },
   "outputs": [
    {
     "data": {
      "application/javascript": [
       "parent.postMessage({\"jupyterEvent\": \"custom.exercise_interaction\", \"data\": {\"outcomeType\": 1, \"valueTowardsCompletion\": 0.2, \"interactionType\": 1, \"questionType\": 2, \"questionId\": \"3_Q3\", \"learnToolsVersion\": \"0.3.4\", \"failureMessage\": \"\", \"exceptionClass\": \"\", \"trace\": \"\"}}, \"*\")"
      ],
      "text/plain": [
       "<IPython.core.display.Javascript object>"
      ]
     },
     "metadata": {},
     "output_type": "display_data"
    },
    {
     "data": {
      "text/markdown": [
       "<span style=\"color:#33cc33\">Correct</span>"
      ],
      "text/plain": [
       "Correct"
      ]
     },
     "metadata": {},
     "output_type": "display_data"
    }
   ],
   "source": [
    "X_3 = pd.DataFrame()\n",
    "\n",
    "# YOUR CODE HERE\n",
    "X_3[\"PorchTypes\"] =  df[[\n",
    "    \"WoodDeckSF\",\n",
    "    \"OpenPorchSF\",\n",
    "    \"EnclosedPorch\",\n",
    "    \"Threeseasonporch\",\n",
    "    \"ScreenPorch\",\n",
    "]].gt(0.0).sum(axis=1)\n",
    "\n",
    "# Check your answer\n",
    "q_3.check()"
   ]
  },
  {
   "cell_type": "code",
   "execution_count": 7,
   "id": "d8ac8e98",
   "metadata": {
    "execution": {
     "iopub.execute_input": "2024-11-23T15:19:41.920367Z",
     "iopub.status.busy": "2024-11-23T15:19:41.919979Z",
     "iopub.status.idle": "2024-11-23T15:19:41.924292Z",
     "shell.execute_reply": "2024-11-23T15:19:41.923340Z"
    },
    "lines_to_next_cell": 0,
    "papermill": {
     "duration": 0.01276,
     "end_time": "2024-11-23T15:19:41.926192",
     "exception": false,
     "start_time": "2024-11-23T15:19:41.913432",
     "status": "completed"
    },
    "tags": []
   },
   "outputs": [],
   "source": [
    "# Lines below will give you a hint or solution code\n",
    "#q_3.hint()\n",
    "#q_3.solution()"
   ]
  },
  {
   "cell_type": "markdown",
   "id": "a748cc72",
   "metadata": {
    "papermill": {
     "duration": 0.005007,
     "end_time": "2024-11-23T15:19:41.936412",
     "exception": false,
     "start_time": "2024-11-23T15:19:41.931405",
     "status": "completed"
    },
    "tags": []
   },
   "source": [
    "# 4) Break Down a Categorical Feature\n",
    "\n",
    "`MSSubClass` describes the type of a dwelling:"
   ]
  },
  {
   "cell_type": "code",
   "execution_count": 8,
   "id": "6e5fb9b5",
   "metadata": {
    "execution": {
     "iopub.execute_input": "2024-11-23T15:19:41.950780Z",
     "iopub.status.busy": "2024-11-23T15:19:41.950308Z",
     "iopub.status.idle": "2024-11-23T15:19:41.959268Z",
     "shell.execute_reply": "2024-11-23T15:19:41.958011Z"
    },
    "papermill": {
     "duration": 0.020456,
     "end_time": "2024-11-23T15:19:41.962324",
     "exception": false,
     "start_time": "2024-11-23T15:19:41.941868",
     "status": "completed"
    },
    "tags": []
   },
   "outputs": [
    {
     "data": {
      "text/plain": [
       "array(['One_Story_1946_and_Newer_All_Styles', 'Two_Story_1946_and_Newer',\n",
       "       'One_Story_PUD_1946_and_Newer',\n",
       "       'One_and_Half_Story_Finished_All_Ages', 'Split_Foyer',\n",
       "       'Two_Story_PUD_1946_and_Newer', 'Split_or_Multilevel',\n",
       "       'One_Story_1945_and_Older', 'Duplex_All_Styles_and_Ages',\n",
       "       'Two_Family_conversion_All_Styles_and_Ages',\n",
       "       'One_and_Half_Story_Unfinished_All_Ages',\n",
       "       'Two_Story_1945_and_Older', 'Two_and_Half_Story_All_Ages',\n",
       "       'One_Story_with_Finished_Attic_All_Ages',\n",
       "       'PUD_Multilevel_Split_Level_Foyer',\n",
       "       'One_and_Half_Story_PUD_All_Ages'], dtype=object)"
      ]
     },
     "execution_count": 8,
     "metadata": {},
     "output_type": "execute_result"
    }
   ],
   "source": [
    "df.MSSubClass.unique()"
   ]
  },
  {
   "cell_type": "markdown",
   "id": "ffc37961",
   "metadata": {
    "papermill": {
     "duration": 0.005696,
     "end_time": "2024-11-23T15:19:41.974166",
     "exception": false,
     "start_time": "2024-11-23T15:19:41.968470",
     "status": "completed"
    },
    "tags": []
   },
   "source": [
    "You can see that there is a more general categorization described (roughly) by the first word of each category. Create a feature containing only these first words by splitting `MSSubClass` at the first underscore `_`. (Hint: In the `split` method use an argument `n=1`.)"
   ]
  },
  {
   "cell_type": "code",
   "execution_count": 9,
   "id": "75119782",
   "metadata": {
    "execution": {
     "iopub.execute_input": "2024-11-23T15:19:41.989656Z",
     "iopub.status.busy": "2024-11-23T15:19:41.989041Z",
     "iopub.status.idle": "2024-11-23T15:19:42.021096Z",
     "shell.execute_reply": "2024-11-23T15:19:42.019099Z"
    },
    "lines_to_next_cell": 0,
    "papermill": {
     "duration": 0.044701,
     "end_time": "2024-11-23T15:19:42.024260",
     "exception": false,
     "start_time": "2024-11-23T15:19:41.979559",
     "status": "completed"
    },
    "tags": []
   },
   "outputs": [
    {
     "data": {
      "application/javascript": [
       "parent.postMessage({\"jupyterEvent\": \"custom.exercise_interaction\", \"data\": {\"outcomeType\": 1, \"valueTowardsCompletion\": 0.2, \"interactionType\": 1, \"questionType\": 2, \"questionId\": \"4_Q4\", \"learnToolsVersion\": \"0.3.4\", \"failureMessage\": \"\", \"exceptionClass\": \"\", \"trace\": \"\"}}, \"*\")"
      ],
      "text/plain": [
       "<IPython.core.display.Javascript object>"
      ]
     },
     "metadata": {},
     "output_type": "display_data"
    },
    {
     "data": {
      "text/markdown": [
       "<span style=\"color:#33cc33\">Correct</span>"
      ],
      "text/plain": [
       "Correct"
      ]
     },
     "metadata": {},
     "output_type": "display_data"
    }
   ],
   "source": [
    "X_4 = pd.DataFrame()\n",
    "\n",
    "# YOUR CODE HERE\n",
    "X_4[\"MSClass\"] = df.MSSubClass.str.split(\"_\", n=1, expand=True)[0]\n",
    "\n",
    "# Check your answer\n",
    "q_4.check()"
   ]
  },
  {
   "cell_type": "code",
   "execution_count": 10,
   "id": "2adf8106",
   "metadata": {
    "execution": {
     "iopub.execute_input": "2024-11-23T15:19:42.039691Z",
     "iopub.status.busy": "2024-11-23T15:19:42.039217Z",
     "iopub.status.idle": "2024-11-23T15:19:42.043982Z",
     "shell.execute_reply": "2024-11-23T15:19:42.042898Z"
    },
    "lines_to_next_cell": 0,
    "papermill": {
     "duration": 0.014165,
     "end_time": "2024-11-23T15:19:42.046173",
     "exception": false,
     "start_time": "2024-11-23T15:19:42.032008",
     "status": "completed"
    },
    "tags": []
   },
   "outputs": [],
   "source": [
    "# Lines below will give you a hint or solution code\n",
    "#q_4.hint()\n",
    "#q_4.solution()"
   ]
  },
  {
   "cell_type": "markdown",
   "id": "1bcd2ea0",
   "metadata": {
    "papermill": {
     "duration": 0.005265,
     "end_time": "2024-11-23T15:19:42.057105",
     "exception": false,
     "start_time": "2024-11-23T15:19:42.051840",
     "status": "completed"
    },
    "tags": []
   },
   "source": [
    "# 5) Use a Grouped Transform\n",
    "\n",
    "The value of a home often depends on how it compares to typical homes in its neighborhood. Create a feature `MedNhbdArea` that describes the *median* of `GrLivArea` grouped on `Neighborhood`."
   ]
  },
  {
   "cell_type": "code",
   "execution_count": 11,
   "id": "6a408fd4",
   "metadata": {
    "execution": {
     "iopub.execute_input": "2024-11-23T15:19:42.070216Z",
     "iopub.status.busy": "2024-11-23T15:19:42.069794Z",
     "iopub.status.idle": "2024-11-23T15:19:42.088576Z",
     "shell.execute_reply": "2024-11-23T15:19:42.087403Z"
    },
    "lines_to_next_cell": 0,
    "papermill": {
     "duration": 0.028306,
     "end_time": "2024-11-23T15:19:42.090822",
     "exception": false,
     "start_time": "2024-11-23T15:19:42.062516",
     "status": "completed"
    },
    "tags": []
   },
   "outputs": [
    {
     "data": {
      "application/javascript": [
       "parent.postMessage({\"jupyterEvent\": \"custom.exercise_interaction\", \"data\": {\"outcomeType\": 1, \"valueTowardsCompletion\": 0.2, \"interactionType\": 1, \"questionType\": 2, \"questionId\": \"5_Q5\", \"learnToolsVersion\": \"0.3.4\", \"failureMessage\": \"\", \"exceptionClass\": \"\", \"trace\": \"\"}}, \"*\")"
      ],
      "text/plain": [
       "<IPython.core.display.Javascript object>"
      ]
     },
     "metadata": {},
     "output_type": "display_data"
    },
    {
     "data": {
      "text/markdown": [
       "<span style=\"color:#33cc33\">Correct</span>"
      ],
      "text/plain": [
       "Correct"
      ]
     },
     "metadata": {},
     "output_type": "display_data"
    }
   ],
   "source": [
    "X_5 = pd.DataFrame()\n",
    "\n",
    "# YOUR CODE HERE\n",
    "X_5[\"MedNhbdArea\"] = df.groupby(\"Neighborhood\")[\"GrLivArea\"].transform(\"median\")\n",
    "\n",
    "# Check your answer\n",
    "q_5.check()"
   ]
  },
  {
   "cell_type": "code",
   "execution_count": 12,
   "id": "8c3b7f8f",
   "metadata": {
    "execution": {
     "iopub.execute_input": "2024-11-23T15:19:42.104011Z",
     "iopub.status.busy": "2024-11-23T15:19:42.103587Z",
     "iopub.status.idle": "2024-11-23T15:19:42.108730Z",
     "shell.execute_reply": "2024-11-23T15:19:42.107420Z"
    },
    "lines_to_next_cell": 0,
    "papermill": {
     "duration": 0.014506,
     "end_time": "2024-11-23T15:19:42.111021",
     "exception": false,
     "start_time": "2024-11-23T15:19:42.096515",
     "status": "completed"
    },
    "tags": []
   },
   "outputs": [],
   "source": [
    "# Lines below will give you a hint or solution code\n",
    "#q_5.hint()\n",
    "#q_5.solution()"
   ]
  },
  {
   "cell_type": "markdown",
   "id": "5353db24",
   "metadata": {
    "papermill": {
     "duration": 0.010629,
     "end_time": "2024-11-23T15:19:42.127570",
     "exception": false,
     "start_time": "2024-11-23T15:19:42.116941",
     "status": "completed"
    },
    "tags": []
   },
   "source": [
    "Now you've made your first new feature set! If you like, you can run the cell below to score the model with all of your new features added:"
   ]
  },
  {
   "cell_type": "code",
   "execution_count": 13,
   "id": "a09d6685",
   "metadata": {
    "execution": {
     "iopub.execute_input": "2024-11-23T15:19:42.145347Z",
     "iopub.status.busy": "2024-11-23T15:19:42.144322Z",
     "iopub.status.idle": "2024-11-23T15:19:44.555335Z",
     "shell.execute_reply": "2024-11-23T15:19:44.554456Z"
    },
    "papermill": {
     "duration": 2.423916,
     "end_time": "2024-11-23T15:19:44.557893",
     "exception": false,
     "start_time": "2024-11-23T15:19:42.133977",
     "status": "completed"
    },
    "tags": []
   },
   "outputs": [
    {
     "data": {
      "text/plain": [
       "0.13954039591355258"
      ]
     },
     "execution_count": 13,
     "metadata": {},
     "output_type": "execute_result"
    }
   ],
   "source": [
    "X_new = X.join([X_1, X_2, X_3, X_4, X_5])\n",
    "score_dataset(X_new, y)"
   ]
  },
  {
   "cell_type": "markdown",
   "id": "a6130871",
   "metadata": {
    "papermill": {
     "duration": 0.005992,
     "end_time": "2024-11-23T15:19:44.571292",
     "exception": false,
     "start_time": "2024-11-23T15:19:44.565300",
     "status": "completed"
    },
    "tags": []
   },
   "source": [
    "# Keep Going #\n",
    "\n",
    "[**Untangle spatial relationships**](https://www.kaggle.com/ryanholbrook/clustering-with-k-means) by adding cluster labels to your dataset."
   ]
  },
  {
   "cell_type": "markdown",
   "id": "fa6b586a",
   "metadata": {
    "papermill": {
     "duration": 0.005447,
     "end_time": "2024-11-23T15:19:44.582441",
     "exception": false,
     "start_time": "2024-11-23T15:19:44.576994",
     "status": "completed"
    },
    "tags": []
   },
   "source": [
    "---\n",
    "\n",
    "\n",
    "\n",
    "\n",
    "*Have questions or comments? Visit the [course discussion forum](https://www.kaggle.com/learn/feature-engineering/discussion) to chat with other learners.*"
   ]
  }
 ],
 "metadata": {
  "jupytext": {
   "cell_metadata_filter": "-all",
   "formats": "ipynb"
  },
  "kaggle": {
   "accelerator": "none",
   "dataSources": [
    {
     "datasetId": 933090,
     "sourceId": 1828856,
     "sourceType": "datasetVersion"
    }
   ],
   "isGpuEnabled": false,
   "isInternetEnabled": false,
   "language": "python",
   "sourceType": "notebook"
  },
  "kernelspec": {
   "display_name": "Python 3",
   "language": "python",
   "name": "python3"
  },
  "language_info": {
   "codemirror_mode": {
    "name": "ipython",
    "version": 3
   },
   "file_extension": ".py",
   "mimetype": "text/x-python",
   "name": "python",
   "nbconvert_exporter": "python",
   "pygments_lexer": "ipython3",
   "version": "3.10.14"
  },
  "papermill": {
   "default_parameters": {},
   "duration": 10.214907,
   "end_time": "2024-11-23T15:19:45.310231",
   "environment_variables": {},
   "exception": null,
   "input_path": "__notebook__.ipynb",
   "output_path": "__notebook__.ipynb",
   "parameters": {},
   "start_time": "2024-11-23T15:19:35.095324",
   "version": "2.6.0"
  }
 },
 "nbformat": 4,
 "nbformat_minor": 5
}

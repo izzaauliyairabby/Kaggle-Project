{
 "cells": [
  {
   "cell_type": "markdown",
   "id": "ce89a7ca",
   "metadata": {
    "papermill": {
     "duration": 0.010693,
     "end_time": "2024-11-11T09:34:33.990508",
     "exception": false,
     "start_time": "2024-11-11T09:34:33.979815",
     "status": "completed"
    },
    "tags": []
   },
   "source": [
    "**This notebook is an exercise in the [Pandas](https://www.kaggle.com/learn/pandas) course.  You can reference the tutorial at [this link](https://www.kaggle.com/residentmario/grouping-and-sorting).**\n",
    "\n",
    "---\n"
   ]
  },
  {
   "cell_type": "markdown",
   "id": "e8db7f2b",
   "metadata": {
    "papermill": {
     "duration": 0.008056,
     "end_time": "2024-11-11T09:34:34.007164",
     "exception": false,
     "start_time": "2024-11-11T09:34:33.999108",
     "status": "completed"
    },
    "tags": []
   },
   "source": [
    "# Introduction\n",
    "\n",
    "In these exercises we'll apply groupwise analysis to our dataset.\n",
    "\n",
    "Run the code cell below to load the data before running the exercises."
   ]
  },
  {
   "cell_type": "code",
   "execution_count": 1,
   "id": "3338541f",
   "metadata": {
    "execution": {
     "iopub.execute_input": "2024-11-11T09:34:34.026247Z",
     "iopub.status.busy": "2024-11-11T09:34:34.025806Z",
     "iopub.status.idle": "2024-11-11T09:34:38.256701Z",
     "shell.execute_reply": "2024-11-11T09:34:38.255435Z"
    },
    "papermill": {
     "duration": 4.244429,
     "end_time": "2024-11-11T09:34:38.260352",
     "exception": false,
     "start_time": "2024-11-11T09:34:34.015923",
     "status": "completed"
    },
    "tags": []
   },
   "outputs": [
    {
     "name": "stdout",
     "output_type": "stream",
     "text": [
      "Setup complete.\n"
     ]
    },
    {
     "name": "stderr",
     "output_type": "stream",
     "text": [
      "/opt/conda/lib/python3.10/site-packages/learntools/pandas/grouping_and_sorting.py:29: FutureWarning: The provided callable <built-in function min> is currently using SeriesGroupBy.min. In a future version of pandas, the provided callable will be used directly. To keep current behavior pass the string \"min\" instead.\n",
      "  _expected = reviews.groupby('variety').price.agg([min, max])\n",
      "/opt/conda/lib/python3.10/site-packages/learntools/pandas/grouping_and_sorting.py:29: FutureWarning: The provided callable <built-in function max> is currently using SeriesGroupBy.max. In a future version of pandas, the provided callable will be used directly. To keep current behavior pass the string \"max\" instead.\n",
      "  _expected = reviews.groupby('variety').price.agg([min, max])\n",
      "/opt/conda/lib/python3.10/site-packages/learntools/pandas/grouping_and_sorting.py:35: FutureWarning: The provided callable <built-in function min> is currently using SeriesGroupBy.min. In a future version of pandas, the provided callable will be used directly. To keep current behavior pass the string \"min\" instead.\n",
      "  _expected = reviews.groupby('variety').price.agg([min, max]).sort_values(by=['min', 'max'], ascending=False)\n",
      "/opt/conda/lib/python3.10/site-packages/learntools/pandas/grouping_and_sorting.py:35: FutureWarning: The provided callable <built-in function max> is currently using SeriesGroupBy.max. In a future version of pandas, the provided callable will be used directly. To keep current behavior pass the string \"max\" instead.\n",
      "  _expected = reviews.groupby('variety').price.agg([min, max]).sort_values(by=['min', 'max'], ascending=False)\n"
     ]
    }
   ],
   "source": [
    "import pandas as pd\n",
    "\n",
    "reviews = pd.read_csv(\"../input/wine-reviews/winemag-data-130k-v2.csv\", index_col=0)\n",
    "#pd.set_option(\"display.max_rows\", 5)\n",
    "\n",
    "from learntools.core import binder; binder.bind(globals())\n",
    "from learntools.pandas.grouping_and_sorting import *\n",
    "print(\"Setup complete.\")"
   ]
  },
  {
   "cell_type": "code",
   "execution_count": 2,
   "id": "8d6dc368",
   "metadata": {
    "execution": {
     "iopub.execute_input": "2024-11-11T09:34:38.279558Z",
     "iopub.status.busy": "2024-11-11T09:34:38.279123Z",
     "iopub.status.idle": "2024-11-11T09:34:38.288301Z",
     "shell.execute_reply": "2024-11-11T09:34:38.286966Z"
    },
    "papermill": {
     "duration": 0.021996,
     "end_time": "2024-11-11T09:34:38.291001",
     "exception": false,
     "start_time": "2024-11-11T09:34:38.269005",
     "status": "completed"
    },
    "tags": []
   },
   "outputs": [
    {
     "data": {
      "text/plain": [
       "Index(['country', 'description', 'designation', 'points', 'price', 'province',\n",
       "       'region_1', 'region_2', 'taster_name', 'taster_twitter_handle', 'title',\n",
       "       'variety', 'winery'],\n",
       "      dtype='object')"
      ]
     },
     "execution_count": 2,
     "metadata": {},
     "output_type": "execute_result"
    }
   ],
   "source": [
    "reviews.columns"
   ]
  },
  {
   "cell_type": "markdown",
   "id": "6c7cb2e2",
   "metadata": {
    "papermill": {
     "duration": 0.00953,
     "end_time": "2024-11-11T09:34:38.309430",
     "exception": false,
     "start_time": "2024-11-11T09:34:38.299900",
     "status": "completed"
    },
    "tags": []
   },
   "source": [
    "# Exercises"
   ]
  },
  {
   "cell_type": "markdown",
   "id": "74a211de",
   "metadata": {
    "papermill": {
     "duration": 0.009487,
     "end_time": "2024-11-11T09:34:38.327717",
     "exception": false,
     "start_time": "2024-11-11T09:34:38.318230",
     "status": "completed"
    },
    "tags": []
   },
   "source": [
    "## 1.\n",
    "Who are the most common wine reviewers in the dataset? Create a `Series` whose index is the `taster_twitter_handle` category from the dataset, and whose values count how many reviews each person wrote."
   ]
  },
  {
   "cell_type": "code",
   "execution_count": 3,
   "id": "38dcf361",
   "metadata": {
    "execution": {
     "iopub.execute_input": "2024-11-11T09:34:38.347721Z",
     "iopub.status.busy": "2024-11-11T09:34:38.347253Z",
     "iopub.status.idle": "2024-11-11T09:34:38.381821Z",
     "shell.execute_reply": "2024-11-11T09:34:38.380612Z"
    },
    "papermill": {
     "duration": 0.047664,
     "end_time": "2024-11-11T09:34:38.384557",
     "exception": false,
     "start_time": "2024-11-11T09:34:38.336893",
     "status": "completed"
    },
    "tags": []
   },
   "outputs": [
    {
     "data": {
      "application/javascript": [
       "parent.postMessage({\"jupyterEvent\": \"custom.exercise_interaction\", \"data\": {\"outcomeType\": 1, \"valueTowardsCompletion\": 0.16666666666666666, \"interactionType\": 1, \"questionType\": 1, \"questionId\": \"1_ReviewsWritten\", \"learnToolsVersion\": \"0.3.4\", \"failureMessage\": \"\", \"exceptionClass\": \"\", \"trace\": \"\"}}, \"*\")"
      ],
      "text/plain": [
       "<IPython.core.display.Javascript object>"
      ]
     },
     "metadata": {},
     "output_type": "display_data"
    },
    {
     "data": {
      "text/markdown": [
       "<span style=\"color:#33cc33\">Correct:</span> \n",
       "\n",
       "\n",
       "```python\n",
       "reviews_written = reviews.groupby('taster_twitter_handle').size()\n",
       "```\n",
       "or\n",
       "```python\n",
       "reviews_written = reviews.groupby('taster_twitter_handle').taster_twitter_handle.count()\n",
       "```\n"
      ],
      "text/plain": [
       "Correct: \n",
       "\n",
       "\n",
       "```python\n",
       "reviews_written = reviews.groupby('taster_twitter_handle').size()\n",
       "```\n",
       "or\n",
       "```python\n",
       "reviews_written = reviews.groupby('taster_twitter_handle').taster_twitter_handle.count()\n",
       "```"
      ]
     },
     "metadata": {},
     "output_type": "display_data"
    }
   ],
   "source": [
    "# Your code here\n",
    "reviews_written = reviews.groupby('taster_twitter_handle').size()\n",
    "\n",
    "# Check your answer\n",
    "q1.check()"
   ]
  },
  {
   "cell_type": "code",
   "execution_count": 4,
   "id": "09b86389",
   "metadata": {
    "execution": {
     "iopub.execute_input": "2024-11-11T09:34:38.404915Z",
     "iopub.status.busy": "2024-11-11T09:34:38.404443Z",
     "iopub.status.idle": "2024-11-11T09:34:38.409380Z",
     "shell.execute_reply": "2024-11-11T09:34:38.408120Z"
    },
    "papermill": {
     "duration": 0.01829,
     "end_time": "2024-11-11T09:34:38.412216",
     "exception": false,
     "start_time": "2024-11-11T09:34:38.393926",
     "status": "completed"
    },
    "tags": []
   },
   "outputs": [],
   "source": [
    "#q1.hint()\n",
    "#q1.solution()"
   ]
  },
  {
   "cell_type": "markdown",
   "id": "17a88bf2",
   "metadata": {
    "papermill": {
     "duration": 0.008927,
     "end_time": "2024-11-11T09:34:38.430582",
     "exception": false,
     "start_time": "2024-11-11T09:34:38.421655",
     "status": "completed"
    },
    "tags": []
   },
   "source": [
    "## 2.\n",
    "What is the best wine I can buy for a given amount of money? Create a `Series` whose index is wine prices and whose values is the maximum number of points a wine costing that much was given in a review. Sort the values by price, ascending (so that `4.0` dollars is at the top and `3300.0` dollars is at the bottom)."
   ]
  },
  {
   "cell_type": "code",
   "execution_count": 5,
   "id": "e72c3ddd",
   "metadata": {
    "execution": {
     "iopub.execute_input": "2024-11-11T09:34:38.451317Z",
     "iopub.status.busy": "2024-11-11T09:34:38.450371Z",
     "iopub.status.idle": "2024-11-11T09:34:38.466776Z",
     "shell.execute_reply": "2024-11-11T09:34:38.465590Z"
    },
    "papermill": {
     "duration": 0.029622,
     "end_time": "2024-11-11T09:34:38.469408",
     "exception": false,
     "start_time": "2024-11-11T09:34:38.439786",
     "status": "completed"
    },
    "tags": []
   },
   "outputs": [
    {
     "data": {
      "application/javascript": [
       "parent.postMessage({\"jupyterEvent\": \"custom.exercise_interaction\", \"data\": {\"outcomeType\": 1, \"valueTowardsCompletion\": 0.16666666666666666, \"interactionType\": 1, \"questionType\": 1, \"questionId\": \"2_BestRatingPerPrice\", \"learnToolsVersion\": \"0.3.4\", \"failureMessage\": \"\", \"exceptionClass\": \"\", \"trace\": \"\"}}, \"*\")"
      ],
      "text/plain": [
       "<IPython.core.display.Javascript object>"
      ]
     },
     "metadata": {},
     "output_type": "display_data"
    },
    {
     "data": {
      "text/markdown": [
       "<span style=\"color:#33cc33\">Correct</span>"
      ],
      "text/plain": [
       "Correct"
      ]
     },
     "metadata": {},
     "output_type": "display_data"
    }
   ],
   "source": [
    "best_rating_per_price = reviews.groupby('price')['points'].max().sort_index()\n",
    "\n",
    "# Check your answer\n",
    "q2.check()"
   ]
  },
  {
   "cell_type": "code",
   "execution_count": 6,
   "id": "298790fe",
   "metadata": {
    "execution": {
     "iopub.execute_input": "2024-11-11T09:34:38.490638Z",
     "iopub.status.busy": "2024-11-11T09:34:38.490151Z",
     "iopub.status.idle": "2024-11-11T09:34:38.495362Z",
     "shell.execute_reply": "2024-11-11T09:34:38.494104Z"
    },
    "papermill": {
     "duration": 0.018619,
     "end_time": "2024-11-11T09:34:38.497914",
     "exception": false,
     "start_time": "2024-11-11T09:34:38.479295",
     "status": "completed"
    },
    "tags": []
   },
   "outputs": [],
   "source": [
    "#q2.hint()\n",
    "#q2.solution()"
   ]
  },
  {
   "cell_type": "markdown",
   "id": "d66236a2",
   "metadata": {
    "papermill": {
     "duration": 0.009571,
     "end_time": "2024-11-11T09:34:38.516951",
     "exception": false,
     "start_time": "2024-11-11T09:34:38.507380",
     "status": "completed"
    },
    "tags": []
   },
   "source": [
    "## 3.\n",
    "What are the minimum and maximum prices for each `variety` of wine? Create a `DataFrame` whose index is the `variety` category from the dataset and whose values are the `min` and `max` values thereof."
   ]
  },
  {
   "cell_type": "code",
   "execution_count": 7,
   "id": "ccf636a5",
   "metadata": {
    "execution": {
     "iopub.execute_input": "2024-11-11T09:34:38.538347Z",
     "iopub.status.busy": "2024-11-11T09:34:38.537263Z",
     "iopub.status.idle": "2024-11-11T09:34:38.579516Z",
     "shell.execute_reply": "2024-11-11T09:34:38.578340Z"
    },
    "papermill": {
     "duration": 0.055756,
     "end_time": "2024-11-11T09:34:38.582223",
     "exception": false,
     "start_time": "2024-11-11T09:34:38.526467",
     "status": "completed"
    },
    "tags": []
   },
   "outputs": [
    {
     "name": "stderr",
     "output_type": "stream",
     "text": [
      "/tmp/ipykernel_17/4085108108.py:1: FutureWarning: The provided callable <built-in function min> is currently using SeriesGroupBy.min. In a future version of pandas, the provided callable will be used directly. To keep current behavior pass the string \"min\" instead.\n",
      "  price_extremes = reviews.groupby('variety').price.agg([min, max])\n",
      "/tmp/ipykernel_17/4085108108.py:1: FutureWarning: The provided callable <built-in function max> is currently using SeriesGroupBy.max. In a future version of pandas, the provided callable will be used directly. To keep current behavior pass the string \"max\" instead.\n",
      "  price_extremes = reviews.groupby('variety').price.agg([min, max])\n"
     ]
    },
    {
     "data": {
      "application/javascript": [
       "parent.postMessage({\"jupyterEvent\": \"custom.exercise_interaction\", \"data\": {\"outcomeType\": 1, \"valueTowardsCompletion\": 0.16666666666666666, \"interactionType\": 1, \"questionType\": 1, \"questionId\": \"3_PriceExtremes\", \"learnToolsVersion\": \"0.3.4\", \"failureMessage\": \"\", \"exceptionClass\": \"\", \"trace\": \"\"}}, \"*\")"
      ],
      "text/plain": [
       "<IPython.core.display.Javascript object>"
      ]
     },
     "metadata": {},
     "output_type": "display_data"
    },
    {
     "data": {
      "text/markdown": [
       "<span style=\"color:#33cc33\">Correct</span>"
      ],
      "text/plain": [
       "Correct"
      ]
     },
     "metadata": {},
     "output_type": "display_data"
    }
   ],
   "source": [
    "price_extremes = reviews.groupby('variety').price.agg([min, max])\n",
    "\n",
    "# Check your answer\n",
    "q3.check()"
   ]
  },
  {
   "cell_type": "code",
   "execution_count": 8,
   "id": "68e75f3e",
   "metadata": {
    "execution": {
     "iopub.execute_input": "2024-11-11T09:34:38.604442Z",
     "iopub.status.busy": "2024-11-11T09:34:38.604006Z",
     "iopub.status.idle": "2024-11-11T09:34:38.609713Z",
     "shell.execute_reply": "2024-11-11T09:34:38.608252Z"
    },
    "papermill": {
     "duration": 0.020108,
     "end_time": "2024-11-11T09:34:38.612389",
     "exception": false,
     "start_time": "2024-11-11T09:34:38.592281",
     "status": "completed"
    },
    "tags": []
   },
   "outputs": [],
   "source": [
    "#q3.hint()\n",
    "#q3.solution()"
   ]
  },
  {
   "cell_type": "markdown",
   "id": "54ae759a",
   "metadata": {
    "papermill": {
     "duration": 0.009624,
     "end_time": "2024-11-11T09:34:38.632001",
     "exception": false,
     "start_time": "2024-11-11T09:34:38.622377",
     "status": "completed"
    },
    "tags": []
   },
   "source": [
    "## 4.\n",
    "What are the most expensive wine varieties? Create a variable `sorted_varieties` containing a copy of the dataframe from the previous question where varieties are sorted in descending order based on minimum price, then on maximum price (to break ties)."
   ]
  },
  {
   "cell_type": "code",
   "execution_count": 9,
   "id": "2755b72a",
   "metadata": {
    "execution": {
     "iopub.execute_input": "2024-11-11T09:34:38.654280Z",
     "iopub.status.busy": "2024-11-11T09:34:38.653855Z",
     "iopub.status.idle": "2024-11-11T09:34:38.666855Z",
     "shell.execute_reply": "2024-11-11T09:34:38.665724Z"
    },
    "papermill": {
     "duration": 0.027414,
     "end_time": "2024-11-11T09:34:38.669372",
     "exception": false,
     "start_time": "2024-11-11T09:34:38.641958",
     "status": "completed"
    },
    "tags": []
   },
   "outputs": [
    {
     "data": {
      "application/javascript": [
       "parent.postMessage({\"jupyterEvent\": \"custom.exercise_interaction\", \"data\": {\"outcomeType\": 1, \"valueTowardsCompletion\": 0.16666666666666666, \"interactionType\": 1, \"questionType\": 1, \"questionId\": \"4_SortedVarieties\", \"learnToolsVersion\": \"0.3.4\", \"failureMessage\": \"\", \"exceptionClass\": \"\", \"trace\": \"\"}}, \"*\")"
      ],
      "text/plain": [
       "<IPython.core.display.Javascript object>"
      ]
     },
     "metadata": {},
     "output_type": "display_data"
    },
    {
     "data": {
      "text/markdown": [
       "<span style=\"color:#33cc33\">Correct</span>"
      ],
      "text/plain": [
       "Correct"
      ]
     },
     "metadata": {},
     "output_type": "display_data"
    }
   ],
   "source": [
    "sorted_varieties = price_extremes.sort_values(by=['min', 'max'], ascending=False)\n",
    "\n",
    "# Check your answer\n",
    "q4.check()"
   ]
  },
  {
   "cell_type": "code",
   "execution_count": 10,
   "id": "88268dda",
   "metadata": {
    "execution": {
     "iopub.execute_input": "2024-11-11T09:34:38.692388Z",
     "iopub.status.busy": "2024-11-11T09:34:38.691959Z",
     "iopub.status.idle": "2024-11-11T09:34:38.696837Z",
     "shell.execute_reply": "2024-11-11T09:34:38.695562Z"
    },
    "papermill": {
     "duration": 0.019713,
     "end_time": "2024-11-11T09:34:38.699443",
     "exception": false,
     "start_time": "2024-11-11T09:34:38.679730",
     "status": "completed"
    },
    "tags": []
   },
   "outputs": [],
   "source": [
    "#q4.hint()\n",
    "#q4.solution()"
   ]
  },
  {
   "cell_type": "markdown",
   "id": "8e616875",
   "metadata": {
    "papermill": {
     "duration": 0.010153,
     "end_time": "2024-11-11T09:34:38.720131",
     "exception": false,
     "start_time": "2024-11-11T09:34:38.709978",
     "status": "completed"
    },
    "tags": []
   },
   "source": [
    "## 5.\n",
    "Create a `Series` whose index is reviewers and whose values is the average review score given out by that reviewer. Hint: you will need the `taster_name` and `points` columns."
   ]
  },
  {
   "cell_type": "code",
   "execution_count": 11,
   "id": "d521f9f2",
   "metadata": {
    "execution": {
     "iopub.execute_input": "2024-11-11T09:34:38.743443Z",
     "iopub.status.busy": "2024-11-11T09:34:38.742389Z",
     "iopub.status.idle": "2024-11-11T09:34:38.778869Z",
     "shell.execute_reply": "2024-11-11T09:34:38.777724Z"
    },
    "papermill": {
     "duration": 0.051005,
     "end_time": "2024-11-11T09:34:38.781507",
     "exception": false,
     "start_time": "2024-11-11T09:34:38.730502",
     "status": "completed"
    },
    "tags": []
   },
   "outputs": [
    {
     "data": {
      "application/javascript": [
       "parent.postMessage({\"jupyterEvent\": \"custom.exercise_interaction\", \"data\": {\"outcomeType\": 1, \"valueTowardsCompletion\": 0.16666666666666666, \"interactionType\": 1, \"questionType\": 1, \"questionId\": \"5_ReviewerMeanRatings\", \"learnToolsVersion\": \"0.3.4\", \"failureMessage\": \"\", \"exceptionClass\": \"\", \"trace\": \"\"}}, \"*\")"
      ],
      "text/plain": [
       "<IPython.core.display.Javascript object>"
      ]
     },
     "metadata": {},
     "output_type": "display_data"
    },
    {
     "data": {
      "text/markdown": [
       "<span style=\"color:#33cc33\">Correct</span>"
      ],
      "text/plain": [
       "Correct"
      ]
     },
     "metadata": {},
     "output_type": "display_data"
    }
   ],
   "source": [
    "reviewer_mean_ratings = reviews.groupby('taster_name').points.mean()\n",
    "\n",
    "# Check your answer\n",
    "q5.check()"
   ]
  },
  {
   "cell_type": "code",
   "execution_count": 12,
   "id": "1dab33f0",
   "metadata": {
    "execution": {
     "iopub.execute_input": "2024-11-11T09:34:38.805329Z",
     "iopub.status.busy": "2024-11-11T09:34:38.804449Z",
     "iopub.status.idle": "2024-11-11T09:34:38.809619Z",
     "shell.execute_reply": "2024-11-11T09:34:38.808433Z"
    },
    "papermill": {
     "duration": 0.020163,
     "end_time": "2024-11-11T09:34:38.812362",
     "exception": false,
     "start_time": "2024-11-11T09:34:38.792199",
     "status": "completed"
    },
    "tags": []
   },
   "outputs": [],
   "source": [
    "#q5.hint()\n",
    "#q5.solution()"
   ]
  },
  {
   "cell_type": "markdown",
   "id": "6ccb84cc",
   "metadata": {
    "papermill": {
     "duration": 0.010588,
     "end_time": "2024-11-11T09:34:38.833976",
     "exception": false,
     "start_time": "2024-11-11T09:34:38.823388",
     "status": "completed"
    },
    "tags": []
   },
   "source": [
    "Are there significant differences in the average scores assigned by the various reviewers? Run the cell below to use the `describe()` method to see a summary of the range of values."
   ]
  },
  {
   "cell_type": "code",
   "execution_count": 13,
   "id": "fb31dbc8",
   "metadata": {
    "execution": {
     "iopub.execute_input": "2024-11-11T09:34:38.857860Z",
     "iopub.status.busy": "2024-11-11T09:34:38.857387Z",
     "iopub.status.idle": "2024-11-11T09:34:38.870404Z",
     "shell.execute_reply": "2024-11-11T09:34:38.869238Z"
    },
    "papermill": {
     "duration": 0.028305,
     "end_time": "2024-11-11T09:34:38.873025",
     "exception": false,
     "start_time": "2024-11-11T09:34:38.844720",
     "status": "completed"
    },
    "tags": []
   },
   "outputs": [
    {
     "data": {
      "text/plain": [
       "count    19.000000\n",
       "mean     88.233026\n",
       "std       1.243610\n",
       "min      85.855422\n",
       "25%      87.323501\n",
       "50%      88.536235\n",
       "75%      88.975256\n",
       "max      90.562551\n",
       "Name: points, dtype: float64"
      ]
     },
     "execution_count": 13,
     "metadata": {},
     "output_type": "execute_result"
    }
   ],
   "source": [
    "reviewer_mean_ratings.describe()"
   ]
  },
  {
   "cell_type": "markdown",
   "id": "53874a07",
   "metadata": {
    "papermill": {
     "duration": 0.010687,
     "end_time": "2024-11-11T09:34:38.894449",
     "exception": false,
     "start_time": "2024-11-11T09:34:38.883762",
     "status": "completed"
    },
    "tags": []
   },
   "source": [
    "## 6.\n",
    "What combination of countries and varieties are most common? Create a `Series` whose index is a `MultiIndex`of `{country, variety}` pairs. For example, a pinot noir produced in the US should map to `{\"US\", \"Pinot Noir\"}`. Sort the values in the `Series` in descending order based on wine count."
   ]
  },
  {
   "cell_type": "code",
   "execution_count": 14,
   "id": "995f0531",
   "metadata": {
    "execution": {
     "iopub.execute_input": "2024-11-11T09:34:38.918201Z",
     "iopub.status.busy": "2024-11-11T09:34:38.917717Z",
     "iopub.status.idle": "2024-11-11T09:34:38.983788Z",
     "shell.execute_reply": "2024-11-11T09:34:38.982565Z"
    },
    "papermill": {
     "duration": 0.080874,
     "end_time": "2024-11-11T09:34:38.986292",
     "exception": false,
     "start_time": "2024-11-11T09:34:38.905418",
     "status": "completed"
    },
    "tags": []
   },
   "outputs": [
    {
     "data": {
      "application/javascript": [
       "parent.postMessage({\"jupyterEvent\": \"custom.exercise_interaction\", \"data\": {\"outcomeType\": 1, \"valueTowardsCompletion\": 0.16666666666666666, \"interactionType\": 1, \"questionType\": 1, \"questionId\": \"6_GroupbyCountryVariety\", \"learnToolsVersion\": \"0.3.4\", \"failureMessage\": \"\", \"exceptionClass\": \"\", \"trace\": \"\"}}, \"*\")"
      ],
      "text/plain": [
       "<IPython.core.display.Javascript object>"
      ]
     },
     "metadata": {},
     "output_type": "display_data"
    },
    {
     "data": {
      "text/markdown": [
       "<span style=\"color:#33cc33\">Correct</span>"
      ],
      "text/plain": [
       "Correct"
      ]
     },
     "metadata": {},
     "output_type": "display_data"
    }
   ],
   "source": [
    "country_variety_counts = reviews.groupby(['country', 'variety']).size().sort_values(ascending=False)\n",
    "\n",
    "# Check your answer\n",
    "q6.check()"
   ]
  },
  {
   "cell_type": "code",
   "execution_count": 15,
   "id": "c63bb1b3",
   "metadata": {
    "execution": {
     "iopub.execute_input": "2024-11-11T09:34:39.010799Z",
     "iopub.status.busy": "2024-11-11T09:34:39.010351Z",
     "iopub.status.idle": "2024-11-11T09:34:39.015516Z",
     "shell.execute_reply": "2024-11-11T09:34:39.014368Z"
    },
    "papermill": {
     "duration": 0.020379,
     "end_time": "2024-11-11T09:34:39.017875",
     "exception": false,
     "start_time": "2024-11-11T09:34:38.997496",
     "status": "completed"
    },
    "tags": []
   },
   "outputs": [],
   "source": [
    "#q6.hint()\n",
    "#q6.solution()"
   ]
  },
  {
   "cell_type": "markdown",
   "id": "745763db",
   "metadata": {
    "papermill": {
     "duration": 0.011101,
     "end_time": "2024-11-11T09:34:39.040045",
     "exception": false,
     "start_time": "2024-11-11T09:34:39.028944",
     "status": "completed"
    },
    "tags": []
   },
   "source": [
    "# Keep going\n",
    "\n",
    "Move on to the [**data types and missing data**](https://www.kaggle.com/residentmario/data-types-and-missing-values)."
   ]
  },
  {
   "cell_type": "markdown",
   "id": "1157d9ac",
   "metadata": {
    "papermill": {
     "duration": 0.010881,
     "end_time": "2024-11-11T09:34:39.062253",
     "exception": false,
     "start_time": "2024-11-11T09:34:39.051372",
     "status": "completed"
    },
    "tags": []
   },
   "source": [
    "---\n",
    "\n",
    "\n",
    "\n",
    "\n",
    "*Have questions or comments? Visit the [course discussion forum](https://www.kaggle.com/learn/pandas/discussion) to chat with other learners.*"
   ]
  }
 ],
 "metadata": {
  "kaggle": {
   "accelerator": "none",
   "dataSources": [
    {
     "datasetId": 655,
     "sourceId": 1252,
     "sourceType": "datasetVersion"
    },
    {
     "datasetId": 2321,
     "sourceId": 3919,
     "sourceType": "datasetVersion"
    },
    {
     "datasetId": 2894,
     "sourceId": 4877,
     "sourceType": "datasetVersion"
    },
    {
     "datasetId": 3491,
     "sourceId": 5624,
     "sourceType": "datasetVersion"
    },
    {
     "datasetId": 1442,
     "sourceId": 8172,
     "sourceType": "datasetVersion"
    },
    {
     "datasetId": 9366,
     "sourceId": 13206,
     "sourceType": "datasetVersion"
    },
    {
     "datasetId": 179555,
     "sourceId": 403916,
     "sourceType": "datasetVersion"
    },
    {
     "datasetId": 4549,
     "sourceId": 466349,
     "sourceType": "datasetVersion"
    },
    {
     "datasetId": 2478,
     "sourceId": 1151655,
     "sourceType": "datasetVersion"
    },
    {
     "datasetId": 10128,
     "sourceId": 5438389,
     "sourceType": "datasetVersion"
    }
   ],
   "isGpuEnabled": false,
   "isInternetEnabled": false,
   "language": "python",
   "sourceType": "notebook"
  },
  "kernelspec": {
   "display_name": "Python 3",
   "language": "python",
   "name": "python3"
  },
  "language_info": {
   "codemirror_mode": {
    "name": "ipython",
    "version": 3
   },
   "file_extension": ".py",
   "mimetype": "text/x-python",
   "name": "python",
   "nbconvert_exporter": "python",
   "pygments_lexer": "ipython3",
   "version": "3.10.14"
  },
  "papermill": {
   "default_parameters": {},
   "duration": 8.614089,
   "end_time": "2024-11-11T09:34:39.594495",
   "environment_variables": {},
   "exception": null,
   "input_path": "__notebook__.ipynb",
   "output_path": "__notebook__.ipynb",
   "parameters": {},
   "start_time": "2024-11-11T09:34:30.980406",
   "version": "2.6.0"
  }
 },
 "nbformat": 4,
 "nbformat_minor": 5
}

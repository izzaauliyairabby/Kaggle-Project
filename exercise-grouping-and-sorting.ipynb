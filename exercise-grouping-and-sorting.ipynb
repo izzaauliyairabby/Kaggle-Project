{
 "cells": [
  {
   "cell_type": "markdown",
   "id": "d68f1a75",
   "metadata": {
    "papermill": {
     "duration": 0.009318,
     "end_time": "2024-11-11T09:40:58.339529",
     "exception": false,
     "start_time": "2024-11-11T09:40:58.330211",
     "status": "completed"
    },
    "tags": []
   },
   "source": [
    "**This notebook is an exercise in the [Pandas](https://www.kaggle.com/learn/pandas) course.  You can reference the tutorial at [this link](https://www.kaggle.com/residentmario/grouping-and-sorting).**\n",
    "\n",
    "---\n"
   ]
  },
  {
   "cell_type": "markdown",
   "id": "c67d2fb3",
   "metadata": {
    "papermill": {
     "duration": 0.008089,
     "end_time": "2024-11-11T09:40:58.356235",
     "exception": false,
     "start_time": "2024-11-11T09:40:58.348146",
     "status": "completed"
    },
    "tags": []
   },
   "source": [
    "# Introduction\n",
    "\n",
    "In these exercises we'll apply groupwise analysis to our dataset.\n",
    "\n",
    "Run the code cell below to load the data before running the exercises."
   ]
  },
  {
   "cell_type": "code",
   "execution_count": 1,
   "id": "de5d3e42",
   "metadata": {
    "execution": {
     "iopub.execute_input": "2024-11-11T09:40:58.375376Z",
     "iopub.status.busy": "2024-11-11T09:40:58.374787Z",
     "iopub.status.idle": "2024-11-11T09:41:02.746846Z",
     "shell.execute_reply": "2024-11-11T09:41:02.745686Z"
    },
    "papermill": {
     "duration": 4.386267,
     "end_time": "2024-11-11T09:41:02.750962",
     "exception": false,
     "start_time": "2024-11-11T09:40:58.364695",
     "status": "completed"
    },
    "tags": []
   },
   "outputs": [
    {
     "name": "stdout",
     "output_type": "stream",
     "text": [
      "Setup complete.\n"
     ]
    },
    {
     "name": "stderr",
     "output_type": "stream",
     "text": [
      "/opt/conda/lib/python3.10/site-packages/learntools/pandas/grouping_and_sorting.py:29: FutureWarning: The provided callable <built-in function min> is currently using SeriesGroupBy.min. In a future version of pandas, the provided callable will be used directly. To keep current behavior pass the string \"min\" instead.\n",
      "  _expected = reviews.groupby('variety').price.agg([min, max])\n",
      "/opt/conda/lib/python3.10/site-packages/learntools/pandas/grouping_and_sorting.py:29: FutureWarning: The provided callable <built-in function max> is currently using SeriesGroupBy.max. In a future version of pandas, the provided callable will be used directly. To keep current behavior pass the string \"max\" instead.\n",
      "  _expected = reviews.groupby('variety').price.agg([min, max])\n",
      "/opt/conda/lib/python3.10/site-packages/learntools/pandas/grouping_and_sorting.py:35: FutureWarning: The provided callable <built-in function min> is currently using SeriesGroupBy.min. In a future version of pandas, the provided callable will be used directly. To keep current behavior pass the string \"min\" instead.\n",
      "  _expected = reviews.groupby('variety').price.agg([min, max]).sort_values(by=['min', 'max'], ascending=False)\n",
      "/opt/conda/lib/python3.10/site-packages/learntools/pandas/grouping_and_sorting.py:35: FutureWarning: The provided callable <built-in function max> is currently using SeriesGroupBy.max. In a future version of pandas, the provided callable will be used directly. To keep current behavior pass the string \"max\" instead.\n",
      "  _expected = reviews.groupby('variety').price.agg([min, max]).sort_values(by=['min', 'max'], ascending=False)\n"
     ]
    }
   ],
   "source": [
    "import pandas as pd\n",
    "\n",
    "reviews = pd.read_csv(\"../input/wine-reviews/winemag-data-130k-v2.csv\", index_col=0)\n",
    "#pd.set_option(\"display.max_rows\", 5)\n",
    "\n",
    "from learntools.core import binder; binder.bind(globals())\n",
    "from learntools.pandas.grouping_and_sorting import *\n",
    "print(\"Setup complete.\")"
   ]
  },
  {
   "cell_type": "code",
   "execution_count": 2,
   "id": "1233ec1a",
   "metadata": {
    "execution": {
     "iopub.execute_input": "2024-11-11T09:41:02.770857Z",
     "iopub.status.busy": "2024-11-11T09:41:02.770409Z",
     "iopub.status.idle": "2024-11-11T09:41:02.779501Z",
     "shell.execute_reply": "2024-11-11T09:41:02.778395Z"
    },
    "papermill": {
     "duration": 0.022503,
     "end_time": "2024-11-11T09:41:02.782205",
     "exception": false,
     "start_time": "2024-11-11T09:41:02.759702",
     "status": "completed"
    },
    "tags": []
   },
   "outputs": [
    {
     "data": {
      "text/plain": [
       "Index(['country', 'description', 'designation', 'points', 'price', 'province',\n",
       "       'region_1', 'region_2', 'taster_name', 'taster_twitter_handle', 'title',\n",
       "       'variety', 'winery'],\n",
       "      dtype='object')"
      ]
     },
     "execution_count": 2,
     "metadata": {},
     "output_type": "execute_result"
    }
   ],
   "source": [
    "reviews.columns"
   ]
  },
  {
   "cell_type": "markdown",
   "id": "d65f4b5e",
   "metadata": {
    "papermill": {
     "duration": 0.009809,
     "end_time": "2024-11-11T09:41:02.801082",
     "exception": false,
     "start_time": "2024-11-11T09:41:02.791273",
     "status": "completed"
    },
    "tags": []
   },
   "source": [
    "# Exercises"
   ]
  },
  {
   "cell_type": "markdown",
   "id": "b4c51796",
   "metadata": {
    "papermill": {
     "duration": 0.008696,
     "end_time": "2024-11-11T09:41:02.818762",
     "exception": false,
     "start_time": "2024-11-11T09:41:02.810066",
     "status": "completed"
    },
    "tags": []
   },
   "source": [
    "## 1.\n",
    "Who are the most common wine reviewers in the dataset? Create a `Series` whose index is the `taster_twitter_handle` category from the dataset, and whose values count how many reviews each person wrote."
   ]
  },
  {
   "cell_type": "code",
   "execution_count": 3,
   "id": "200d1611",
   "metadata": {
    "execution": {
     "iopub.execute_input": "2024-11-11T09:41:02.838833Z",
     "iopub.status.busy": "2024-11-11T09:41:02.838046Z",
     "iopub.status.idle": "2024-11-11T09:41:02.873056Z",
     "shell.execute_reply": "2024-11-11T09:41:02.871820Z"
    },
    "papermill": {
     "duration": 0.047773,
     "end_time": "2024-11-11T09:41:02.875549",
     "exception": false,
     "start_time": "2024-11-11T09:41:02.827776",
     "status": "completed"
    },
    "tags": []
   },
   "outputs": [
    {
     "data": {
      "application/javascript": [
       "parent.postMessage({\"jupyterEvent\": \"custom.exercise_interaction\", \"data\": {\"outcomeType\": 1, \"valueTowardsCompletion\": 0.16666666666666666, \"interactionType\": 1, \"questionType\": 1, \"questionId\": \"1_ReviewsWritten\", \"learnToolsVersion\": \"0.3.4\", \"failureMessage\": \"\", \"exceptionClass\": \"\", \"trace\": \"\"}}, \"*\")"
      ],
      "text/plain": [
       "<IPython.core.display.Javascript object>"
      ]
     },
     "metadata": {},
     "output_type": "display_data"
    },
    {
     "data": {
      "text/markdown": [
       "<span style=\"color:#33cc33\">Correct:</span> \n",
       "\n",
       "\n",
       "```python\n",
       "reviews_written = reviews.groupby('taster_twitter_handle').size()\n",
       "```\n",
       "or\n",
       "```python\n",
       "reviews_written = reviews.groupby('taster_twitter_handle').taster_twitter_handle.count()\n",
       "```\n"
      ],
      "text/plain": [
       "Correct: \n",
       "\n",
       "\n",
       "```python\n",
       "reviews_written = reviews.groupby('taster_twitter_handle').size()\n",
       "```\n",
       "or\n",
       "```python\n",
       "reviews_written = reviews.groupby('taster_twitter_handle').taster_twitter_handle.count()\n",
       "```"
      ]
     },
     "metadata": {},
     "output_type": "display_data"
    }
   ],
   "source": [
    "# Your code here\n",
    "reviews_written = reviews.groupby('taster_twitter_handle').size()\n",
    "\n",
    "# Check your answer\n",
    "q1.check()"
   ]
  },
  {
   "cell_type": "code",
   "execution_count": 4,
   "id": "1c4f1977",
   "metadata": {
    "execution": {
     "iopub.execute_input": "2024-11-11T09:41:02.896027Z",
     "iopub.status.busy": "2024-11-11T09:41:02.895557Z",
     "iopub.status.idle": "2024-11-11T09:41:02.900473Z",
     "shell.execute_reply": "2024-11-11T09:41:02.899330Z"
    },
    "papermill": {
     "duration": 0.018365,
     "end_time": "2024-11-11T09:41:02.903297",
     "exception": false,
     "start_time": "2024-11-11T09:41:02.884932",
     "status": "completed"
    },
    "tags": []
   },
   "outputs": [],
   "source": [
    "#q1.hint()\n",
    "#q1.solution()"
   ]
  },
  {
   "cell_type": "markdown",
   "id": "11ace7ae",
   "metadata": {
    "papermill": {
     "duration": 0.008982,
     "end_time": "2024-11-11T09:41:02.921798",
     "exception": false,
     "start_time": "2024-11-11T09:41:02.912816",
     "status": "completed"
    },
    "tags": []
   },
   "source": [
    "## 2.\n",
    "What is the best wine I can buy for a given amount of money? Create a `Series` whose index is wine prices and whose values is the maximum number of points a wine costing that much was given in a review. Sort the values by price, ascending (so that `4.0` dollars is at the top and `3300.0` dollars is at the bottom)."
   ]
  },
  {
   "cell_type": "code",
   "execution_count": 5,
   "id": "81e2c3ce",
   "metadata": {
    "execution": {
     "iopub.execute_input": "2024-11-11T09:41:02.942857Z",
     "iopub.status.busy": "2024-11-11T09:41:02.942397Z",
     "iopub.status.idle": "2024-11-11T09:41:02.958102Z",
     "shell.execute_reply": "2024-11-11T09:41:02.957011Z"
    },
    "papermill": {
     "duration": 0.028967,
     "end_time": "2024-11-11T09:41:02.960605",
     "exception": false,
     "start_time": "2024-11-11T09:41:02.931638",
     "status": "completed"
    },
    "tags": []
   },
   "outputs": [
    {
     "data": {
      "application/javascript": [
       "parent.postMessage({\"jupyterEvent\": \"custom.exercise_interaction\", \"data\": {\"outcomeType\": 1, \"valueTowardsCompletion\": 0.16666666666666666, \"interactionType\": 1, \"questionType\": 1, \"questionId\": \"2_BestRatingPerPrice\", \"learnToolsVersion\": \"0.3.4\", \"failureMessage\": \"\", \"exceptionClass\": \"\", \"trace\": \"\"}}, \"*\")"
      ],
      "text/plain": [
       "<IPython.core.display.Javascript object>"
      ]
     },
     "metadata": {},
     "output_type": "display_data"
    },
    {
     "data": {
      "text/markdown": [
       "<span style=\"color:#33cc33\">Correct</span>"
      ],
      "text/plain": [
       "Correct"
      ]
     },
     "metadata": {},
     "output_type": "display_data"
    }
   ],
   "source": [
    "best_rating_per_price = reviews.groupby('price')['points'].max().sort_index()\n",
    "\n",
    "# Check your answer\n",
    "q2.check()"
   ]
  },
  {
   "cell_type": "code",
   "execution_count": 6,
   "id": "c7a5a2d3",
   "metadata": {
    "execution": {
     "iopub.execute_input": "2024-11-11T09:41:02.981585Z",
     "iopub.status.busy": "2024-11-11T09:41:02.981174Z",
     "iopub.status.idle": "2024-11-11T09:41:02.986143Z",
     "shell.execute_reply": "2024-11-11T09:41:02.984982Z"
    },
    "papermill": {
     "duration": 0.018448,
     "end_time": "2024-11-11T09:41:02.988721",
     "exception": false,
     "start_time": "2024-11-11T09:41:02.970273",
     "status": "completed"
    },
    "tags": []
   },
   "outputs": [],
   "source": [
    "#q2.hint()\n",
    "#q2.solution()"
   ]
  },
  {
   "cell_type": "markdown",
   "id": "5dfa2d0d",
   "metadata": {
    "papermill": {
     "duration": 0.009285,
     "end_time": "2024-11-11T09:41:03.007654",
     "exception": false,
     "start_time": "2024-11-11T09:41:02.998369",
     "status": "completed"
    },
    "tags": []
   },
   "source": [
    "## 3.\n",
    "What are the minimum and maximum prices for each `variety` of wine? Create a `DataFrame` whose index is the `variety` category from the dataset and whose values are the `min` and `max` values thereof."
   ]
  },
  {
   "cell_type": "code",
   "execution_count": 7,
   "id": "25500f0d",
   "metadata": {
    "execution": {
     "iopub.execute_input": "2024-11-11T09:41:03.028450Z",
     "iopub.status.busy": "2024-11-11T09:41:03.028037Z",
     "iopub.status.idle": "2024-11-11T09:41:03.069851Z",
     "shell.execute_reply": "2024-11-11T09:41:03.068732Z"
    },
    "papermill": {
     "duration": 0.056194,
     "end_time": "2024-11-11T09:41:03.073453",
     "exception": false,
     "start_time": "2024-11-11T09:41:03.017259",
     "status": "completed"
    },
    "tags": []
   },
   "outputs": [
    {
     "name": "stderr",
     "output_type": "stream",
     "text": [
      "/tmp/ipykernel_17/4085108108.py:1: FutureWarning: The provided callable <built-in function min> is currently using SeriesGroupBy.min. In a future version of pandas, the provided callable will be used directly. To keep current behavior pass the string \"min\" instead.\n",
      "  price_extremes = reviews.groupby('variety').price.agg([min, max])\n",
      "/tmp/ipykernel_17/4085108108.py:1: FutureWarning: The provided callable <built-in function max> is currently using SeriesGroupBy.max. In a future version of pandas, the provided callable will be used directly. To keep current behavior pass the string \"max\" instead.\n",
      "  price_extremes = reviews.groupby('variety').price.agg([min, max])\n"
     ]
    },
    {
     "data": {
      "application/javascript": [
       "parent.postMessage({\"jupyterEvent\": \"custom.exercise_interaction\", \"data\": {\"outcomeType\": 1, \"valueTowardsCompletion\": 0.16666666666666666, \"interactionType\": 1, \"questionType\": 1, \"questionId\": \"3_PriceExtremes\", \"learnToolsVersion\": \"0.3.4\", \"failureMessage\": \"\", \"exceptionClass\": \"\", \"trace\": \"\"}}, \"*\")"
      ],
      "text/plain": [
       "<IPython.core.display.Javascript object>"
      ]
     },
     "metadata": {},
     "output_type": "display_data"
    },
    {
     "data": {
      "text/markdown": [
       "<span style=\"color:#33cc33\">Correct</span>"
      ],
      "text/plain": [
       "Correct"
      ]
     },
     "metadata": {},
     "output_type": "display_data"
    }
   ],
   "source": [
    "price_extremes = reviews.groupby('variety').price.agg([min, max])\n",
    "\n",
    "# Check your answer\n",
    "q3.check()"
   ]
  },
  {
   "cell_type": "code",
   "execution_count": 8,
   "id": "0f8429a2",
   "metadata": {
    "execution": {
     "iopub.execute_input": "2024-11-11T09:41:03.095738Z",
     "iopub.status.busy": "2024-11-11T09:41:03.095244Z",
     "iopub.status.idle": "2024-11-11T09:41:03.100225Z",
     "shell.execute_reply": "2024-11-11T09:41:03.099006Z"
    },
    "papermill": {
     "duration": 0.019229,
     "end_time": "2024-11-11T09:41:03.102747",
     "exception": false,
     "start_time": "2024-11-11T09:41:03.083518",
     "status": "completed"
    },
    "tags": []
   },
   "outputs": [],
   "source": [
    "#q3.hint()\n",
    "#q3.solution()"
   ]
  },
  {
   "cell_type": "markdown",
   "id": "ebc0c856",
   "metadata": {
    "papermill": {
     "duration": 0.009616,
     "end_time": "2024-11-11T09:41:03.122469",
     "exception": false,
     "start_time": "2024-11-11T09:41:03.112853",
     "status": "completed"
    },
    "tags": []
   },
   "source": [
    "## 4.\n",
    "What are the most expensive wine varieties? Create a variable `sorted_varieties` containing a copy of the dataframe from the previous question where varieties are sorted in descending order based on minimum price, then on maximum price (to break ties)."
   ]
  },
  {
   "cell_type": "code",
   "execution_count": 9,
   "id": "c107964b",
   "metadata": {
    "execution": {
     "iopub.execute_input": "2024-11-11T09:41:03.144945Z",
     "iopub.status.busy": "2024-11-11T09:41:03.143809Z",
     "iopub.status.idle": "2024-11-11T09:41:03.158117Z",
     "shell.execute_reply": "2024-11-11T09:41:03.156497Z"
    },
    "papermill": {
     "duration": 0.028404,
     "end_time": "2024-11-11T09:41:03.160776",
     "exception": false,
     "start_time": "2024-11-11T09:41:03.132372",
     "status": "completed"
    },
    "tags": []
   },
   "outputs": [
    {
     "data": {
      "application/javascript": [
       "parent.postMessage({\"jupyterEvent\": \"custom.exercise_interaction\", \"data\": {\"outcomeType\": 1, \"valueTowardsCompletion\": 0.16666666666666666, \"interactionType\": 1, \"questionType\": 1, \"questionId\": \"4_SortedVarieties\", \"learnToolsVersion\": \"0.3.4\", \"failureMessage\": \"\", \"exceptionClass\": \"\", \"trace\": \"\"}}, \"*\")"
      ],
      "text/plain": [
       "<IPython.core.display.Javascript object>"
      ]
     },
     "metadata": {},
     "output_type": "display_data"
    },
    {
     "data": {
      "text/markdown": [
       "<span style=\"color:#33cc33\">Correct</span>"
      ],
      "text/plain": [
       "Correct"
      ]
     },
     "metadata": {},
     "output_type": "display_data"
    }
   ],
   "source": [
    "sorted_varieties = price_extremes.sort_values(by=['min', 'max'], ascending=False)\n",
    "\n",
    "# Check your answer\n",
    "q4.check()"
   ]
  },
  {
   "cell_type": "code",
   "execution_count": 10,
   "id": "fdc58a41",
   "metadata": {
    "execution": {
     "iopub.execute_input": "2024-11-11T09:41:03.186033Z",
     "iopub.status.busy": "2024-11-11T09:41:03.185534Z",
     "iopub.status.idle": "2024-11-11T09:41:03.190736Z",
     "shell.execute_reply": "2024-11-11T09:41:03.189579Z"
    },
    "papermill": {
     "duration": 0.0197,
     "end_time": "2024-11-11T09:41:03.193291",
     "exception": false,
     "start_time": "2024-11-11T09:41:03.173591",
     "status": "completed"
    },
    "tags": []
   },
   "outputs": [],
   "source": [
    "#q4.hint()\n",
    "#q4.solution()"
   ]
  },
  {
   "cell_type": "markdown",
   "id": "a33fe820",
   "metadata": {
    "papermill": {
     "duration": 0.010087,
     "end_time": "2024-11-11T09:41:03.214055",
     "exception": false,
     "start_time": "2024-11-11T09:41:03.203968",
     "status": "completed"
    },
    "tags": []
   },
   "source": [
    "## 5.\n",
    "Create a `Series` whose index is reviewers and whose values is the average review score given out by that reviewer. Hint: you will need the `taster_name` and `points` columns."
   ]
  },
  {
   "cell_type": "code",
   "execution_count": 11,
   "id": "bdb72c1c",
   "metadata": {
    "execution": {
     "iopub.execute_input": "2024-11-11T09:41:03.237033Z",
     "iopub.status.busy": "2024-11-11T09:41:03.236249Z",
     "iopub.status.idle": "2024-11-11T09:41:03.273063Z",
     "shell.execute_reply": "2024-11-11T09:41:03.271694Z"
    },
    "papermill": {
     "duration": 0.051697,
     "end_time": "2024-11-11T09:41:03.276006",
     "exception": false,
     "start_time": "2024-11-11T09:41:03.224309",
     "status": "completed"
    },
    "tags": []
   },
   "outputs": [
    {
     "data": {
      "application/javascript": [
       "parent.postMessage({\"jupyterEvent\": \"custom.exercise_interaction\", \"data\": {\"outcomeType\": 1, \"valueTowardsCompletion\": 0.16666666666666666, \"interactionType\": 1, \"questionType\": 1, \"questionId\": \"5_ReviewerMeanRatings\", \"learnToolsVersion\": \"0.3.4\", \"failureMessage\": \"\", \"exceptionClass\": \"\", \"trace\": \"\"}}, \"*\")"
      ],
      "text/plain": [
       "<IPython.core.display.Javascript object>"
      ]
     },
     "metadata": {},
     "output_type": "display_data"
    },
    {
     "data": {
      "text/markdown": [
       "<span style=\"color:#33cc33\">Correct</span>"
      ],
      "text/plain": [
       "Correct"
      ]
     },
     "metadata": {},
     "output_type": "display_data"
    }
   ],
   "source": [
    "reviewer_mean_ratings = reviews.groupby('taster_name').points.mean()\n",
    "\n",
    "# Check your answer\n",
    "q5.check()"
   ]
  },
  {
   "cell_type": "code",
   "execution_count": 12,
   "id": "2b041083",
   "metadata": {
    "execution": {
     "iopub.execute_input": "2024-11-11T09:41:03.299467Z",
     "iopub.status.busy": "2024-11-11T09:41:03.299007Z",
     "iopub.status.idle": "2024-11-11T09:41:03.304199Z",
     "shell.execute_reply": "2024-11-11T09:41:03.302931Z"
    },
    "papermill": {
     "duration": 0.020132,
     "end_time": "2024-11-11T09:41:03.306847",
     "exception": false,
     "start_time": "2024-11-11T09:41:03.286715",
     "status": "completed"
    },
    "tags": []
   },
   "outputs": [],
   "source": [
    "#q5.hint()\n",
    "#q5.solution()"
   ]
  },
  {
   "cell_type": "markdown",
   "id": "c3a5561e",
   "metadata": {
    "papermill": {
     "duration": 0.010283,
     "end_time": "2024-11-11T09:41:03.327954",
     "exception": false,
     "start_time": "2024-11-11T09:41:03.317671",
     "status": "completed"
    },
    "tags": []
   },
   "source": [
    "Are there significant differences in the average scores assigned by the various reviewers? Run the cell below to use the `describe()` method to see a summary of the range of values."
   ]
  },
  {
   "cell_type": "code",
   "execution_count": 13,
   "id": "61afcc4c",
   "metadata": {
    "execution": {
     "iopub.execute_input": "2024-11-11T09:41:03.351428Z",
     "iopub.status.busy": "2024-11-11T09:41:03.350980Z",
     "iopub.status.idle": "2024-11-11T09:41:03.363552Z",
     "shell.execute_reply": "2024-11-11T09:41:03.362473Z"
    },
    "papermill": {
     "duration": 0.027465,
     "end_time": "2024-11-11T09:41:03.365954",
     "exception": false,
     "start_time": "2024-11-11T09:41:03.338489",
     "status": "completed"
    },
    "tags": []
   },
   "outputs": [
    {
     "data": {
      "text/plain": [
       "count    19.000000\n",
       "mean     88.233026\n",
       "std       1.243610\n",
       "min      85.855422\n",
       "25%      87.323501\n",
       "50%      88.536235\n",
       "75%      88.975256\n",
       "max      90.562551\n",
       "Name: points, dtype: float64"
      ]
     },
     "execution_count": 13,
     "metadata": {},
     "output_type": "execute_result"
    }
   ],
   "source": [
    "reviewer_mean_ratings.describe()"
   ]
  },
  {
   "cell_type": "markdown",
   "id": "02f32f97",
   "metadata": {
    "papermill": {
     "duration": 0.010884,
     "end_time": "2024-11-11T09:41:03.387956",
     "exception": false,
     "start_time": "2024-11-11T09:41:03.377072",
     "status": "completed"
    },
    "tags": []
   },
   "source": [
    "## 6.\n",
    "What combination of countries and varieties are most common? Create a `Series` whose index is a `MultiIndex`of `{country, variety}` pairs. For example, a pinot noir produced in the US should map to `{\"US\", \"Pinot Noir\"}`. Sort the values in the `Series` in descending order based on wine count."
   ]
  },
  {
   "cell_type": "code",
   "execution_count": 14,
   "id": "b731e44f",
   "metadata": {
    "execution": {
     "iopub.execute_input": "2024-11-11T09:41:03.411926Z",
     "iopub.status.busy": "2024-11-11T09:41:03.411406Z",
     "iopub.status.idle": "2024-11-11T09:41:03.478867Z",
     "shell.execute_reply": "2024-11-11T09:41:03.477765Z"
    },
    "papermill": {
     "duration": 0.082349,
     "end_time": "2024-11-11T09:41:03.481427",
     "exception": false,
     "start_time": "2024-11-11T09:41:03.399078",
     "status": "completed"
    },
    "tags": []
   },
   "outputs": [
    {
     "data": {
      "application/javascript": [
       "parent.postMessage({\"jupyterEvent\": \"custom.exercise_interaction\", \"data\": {\"outcomeType\": 1, \"valueTowardsCompletion\": 0.16666666666666666, \"interactionType\": 1, \"questionType\": 1, \"questionId\": \"6_GroupbyCountryVariety\", \"learnToolsVersion\": \"0.3.4\", \"failureMessage\": \"\", \"exceptionClass\": \"\", \"trace\": \"\"}}, \"*\")"
      ],
      "text/plain": [
       "<IPython.core.display.Javascript object>"
      ]
     },
     "metadata": {},
     "output_type": "display_data"
    },
    {
     "data": {
      "text/markdown": [
       "<span style=\"color:#33cc33\">Correct</span>"
      ],
      "text/plain": [
       "Correct"
      ]
     },
     "metadata": {},
     "output_type": "display_data"
    }
   ],
   "source": [
    "country_variety_counts = reviews.groupby(['country', 'variety']).size().sort_values(ascending=False)\n",
    "\n",
    "# Check your answer\n",
    "q6.check()"
   ]
  },
  {
   "cell_type": "code",
   "execution_count": 15,
   "id": "2b8f92b1",
   "metadata": {
    "execution": {
     "iopub.execute_input": "2024-11-11T09:41:03.506004Z",
     "iopub.status.busy": "2024-11-11T09:41:03.505467Z",
     "iopub.status.idle": "2024-11-11T09:41:03.510573Z",
     "shell.execute_reply": "2024-11-11T09:41:03.509339Z"
    },
    "papermill": {
     "duration": 0.020253,
     "end_time": "2024-11-11T09:41:03.513174",
     "exception": false,
     "start_time": "2024-11-11T09:41:03.492921",
     "status": "completed"
    },
    "tags": []
   },
   "outputs": [],
   "source": [
    "#q6.hint()\n",
    "#q6.solution()"
   ]
  },
  {
   "cell_type": "markdown",
   "id": "b225a294",
   "metadata": {
    "papermill": {
     "duration": 0.010835,
     "end_time": "2024-11-11T09:41:03.535272",
     "exception": false,
     "start_time": "2024-11-11T09:41:03.524437",
     "status": "completed"
    },
    "tags": []
   },
   "source": [
    "# Keep going\n",
    "\n",
    "Move on to the [**data types and missing data**](https://www.kaggle.com/residentmario/data-types-and-missing-values)."
   ]
  },
  {
   "cell_type": "markdown",
   "id": "b68fd79f",
   "metadata": {
    "papermill": {
     "duration": 0.010792,
     "end_time": "2024-11-11T09:41:03.557264",
     "exception": false,
     "start_time": "2024-11-11T09:41:03.546472",
     "status": "completed"
    },
    "tags": []
   },
   "source": [
    "---\n",
    "\n",
    "\n",
    "\n",
    "\n",
    "*Have questions or comments? Visit the [course discussion forum](https://www.kaggle.com/learn/pandas/discussion) to chat with other learners.*"
   ]
  }
 ],
 "metadata": {
  "kaggle": {
   "accelerator": "none",
   "dataSources": [
    {
     "datasetId": 655,
     "sourceId": 1252,
     "sourceType": "datasetVersion"
    },
    {
     "datasetId": 2321,
     "sourceId": 3919,
     "sourceType": "datasetVersion"
    },
    {
     "datasetId": 2894,
     "sourceId": 4877,
     "sourceType": "datasetVersion"
    },
    {
     "datasetId": 3491,
     "sourceId": 5624,
     "sourceType": "datasetVersion"
    },
    {
     "datasetId": 1442,
     "sourceId": 8172,
     "sourceType": "datasetVersion"
    },
    {
     "datasetId": 9366,
     "sourceId": 13206,
     "sourceType": "datasetVersion"
    },
    {
     "datasetId": 179555,
     "sourceId": 403916,
     "sourceType": "datasetVersion"
    },
    {
     "datasetId": 4549,
     "sourceId": 466349,
     "sourceType": "datasetVersion"
    },
    {
     "datasetId": 2478,
     "sourceId": 1151655,
     "sourceType": "datasetVersion"
    },
    {
     "datasetId": 10128,
     "sourceId": 5438389,
     "sourceType": "datasetVersion"
    }
   ],
   "isGpuEnabled": false,
   "isInternetEnabled": false,
   "language": "python",
   "sourceType": "notebook"
  },
  "kernelspec": {
   "display_name": "Python 3",
   "language": "python",
   "name": "python3"
  },
  "language_info": {
   "codemirror_mode": {
    "name": "ipython",
    "version": 3
   },
   "file_extension": ".py",
   "mimetype": "text/x-python",
   "name": "python",
   "nbconvert_exporter": "python",
   "pygments_lexer": "ipython3",
   "version": "3.10.14"
  },
  "papermill": {
   "default_parameters": {},
   "duration": 8.954344,
   "end_time": "2024-11-11T09:41:04.189797",
   "environment_variables": {},
   "exception": null,
   "input_path": "__notebook__.ipynb",
   "output_path": "__notebook__.ipynb",
   "parameters": {},
   "start_time": "2024-11-11T09:40:55.235453",
   "version": "2.6.0"
  }
 },
 "nbformat": 4,
 "nbformat_minor": 5
}

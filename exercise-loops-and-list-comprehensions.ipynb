{
 "cells": [
  {
   "cell_type": "markdown",
   "id": "4c2c9e66",
   "metadata": {
    "papermill": {
     "duration": 0.00578,
     "end_time": "2024-11-07T12:36:53.769923",
     "exception": false,
     "start_time": "2024-11-07T12:36:53.764143",
     "status": "completed"
    },
    "tags": []
   },
   "source": [
    "**This notebook is an exercise in the [Python](https://www.kaggle.com/learn/python) course.  You can reference the tutorial at [this link](https://www.kaggle.com/colinmorris/loops-and-list-comprehensions).**\n",
    "\n",
    "---\n"
   ]
  },
  {
   "cell_type": "markdown",
   "id": "4efc7e4d",
   "metadata": {
    "papermill": {
     "duration": 0.004653,
     "end_time": "2024-11-07T12:36:53.779865",
     "exception": false,
     "start_time": "2024-11-07T12:36:53.775212",
     "status": "completed"
    },
    "tags": []
   },
   "source": [
    "With all you've learned, you can start writing much more interesting programs. See if you can solve the problems below.\n",
    "\n",
    "As always, run the setup code below before working on the questions."
   ]
  },
  {
   "cell_type": "code",
   "execution_count": 1,
   "id": "ca023f7e",
   "metadata": {
    "execution": {
     "iopub.execute_input": "2024-11-07T12:36:53.791572Z",
     "iopub.status.busy": "2024-11-07T12:36:53.790817Z",
     "iopub.status.idle": "2024-11-07T12:36:54.628428Z",
     "shell.execute_reply": "2024-11-07T12:36:54.627319Z"
    },
    "papermill": {
     "duration": 0.846176,
     "end_time": "2024-11-07T12:36:54.630898",
     "exception": false,
     "start_time": "2024-11-07T12:36:53.784722",
     "status": "completed"
    },
    "tags": []
   },
   "outputs": [
    {
     "name": "stdout",
     "output_type": "stream",
     "text": [
      "Setup complete.\n"
     ]
    }
   ],
   "source": [
    "from learntools.core import binder; binder.bind(globals())\n",
    "from learntools.python.ex5 import *\n",
    "print('Setup complete.')"
   ]
  },
  {
   "cell_type": "markdown",
   "id": "c9167150",
   "metadata": {
    "papermill": {
     "duration": 0.004866,
     "end_time": "2024-11-07T12:36:54.641095",
     "exception": false,
     "start_time": "2024-11-07T12:36:54.636229",
     "status": "completed"
    },
    "tags": []
   },
   "source": [
    "# 1.\n",
    "\n",
    "Have you ever felt debugging involved a bit of luck? The following program has a bug. Try to identify the bug and fix it."
   ]
  },
  {
   "cell_type": "code",
   "execution_count": 2,
   "id": "7711a6d3",
   "metadata": {
    "execution": {
     "iopub.execute_input": "2024-11-07T12:36:54.653169Z",
     "iopub.status.busy": "2024-11-07T12:36:54.652585Z",
     "iopub.status.idle": "2024-11-07T12:36:54.658456Z",
     "shell.execute_reply": "2024-11-07T12:36:54.657408Z"
    },
    "papermill": {
     "duration": 0.014314,
     "end_time": "2024-11-07T12:36:54.660473",
     "exception": false,
     "start_time": "2024-11-07T12:36:54.646159",
     "status": "completed"
    },
    "tags": []
   },
   "outputs": [],
   "source": [
    "def has_lucky_number(nums):\n",
    "    \"\"\"Return whether the given list of numbers is lucky. A lucky list contains\n",
    "    at least one number divisible by 7.\n",
    "    \"\"\"\n",
    "    for num in nums:\n",
    "        if num % 7 == 0:\n",
    "            return True\n",
    "        else:\n",
    "            return False"
   ]
  },
  {
   "cell_type": "markdown",
   "id": "7a8cd1db",
   "metadata": {
    "papermill": {
     "duration": 0.004837,
     "end_time": "2024-11-07T12:36:54.670558",
     "exception": false,
     "start_time": "2024-11-07T12:36:54.665721",
     "status": "completed"
    },
    "tags": []
   },
   "source": [
    "Try to identify the bug and fix it in the cell below:"
   ]
  },
  {
   "cell_type": "code",
   "execution_count": 3,
   "id": "365154cf",
   "metadata": {
    "execution": {
     "iopub.execute_input": "2024-11-07T12:36:54.683395Z",
     "iopub.status.busy": "2024-11-07T12:36:54.682961Z",
     "iopub.status.idle": "2024-11-07T12:36:54.693902Z",
     "shell.execute_reply": "2024-11-07T12:36:54.692728Z"
    },
    "papermill": {
     "duration": 0.019634,
     "end_time": "2024-11-07T12:36:54.696258",
     "exception": false,
     "start_time": "2024-11-07T12:36:54.676624",
     "status": "completed"
    },
    "tags": []
   },
   "outputs": [
    {
     "data": {
      "application/javascript": [
       "parent.postMessage({\"jupyterEvent\": \"custom.exercise_interaction\", \"data\": {\"outcomeType\": 1, \"valueTowardsCompletion\": 0.25, \"interactionType\": 1, \"questionType\": 2, \"questionId\": \"1_EarlyExitDebugging\", \"learnToolsVersion\": \"0.3.4\", \"failureMessage\": \"\", \"exceptionClass\": \"\", \"trace\": \"\"}}, \"*\")"
      ],
      "text/plain": [
       "<IPython.core.display.Javascript object>"
      ]
     },
     "metadata": {},
     "output_type": "display_data"
    },
    {
     "data": {
      "text/markdown": [
       "<span style=\"color:#33cc33\">Correct:</span> \n",
       "\n",
       "Remember that `return` causes a function to exit immediately. So our original implementation always ran for just one iteration. We can only return `False` if we've looked at every element of the list (and confirmed that none of them are lucky). Though we can return early if the answer is `True`:\n",
       "\n",
       "```python\n",
       "def has_lucky_number(nums):\n",
       "    for num in nums:\n",
       "        if num % 7 == 0:\n",
       "            return True\n",
       "    # We've exhausted the list without finding a lucky number\n",
       "    return False\n",
       "```\n",
       "\n",
       "Here's a one-line version using a list comprehension with Python's `any` function (you can read about what it does by calling `help(any)`):\n",
       "\n",
       "```python\n",
       "def has_lucky_number(nums):\n",
       "    return any([num % 7 == 0 for num in nums])\n",
       "```\n"
      ],
      "text/plain": [
       "Correct: \n",
       "\n",
       "Remember that `return` causes a function to exit immediately. So our original implementation always ran for just one iteration. We can only return `False` if we've looked at every element of the list (and confirmed that none of them are lucky). Though we can return early if the answer is `True`:\n",
       "\n",
       "```python\n",
       "def has_lucky_number(nums):\n",
       "    for num in nums:\n",
       "        if num % 7 == 0:\n",
       "            return True\n",
       "    # We've exhausted the list without finding a lucky number\n",
       "    return False\n",
       "```\n",
       "\n",
       "Here's a one-line version using a list comprehension with Python's `any` function (you can read about what it does by calling `help(any)`):\n",
       "\n",
       "```python\n",
       "def has_lucky_number(nums):\n",
       "    return any([num % 7 == 0 for num in nums])\n",
       "```"
      ]
     },
     "metadata": {},
     "output_type": "display_data"
    }
   ],
   "source": [
    "def has_lucky_number(nums):\n",
    "    \"\"\"Return whether the given list of numbers is lucky. A lucky list contains\n",
    "    at least one number divisible by 7.\n",
    "    \"\"\"\n",
    "    for num in nums:\n",
    "        if num % 7 == 0:\n",
    "            return True\n",
    "    return False\n",
    "\n",
    "# Check your answer\n",
    "q1.check()"
   ]
  },
  {
   "cell_type": "code",
   "execution_count": 4,
   "id": "e8605605",
   "metadata": {
    "execution": {
     "iopub.execute_input": "2024-11-07T12:36:54.709487Z",
     "iopub.status.busy": "2024-11-07T12:36:54.708647Z",
     "iopub.status.idle": "2024-11-07T12:36:54.713151Z",
     "shell.execute_reply": "2024-11-07T12:36:54.712107Z"
    },
    "papermill": {
     "duration": 0.0135,
     "end_time": "2024-11-07T12:36:54.715364",
     "exception": false,
     "start_time": "2024-11-07T12:36:54.701864",
     "status": "completed"
    },
    "tags": []
   },
   "outputs": [],
   "source": [
    "#q1.hint()\n",
    "#q1.solution()"
   ]
  },
  {
   "cell_type": "markdown",
   "id": "be44367d",
   "metadata": {
    "papermill": {
     "duration": 0.005286,
     "end_time": "2024-11-07T12:36:54.726246",
     "exception": false,
     "start_time": "2024-11-07T12:36:54.720960",
     "status": "completed"
    },
    "tags": []
   },
   "source": [
    "# 2.\n",
    "Look at the Python expression below. What do you think we'll get when we run it? When you've made your prediction, uncomment the code and run the cell to see if you were right."
   ]
  },
  {
   "cell_type": "code",
   "execution_count": 5,
   "id": "3936f886",
   "metadata": {
    "execution": {
     "iopub.execute_input": "2024-11-07T12:36:54.738783Z",
     "iopub.status.busy": "2024-11-07T12:36:54.738388Z",
     "iopub.status.idle": "2024-11-07T12:36:54.742872Z",
     "shell.execute_reply": "2024-11-07T12:36:54.741865Z"
    },
    "papermill": {
     "duration": 0.0132,
     "end_time": "2024-11-07T12:36:54.744917",
     "exception": false,
     "start_time": "2024-11-07T12:36:54.731717",
     "status": "completed"
    },
    "tags": []
   },
   "outputs": [],
   "source": [
    "#[1, 2, 3, 4] > 2"
   ]
  },
  {
   "cell_type": "markdown",
   "id": "dc0847d7",
   "metadata": {
    "papermill": {
     "duration": 0.005251,
     "end_time": "2024-11-07T12:36:54.755796",
     "exception": false,
     "start_time": "2024-11-07T12:36:54.750545",
     "status": "completed"
    },
    "tags": []
   },
   "source": [
    "R and Python have some libraries (like numpy and pandas) compare each element of the list to 2 (i.e. do an 'element-wise' comparison) and give us a list of booleans like `[False, False, True, True]`. \n",
    "\n",
    "Implement a function that reproduces this behaviour, returning a list of booleans corresponding to whether the corresponding element is greater than n."
   ]
  },
  {
   "cell_type": "code",
   "execution_count": 6,
   "id": "297ba98a",
   "metadata": {
    "execution": {
     "iopub.execute_input": "2024-11-07T12:36:54.768861Z",
     "iopub.status.busy": "2024-11-07T12:36:54.767846Z",
     "iopub.status.idle": "2024-11-07T12:36:54.776658Z",
     "shell.execute_reply": "2024-11-07T12:36:54.775722Z"
    },
    "papermill": {
     "duration": 0.017452,
     "end_time": "2024-11-07T12:36:54.778690",
     "exception": false,
     "start_time": "2024-11-07T12:36:54.761238",
     "status": "completed"
    },
    "tags": []
   },
   "outputs": [
    {
     "data": {
      "application/javascript": [
       "parent.postMessage({\"jupyterEvent\": \"custom.exercise_interaction\", \"data\": {\"outcomeType\": 1, \"valueTowardsCompletion\": 0.25, \"interactionType\": 1, \"questionType\": 2, \"questionId\": \"2_ElementWiseComparison\", \"learnToolsVersion\": \"0.3.4\", \"failureMessage\": \"\", \"exceptionClass\": \"\", \"trace\": \"\"}}, \"*\")"
      ],
      "text/plain": [
       "<IPython.core.display.Javascript object>"
      ]
     },
     "metadata": {},
     "output_type": "display_data"
    },
    {
     "data": {
      "text/markdown": [
       "<span style=\"color:#33cc33\">Correct:</span> \n",
       "\n",
       "Here's one solution:\n",
       "```python\n",
       "def elementwise_greater_than(L, thresh):\n",
       "    res = []\n",
       "    for ele in L:\n",
       "        res.append(ele > thresh)\n",
       "    return res\n",
       "```\n",
       "\n",
       "And here's the list comprehension version:\n",
       "```python\n",
       "def elementwise_greater_than(L, thresh):\n",
       "    return [ele > thresh for ele in L]\n",
       "```\n"
      ],
      "text/plain": [
       "Correct: \n",
       "\n",
       "Here's one solution:\n",
       "```python\n",
       "def elementwise_greater_than(L, thresh):\n",
       "    res = []\n",
       "    for ele in L:\n",
       "        res.append(ele > thresh)\n",
       "    return res\n",
       "```\n",
       "\n",
       "And here's the list comprehension version:\n",
       "```python\n",
       "def elementwise_greater_than(L, thresh):\n",
       "    return [ele > thresh for ele in L]\n",
       "```"
      ]
     },
     "metadata": {},
     "output_type": "display_data"
    }
   ],
   "source": [
    "def elementwise_greater_than(L, thresh):\n",
    "    return [ele > thresh for ele in L]\n",
    "\n",
    "# Check your answer\n",
    "q2.check()"
   ]
  },
  {
   "cell_type": "code",
   "execution_count": 7,
   "id": "98f20098",
   "metadata": {
    "execution": {
     "iopub.execute_input": "2024-11-07T12:36:54.791610Z",
     "iopub.status.busy": "2024-11-07T12:36:54.791218Z",
     "iopub.status.idle": "2024-11-07T12:36:54.795616Z",
     "shell.execute_reply": "2024-11-07T12:36:54.794723Z"
    },
    "papermill": {
     "duration": 0.013211,
     "end_time": "2024-11-07T12:36:54.797614",
     "exception": false,
     "start_time": "2024-11-07T12:36:54.784403",
     "status": "completed"
    },
    "tags": []
   },
   "outputs": [],
   "source": [
    "#q2.solution()"
   ]
  },
  {
   "cell_type": "markdown",
   "id": "f0290bdf",
   "metadata": {
    "papermill": {
     "duration": 0.005322,
     "end_time": "2024-11-07T12:36:54.808743",
     "exception": false,
     "start_time": "2024-11-07T12:36:54.803421",
     "status": "completed"
    },
    "tags": []
   },
   "source": [
    "# 3.\n",
    "\n",
    "Complete the body of the function below according to its docstring."
   ]
  },
  {
   "cell_type": "code",
   "execution_count": 8,
   "id": "e5791b26",
   "metadata": {
    "execution": {
     "iopub.execute_input": "2024-11-07T12:36:54.821696Z",
     "iopub.status.busy": "2024-11-07T12:36:54.821294Z",
     "iopub.status.idle": "2024-11-07T12:36:54.830515Z",
     "shell.execute_reply": "2024-11-07T12:36:54.829562Z"
    },
    "papermill": {
     "duration": 0.018037,
     "end_time": "2024-11-07T12:36:54.832503",
     "exception": false,
     "start_time": "2024-11-07T12:36:54.814466",
     "status": "completed"
    },
    "tags": []
   },
   "outputs": [
    {
     "data": {
      "application/javascript": [
       "parent.postMessage({\"jupyterEvent\": \"custom.exercise_interaction\", \"data\": {\"outcomeType\": 1, \"valueTowardsCompletion\": 0.25, \"interactionType\": 1, \"questionType\": 2, \"questionId\": \"3_BoringMenu\", \"learnToolsVersion\": \"0.3.4\", \"failureMessage\": \"\", \"exceptionClass\": \"\", \"trace\": \"\"}}, \"*\")"
      ],
      "text/plain": [
       "<IPython.core.display.Javascript object>"
      ]
     },
     "metadata": {},
     "output_type": "display_data"
    },
    {
     "data": {
      "text/markdown": [
       "<span style=\"color:#33cc33\">Correct:</span> \n",
       "\n",
       "\n",
       "\n",
       "```python\n",
       "def menu_is_boring(meals):\n",
       "    # Iterate over all indices of the list, except the last one\n",
       "    for i in range(len(meals)-1):\n",
       "        if meals[i] == meals[i+1]:\n",
       "            return True\n",
       "    return False\n",
       "```\n",
       "\n",
       "The key to our solution is the call to `range`. `range(len(meals))` would give us all the indices of `meals`. If we had used that range, the last iteration of the loop would be comparing the last element to the element after it, which is... `IndexError`! `range(len(meals)-1)` gives us all the indices except the index of the last element.\n",
       "\n",
       "But don't we need to check if `meals` is empty? Turns out that `range(0) == range(-1)` - they're both empty. So if `meals` has length 0 or 1, we just won't do any iterations of our for loop.\n"
      ],
      "text/plain": [
       "Correct: \n",
       "\n",
       "\n",
       "\n",
       "```python\n",
       "def menu_is_boring(meals):\n",
       "    # Iterate over all indices of the list, except the last one\n",
       "    for i in range(len(meals)-1):\n",
       "        if meals[i] == meals[i+1]:\n",
       "            return True\n",
       "    return False\n",
       "```\n",
       "\n",
       "The key to our solution is the call to `range`. `range(len(meals))` would give us all the indices of `meals`. If we had used that range, the last iteration of the loop would be comparing the last element to the element after it, which is... `IndexError`! `range(len(meals)-1)` gives us all the indices except the index of the last element.\n",
       "\n",
       "But don't we need to check if `meals` is empty? Turns out that `range(0) == range(-1)` - they're both empty. So if `meals` has length 0 or 1, we just won't do any iterations of our for loop."
      ]
     },
     "metadata": {},
     "output_type": "display_data"
    }
   ],
   "source": [
    "def menu_is_boring(meals):\n",
    "    \"\"\"Given a list of meals served over some period of time, return True if the\n",
    "    same meal has ever been served two days in a row, and False otherwise.\n",
    "    \"\"\"\n",
    "    for i in range(len(meals) - 1):\n",
    "        if meals[i] == meals[i + 1]:\n",
    "            return True\n",
    "    return False\n",
    "\n",
    "# Check your answer\n",
    "q3.check()"
   ]
  },
  {
   "cell_type": "code",
   "execution_count": 9,
   "id": "569a4b3b",
   "metadata": {
    "execution": {
     "iopub.execute_input": "2024-11-07T12:36:54.845916Z",
     "iopub.status.busy": "2024-11-07T12:36:54.845525Z",
     "iopub.status.idle": "2024-11-07T12:36:54.849723Z",
     "shell.execute_reply": "2024-11-07T12:36:54.848774Z"
    },
    "papermill": {
     "duration": 0.013323,
     "end_time": "2024-11-07T12:36:54.851791",
     "exception": false,
     "start_time": "2024-11-07T12:36:54.838468",
     "status": "completed"
    },
    "tags": []
   },
   "outputs": [],
   "source": [
    "#q3.hint()\n",
    "#q3.solution()"
   ]
  },
  {
   "cell_type": "markdown",
   "id": "98f4c74d",
   "metadata": {
    "papermill": {
     "duration": 0.005613,
     "end_time": "2024-11-07T12:36:54.863224",
     "exception": false,
     "start_time": "2024-11-07T12:36:54.857611",
     "status": "completed"
    },
    "tags": []
   },
   "source": [
    "# 4. <span title=\"A bit spicy\" style=\"color: darkgreen \">🌶️</span>\n",
    "\n",
    "Next to the Blackjack table, the Python Challenge Casino has a slot machine. You can get a result from the slot machine by calling `play_slot_machine()`. The number it returns is your winnings in dollars. Usually it returns 0.  But sometimes you'll get lucky and get a big payday. Try running it below:"
   ]
  },
  {
   "cell_type": "code",
   "execution_count": 10,
   "id": "b49815e6",
   "metadata": {
    "execution": {
     "iopub.execute_input": "2024-11-07T12:36:54.877057Z",
     "iopub.status.busy": "2024-11-07T12:36:54.876145Z",
     "iopub.status.idle": "2024-11-07T12:36:54.882396Z",
     "shell.execute_reply": "2024-11-07T12:36:54.881395Z"
    },
    "papermill": {
     "duration": 0.01549,
     "end_time": "2024-11-07T12:36:54.884513",
     "exception": false,
     "start_time": "2024-11-07T12:36:54.869023",
     "status": "completed"
    },
    "tags": []
   },
   "outputs": [
    {
     "data": {
      "text/plain": [
       "0"
      ]
     },
     "execution_count": 10,
     "metadata": {},
     "output_type": "execute_result"
    }
   ],
   "source": [
    "play_slot_machine()"
   ]
  },
  {
   "cell_type": "markdown",
   "id": "90a6264d",
   "metadata": {
    "papermill": {
     "duration": 0.005676,
     "end_time": "2024-11-07T12:36:54.897302",
     "exception": false,
     "start_time": "2024-11-07T12:36:54.891626",
     "status": "completed"
    },
    "tags": []
   },
   "source": [
    "By the way, did we mention that each play costs $1? Don't worry, we'll send you the bill later.\n",
    "\n",
    "On average, how much money can you expect to gain (or lose) every time you play the machine?  The casino keeps it a secret, but you can estimate the average value of each pull using a technique called the **Monte Carlo method**. To estimate the average outcome, we simulate the scenario many times, and return the average result.\n",
    "\n",
    "Complete the following function to calculate the average value per play of the slot machine."
   ]
  },
  {
   "cell_type": "code",
   "execution_count": 11,
   "id": "61dcace3",
   "metadata": {
    "execution": {
     "iopub.execute_input": "2024-11-07T12:36:54.910791Z",
     "iopub.status.busy": "2024-11-07T12:36:54.910413Z",
     "iopub.status.idle": "2024-11-07T12:36:54.915359Z",
     "shell.execute_reply": "2024-11-07T12:36:54.914413Z"
    },
    "papermill": {
     "duration": 0.014232,
     "end_time": "2024-11-07T12:36:54.917432",
     "exception": false,
     "start_time": "2024-11-07T12:36:54.903200",
     "status": "completed"
    },
    "tags": []
   },
   "outputs": [],
   "source": [
    "def estimate_average_slot_payout(n_runs):\n",
    "    \"\"\"Run the slot machine n_runs times and return the average net profit per run.\"\"\"\n",
    "    total_profit = 0\n",
    "\n",
    "    for _ in range(n_runs):\n",
    "        # Assuming play_slot_machine() returns a float representing net profit for one run\n",
    "        total_profit += play_slot_machine()\n",
    "\n",
    "    return total_profit / n_runs"
   ]
  },
  {
   "cell_type": "markdown",
   "id": "3d9b0098",
   "metadata": {
    "papermill": {
     "duration": 0.005591,
     "end_time": "2024-11-07T12:36:54.928970",
     "exception": false,
     "start_time": "2024-11-07T12:36:54.923379",
     "status": "completed"
    },
    "tags": []
   },
   "source": [
    "When you think you know the expected value per spin, run the code cell below to view the solution and get credit for answering the question."
   ]
  },
  {
   "cell_type": "code",
   "execution_count": 12,
   "id": "a3dee655",
   "metadata": {
    "execution": {
     "iopub.execute_input": "2024-11-07T12:36:54.942861Z",
     "iopub.status.busy": "2024-11-07T12:36:54.941935Z",
     "iopub.status.idle": "2024-11-07T12:36:54.950160Z",
     "shell.execute_reply": "2024-11-07T12:36:54.949205Z"
    },
    "papermill": {
     "duration": 0.01727,
     "end_time": "2024-11-07T12:36:54.952119",
     "exception": false,
     "start_time": "2024-11-07T12:36:54.934849",
     "status": "completed"
    },
    "tags": []
   },
   "outputs": [
    {
     "data": {
      "application/javascript": [
       "parent.postMessage({\"jupyterEvent\": \"custom.exercise_interaction\", \"data\": {\"interactionType\": 3, \"questionType\": 4, \"questionId\": \"4_ExpectedSlotsPayout\", \"learnToolsVersion\": \"0.3.4\", \"valueTowardsCompletion\": 0.0, \"failureMessage\": \"\", \"exceptionClass\": \"\", \"trace\": \"\", \"outcomeType\": 4}}, \"*\")"
      ],
      "text/plain": [
       "<IPython.core.display.Javascript object>"
      ]
     },
     "metadata": {},
     "output_type": "display_data"
    },
    {
     "data": {
      "text/markdown": [
       "<span style=\"color:#33cc99\">Solution:</span> \n",
       "    \n",
       "The exact expected value of one pull of the slot machine is 0.025 - i.e. a little more than 2 cents.  See?  Not every game in the Python Challenge Casino is rigged against the player!\n",
       "\n",
       "In order to get this answer, you'll need to implement the `estimate_average_slot_payout(n_runs)` function to simulate pulling the slot machine `n_runs` times.  It should return the payout averaged over those `n_runs`.\n",
       "\n",
       "Then, once the function is defined, in order to estimate the average slot payout, we need only call the function.\n",
       "\n",
       "Because of the high variance of the outcome (there are some very rare high payout results that significantly affect the average) you might need to run your function with a very high value of `n_runs` to get a stable answer close to the true expectation.  For instance, you might use a value for `n_runs` of 1000000.\n",
       "\n",
       "Here's an example for how the function could look:\n",
       "```python\n",
       "def estimate_average_slot_payout(n_runs):\n",
       "    # Play slot machine n_runs times, calculate payout of each\n",
       "    payouts = [play_slot_machine()-1 for i in range(n_runs)]\n",
       "    # Calculate the average value\n",
       "    avg_payout = sum(payouts) / n_runs\n",
       "    return avg_payout\n",
       "    \n",
       "estimate_average_slot_payout(10000000)\n",
       "\n",
       "```\n",
       "\n",
       "This should return an answer close to 0.025!\n",
       "            \n"
      ],
      "text/plain": [
       "Solution: \n",
       "    \n",
       "The exact expected value of one pull of the slot machine is 0.025 - i.e. a little more than 2 cents.  See?  Not every game in the Python Challenge Casino is rigged against the player!\n",
       "\n",
       "In order to get this answer, you'll need to implement the `estimate_average_slot_payout(n_runs)` function to simulate pulling the slot machine `n_runs` times.  It should return the payout averaged over those `n_runs`.\n",
       "\n",
       "Then, once the function is defined, in order to estimate the average slot payout, we need only call the function.\n",
       "\n",
       "Because of the high variance of the outcome (there are some very rare high payout results that significantly affect the average) you might need to run your function with a very high value of `n_runs` to get a stable answer close to the true expectation.  For instance, you might use a value for `n_runs` of 1000000.\n",
       "\n",
       "Here's an example for how the function could look:\n",
       "```python\n",
       "def estimate_average_slot_payout(n_runs):\n",
       "    # Play slot machine n_runs times, calculate payout of each\n",
       "    payouts = [play_slot_machine()-1 for i in range(n_runs)]\n",
       "    # Calculate the average value\n",
       "    avg_payout = sum(payouts) / n_runs\n",
       "    return avg_payout\n",
       "    \n",
       "estimate_average_slot_payout(10000000)\n",
       "\n",
       "```\n",
       "\n",
       "This should return an answer close to 0.025!\n",
       "            "
      ]
     },
     "metadata": {},
     "output_type": "display_data"
    }
   ],
   "source": [
    "# Check your answer (Run this code cell to receive credit!)\n",
    "q4.solution()"
   ]
  },
  {
   "cell_type": "markdown",
   "id": "51a80930",
   "metadata": {
    "papermill": {
     "duration": 0.005975,
     "end_time": "2024-11-07T12:36:54.964546",
     "exception": false,
     "start_time": "2024-11-07T12:36:54.958571",
     "status": "completed"
    },
    "tags": []
   },
   "source": [
    "# Keep Going\n",
    "\n",
    "Many programmers report that dictionaries are their favorite data structure. You'll get to **[learn about them](https://www.kaggle.com/colinmorris/strings-and-dictionaries)** (as well as strings) in the next lesson."
   ]
  },
  {
   "cell_type": "markdown",
   "id": "28f865b8",
   "metadata": {
    "papermill": {
     "duration": 0.006007,
     "end_time": "2024-11-07T12:36:54.976795",
     "exception": false,
     "start_time": "2024-11-07T12:36:54.970788",
     "status": "completed"
    },
    "tags": []
   },
   "source": [
    "---\n",
    "\n",
    "\n",
    "\n",
    "\n",
    "*Have questions or comments? Visit the [course discussion forum](https://www.kaggle.com/learn/python/discussion) to chat with other learners.*"
   ]
  }
 ],
 "metadata": {
  "kaggle": {
   "accelerator": "none",
   "dataSources": [],
   "isGpuEnabled": false,
   "isInternetEnabled": false,
   "language": "python",
   "sourceType": "notebook"
  },
  "kernelspec": {
   "display_name": "Python 3",
   "language": "python",
   "name": "python3"
  },
  "language_info": {
   "codemirror_mode": {
    "name": "ipython",
    "version": 3
   },
   "file_extension": ".py",
   "mimetype": "text/x-python",
   "name": "python",
   "nbconvert_exporter": "python",
   "pygments_lexer": "ipython3",
   "version": "3.10.14"
  },
  "learntools_metadata": {
   "lesson_index": 4,
   "type": "exercise"
  },
  "papermill": {
   "default_parameters": {},
   "duration": 4.245539,
   "end_time": "2024-11-07T12:36:55.402615",
   "environment_variables": {},
   "exception": null,
   "input_path": "__notebook__.ipynb",
   "output_path": "__notebook__.ipynb",
   "parameters": {},
   "start_time": "2024-11-07T12:36:51.157076",
   "version": "2.6.0"
  }
 },
 "nbformat": 4,
 "nbformat_minor": 5
}

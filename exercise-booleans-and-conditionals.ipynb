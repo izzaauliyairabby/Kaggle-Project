{
 "cells": [
  {
   "cell_type": "markdown",
   "id": "5f533e6a",
   "metadata": {
    "papermill": {
     "duration": 0.009466,
     "end_time": "2024-11-06T20:59:34.675255",
     "exception": false,
     "start_time": "2024-11-06T20:59:34.665789",
     "status": "completed"
    },
    "tags": []
   },
   "source": [
    "**This notebook is an exercise in the [Python](https://www.kaggle.com/learn/python) course.  You can reference the tutorial at [this link](https://www.kaggle.com/colinmorris/booleans-and-conditionals).**\n",
    "\n",
    "---\n"
   ]
  },
  {
   "cell_type": "markdown",
   "id": "b777951f",
   "metadata": {
    "papermill": {
     "duration": 0.008173,
     "end_time": "2024-11-06T20:59:34.692208",
     "exception": false,
     "start_time": "2024-11-06T20:59:34.684035",
     "status": "completed"
    },
    "tags": []
   },
   "source": [
    "In this exercise, you'll put to work what you have learned about booleans and conditionals.\n",
    "\n",
    "To get started, **run the setup code below** before writing your own code (and if you leave this notebook and come back later, don't forget to run the setup code again)."
   ]
  },
  {
   "cell_type": "code",
   "execution_count": 1,
   "id": "f2f88f3a",
   "metadata": {
    "execution": {
     "iopub.execute_input": "2024-11-06T20:59:34.711255Z",
     "iopub.status.busy": "2024-11-06T20:59:34.710839Z",
     "iopub.status.idle": "2024-11-06T20:59:35.691112Z",
     "shell.execute_reply": "2024-11-06T20:59:35.689610Z"
    },
    "papermill": {
     "duration": 0.992846,
     "end_time": "2024-11-06T20:59:35.693927",
     "exception": false,
     "start_time": "2024-11-06T20:59:34.701081",
     "status": "completed"
    },
    "tags": []
   },
   "outputs": [
    {
     "name": "stdout",
     "output_type": "stream",
     "text": [
      "Setup complete.\n"
     ]
    }
   ],
   "source": [
    "from learntools.core import binder; binder.bind(globals())\n",
    "from learntools.python.ex3 import *\n",
    "print('Setup complete.')"
   ]
  },
  {
   "cell_type": "markdown",
   "id": "89a61ee9",
   "metadata": {
    "papermill": {
     "duration": 0.008379,
     "end_time": "2024-11-06T20:59:35.712050",
     "exception": false,
     "start_time": "2024-11-06T20:59:35.703671",
     "status": "completed"
    },
    "tags": []
   },
   "source": [
    "# 1.\n",
    "\n",
    "Many programming languages have [`sign`](https://en.wikipedia.org/wiki/Sign_function) available as a built-in function. Python doesn't, but we can define our own!\n",
    "\n",
    "In the cell below, define a function called `sign` which takes a numerical argument and returns -1 if it's negative, 1 if it's positive, and 0 if it's 0."
   ]
  },
  {
   "cell_type": "code",
   "execution_count": 2,
   "id": "c30d75ad",
   "metadata": {
    "execution": {
     "iopub.execute_input": "2024-11-06T20:59:35.731145Z",
     "iopub.status.busy": "2024-11-06T20:59:35.730577Z",
     "iopub.status.idle": "2024-11-06T20:59:35.741882Z",
     "shell.execute_reply": "2024-11-06T20:59:35.740798Z"
    },
    "papermill": {
     "duration": 0.023429,
     "end_time": "2024-11-06T20:59:35.744093",
     "exception": false,
     "start_time": "2024-11-06T20:59:35.720664",
     "status": "completed"
    },
    "tags": []
   },
   "outputs": [
    {
     "data": {
      "application/javascript": [
       "parent.postMessage({\"jupyterEvent\": \"custom.exercise_interaction\", \"data\": {\"outcomeType\": 1, \"valueTowardsCompletion\": 0.2, \"interactionType\": 1, \"questionType\": 2, \"questionId\": \"1_SignFunctionProblem\", \"learnToolsVersion\": \"0.3.4\", \"failureMessage\": \"\", \"exceptionClass\": \"\", \"trace\": \"\"}}, \"*\")"
      ],
      "text/plain": [
       "<IPython.core.display.Javascript object>"
      ]
     },
     "metadata": {},
     "output_type": "display_data"
    },
    {
     "data": {
      "text/markdown": [
       "<span style=\"color:#33cc33\">Correct</span>"
      ],
      "text/plain": [
       "Correct"
      ]
     },
     "metadata": {},
     "output_type": "display_data"
    }
   ],
   "source": [
    "# Your code goes here. Define a function called 'sign'\n",
    "def sign(x):\n",
    "    \"\"\"Return -1 if x is negative, 1 if x is positive, and 0 if x is 0.\"\"\"\n",
    "    if x > 0:\n",
    "        return 1\n",
    "    elif x < 0:\n",
    "        return -1\n",
    "    else:\n",
    "        return 0\n",
    "\n",
    "    \n",
    "\n",
    "# Check your answer\n",
    "q1.check()"
   ]
  },
  {
   "cell_type": "code",
   "execution_count": 3,
   "id": "a57d8c15",
   "metadata": {
    "execution": {
     "iopub.execute_input": "2024-11-06T20:59:35.764276Z",
     "iopub.status.busy": "2024-11-06T20:59:35.763500Z",
     "iopub.status.idle": "2024-11-06T20:59:35.768494Z",
     "shell.execute_reply": "2024-11-06T20:59:35.767292Z"
    },
    "papermill": {
     "duration": 0.017588,
     "end_time": "2024-11-06T20:59:35.770966",
     "exception": false,
     "start_time": "2024-11-06T20:59:35.753378",
     "status": "completed"
    },
    "tags": []
   },
   "outputs": [],
   "source": [
    "#q1.solution()"
   ]
  },
  {
   "cell_type": "markdown",
   "id": "f648561d",
   "metadata": {
    "papermill": {
     "duration": 0.009451,
     "end_time": "2024-11-06T20:59:35.789729",
     "exception": false,
     "start_time": "2024-11-06T20:59:35.780278",
     "status": "completed"
    },
    "tags": []
   },
   "source": [
    "# 2.\n",
    "\n",
    "We've decided to add \"logging\" to our `to_smash` function from the previous exercise."
   ]
  },
  {
   "cell_type": "code",
   "execution_count": 4,
   "id": "6908b0bc",
   "metadata": {
    "execution": {
     "iopub.execute_input": "2024-11-06T20:59:35.809569Z",
     "iopub.status.busy": "2024-11-06T20:59:35.809162Z",
     "iopub.status.idle": "2024-11-06T20:59:35.817239Z",
     "shell.execute_reply": "2024-11-06T20:59:35.816185Z"
    },
    "papermill": {
     "duration": 0.021653,
     "end_time": "2024-11-06T20:59:35.820610",
     "exception": false,
     "start_time": "2024-11-06T20:59:35.798957",
     "status": "completed"
    },
    "tags": []
   },
   "outputs": [
    {
     "name": "stdout",
     "output_type": "stream",
     "text": [
      "Splitting 91 candies\n"
     ]
    },
    {
     "data": {
      "text/plain": [
       "1"
      ]
     },
     "execution_count": 4,
     "metadata": {},
     "output_type": "execute_result"
    }
   ],
   "source": [
    "def to_smash(total_candies):\n",
    "    \"\"\"Return the number of leftover candies that must be smashed after distributing\n",
    "    the given number of candies evenly between 3 friends.\n",
    "    \n",
    "    >>> to_smash(91)\n",
    "    1\n",
    "    \"\"\"\n",
    "    print(\"Splitting\", total_candies, \"candies\")\n",
    "    return total_candies % 3\n",
    "\n",
    "to_smash(91)"
   ]
  },
  {
   "cell_type": "markdown",
   "id": "e2a1d68a",
   "metadata": {
    "papermill": {
     "duration": 0.008712,
     "end_time": "2024-11-06T20:59:35.838677",
     "exception": false,
     "start_time": "2024-11-06T20:59:35.829965",
     "status": "completed"
    },
    "tags": []
   },
   "source": [
    "What happens if we call it with `total_candies = 1`?"
   ]
  },
  {
   "cell_type": "code",
   "execution_count": 5,
   "id": "aa1a4d0e",
   "metadata": {
    "execution": {
     "iopub.execute_input": "2024-11-06T20:59:35.859613Z",
     "iopub.status.busy": "2024-11-06T20:59:35.858693Z",
     "iopub.status.idle": "2024-11-06T20:59:35.866084Z",
     "shell.execute_reply": "2024-11-06T20:59:35.864788Z"
    },
    "papermill": {
     "duration": 0.021096,
     "end_time": "2024-11-06T20:59:35.868950",
     "exception": false,
     "start_time": "2024-11-06T20:59:35.847854",
     "status": "completed"
    },
    "tags": []
   },
   "outputs": [
    {
     "name": "stdout",
     "output_type": "stream",
     "text": [
      "Splitting 1 candies\n"
     ]
    },
    {
     "data": {
      "text/plain": [
       "1"
      ]
     },
     "execution_count": 5,
     "metadata": {},
     "output_type": "execute_result"
    }
   ],
   "source": [
    "to_smash(1)"
   ]
  },
  {
   "cell_type": "markdown",
   "id": "6290362f",
   "metadata": {
    "papermill": {
     "duration": 0.008974,
     "end_time": "2024-11-06T20:59:35.887392",
     "exception": false,
     "start_time": "2024-11-06T20:59:35.878418",
     "status": "completed"
    },
    "tags": []
   },
   "source": [
    "That isn't great grammar!\n",
    "\n",
    "Modify the definition in the cell below to correct the grammar of our print statement. (If there's only one candy, we should use the singular \"candy\" instead of the plural \"candies\")"
   ]
  },
  {
   "cell_type": "code",
   "execution_count": 6,
   "id": "19f70d3e",
   "metadata": {
    "execution": {
     "iopub.execute_input": "2024-11-06T20:59:35.908505Z",
     "iopub.status.busy": "2024-11-06T20:59:35.907790Z",
     "iopub.status.idle": "2024-11-06T20:59:35.916025Z",
     "shell.execute_reply": "2024-11-06T20:59:35.914742Z"
    },
    "papermill": {
     "duration": 0.021451,
     "end_time": "2024-11-06T20:59:35.918403",
     "exception": false,
     "start_time": "2024-11-06T20:59:35.896952",
     "status": "completed"
    },
    "tags": []
   },
   "outputs": [
    {
     "name": "stdout",
     "output_type": "stream",
     "text": [
      "Splitting 91 candies\n",
      "Splitting 1 candies\n"
     ]
    },
    {
     "data": {
      "text/plain": [
       "1"
      ]
     },
     "execution_count": 6,
     "metadata": {},
     "output_type": "execute_result"
    }
   ],
   "source": [
    "def to_smash(total_candies):\n",
    "    \"\"\"Return the number of leftover candies that must be smashed after distributing\n",
    "    the given number of candies evenly between 3 friends.\n",
    "    \n",
    "    >>> to_smash(91)\n",
    "    1\n",
    "    \"\"\"\n",
    "    print(\"Splitting\", total_candies, \"candies\")\n",
    "    return total_candies % 3\n",
    "\n",
    "to_smash(91)\n",
    "to_smash(1)"
   ]
  },
  {
   "cell_type": "markdown",
   "id": "b15c51dc",
   "metadata": {
    "papermill": {
     "duration": 0.009108,
     "end_time": "2024-11-06T20:59:35.937054",
     "exception": false,
     "start_time": "2024-11-06T20:59:35.927946",
     "status": "completed"
    },
    "tags": []
   },
   "source": [
    "To get credit for completing this problem, and to see the official answer, run the code cell below."
   ]
  },
  {
   "cell_type": "code",
   "execution_count": 7,
   "id": "8032071a",
   "metadata": {
    "execution": {
     "iopub.execute_input": "2024-11-06T20:59:35.958042Z",
     "iopub.status.busy": "2024-11-06T20:59:35.957347Z",
     "iopub.status.idle": "2024-11-06T20:59:35.965886Z",
     "shell.execute_reply": "2024-11-06T20:59:35.964865Z"
    },
    "papermill": {
     "duration": 0.021398,
     "end_time": "2024-11-06T20:59:35.968011",
     "exception": false,
     "start_time": "2024-11-06T20:59:35.946613",
     "status": "completed"
    },
    "tags": []
   },
   "outputs": [
    {
     "data": {
      "application/javascript": [
       "parent.postMessage({\"jupyterEvent\": \"custom.exercise_interaction\", \"data\": {\"interactionType\": 3, \"questionType\": 4, \"questionId\": \"2_PluralizationProblem\", \"learnToolsVersion\": \"0.3.4\", \"valueTowardsCompletion\": 0.0, \"failureMessage\": \"\", \"exceptionClass\": \"\", \"trace\": \"\", \"outcomeType\": 4}}, \"*\")"
      ],
      "text/plain": [
       "<IPython.core.display.Javascript object>"
      ]
     },
     "metadata": {},
     "output_type": "display_data"
    },
    {
     "data": {
      "text/markdown": [
       "<span style=\"color:#33cc99\">Solution:</span> A straightforward (and totally fine) solution is to replace the original `print` call with:\n",
       "\n",
       "```python\n",
       "if total_candies == 1:\n",
       "    print(\"Splitting 1 candy\")\n",
       "else:\n",
       "    print(\"Splitting\", total_candies, \"candies\")\n",
       "```\n",
       "\n",
       "Here's a slightly more succinct solution using a conditional expression:\n",
       "\n",
       "```python\n",
       "print(\"Splitting\", total_candies, \"candy\" if total_candies == 1 else \"candies\")\n",
       "```"
      ],
      "text/plain": [
       "Solution: A straightforward (and totally fine) solution is to replace the original `print` call with:\n",
       "\n",
       "```python\n",
       "if total_candies == 1:\n",
       "    print(\"Splitting 1 candy\")\n",
       "else:\n",
       "    print(\"Splitting\", total_candies, \"candies\")\n",
       "```\n",
       "\n",
       "Here's a slightly more succinct solution using a conditional expression:\n",
       "\n",
       "```python\n",
       "print(\"Splitting\", total_candies, \"candy\" if total_candies == 1 else \"candies\")\n",
       "```"
      ]
     },
     "metadata": {},
     "output_type": "display_data"
    }
   ],
   "source": [
    "# Check your answer (Run this code cell to receive credit!)\n",
    "q2.solution()"
   ]
  },
  {
   "cell_type": "markdown",
   "id": "6deab43f",
   "metadata": {
    "papermill": {
     "duration": 0.009577,
     "end_time": "2024-11-06T20:59:35.987552",
     "exception": false,
     "start_time": "2024-11-06T20:59:35.977975",
     "status": "completed"
    },
    "tags": []
   },
   "source": [
    "# 3. <span title=\"A bit spicy\" style=\"color: darkgreen \">🌶️</span>\n",
    "\n",
    "In the tutorial, we talked about deciding whether we're prepared for the weather. I said that I'm safe from today's weather if...\n",
    "- I have an umbrella...\n",
    "- or if the rain isn't too heavy and I have a hood...\n",
    "- otherwise, I'm still fine unless it's raining *and* it's a workday\n",
    "\n",
    "The function below uses our first attempt at turning this logic into a Python expression. I claimed that there was a bug in that code. Can you find it?\n",
    "\n",
    "To prove that `prepared_for_weather` is buggy, come up with a set of inputs where either:\n",
    "- the function returns `False` (but should have returned `True`), or\n",
    "- the function returned `True` (but should have returned `False`).\n",
    "\n",
    "To get credit for completing this question, your code should return a <font color='#33cc33'>Correct</font> result."
   ]
  },
  {
   "cell_type": "code",
   "execution_count": 8,
   "id": "50f8253c",
   "metadata": {
    "execution": {
     "iopub.execute_input": "2024-11-06T20:59:36.009016Z",
     "iopub.status.busy": "2024-11-06T20:59:36.008578Z",
     "iopub.status.idle": "2024-11-06T20:59:36.021201Z",
     "shell.execute_reply": "2024-11-06T20:59:36.020194Z"
    },
    "papermill": {
     "duration": 0.026027,
     "end_time": "2024-11-06T20:59:36.023408",
     "exception": false,
     "start_time": "2024-11-06T20:59:35.997381",
     "status": "completed"
    },
    "tags": []
   },
   "outputs": [
    {
     "name": "stdout",
     "output_type": "stream",
     "text": [
      "False\n"
     ]
    },
    {
     "data": {
      "application/javascript": [
       "parent.postMessage({\"jupyterEvent\": \"custom.exercise_interaction\", \"data\": {\"outcomeType\": 1, \"valueTowardsCompletion\": 0.2, \"interactionType\": 1, \"questionType\": 1, \"questionId\": \"3_WeatherDebug\", \"learnToolsVersion\": \"0.3.4\", \"failureMessage\": \"\", \"exceptionClass\": \"\", \"trace\": \"\"}}, \"*\")"
      ],
      "text/plain": [
       "<IPython.core.display.Javascript object>"
      ]
     },
     "metadata": {},
     "output_type": "display_data"
    },
    {
     "data": {
      "text/markdown": [
       "<span style=\"color:#33cc33\">Correct:</span> \n",
       "\n",
       "One example of a failing test case is:\n",
       "\n",
       "```python\n",
       "have_umbrella = False\n",
       "rain_level = 0.0\n",
       "have_hood = False\n",
       "is_workday = False\n",
       "```\n",
       "\n",
       "Clearly we're prepared for the weather in this case. It's not raining. Not only that, it's not a workday, so we don't even need to leave the house! But our function will return False on these inputs.\n",
       "\n",
       "The key problem is that Python implictly parenthesizes the last part as:\n",
       "\n",
       "```python\n",
       "(not (rain_level > 0)) and is_workday\n",
       "```\n",
       "\n",
       "Whereas what we were trying to express would look more like:\n",
       "\n",
       "```python\n",
       "not (rain_level > 0 and is_workday)\n",
       "```\n"
      ],
      "text/plain": [
       "Correct: \n",
       "\n",
       "One example of a failing test case is:\n",
       "\n",
       "```python\n",
       "have_umbrella = False\n",
       "rain_level = 0.0\n",
       "have_hood = False\n",
       "is_workday = False\n",
       "```\n",
       "\n",
       "Clearly we're prepared for the weather in this case. It's not raining. Not only that, it's not a workday, so we don't even need to leave the house! But our function will return False on these inputs.\n",
       "\n",
       "The key problem is that Python implictly parenthesizes the last part as:\n",
       "\n",
       "```python\n",
       "(not (rain_level > 0)) and is_workday\n",
       "```\n",
       "\n",
       "Whereas what we were trying to express would look more like:\n",
       "\n",
       "```python\n",
       "not (rain_level > 0 and is_workday)\n",
       "```"
      ]
     },
     "metadata": {},
     "output_type": "display_data"
    }
   ],
   "source": [
    "def prepared_for_weather(have_umbrella, rain_level, have_hood, is_workday):\n",
    "    # Don't change this code. Our goal is just to find the bug, not fix it!\n",
    "    return have_umbrella or rain_level < 5 and have_hood or not rain_level > 0 and is_workday\n",
    "\n",
    "# Change the values of these inputs so they represent a case where prepared_for_weather\n",
    "# returns the wrong answer.\n",
    "have_umbrella = False\n",
    "rain_level = 0.0\n",
    "have_hood = False\n",
    "is_workday = False\n",
    "\n",
    "# Check what the function returns given the current values of the variables above\n",
    "actual = prepared_for_weather(have_umbrella, rain_level, have_hood, is_workday)\n",
    "print(actual)\n",
    "\n",
    "# Check your answer\n",
    "q3.check()"
   ]
  },
  {
   "cell_type": "code",
   "execution_count": 9,
   "id": "80c55eb7",
   "metadata": {
    "execution": {
     "iopub.execute_input": "2024-11-06T20:59:36.046511Z",
     "iopub.status.busy": "2024-11-06T20:59:36.045829Z",
     "iopub.status.idle": "2024-11-06T20:59:36.050358Z",
     "shell.execute_reply": "2024-11-06T20:59:36.049199Z"
    },
    "papermill": {
     "duration": 0.018418,
     "end_time": "2024-11-06T20:59:36.052657",
     "exception": false,
     "start_time": "2024-11-06T20:59:36.034239",
     "status": "completed"
    },
    "tags": []
   },
   "outputs": [],
   "source": [
    "#q3.hint()\n",
    "#q3.solution()"
   ]
  },
  {
   "cell_type": "markdown",
   "id": "99af7e06",
   "metadata": {
    "papermill": {
     "duration": 0.009668,
     "end_time": "2024-11-06T20:59:36.072541",
     "exception": false,
     "start_time": "2024-11-06T20:59:36.062873",
     "status": "completed"
    },
    "tags": []
   },
   "source": [
    "# 4.\n",
    "\n",
    "The function `is_negative` below is implemented correctly - it returns True if the given number is negative and False otherwise.\n",
    "\n",
    "However, it's more verbose than it needs to be. We can actually reduce the number of lines of code in this function by *75%* while keeping the same behaviour. \n",
    "\n",
    "See if you can come up with an equivalent body that uses just **one line** of code, and put it in the function `concise_is_negative`. (HINT: you don't even need Python's ternary syntax)"
   ]
  },
  {
   "cell_type": "code",
   "execution_count": 10,
   "id": "0f9e01b8",
   "metadata": {
    "execution": {
     "iopub.execute_input": "2024-11-06T20:59:36.094985Z",
     "iopub.status.busy": "2024-11-06T20:59:36.093885Z",
     "iopub.status.idle": "2024-11-06T20:59:36.103177Z",
     "shell.execute_reply": "2024-11-06T20:59:36.102207Z"
    },
    "papermill": {
     "duration": 0.022695,
     "end_time": "2024-11-06T20:59:36.105262",
     "exception": false,
     "start_time": "2024-11-06T20:59:36.082567",
     "status": "completed"
    },
    "tags": []
   },
   "outputs": [
    {
     "data": {
      "application/javascript": [
       "parent.postMessage({\"jupyterEvent\": \"custom.exercise_interaction\", \"data\": {\"outcomeType\": 1, \"valueTowardsCompletion\": 0.2, \"interactionType\": 1, \"questionType\": 2, \"questionId\": \"4_ConciseIsNegative\", \"learnToolsVersion\": \"0.3.4\", \"failureMessage\": \"\", \"exceptionClass\": \"\", \"trace\": \"\"}}, \"*\")"
      ],
      "text/plain": [
       "<IPython.core.display.Javascript object>"
      ]
     },
     "metadata": {},
     "output_type": "display_data"
    },
    {
     "data": {
      "text/markdown": [
       "<span style=\"color:#33cc33\">Correct</span>"
      ],
      "text/plain": [
       "Correct"
      ]
     },
     "metadata": {},
     "output_type": "display_data"
    }
   ],
   "source": [
    "def is_negative(number):\n",
    "    if number < 0:\n",
    "        return True\n",
    "    else:\n",
    "        return False\n",
    "\n",
    "def concise_is_negative(number):\n",
    "    pass \n",
    "    return number < 0 \n",
    "\n",
    "# Check your answer\n",
    "q4.check()"
   ]
  },
  {
   "cell_type": "code",
   "execution_count": 11,
   "id": "60cd8740",
   "metadata": {
    "execution": {
     "iopub.execute_input": "2024-11-06T20:59:36.127893Z",
     "iopub.status.busy": "2024-11-06T20:59:36.127063Z",
     "iopub.status.idle": "2024-11-06T20:59:36.135393Z",
     "shell.execute_reply": "2024-11-06T20:59:36.134315Z"
    },
    "papermill": {
     "duration": 0.021956,
     "end_time": "2024-11-06T20:59:36.137644",
     "exception": false,
     "start_time": "2024-11-06T20:59:36.115688",
     "status": "completed"
    },
    "tags": []
   },
   "outputs": [
    {
     "data": {
      "application/javascript": [
       "parent.postMessage({\"jupyterEvent\": \"custom.exercise_interaction\", \"data\": {\"interactionType\": 3, \"questionType\": 2, \"questionId\": \"4_ConciseIsNegative\", \"learnToolsVersion\": \"0.3.4\", \"valueTowardsCompletion\": 0.0, \"failureMessage\": \"\", \"exceptionClass\": \"\", \"trace\": \"\", \"outcomeType\": 4}}, \"*\")"
      ],
      "text/plain": [
       "<IPython.core.display.Javascript object>"
      ]
     },
     "metadata": {},
     "output_type": "display_data"
    },
    {
     "data": {
      "text/markdown": [
       "<span style=\"color:#33cc99\">Solution:</span> \n",
       "```python\n",
       "return number < 0\n",
       "```"
      ],
      "text/plain": [
       "Solution: \n",
       "```python\n",
       "return number < 0\n",
       "```"
      ]
     },
     "metadata": {},
     "output_type": "display_data"
    }
   ],
   "source": [
    "#q4.hint()\n",
    "q4.solution()"
   ]
  },
  {
   "cell_type": "markdown",
   "id": "f88a989a",
   "metadata": {
    "papermill": {
     "duration": 0.010571,
     "end_time": "2024-11-06T20:59:36.158894",
     "exception": false,
     "start_time": "2024-11-06T20:59:36.148323",
     "status": "completed"
    },
    "tags": []
   },
   "source": [
    "# 5a.\n",
    "\n",
    "The boolean variables `ketchup`, `mustard` and `onion` represent whether a customer wants a particular topping on their hot dog. We want to implement a number of boolean functions that correspond to some yes-or-no questions about the customer's order. For example:"
   ]
  },
  {
   "cell_type": "code",
   "execution_count": 12,
   "id": "34f37685",
   "metadata": {
    "execution": {
     "iopub.execute_input": "2024-11-06T20:59:36.182219Z",
     "iopub.status.busy": "2024-11-06T20:59:36.181554Z",
     "iopub.status.idle": "2024-11-06T20:59:36.186511Z",
     "shell.execute_reply": "2024-11-06T20:59:36.185441Z"
    },
    "papermill": {
     "duration": 0.01908,
     "end_time": "2024-11-06T20:59:36.188676",
     "exception": false,
     "start_time": "2024-11-06T20:59:36.169596",
     "status": "completed"
    },
    "tags": []
   },
   "outputs": [],
   "source": [
    "def onionless(ketchup, mustard, onion):\n",
    "    \"\"\"Return whether the customer doesn't want onions.\n",
    "    \"\"\"\n",
    "    return not onion"
   ]
  },
  {
   "cell_type": "code",
   "execution_count": 13,
   "id": "d7a46917",
   "metadata": {
    "execution": {
     "iopub.execute_input": "2024-11-06T20:59:36.212080Z",
     "iopub.status.busy": "2024-11-06T20:59:36.211182Z",
     "iopub.status.idle": "2024-11-06T20:59:36.220346Z",
     "shell.execute_reply": "2024-11-06T20:59:36.219221Z"
    },
    "papermill": {
     "duration": 0.023279,
     "end_time": "2024-11-06T20:59:36.222702",
     "exception": false,
     "start_time": "2024-11-06T20:59:36.199423",
     "status": "completed"
    },
    "tags": []
   },
   "outputs": [
    {
     "data": {
      "application/javascript": [
       "parent.postMessage({\"jupyterEvent\": \"custom.exercise_interaction\", \"data\": {\"outcomeType\": 1, \"valueTowardsCompletion\": 0.2, \"interactionType\": 1, \"questionType\": 2, \"questionId\": \"5.1_AllToppings\", \"learnToolsVersion\": \"0.3.4\", \"failureMessage\": \"\", \"exceptionClass\": \"\", \"trace\": \"\"}}, \"*\")"
      ],
      "text/plain": [
       "<IPython.core.display.Javascript object>"
      ]
     },
     "metadata": {},
     "output_type": "display_data"
    },
    {
     "data": {
      "text/markdown": [
       "<span style=\"color:#33cc33\">Correct</span>"
      ],
      "text/plain": [
       "Correct"
      ]
     },
     "metadata": {},
     "output_type": "display_data"
    }
   ],
   "source": [
    "def wants_all_toppings(ketchup, mustard, onion):\n",
    "    \"\"\"Return whether the customer wants \"the works\" (all 3 toppings)\"\"\"\n",
    "    return ketchup and mustard and onion\n",
    "\n",
    "    \n",
    "# Check your answer\n",
    "q5.a.check()"
   ]
  },
  {
   "cell_type": "code",
   "execution_count": 14,
   "id": "8133d489",
   "metadata": {
    "execution": {
     "iopub.execute_input": "2024-11-06T20:59:36.246009Z",
     "iopub.status.busy": "2024-11-06T20:59:36.245601Z",
     "iopub.status.idle": "2024-11-06T20:59:36.250001Z",
     "shell.execute_reply": "2024-11-06T20:59:36.248949Z"
    },
    "papermill": {
     "duration": 0.018484,
     "end_time": "2024-11-06T20:59:36.252098",
     "exception": false,
     "start_time": "2024-11-06T20:59:36.233614",
     "status": "completed"
    },
    "tags": []
   },
   "outputs": [],
   "source": [
    "#q5.a.hint()\n",
    "#q5.a.solution()"
   ]
  },
  {
   "cell_type": "markdown",
   "id": "7ca2d07c",
   "metadata": {
    "papermill": {
     "duration": 0.010467,
     "end_time": "2024-11-06T20:59:36.273392",
     "exception": false,
     "start_time": "2024-11-06T20:59:36.262925",
     "status": "completed"
    },
    "tags": []
   },
   "source": [
    "# 5b.\n",
    "\n",
    "For the next function, fill in the body to match the English description in the docstring. "
   ]
  },
  {
   "cell_type": "code",
   "execution_count": 15,
   "id": "c2e29e67",
   "metadata": {
    "execution": {
     "iopub.execute_input": "2024-11-06T20:59:36.296749Z",
     "iopub.status.busy": "2024-11-06T20:59:36.296354Z",
     "iopub.status.idle": "2024-11-06T20:59:36.306034Z",
     "shell.execute_reply": "2024-11-06T20:59:36.305001Z"
    },
    "papermill": {
     "duration": 0.02391,
     "end_time": "2024-11-06T20:59:36.308169",
     "exception": false,
     "start_time": "2024-11-06T20:59:36.284259",
     "status": "completed"
    },
    "tags": []
   },
   "outputs": [
    {
     "data": {
      "application/javascript": [
       "parent.postMessage({\"jupyterEvent\": \"custom.exercise_interaction\", \"data\": {\"outcomeType\": 1, \"valueTowardsCompletion\": 0.2, \"interactionType\": 1, \"questionType\": 2, \"questionId\": \"5.2_PlainDog\", \"learnToolsVersion\": \"0.3.4\", \"failureMessage\": \"\", \"exceptionClass\": \"\", \"trace\": \"\"}}, \"*\")"
      ],
      "text/plain": [
       "<IPython.core.display.Javascript object>"
      ]
     },
     "metadata": {},
     "output_type": "display_data"
    },
    {
     "data": {
      "text/markdown": [
       "<span style=\"color:#33cc33\">Correct:</span> \n",
       "\n",
       "One solution looks like:\n",
       "```python\n",
       "return not ketchup and not mustard and not onion\n",
       "```\n",
       "\n",
       "We can also [\"factor out\" the nots](https://en.wikipedia.org/wiki/De_Morgan%27s_laws) to get:\n",
       "\n",
       "```python\n",
       "return not (ketchup or mustard or onion)\n",
       "```"
      ],
      "text/plain": [
       "Correct: \n",
       "\n",
       "One solution looks like:\n",
       "```python\n",
       "return not ketchup and not mustard and not onion\n",
       "```\n",
       "\n",
       "We can also [\"factor out\" the nots](https://en.wikipedia.org/wiki/De_Morgan%27s_laws) to get:\n",
       "\n",
       "```python\n",
       "return not (ketchup or mustard or onion)\n",
       "```"
      ]
     },
     "metadata": {},
     "output_type": "display_data"
    }
   ],
   "source": [
    "def wants_plain_hotdog(ketchup, mustard, onion):\n",
    "    \"\"\"Return whether the customer wants a plain hot dog with no toppings.\n",
    "    \"\"\"\n",
    "    return not (ketchup or mustard or onion)\n",
    "    pass\n",
    "\n",
    "# Check your answer\n",
    "q5.b.check()"
   ]
  },
  {
   "cell_type": "code",
   "execution_count": 16,
   "id": "a836bd3f",
   "metadata": {
    "execution": {
     "iopub.execute_input": "2024-11-06T20:59:36.332032Z",
     "iopub.status.busy": "2024-11-06T20:59:36.331628Z",
     "iopub.status.idle": "2024-11-06T20:59:36.336168Z",
     "shell.execute_reply": "2024-11-06T20:59:36.335037Z"
    },
    "papermill": {
     "duration": 0.019314,
     "end_time": "2024-11-06T20:59:36.338642",
     "exception": false,
     "start_time": "2024-11-06T20:59:36.319328",
     "status": "completed"
    },
    "tags": []
   },
   "outputs": [],
   "source": [
    "#q5.b.hint()\n",
    "#q5.b.solution()"
   ]
  },
  {
   "cell_type": "markdown",
   "id": "824a4f3d",
   "metadata": {
    "papermill": {
     "duration": 0.010744,
     "end_time": "2024-11-06T20:59:36.360477",
     "exception": false,
     "start_time": "2024-11-06T20:59:36.349733",
     "status": "completed"
    },
    "tags": []
   },
   "source": [
    "# 5c.\n",
    "\n",
    "You know what to do: for the next function, fill in the body to match the English description in the docstring."
   ]
  },
  {
   "cell_type": "code",
   "execution_count": 17,
   "id": "1a8bbf41",
   "metadata": {
    "execution": {
     "iopub.execute_input": "2024-11-06T20:59:36.384412Z",
     "iopub.status.busy": "2024-11-06T20:59:36.383918Z",
     "iopub.status.idle": "2024-11-06T20:59:36.393890Z",
     "shell.execute_reply": "2024-11-06T20:59:36.392885Z"
    },
    "papermill": {
     "duration": 0.024368,
     "end_time": "2024-11-06T20:59:36.395947",
     "exception": false,
     "start_time": "2024-11-06T20:59:36.371579",
     "status": "completed"
    },
    "tags": []
   },
   "outputs": [
    {
     "data": {
      "application/javascript": [
       "parent.postMessage({\"jupyterEvent\": \"custom.exercise_interaction\", \"data\": {\"outcomeType\": 1, \"valueTowardsCompletion\": 0.2, \"interactionType\": 1, \"questionType\": 2, \"questionId\": \"5.3_OneSauce\", \"learnToolsVersion\": \"0.3.4\", \"failureMessage\": \"\", \"exceptionClass\": \"\", \"trace\": \"\"}}, \"*\")"
      ],
      "text/plain": [
       "<IPython.core.display.Javascript object>"
      ]
     },
     "metadata": {},
     "output_type": "display_data"
    },
    {
     "data": {
      "text/markdown": [
       "<span style=\"color:#33cc33\">Correct</span>"
      ],
      "text/plain": [
       "Correct"
      ]
     },
     "metadata": {},
     "output_type": "display_data"
    }
   ],
   "source": [
    "def exactly_one_sauce(ketchup, mustard, onion):\n",
    "    \"\"\"Return whether the customer wants either ketchup or mustard, but not both.\n",
    "    (You may be familiar with this operation under the name \"exclusive or\")\n",
    "    \"\"\"\n",
    "    return (ketchup != mustard) and onion   \n",
    "    pass\n",
    "\n",
    "# Check your answer\n",
    "q5.c.check()"
   ]
  },
  {
   "cell_type": "code",
   "execution_count": 18,
   "id": "1bbe43af",
   "metadata": {
    "execution": {
     "iopub.execute_input": "2024-11-06T20:59:36.420762Z",
     "iopub.status.busy": "2024-11-06T20:59:36.420376Z",
     "iopub.status.idle": "2024-11-06T20:59:36.424757Z",
     "shell.execute_reply": "2024-11-06T20:59:36.423734Z"
    },
    "papermill": {
     "duration": 0.019238,
     "end_time": "2024-11-06T20:59:36.426946",
     "exception": false,
     "start_time": "2024-11-06T20:59:36.407708",
     "status": "completed"
    },
    "tags": []
   },
   "outputs": [],
   "source": [
    "#q5.c.hint()\n",
    "#q5.c.solution()"
   ]
  },
  {
   "cell_type": "markdown",
   "id": "c0f053a5",
   "metadata": {
    "papermill": {
     "duration": 0.010954,
     "end_time": "2024-11-06T20:59:36.449242",
     "exception": false,
     "start_time": "2024-11-06T20:59:36.438288",
     "status": "completed"
    },
    "tags": []
   },
   "source": [
    "# 6. <span title=\"A bit spicy\" style=\"color: darkgreen \">🌶️</span>\n",
    "\n",
    "We’ve seen that calling `bool()` on an integer returns `False` if it’s equal to 0 and `True` otherwise. What happens if we call `int()` on a bool? Try it out in the notebook cell below.\n",
    "\n",
    "Can you take advantage of this to write a succinct function that corresponds to the English sentence \"does the customer want exactly one topping?\"?"
   ]
  },
  {
   "cell_type": "code",
   "execution_count": 19,
   "id": "0141d05e",
   "metadata": {
    "execution": {
     "iopub.execute_input": "2024-11-06T20:59:36.473945Z",
     "iopub.status.busy": "2024-11-06T20:59:36.473025Z",
     "iopub.status.idle": "2024-11-06T20:59:36.481803Z",
     "shell.execute_reply": "2024-11-06T20:59:36.480860Z"
    },
    "papermill": {
     "duration": 0.023435,
     "end_time": "2024-11-06T20:59:36.483959",
     "exception": false,
     "start_time": "2024-11-06T20:59:36.460524",
     "status": "completed"
    },
    "tags": []
   },
   "outputs": [
    {
     "data": {
      "application/javascript": [
       "parent.postMessage({\"jupyterEvent\": \"custom.exercise_interaction\", \"data\": {\"outcomeType\": 1, \"valueTowardsCompletion\": 0.2, \"interactionType\": 1, \"questionType\": 2, \"questionId\": \"6_OneTopping\", \"learnToolsVersion\": \"0.3.4\", \"failureMessage\": \"\", \"exceptionClass\": \"\", \"trace\": \"\"}}, \"*\")"
      ],
      "text/plain": [
       "<IPython.core.display.Javascript object>"
      ]
     },
     "metadata": {},
     "output_type": "display_data"
    },
    {
     "data": {
      "text/markdown": [
       "<span style=\"color:#33cc33\">Correct:</span> \n",
       "\n",
       "This condition would be pretty complicated to express using just `and`, `or` and `not`, but using boolean-to-integer conversion gives us this short solution:\n",
       "```python\n",
       "return (int(ketchup) + int(mustard) + int(onion)) == 1\n",
       "```\n",
       "\n",
       "Fun fact: we don't technically need to call `int` on the arguments. Just by doing addition with booleans, Python implicitly does the integer conversion. So we could also write...\n",
       "\n",
       "```python\n",
       "return (ketchup + mustard + onion) == 1\n",
       "```"
      ],
      "text/plain": [
       "Correct: \n",
       "\n",
       "This condition would be pretty complicated to express using just `and`, `or` and `not`, but using boolean-to-integer conversion gives us this short solution:\n",
       "```python\n",
       "return (int(ketchup) + int(mustard) + int(onion)) == 1\n",
       "```\n",
       "\n",
       "Fun fact: we don't technically need to call `int` on the arguments. Just by doing addition with booleans, Python implicitly does the integer conversion. So we could also write...\n",
       "\n",
       "```python\n",
       "return (ketchup + mustard + onion) == 1\n",
       "```"
      ]
     },
     "metadata": {},
     "output_type": "display_data"
    }
   ],
   "source": [
    "def exactly_one_topping(ketchup, mustard, onion):\n",
    "    \"\"\"Return whether the customer wants exactly one of the three available toppings\n",
    "    on their hot dog.\n",
    "    \"\"\"\n",
    "    pass\n",
    "    return (ketchup + mustard + onion) == 1\n",
    "\n",
    "# Check your answer\n",
    "q6.check()"
   ]
  },
  {
   "cell_type": "code",
   "execution_count": 20,
   "id": "efd61888",
   "metadata": {
    "execution": {
     "iopub.execute_input": "2024-11-06T20:59:36.509527Z",
     "iopub.status.busy": "2024-11-06T20:59:36.508643Z",
     "iopub.status.idle": "2024-11-06T20:59:36.512979Z",
     "shell.execute_reply": "2024-11-06T20:59:36.512004Z"
    },
    "papermill": {
     "duration": 0.019137,
     "end_time": "2024-11-06T20:59:36.515059",
     "exception": false,
     "start_time": "2024-11-06T20:59:36.495922",
     "status": "completed"
    },
    "tags": []
   },
   "outputs": [],
   "source": [
    "#q6.hint()\n",
    "#q6.solution()"
   ]
  },
  {
   "cell_type": "markdown",
   "id": "af80d983",
   "metadata": {
    "papermill": {
     "duration": 0.01135,
     "end_time": "2024-11-06T20:59:36.538108",
     "exception": false,
     "start_time": "2024-11-06T20:59:36.526758",
     "status": "completed"
    },
    "tags": []
   },
   "source": [
    "# 7. <span title=\"A bit spicy\" style=\"color: darkgreen \">🌶️</span> (Optional)\n",
    "\n",
    "In this problem we'll be working with a simplified version of [blackjack](https://en.wikipedia.org/wiki/Blackjack) (aka twenty-one). In this version there is one player (who you'll control) and a dealer. Play proceeds as follows:\n",
    "\n",
    "- The player is dealt two face-up cards. The dealer is dealt one face-up card.\n",
    "- The player may ask to be dealt another card ('hit') as many times as they wish. If the sum of their cards exceeds 21, they lose the round immediately.\n",
    "- The dealer then deals additional cards to himself until either:\n",
    "    - the sum of the dealer's cards exceeds 21, in which case the player wins the round\n",
    "    - the sum of the dealer's cards is greater than or equal to 17. If the player's total is greater than the dealer's, the player wins. Otherwise, the dealer wins (even in case of a tie).\n",
    "    \n",
    "When calculating the sum of cards, Jack, Queen, and King count for 10. Aces can count as 1 or 11 (when referring to a player's \"total\" above, we mean the largest total that can be made without exceeding 21. So e.g. A+8 = 19, A+8+8 = 17)\n",
    "\n",
    "For this problem, you'll write a function representing the player's decision-making strategy in this game. We've provided a very unintelligent implementation below:"
   ]
  },
  {
   "cell_type": "code",
   "execution_count": 21,
   "id": "33ca8014",
   "metadata": {
    "execution": {
     "iopub.execute_input": "2024-11-06T20:59:36.563276Z",
     "iopub.status.busy": "2024-11-06T20:59:36.562393Z",
     "iopub.status.idle": "2024-11-06T20:59:36.568210Z",
     "shell.execute_reply": "2024-11-06T20:59:36.567248Z"
    },
    "papermill": {
     "duration": 0.020627,
     "end_time": "2024-11-06T20:59:36.570388",
     "exception": false,
     "start_time": "2024-11-06T20:59:36.549761",
     "status": "completed"
    },
    "tags": []
   },
   "outputs": [],
   "source": [
    "def should_hit(dealer_total, player_total, player_low_aces, player_high_aces):\n",
    "    \"\"\"Return True if the player should hit (request another card) given the current game\n",
    "    state, or False if the player should stay.\n",
    "    When calculating a hand's total value, we count aces as \"high\" (with value 11) if doing so\n",
    "    doesn't bring the total above 21, otherwise we count them as low (with value 1). \n",
    "    For example, if the player's hand is {A, A, A, 7}, we will count it as 11 + 1 + 1 + 7,\n",
    "    and therefore set player_total=20, player_low_aces=2, player_high_aces=1.\n",
    "    \"\"\"\n",
    "     # Hit if player total is below 17\n",
    "    if player_total < 17:\n",
    "        return True\n",
    "    # If the dealer has a strong total (17 or more) and the player isn't close to 21, hit\n",
    "    elif dealer_total >= 17 and player_total < 21:\n",
    "        return True\n",
    "    else:\n",
    "        return False\n",
    "    return False"
   ]
  },
  {
   "cell_type": "markdown",
   "id": "4aac2c3b",
   "metadata": {
    "papermill": {
     "duration": 0.011325,
     "end_time": "2024-11-06T20:59:36.593426",
     "exception": false,
     "start_time": "2024-11-06T20:59:36.582101",
     "status": "completed"
    },
    "tags": []
   },
   "source": [
    "This very conservative agent *always* sticks with the hand of two cards that they're dealt.\n",
    "\n",
    "We'll be simulating games between your player agent and our own dealer agent by calling your function.\n",
    "\n",
    "Try running the function below to see an example of a simulated game:"
   ]
  },
  {
   "cell_type": "code",
   "execution_count": 22,
   "id": "447d1413",
   "metadata": {
    "execution": {
     "iopub.execute_input": "2024-11-06T20:59:36.618131Z",
     "iopub.status.busy": "2024-11-06T20:59:36.617720Z",
     "iopub.status.idle": "2024-11-06T20:59:36.623165Z",
     "shell.execute_reply": "2024-11-06T20:59:36.622170Z"
    },
    "papermill": {
     "duration": 0.0204,
     "end_time": "2024-11-06T20:59:36.625380",
     "exception": false,
     "start_time": "2024-11-06T20:59:36.604980",
     "status": "completed"
    },
    "tags": []
   },
   "outputs": [
    {
     "name": "stdout",
     "output_type": "stream",
     "text": [
      "Player starts with 9 and 10 (total = 19)\n",
      "Dealer starts with K\n",
      "\n",
      "__Player's turn__\n",
      "Player stays\n",
      "\n",
      "__Dealer's turn__\n",
      "Dealer hits and receives K. (total = 20)\n",
      "Dealer stands.\n",
      "Dealer wins. 20 >= 19\n"
     ]
    }
   ],
   "source": [
    "q7.simulate_one_game()"
   ]
  },
  {
   "cell_type": "markdown",
   "id": "01e251b3",
   "metadata": {
    "papermill": {
     "duration": 0.012209,
     "end_time": "2024-11-06T20:59:36.649359",
     "exception": false,
     "start_time": "2024-11-06T20:59:36.637150",
     "status": "completed"
    },
    "tags": []
   },
   "source": [
    "The real test of your agent's mettle is their average win rate over many games. Try calling the function below to simulate 50000 games of blackjack (it may take a couple seconds):"
   ]
  },
  {
   "cell_type": "code",
   "execution_count": 23,
   "id": "cee8e9a8",
   "metadata": {
    "execution": {
     "iopub.execute_input": "2024-11-06T20:59:36.674917Z",
     "iopub.status.busy": "2024-11-06T20:59:36.674004Z",
     "iopub.status.idle": "2024-11-06T20:59:38.194103Z",
     "shell.execute_reply": "2024-11-06T20:59:38.193062Z"
    },
    "papermill": {
     "duration": 1.535304,
     "end_time": "2024-11-06T20:59:38.196505",
     "exception": false,
     "start_time": "2024-11-06T20:59:36.661201",
     "status": "completed"
    },
    "tags": []
   },
   "outputs": [
    {
     "name": "stdout",
     "output_type": "stream",
     "text": [
      "Player won 20431 out of 50000 games (win rate = 40.9%)\n"
     ]
    }
   ],
   "source": [
    "q7.simulate(n_games=50000)"
   ]
  },
  {
   "cell_type": "markdown",
   "id": "cc406660",
   "metadata": {
    "papermill": {
     "duration": 0.011646,
     "end_time": "2024-11-06T20:59:38.220363",
     "exception": false,
     "start_time": "2024-11-06T20:59:38.208717",
     "status": "completed"
    },
    "tags": []
   },
   "source": [
    "Our dumb agent that completely ignores the game state still manages to win shockingly often!\n",
    "\n",
    "Try adding some more smarts to the `should_hit` function and see how it affects the results."
   ]
  },
  {
   "cell_type": "code",
   "execution_count": 24,
   "id": "ea23bd0b",
   "metadata": {
    "execution": {
     "iopub.execute_input": "2024-11-06T20:59:38.246028Z",
     "iopub.status.busy": "2024-11-06T20:59:38.245131Z",
     "iopub.status.idle": "2024-11-06T20:59:39.609495Z",
     "shell.execute_reply": "2024-11-06T20:59:39.608301Z"
    },
    "papermill": {
     "duration": 1.379827,
     "end_time": "2024-11-06T20:59:39.612084",
     "exception": false,
     "start_time": "2024-11-06T20:59:38.232257",
     "status": "completed"
    },
    "tags": []
   },
   "outputs": [
    {
     "name": "stdout",
     "output_type": "stream",
     "text": [
      "Player won 19049 out of 50000 games (win rate = 38.1%)\n"
     ]
    }
   ],
   "source": [
    "def should_hit(dealer_total, player_total, player_low_aces, player_high_aces):\n",
    "    \"\"\"Return True if the player should hit (request another card) given the current game\n",
    "    state, or False if the player should stay.\n",
    "    When calculating a hand's total value, we count aces as \"high\" (with value 11) if doing so\n",
    "    doesn't bring the total above 21, otherwise we count them as low (with value 1). \n",
    "    For example, if the player's hand is {A, A, A, 7}, we will count it as 11 + 1 + 1 + 7,\n",
    "    and therefore set player_total=20, player_low_aces=2, player_high_aces=1.\n",
    "    \"\"\"\n",
    "    return False\n",
    "\n",
    "q7.simulate(n_games=50000)"
   ]
  },
  {
   "cell_type": "markdown",
   "id": "eb345623",
   "metadata": {
    "papermill": {
     "duration": 0.011578,
     "end_time": "2024-11-06T20:59:39.635968",
     "exception": false,
     "start_time": "2024-11-06T20:59:39.624390",
     "status": "completed"
    },
    "tags": []
   },
   "source": [
    "# Keep Going\n",
    "\n",
    "Learn about **[lists and tuples](https://www.kaggle.com/colinmorris/lists)** to handle multiple items of data in a systematic way."
   ]
  },
  {
   "cell_type": "markdown",
   "id": "4bd57d96",
   "metadata": {
    "papermill": {
     "duration": 0.011528,
     "end_time": "2024-11-06T20:59:39.659315",
     "exception": false,
     "start_time": "2024-11-06T20:59:39.647787",
     "status": "completed"
    },
    "tags": []
   },
   "source": [
    "---\n",
    "\n",
    "\n",
    "\n",
    "\n",
    "*Have questions or comments? Visit the [course discussion forum](https://www.kaggle.com/learn/python/discussion) to chat with other learners.*"
   ]
  }
 ],
 "metadata": {
  "kaggle": {
   "accelerator": "none",
   "dataSources": [],
   "isGpuEnabled": false,
   "isInternetEnabled": false,
   "language": "python",
   "sourceType": "notebook"
  },
  "kernelspec": {
   "display_name": "Python 3",
   "language": "python",
   "name": "python3"
  },
  "language_info": {
   "codemirror_mode": {
    "name": "ipython",
    "version": 3
   },
   "file_extension": ".py",
   "mimetype": "text/x-python",
   "name": "python",
   "nbconvert_exporter": "python",
   "pygments_lexer": "ipython3",
   "version": "3.10.14"
  },
  "learntools_metadata": {
   "lesson_index": 2,
   "type": "exercise"
  },
  "papermill": {
   "default_parameters": {},
   "duration": 8.322693,
   "end_time": "2024-11-06T20:59:40.191990",
   "environment_variables": {},
   "exception": null,
   "input_path": "__notebook__.ipynb",
   "output_path": "__notebook__.ipynb",
   "parameters": {},
   "start_time": "2024-11-06T20:59:31.869297",
   "version": "2.6.0"
  }
 },
 "nbformat": 4,
 "nbformat_minor": 5
}

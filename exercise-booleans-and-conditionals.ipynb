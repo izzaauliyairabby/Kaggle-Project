{
 "cells": [
  {
   "cell_type": "markdown",
   "id": "5dab07dc",
   "metadata": {
    "papermill": {
     "duration": 0.008815,
     "end_time": "2024-11-07T08:14:05.911585",
     "exception": false,
     "start_time": "2024-11-07T08:14:05.902770",
     "status": "completed"
    },
    "tags": []
   },
   "source": [
    "**This notebook is an exercise in the [Python](https://www.kaggle.com/learn/python) course.  You can reference the tutorial at [this link](https://www.kaggle.com/colinmorris/booleans-and-conditionals).**\n",
    "\n",
    "---\n"
   ]
  },
  {
   "cell_type": "markdown",
   "id": "6fb35ac9",
   "metadata": {
    "papermill": {
     "duration": 0.008287,
     "end_time": "2024-11-07T08:14:05.928101",
     "exception": false,
     "start_time": "2024-11-07T08:14:05.919814",
     "status": "completed"
    },
    "tags": []
   },
   "source": [
    "In this exercise, you'll put to work what you have learned about booleans and conditionals.\n",
    "\n",
    "To get started, **run the setup code below** before writing your own code (and if you leave this notebook and come back later, don't forget to run the setup code again)."
   ]
  },
  {
   "cell_type": "code",
   "execution_count": 1,
   "id": "96b4db77",
   "metadata": {
    "execution": {
     "iopub.execute_input": "2024-11-07T08:14:05.947381Z",
     "iopub.status.busy": "2024-11-07T08:14:05.946742Z",
     "iopub.status.idle": "2024-11-07T08:14:06.816032Z",
     "shell.execute_reply": "2024-11-07T08:14:06.814761Z"
    },
    "papermill": {
     "duration": 0.881877,
     "end_time": "2024-11-07T08:14:06.818577",
     "exception": false,
     "start_time": "2024-11-07T08:14:05.936700",
     "status": "completed"
    },
    "tags": []
   },
   "outputs": [
    {
     "name": "stdout",
     "output_type": "stream",
     "text": [
      "Setup complete.\n"
     ]
    }
   ],
   "source": [
    "from learntools.core import binder; binder.bind(globals())\n",
    "from learntools.python.ex3 import *\n",
    "print('Setup complete.')"
   ]
  },
  {
   "cell_type": "markdown",
   "id": "4a32226b",
   "metadata": {
    "papermill": {
     "duration": 0.008771,
     "end_time": "2024-11-07T08:14:06.836658",
     "exception": false,
     "start_time": "2024-11-07T08:14:06.827887",
     "status": "completed"
    },
    "tags": []
   },
   "source": [
    "# 1.\n",
    "\n",
    "Many programming languages have [`sign`](https://en.wikipedia.org/wiki/Sign_function) available as a built-in function. Python doesn't, but we can define our own!\n",
    "\n",
    "In the cell below, define a function called `sign` which takes a numerical argument and returns -1 if it's negative, 1 if it's positive, and 0 if it's 0."
   ]
  },
  {
   "cell_type": "code",
   "execution_count": 2,
   "id": "e682fe34",
   "metadata": {
    "execution": {
     "iopub.execute_input": "2024-11-07T08:14:06.854955Z",
     "iopub.status.busy": "2024-11-07T08:14:06.854459Z",
     "iopub.status.idle": "2024-11-07T08:14:06.866141Z",
     "shell.execute_reply": "2024-11-07T08:14:06.865026Z"
    },
    "papermill": {
     "duration": 0.023601,
     "end_time": "2024-11-07T08:14:06.868640",
     "exception": false,
     "start_time": "2024-11-07T08:14:06.845039",
     "status": "completed"
    },
    "tags": []
   },
   "outputs": [
    {
     "data": {
      "application/javascript": [
       "parent.postMessage({\"jupyterEvent\": \"custom.exercise_interaction\", \"data\": {\"outcomeType\": 1, \"valueTowardsCompletion\": 0.2, \"interactionType\": 1, \"questionType\": 2, \"questionId\": \"1_SignFunctionProblem\", \"learnToolsVersion\": \"0.3.4\", \"failureMessage\": \"\", \"exceptionClass\": \"\", \"trace\": \"\"}}, \"*\")"
      ],
      "text/plain": [
       "<IPython.core.display.Javascript object>"
      ]
     },
     "metadata": {},
     "output_type": "display_data"
    },
    {
     "data": {
      "text/markdown": [
       "<span style=\"color:#33cc33\">Correct</span>"
      ],
      "text/plain": [
       "Correct"
      ]
     },
     "metadata": {},
     "output_type": "display_data"
    }
   ],
   "source": [
    "# Your code goes here. Define a function called 'sign'\n",
    "def sign(x):\n",
    "    \"\"\"Return -1 if x is negative, 1 if x is positive, and 0 if x is 0.\"\"\"\n",
    "    if x > 0:\n",
    "        return 1\n",
    "    elif x < 0:\n",
    "        return -1\n",
    "    else:\n",
    "        return 0\n",
    "\n",
    "    \n",
    "\n",
    "# Check your answer\n",
    "q1.check()"
   ]
  },
  {
   "cell_type": "code",
   "execution_count": 3,
   "id": "6f307d98",
   "metadata": {
    "execution": {
     "iopub.execute_input": "2024-11-07T08:14:06.889164Z",
     "iopub.status.busy": "2024-11-07T08:14:06.888120Z",
     "iopub.status.idle": "2024-11-07T08:14:06.893007Z",
     "shell.execute_reply": "2024-11-07T08:14:06.892025Z"
    },
    "papermill": {
     "duration": 0.017121,
     "end_time": "2024-11-07T08:14:06.895500",
     "exception": false,
     "start_time": "2024-11-07T08:14:06.878379",
     "status": "completed"
    },
    "tags": []
   },
   "outputs": [],
   "source": [
    "#q1.solution()"
   ]
  },
  {
   "cell_type": "markdown",
   "id": "d373b726",
   "metadata": {
    "papermill": {
     "duration": 0.008428,
     "end_time": "2024-11-07T08:14:06.912554",
     "exception": false,
     "start_time": "2024-11-07T08:14:06.904126",
     "status": "completed"
    },
    "tags": []
   },
   "source": [
    "# 2.\n",
    "\n",
    "We've decided to add \"logging\" to our `to_smash` function from the previous exercise."
   ]
  },
  {
   "cell_type": "code",
   "execution_count": 4,
   "id": "a5c65451",
   "metadata": {
    "execution": {
     "iopub.execute_input": "2024-11-07T08:14:06.934047Z",
     "iopub.status.busy": "2024-11-07T08:14:06.932992Z",
     "iopub.status.idle": "2024-11-07T08:14:06.941932Z",
     "shell.execute_reply": "2024-11-07T08:14:06.940168Z"
    },
    "papermill": {
     "duration": 0.022118,
     "end_time": "2024-11-07T08:14:06.944286",
     "exception": false,
     "start_time": "2024-11-07T08:14:06.922168",
     "status": "completed"
    },
    "tags": []
   },
   "outputs": [
    {
     "name": "stdout",
     "output_type": "stream",
     "text": [
      "Splitting 91 candies\n"
     ]
    },
    {
     "data": {
      "text/plain": [
       "1"
      ]
     },
     "execution_count": 4,
     "metadata": {},
     "output_type": "execute_result"
    }
   ],
   "source": [
    "def to_smash(total_candies):\n",
    "    \"\"\"Return the number of leftover candies that must be smashed after distributing\n",
    "    the given number of candies evenly between 3 friends.\n",
    "    \n",
    "    >>> to_smash(91)\n",
    "    1\n",
    "    \"\"\"\n",
    "    print(\"Splitting\", total_candies, \"candies\")\n",
    "    return total_candies % 3\n",
    "\n",
    "to_smash(91)"
   ]
  },
  {
   "cell_type": "markdown",
   "id": "c971431e",
   "metadata": {
    "papermill": {
     "duration": 0.01024,
     "end_time": "2024-11-07T08:14:06.963326",
     "exception": false,
     "start_time": "2024-11-07T08:14:06.953086",
     "status": "completed"
    },
    "tags": []
   },
   "source": [
    "What happens if we call it with `total_candies = 1`?"
   ]
  },
  {
   "cell_type": "code",
   "execution_count": 5,
   "id": "3e12e615",
   "metadata": {
    "execution": {
     "iopub.execute_input": "2024-11-07T08:14:06.983156Z",
     "iopub.status.busy": "2024-11-07T08:14:06.982767Z",
     "iopub.status.idle": "2024-11-07T08:14:06.990497Z",
     "shell.execute_reply": "2024-11-07T08:14:06.989017Z"
    },
    "papermill": {
     "duration": 0.020994,
     "end_time": "2024-11-07T08:14:06.993360",
     "exception": false,
     "start_time": "2024-11-07T08:14:06.972366",
     "status": "completed"
    },
    "tags": []
   },
   "outputs": [
    {
     "name": "stdout",
     "output_type": "stream",
     "text": [
      "Splitting 1 candies\n"
     ]
    },
    {
     "data": {
      "text/plain": [
       "1"
      ]
     },
     "execution_count": 5,
     "metadata": {},
     "output_type": "execute_result"
    }
   ],
   "source": [
    "to_smash(1)"
   ]
  },
  {
   "cell_type": "markdown",
   "id": "70308a16",
   "metadata": {
    "papermill": {
     "duration": 0.009843,
     "end_time": "2024-11-07T08:14:07.012180",
     "exception": false,
     "start_time": "2024-11-07T08:14:07.002337",
     "status": "completed"
    },
    "tags": []
   },
   "source": [
    "That isn't great grammar!\n",
    "\n",
    "Modify the definition in the cell below to correct the grammar of our print statement. (If there's only one candy, we should use the singular \"candy\" instead of the plural \"candies\")"
   ]
  },
  {
   "cell_type": "code",
   "execution_count": 6,
   "id": "b690e6bd",
   "metadata": {
    "execution": {
     "iopub.execute_input": "2024-11-07T08:14:07.033200Z",
     "iopub.status.busy": "2024-11-07T08:14:07.032806Z",
     "iopub.status.idle": "2024-11-07T08:14:07.041493Z",
     "shell.execute_reply": "2024-11-07T08:14:07.040221Z"
    },
    "papermill": {
     "duration": 0.02199,
     "end_time": "2024-11-07T08:14:07.043465",
     "exception": false,
     "start_time": "2024-11-07T08:14:07.021475",
     "status": "completed"
    },
    "tags": []
   },
   "outputs": [
    {
     "name": "stdout",
     "output_type": "stream",
     "text": [
      "Splitting 91 candies\n",
      "Splitting 1 candies\n"
     ]
    },
    {
     "data": {
      "text/plain": [
       "1"
      ]
     },
     "execution_count": 6,
     "metadata": {},
     "output_type": "execute_result"
    }
   ],
   "source": [
    "def to_smash(total_candies):\n",
    "    \"\"\"Return the number of leftover candies that must be smashed after distributing\n",
    "    the given number of candies evenly between 3 friends.\n",
    "    \n",
    "    >>> to_smash(91)\n",
    "    1\n",
    "    \"\"\"\n",
    "    print(\"Splitting\", total_candies, \"candies\")\n",
    "    return total_candies % 3\n",
    "\n",
    "to_smash(91)\n",
    "to_smash(1)"
   ]
  },
  {
   "cell_type": "markdown",
   "id": "c1a8f6ed",
   "metadata": {
    "papermill": {
     "duration": 0.008612,
     "end_time": "2024-11-07T08:14:07.061154",
     "exception": false,
     "start_time": "2024-11-07T08:14:07.052542",
     "status": "completed"
    },
    "tags": []
   },
   "source": [
    "To get credit for completing this problem, and to see the official answer, run the code cell below."
   ]
  },
  {
   "cell_type": "code",
   "execution_count": 7,
   "id": "12abd553",
   "metadata": {
    "execution": {
     "iopub.execute_input": "2024-11-07T08:14:07.082879Z",
     "iopub.status.busy": "2024-11-07T08:14:07.082428Z",
     "iopub.status.idle": "2024-11-07T08:14:07.091569Z",
     "shell.execute_reply": "2024-11-07T08:14:07.090285Z"
    },
    "papermill": {
     "duration": 0.024487,
     "end_time": "2024-11-07T08:14:07.094605",
     "exception": false,
     "start_time": "2024-11-07T08:14:07.070118",
     "status": "completed"
    },
    "tags": []
   },
   "outputs": [
    {
     "data": {
      "application/javascript": [
       "parent.postMessage({\"jupyterEvent\": \"custom.exercise_interaction\", \"data\": {\"interactionType\": 3, \"questionType\": 4, \"questionId\": \"2_PluralizationProblem\", \"learnToolsVersion\": \"0.3.4\", \"valueTowardsCompletion\": 0.0, \"failureMessage\": \"\", \"exceptionClass\": \"\", \"trace\": \"\", \"outcomeType\": 4}}, \"*\")"
      ],
      "text/plain": [
       "<IPython.core.display.Javascript object>"
      ]
     },
     "metadata": {},
     "output_type": "display_data"
    },
    {
     "data": {
      "text/markdown": [
       "<span style=\"color:#33cc99\">Solution:</span> A straightforward (and totally fine) solution is to replace the original `print` call with:\n",
       "\n",
       "```python\n",
       "if total_candies == 1:\n",
       "    print(\"Splitting 1 candy\")\n",
       "else:\n",
       "    print(\"Splitting\", total_candies, \"candies\")\n",
       "```\n",
       "\n",
       "Here's a slightly more succinct solution using a conditional expression:\n",
       "\n",
       "```python\n",
       "print(\"Splitting\", total_candies, \"candy\" if total_candies == 1 else \"candies\")\n",
       "```"
      ],
      "text/plain": [
       "Solution: A straightforward (and totally fine) solution is to replace the original `print` call with:\n",
       "\n",
       "```python\n",
       "if total_candies == 1:\n",
       "    print(\"Splitting 1 candy\")\n",
       "else:\n",
       "    print(\"Splitting\", total_candies, \"candies\")\n",
       "```\n",
       "\n",
       "Here's a slightly more succinct solution using a conditional expression:\n",
       "\n",
       "```python\n",
       "print(\"Splitting\", total_candies, \"candy\" if total_candies == 1 else \"candies\")\n",
       "```"
      ]
     },
     "metadata": {},
     "output_type": "display_data"
    }
   ],
   "source": [
    "# Check your answer (Run this code cell to receive credit!)\n",
    "q2.solution()"
   ]
  },
  {
   "cell_type": "markdown",
   "id": "b90ccb04",
   "metadata": {
    "papermill": {
     "duration": 0.008934,
     "end_time": "2024-11-07T08:14:07.113337",
     "exception": false,
     "start_time": "2024-11-07T08:14:07.104403",
     "status": "completed"
    },
    "tags": []
   },
   "source": [
    "# 3. <span title=\"A bit spicy\" style=\"color: darkgreen \">🌶️</span>\n",
    "\n",
    "In the tutorial, we talked about deciding whether we're prepared for the weather. I said that I'm safe from today's weather if...\n",
    "- I have an umbrella...\n",
    "- or if the rain isn't too heavy and I have a hood...\n",
    "- otherwise, I'm still fine unless it's raining *and* it's a workday\n",
    "\n",
    "The function below uses our first attempt at turning this logic into a Python expression. I claimed that there was a bug in that code. Can you find it?\n",
    "\n",
    "To prove that `prepared_for_weather` is buggy, come up with a set of inputs where either:\n",
    "- the function returns `False` (but should have returned `True`), or\n",
    "- the function returned `True` (but should have returned `False`).\n",
    "\n",
    "To get credit for completing this question, your code should return a <font color='#33cc33'>Correct</font> result."
   ]
  },
  {
   "cell_type": "code",
   "execution_count": 8,
   "id": "ce2e182b",
   "metadata": {
    "execution": {
     "iopub.execute_input": "2024-11-07T08:14:07.133589Z",
     "iopub.status.busy": "2024-11-07T08:14:07.133213Z",
     "iopub.status.idle": "2024-11-07T08:14:07.144142Z",
     "shell.execute_reply": "2024-11-07T08:14:07.142793Z"
    },
    "papermill": {
     "duration": 0.023636,
     "end_time": "2024-11-07T08:14:07.146189",
     "exception": false,
     "start_time": "2024-11-07T08:14:07.122553",
     "status": "completed"
    },
    "tags": []
   },
   "outputs": [
    {
     "name": "stdout",
     "output_type": "stream",
     "text": [
      "False\n"
     ]
    },
    {
     "data": {
      "application/javascript": [
       "parent.postMessage({\"jupyterEvent\": \"custom.exercise_interaction\", \"data\": {\"outcomeType\": 1, \"valueTowardsCompletion\": 0.2, \"interactionType\": 1, \"questionType\": 1, \"questionId\": \"3_WeatherDebug\", \"learnToolsVersion\": \"0.3.4\", \"failureMessage\": \"\", \"exceptionClass\": \"\", \"trace\": \"\"}}, \"*\")"
      ],
      "text/plain": [
       "<IPython.core.display.Javascript object>"
      ]
     },
     "metadata": {},
     "output_type": "display_data"
    },
    {
     "data": {
      "text/markdown": [
       "<span style=\"color:#33cc33\">Correct:</span> \n",
       "\n",
       "One example of a failing test case is:\n",
       "\n",
       "```python\n",
       "have_umbrella = False\n",
       "rain_level = 0.0\n",
       "have_hood = False\n",
       "is_workday = False\n",
       "```\n",
       "\n",
       "Clearly we're prepared for the weather in this case. It's not raining. Not only that, it's not a workday, so we don't even need to leave the house! But our function will return False on these inputs.\n",
       "\n",
       "The key problem is that Python implictly parenthesizes the last part as:\n",
       "\n",
       "```python\n",
       "(not (rain_level > 0)) and is_workday\n",
       "```\n",
       "\n",
       "Whereas what we were trying to express would look more like:\n",
       "\n",
       "```python\n",
       "not (rain_level > 0 and is_workday)\n",
       "```\n"
      ],
      "text/plain": [
       "Correct: \n",
       "\n",
       "One example of a failing test case is:\n",
       "\n",
       "```python\n",
       "have_umbrella = False\n",
       "rain_level = 0.0\n",
       "have_hood = False\n",
       "is_workday = False\n",
       "```\n",
       "\n",
       "Clearly we're prepared for the weather in this case. It's not raining. Not only that, it's not a workday, so we don't even need to leave the house! But our function will return False on these inputs.\n",
       "\n",
       "The key problem is that Python implictly parenthesizes the last part as:\n",
       "\n",
       "```python\n",
       "(not (rain_level > 0)) and is_workday\n",
       "```\n",
       "\n",
       "Whereas what we were trying to express would look more like:\n",
       "\n",
       "```python\n",
       "not (rain_level > 0 and is_workday)\n",
       "```"
      ]
     },
     "metadata": {},
     "output_type": "display_data"
    }
   ],
   "source": [
    "def prepared_for_weather(have_umbrella, rain_level, have_hood, is_workday):\n",
    "    # Don't change this code. Our goal is just to find the bug, not fix it!\n",
    "    return have_umbrella or rain_level < 5 and have_hood or not rain_level > 0 and is_workday\n",
    "\n",
    "# Change the values of these inputs so they represent a case where prepared_for_weather\n",
    "# returns the wrong answer.\n",
    "have_umbrella = False\n",
    "rain_level = 0.0\n",
    "have_hood = False\n",
    "is_workday = False\n",
    "\n",
    "# Check what the function returns given the current values of the variables above\n",
    "actual = prepared_for_weather(have_umbrella, rain_level, have_hood, is_workday)\n",
    "print(actual)\n",
    "\n",
    "# Check your answer\n",
    "q3.check()"
   ]
  },
  {
   "cell_type": "code",
   "execution_count": 9,
   "id": "47449414",
   "metadata": {
    "execution": {
     "iopub.execute_input": "2024-11-07T08:14:07.168450Z",
     "iopub.status.busy": "2024-11-07T08:14:07.168093Z",
     "iopub.status.idle": "2024-11-07T08:14:07.172849Z",
     "shell.execute_reply": "2024-11-07T08:14:07.171670Z"
    },
    "papermill": {
     "duration": 0.018631,
     "end_time": "2024-11-07T08:14:07.175834",
     "exception": false,
     "start_time": "2024-11-07T08:14:07.157203",
     "status": "completed"
    },
    "tags": []
   },
   "outputs": [],
   "source": [
    "#q3.hint()\n",
    "#q3.solution()"
   ]
  },
  {
   "cell_type": "markdown",
   "id": "81a961ac",
   "metadata": {
    "papermill": {
     "duration": 0.009428,
     "end_time": "2024-11-07T08:14:07.195519",
     "exception": false,
     "start_time": "2024-11-07T08:14:07.186091",
     "status": "completed"
    },
    "tags": []
   },
   "source": [
    "# 4.\n",
    "\n",
    "The function `is_negative` below is implemented correctly - it returns True if the given number is negative and False otherwise.\n",
    "\n",
    "However, it's more verbose than it needs to be. We can actually reduce the number of lines of code in this function by *75%* while keeping the same behaviour. \n",
    "\n",
    "See if you can come up with an equivalent body that uses just **one line** of code, and put it in the function `concise_is_negative`. (HINT: you don't even need Python's ternary syntax)"
   ]
  },
  {
   "cell_type": "code",
   "execution_count": 10,
   "id": "7ff53b75",
   "metadata": {
    "execution": {
     "iopub.execute_input": "2024-11-07T08:14:07.216389Z",
     "iopub.status.busy": "2024-11-07T08:14:07.216034Z",
     "iopub.status.idle": "2024-11-07T08:14:07.225934Z",
     "shell.execute_reply": "2024-11-07T08:14:07.224637Z"
    },
    "papermill": {
     "duration": 0.02312,
     "end_time": "2024-11-07T08:14:07.228183",
     "exception": false,
     "start_time": "2024-11-07T08:14:07.205063",
     "status": "completed"
    },
    "tags": []
   },
   "outputs": [
    {
     "data": {
      "application/javascript": [
       "parent.postMessage({\"jupyterEvent\": \"custom.exercise_interaction\", \"data\": {\"outcomeType\": 1, \"valueTowardsCompletion\": 0.2, \"interactionType\": 1, \"questionType\": 2, \"questionId\": \"4_ConciseIsNegative\", \"learnToolsVersion\": \"0.3.4\", \"failureMessage\": \"\", \"exceptionClass\": \"\", \"trace\": \"\"}}, \"*\")"
      ],
      "text/plain": [
       "<IPython.core.display.Javascript object>"
      ]
     },
     "metadata": {},
     "output_type": "display_data"
    },
    {
     "data": {
      "text/markdown": [
       "<span style=\"color:#33cc33\">Correct</span>"
      ],
      "text/plain": [
       "Correct"
      ]
     },
     "metadata": {},
     "output_type": "display_data"
    }
   ],
   "source": [
    "def is_negative(number):\n",
    "    if number < 0:\n",
    "        return True\n",
    "    else:\n",
    "        return False\n",
    "\n",
    "def concise_is_negative(number):\n",
    "    pass \n",
    "    return number < 0 \n",
    "\n",
    "# Check your answer\n",
    "q4.check()"
   ]
  },
  {
   "cell_type": "code",
   "execution_count": 11,
   "id": "b8d62cbf",
   "metadata": {
    "execution": {
     "iopub.execute_input": "2024-11-07T08:14:07.249502Z",
     "iopub.status.busy": "2024-11-07T08:14:07.249143Z",
     "iopub.status.idle": "2024-11-07T08:14:07.258424Z",
     "shell.execute_reply": "2024-11-07T08:14:07.257399Z"
    },
    "papermill": {
     "duration": 0.022596,
     "end_time": "2024-11-07T08:14:07.260730",
     "exception": false,
     "start_time": "2024-11-07T08:14:07.238134",
     "status": "completed"
    },
    "tags": []
   },
   "outputs": [
    {
     "data": {
      "application/javascript": [
       "parent.postMessage({\"jupyterEvent\": \"custom.exercise_interaction\", \"data\": {\"interactionType\": 3, \"questionType\": 2, \"questionId\": \"4_ConciseIsNegative\", \"learnToolsVersion\": \"0.3.4\", \"valueTowardsCompletion\": 0.0, \"failureMessage\": \"\", \"exceptionClass\": \"\", \"trace\": \"\", \"outcomeType\": 4}}, \"*\")"
      ],
      "text/plain": [
       "<IPython.core.display.Javascript object>"
      ]
     },
     "metadata": {},
     "output_type": "display_data"
    },
    {
     "data": {
      "text/markdown": [
       "<span style=\"color:#33cc99\">Solution:</span> \n",
       "```python\n",
       "return number < 0\n",
       "```"
      ],
      "text/plain": [
       "Solution: \n",
       "```python\n",
       "return number < 0\n",
       "```"
      ]
     },
     "metadata": {},
     "output_type": "display_data"
    }
   ],
   "source": [
    "#q4.hint()\n",
    "q4.solution()"
   ]
  },
  {
   "cell_type": "markdown",
   "id": "8613f5c3",
   "metadata": {
    "papermill": {
     "duration": 0.009755,
     "end_time": "2024-11-07T08:14:07.280789",
     "exception": false,
     "start_time": "2024-11-07T08:14:07.271034",
     "status": "completed"
    },
    "tags": []
   },
   "source": [
    "# 5a.\n",
    "\n",
    "The boolean variables `ketchup`, `mustard` and `onion` represent whether a customer wants a particular topping on their hot dog. We want to implement a number of boolean functions that correspond to some yes-or-no questions about the customer's order. For example:"
   ]
  },
  {
   "cell_type": "code",
   "execution_count": 12,
   "id": "b04b993d",
   "metadata": {
    "execution": {
     "iopub.execute_input": "2024-11-07T08:14:07.302789Z",
     "iopub.status.busy": "2024-11-07T08:14:07.302434Z",
     "iopub.status.idle": "2024-11-07T08:14:07.307006Z",
     "shell.execute_reply": "2024-11-07T08:14:07.305991Z"
    },
    "papermill": {
     "duration": 0.01779,
     "end_time": "2024-11-07T08:14:07.308889",
     "exception": false,
     "start_time": "2024-11-07T08:14:07.291099",
     "status": "completed"
    },
    "tags": []
   },
   "outputs": [],
   "source": [
    "def onionless(ketchup, mustard, onion):\n",
    "    \"\"\"Return whether the customer doesn't want onions.\n",
    "    \"\"\"\n",
    "    return not onion"
   ]
  },
  {
   "cell_type": "code",
   "execution_count": 13,
   "id": "2af0d708",
   "metadata": {
    "execution": {
     "iopub.execute_input": "2024-11-07T08:14:07.330876Z",
     "iopub.status.busy": "2024-11-07T08:14:07.330531Z",
     "iopub.status.idle": "2024-11-07T08:14:07.339381Z",
     "shell.execute_reply": "2024-11-07T08:14:07.338259Z"
    },
    "papermill": {
     "duration": 0.022008,
     "end_time": "2024-11-07T08:14:07.341427",
     "exception": false,
     "start_time": "2024-11-07T08:14:07.319419",
     "status": "completed"
    },
    "tags": []
   },
   "outputs": [
    {
     "data": {
      "application/javascript": [
       "parent.postMessage({\"jupyterEvent\": \"custom.exercise_interaction\", \"data\": {\"outcomeType\": 1, \"valueTowardsCompletion\": 0.2, \"interactionType\": 1, \"questionType\": 2, \"questionId\": \"5.1_AllToppings\", \"learnToolsVersion\": \"0.3.4\", \"failureMessage\": \"\", \"exceptionClass\": \"\", \"trace\": \"\"}}, \"*\")"
      ],
      "text/plain": [
       "<IPython.core.display.Javascript object>"
      ]
     },
     "metadata": {},
     "output_type": "display_data"
    },
    {
     "data": {
      "text/markdown": [
       "<span style=\"color:#33cc33\">Correct</span>"
      ],
      "text/plain": [
       "Correct"
      ]
     },
     "metadata": {},
     "output_type": "display_data"
    }
   ],
   "source": [
    "def wants_all_toppings(ketchup, mustard, onion):\n",
    "    \"\"\"Return whether the customer wants \"the works\" (all 3 toppings)\"\"\"\n",
    "    return ketchup and mustard and onion\n",
    "\n",
    "    \n",
    "# Check your answer\n",
    "q5.a.check()"
   ]
  },
  {
   "cell_type": "code",
   "execution_count": 14,
   "id": "9fa7ba35",
   "metadata": {
    "execution": {
     "iopub.execute_input": "2024-11-07T08:14:07.365595Z",
     "iopub.status.busy": "2024-11-07T08:14:07.365232Z",
     "iopub.status.idle": "2024-11-07T08:14:07.369735Z",
     "shell.execute_reply": "2024-11-07T08:14:07.368745Z"
    },
    "papermill": {
     "duration": 0.019691,
     "end_time": "2024-11-07T08:14:07.372085",
     "exception": false,
     "start_time": "2024-11-07T08:14:07.352394",
     "status": "completed"
    },
    "tags": []
   },
   "outputs": [],
   "source": [
    "#q5.a.hint()\n",
    "#q5.a.solution()"
   ]
  },
  {
   "cell_type": "markdown",
   "id": "bd7635ea",
   "metadata": {
    "papermill": {
     "duration": 0.01028,
     "end_time": "2024-11-07T08:14:07.392962",
     "exception": false,
     "start_time": "2024-11-07T08:14:07.382682",
     "status": "completed"
    },
    "tags": []
   },
   "source": [
    "# 5b.\n",
    "\n",
    "For the next function, fill in the body to match the English description in the docstring. "
   ]
  },
  {
   "cell_type": "code",
   "execution_count": 15,
   "id": "7d9840d5",
   "metadata": {
    "execution": {
     "iopub.execute_input": "2024-11-07T08:14:07.416301Z",
     "iopub.status.busy": "2024-11-07T08:14:07.415666Z",
     "iopub.status.idle": "2024-11-07T08:14:07.425442Z",
     "shell.execute_reply": "2024-11-07T08:14:07.424409Z"
    },
    "papermill": {
     "duration": 0.024363,
     "end_time": "2024-11-07T08:14:07.427765",
     "exception": false,
     "start_time": "2024-11-07T08:14:07.403402",
     "status": "completed"
    },
    "tags": []
   },
   "outputs": [
    {
     "data": {
      "application/javascript": [
       "parent.postMessage({\"jupyterEvent\": \"custom.exercise_interaction\", \"data\": {\"outcomeType\": 1, \"valueTowardsCompletion\": 0.2, \"interactionType\": 1, \"questionType\": 2, \"questionId\": \"5.2_PlainDog\", \"learnToolsVersion\": \"0.3.4\", \"failureMessage\": \"\", \"exceptionClass\": \"\", \"trace\": \"\"}}, \"*\")"
      ],
      "text/plain": [
       "<IPython.core.display.Javascript object>"
      ]
     },
     "metadata": {},
     "output_type": "display_data"
    },
    {
     "data": {
      "text/markdown": [
       "<span style=\"color:#33cc33\">Correct:</span> \n",
       "\n",
       "One solution looks like:\n",
       "```python\n",
       "return not ketchup and not mustard and not onion\n",
       "```\n",
       "\n",
       "We can also [\"factor out\" the nots](https://en.wikipedia.org/wiki/De_Morgan%27s_laws) to get:\n",
       "\n",
       "```python\n",
       "return not (ketchup or mustard or onion)\n",
       "```"
      ],
      "text/plain": [
       "Correct: \n",
       "\n",
       "One solution looks like:\n",
       "```python\n",
       "return not ketchup and not mustard and not onion\n",
       "```\n",
       "\n",
       "We can also [\"factor out\" the nots](https://en.wikipedia.org/wiki/De_Morgan%27s_laws) to get:\n",
       "\n",
       "```python\n",
       "return not (ketchup or mustard or onion)\n",
       "```"
      ]
     },
     "metadata": {},
     "output_type": "display_data"
    }
   ],
   "source": [
    "def wants_plain_hotdog(ketchup, mustard, onion):\n",
    "    \"\"\"Return whether the customer wants a plain hot dog with no toppings.\n",
    "    \"\"\"\n",
    "    return not (ketchup or mustard or onion)\n",
    "    pass\n",
    "\n",
    "# Check your answer\n",
    "q5.b.check()"
   ]
  },
  {
   "cell_type": "code",
   "execution_count": 16,
   "id": "eba2bd9d",
   "metadata": {
    "execution": {
     "iopub.execute_input": "2024-11-07T08:14:07.450790Z",
     "iopub.status.busy": "2024-11-07T08:14:07.449900Z",
     "iopub.status.idle": "2024-11-07T08:14:07.454403Z",
     "shell.execute_reply": "2024-11-07T08:14:07.453187Z"
    },
    "papermill": {
     "duration": 0.018407,
     "end_time": "2024-11-07T08:14:07.456711",
     "exception": false,
     "start_time": "2024-11-07T08:14:07.438304",
     "status": "completed"
    },
    "tags": []
   },
   "outputs": [],
   "source": [
    "#q5.b.hint()\n",
    "#q5.b.solution()"
   ]
  },
  {
   "cell_type": "markdown",
   "id": "4aec44cc",
   "metadata": {
    "papermill": {
     "duration": 0.010956,
     "end_time": "2024-11-07T08:14:07.478472",
     "exception": false,
     "start_time": "2024-11-07T08:14:07.467516",
     "status": "completed"
    },
    "tags": []
   },
   "source": [
    "# 5c.\n",
    "\n",
    "You know what to do: for the next function, fill in the body to match the English description in the docstring."
   ]
  },
  {
   "cell_type": "code",
   "execution_count": 17,
   "id": "1cccd46a",
   "metadata": {
    "execution": {
     "iopub.execute_input": "2024-11-07T08:14:07.501639Z",
     "iopub.status.busy": "2024-11-07T08:14:07.501234Z",
     "iopub.status.idle": "2024-11-07T08:14:07.510315Z",
     "shell.execute_reply": "2024-11-07T08:14:07.509320Z"
    },
    "papermill": {
     "duration": 0.023335,
     "end_time": "2024-11-07T08:14:07.512693",
     "exception": false,
     "start_time": "2024-11-07T08:14:07.489358",
     "status": "completed"
    },
    "tags": []
   },
   "outputs": [
    {
     "data": {
      "application/javascript": [
       "parent.postMessage({\"jupyterEvent\": \"custom.exercise_interaction\", \"data\": {\"outcomeType\": 1, \"valueTowardsCompletion\": 0.2, \"interactionType\": 1, \"questionType\": 2, \"questionId\": \"5.3_OneSauce\", \"learnToolsVersion\": \"0.3.4\", \"failureMessage\": \"\", \"exceptionClass\": \"\", \"trace\": \"\"}}, \"*\")"
      ],
      "text/plain": [
       "<IPython.core.display.Javascript object>"
      ]
     },
     "metadata": {},
     "output_type": "display_data"
    },
    {
     "data": {
      "text/markdown": [
       "<span style=\"color:#33cc33\">Correct</span>"
      ],
      "text/plain": [
       "Correct"
      ]
     },
     "metadata": {},
     "output_type": "display_data"
    }
   ],
   "source": [
    "def exactly_one_sauce(ketchup, mustard, onion):\n",
    "    \"\"\"Return whether the customer wants either ketchup or mustard, but not both.\n",
    "    (You may be familiar with this operation under the name \"exclusive or\")\n",
    "    \"\"\"\n",
    "    return (ketchup != mustard) and onion   \n",
    "    pass\n",
    "\n",
    "# Check your answer\n",
    "q5.c.check()"
   ]
  },
  {
   "cell_type": "code",
   "execution_count": 18,
   "id": "a4372156",
   "metadata": {
    "execution": {
     "iopub.execute_input": "2024-11-07T08:14:07.536258Z",
     "iopub.status.busy": "2024-11-07T08:14:07.535865Z",
     "iopub.status.idle": "2024-11-07T08:14:07.540131Z",
     "shell.execute_reply": "2024-11-07T08:14:07.539149Z"
    },
    "papermill": {
     "duration": 0.018941,
     "end_time": "2024-11-07T08:14:07.542352",
     "exception": false,
     "start_time": "2024-11-07T08:14:07.523411",
     "status": "completed"
    },
    "tags": []
   },
   "outputs": [],
   "source": [
    "#q5.c.hint()\n",
    "#q5.c.solution()"
   ]
  },
  {
   "cell_type": "markdown",
   "id": "8af3467c",
   "metadata": {
    "papermill": {
     "duration": 0.011022,
     "end_time": "2024-11-07T08:14:07.564186",
     "exception": false,
     "start_time": "2024-11-07T08:14:07.553164",
     "status": "completed"
    },
    "tags": []
   },
   "source": [
    "# 6. <span title=\"A bit spicy\" style=\"color: darkgreen \">🌶️</span>\n",
    "\n",
    "We’ve seen that calling `bool()` on an integer returns `False` if it’s equal to 0 and `True` otherwise. What happens if we call `int()` on a bool? Try it out in the notebook cell below.\n",
    "\n",
    "Can you take advantage of this to write a succinct function that corresponds to the English sentence \"does the customer want exactly one topping?\"?"
   ]
  },
  {
   "cell_type": "code",
   "execution_count": 19,
   "id": "4fbd414d",
   "metadata": {
    "execution": {
     "iopub.execute_input": "2024-11-07T08:14:07.587290Z",
     "iopub.status.busy": "2024-11-07T08:14:07.586893Z",
     "iopub.status.idle": "2024-11-07T08:14:07.597128Z",
     "shell.execute_reply": "2024-11-07T08:14:07.595904Z"
    },
    "papermill": {
     "duration": 0.024616,
     "end_time": "2024-11-07T08:14:07.599702",
     "exception": false,
     "start_time": "2024-11-07T08:14:07.575086",
     "status": "completed"
    },
    "tags": []
   },
   "outputs": [
    {
     "data": {
      "application/javascript": [
       "parent.postMessage({\"jupyterEvent\": \"custom.exercise_interaction\", \"data\": {\"outcomeType\": 1, \"valueTowardsCompletion\": 0.2, \"interactionType\": 1, \"questionType\": 2, \"questionId\": \"6_OneTopping\", \"learnToolsVersion\": \"0.3.4\", \"failureMessage\": \"\", \"exceptionClass\": \"\", \"trace\": \"\"}}, \"*\")"
      ],
      "text/plain": [
       "<IPython.core.display.Javascript object>"
      ]
     },
     "metadata": {},
     "output_type": "display_data"
    },
    {
     "data": {
      "text/markdown": [
       "<span style=\"color:#33cc33\">Correct:</span> \n",
       "\n",
       "This condition would be pretty complicated to express using just `and`, `or` and `not`, but using boolean-to-integer conversion gives us this short solution:\n",
       "```python\n",
       "return (int(ketchup) + int(mustard) + int(onion)) == 1\n",
       "```\n",
       "\n",
       "Fun fact: we don't technically need to call `int` on the arguments. Just by doing addition with booleans, Python implicitly does the integer conversion. So we could also write...\n",
       "\n",
       "```python\n",
       "return (ketchup + mustard + onion) == 1\n",
       "```"
      ],
      "text/plain": [
       "Correct: \n",
       "\n",
       "This condition would be pretty complicated to express using just `and`, `or` and `not`, but using boolean-to-integer conversion gives us this short solution:\n",
       "```python\n",
       "return (int(ketchup) + int(mustard) + int(onion)) == 1\n",
       "```\n",
       "\n",
       "Fun fact: we don't technically need to call `int` on the arguments. Just by doing addition with booleans, Python implicitly does the integer conversion. So we could also write...\n",
       "\n",
       "```python\n",
       "return (ketchup + mustard + onion) == 1\n",
       "```"
      ]
     },
     "metadata": {},
     "output_type": "display_data"
    }
   ],
   "source": [
    "def exactly_one_topping(ketchup, mustard, onion):\n",
    "    \"\"\"Return whether the customer wants exactly one of the three available toppings\n",
    "    on their hot dog.\n",
    "    \"\"\"\n",
    "    pass\n",
    "    return (ketchup + mustard + onion) == 1\n",
    "\n",
    "# Check your answer\n",
    "q6.check()"
   ]
  },
  {
   "cell_type": "code",
   "execution_count": 20,
   "id": "9e21d342",
   "metadata": {
    "execution": {
     "iopub.execute_input": "2024-11-07T08:14:07.624192Z",
     "iopub.status.busy": "2024-11-07T08:14:07.623776Z",
     "iopub.status.idle": "2024-11-07T08:14:07.628580Z",
     "shell.execute_reply": "2024-11-07T08:14:07.627456Z"
    },
    "papermill": {
     "duration": 0.019667,
     "end_time": "2024-11-07T08:14:07.631115",
     "exception": false,
     "start_time": "2024-11-07T08:14:07.611448",
     "status": "completed"
    },
    "tags": []
   },
   "outputs": [],
   "source": [
    "#q6.hint()\n",
    "#q6.solution()"
   ]
  },
  {
   "cell_type": "markdown",
   "id": "819acaf1",
   "metadata": {
    "papermill": {
     "duration": 0.010789,
     "end_time": "2024-11-07T08:14:07.653016",
     "exception": false,
     "start_time": "2024-11-07T08:14:07.642227",
     "status": "completed"
    },
    "tags": []
   },
   "source": [
    "# 7. <span title=\"A bit spicy\" style=\"color: darkgreen \">🌶️</span> (Optional)\n",
    "\n",
    "In this problem we'll be working with a simplified version of [blackjack](https://en.wikipedia.org/wiki/Blackjack) (aka twenty-one). In this version there is one player (who you'll control) and a dealer. Play proceeds as follows:\n",
    "\n",
    "- The player is dealt two face-up cards. The dealer is dealt one face-up card.\n",
    "- The player may ask to be dealt another card ('hit') as many times as they wish. If the sum of their cards exceeds 21, they lose the round immediately.\n",
    "- The dealer then deals additional cards to himself until either:\n",
    "    - the sum of the dealer's cards exceeds 21, in which case the player wins the round\n",
    "    - the sum of the dealer's cards is greater than or equal to 17. If the player's total is greater than the dealer's, the player wins. Otherwise, the dealer wins (even in case of a tie).\n",
    "    \n",
    "When calculating the sum of cards, Jack, Queen, and King count for 10. Aces can count as 1 or 11 (when referring to a player's \"total\" above, we mean the largest total that can be made without exceeding 21. So e.g. A+8 = 19, A+8+8 = 17)\n",
    "\n",
    "For this problem, you'll write a function representing the player's decision-making strategy in this game. We've provided a very unintelligent implementation below:"
   ]
  },
  {
   "cell_type": "code",
   "execution_count": 21,
   "id": "c85603e5",
   "metadata": {
    "execution": {
     "iopub.execute_input": "2024-11-07T08:14:07.678011Z",
     "iopub.status.busy": "2024-11-07T08:14:07.677577Z",
     "iopub.status.idle": "2024-11-07T08:14:07.683322Z",
     "shell.execute_reply": "2024-11-07T08:14:07.682324Z"
    },
    "papermill": {
     "duration": 0.020745,
     "end_time": "2024-11-07T08:14:07.685460",
     "exception": false,
     "start_time": "2024-11-07T08:14:07.664715",
     "status": "completed"
    },
    "tags": []
   },
   "outputs": [],
   "source": [
    "def should_hit(dealer_total, player_total, player_low_aces, player_high_aces):\n",
    "    \"\"\"Return True if the player should hit (request another card) given the current game\n",
    "    state, or False if the player should stay.\n",
    "    When calculating a hand's total value, we count aces as \"high\" (with value 11) if doing so\n",
    "    doesn't bring the total above 21, otherwise we count them as low (with value 1). \n",
    "    For example, if the player's hand is {A, A, A, 7}, we will count it as 11 + 1 + 1 + 7,\n",
    "    and therefore set player_total=20, player_low_aces=2, player_high_aces=1.\n",
    "    \"\"\"\n",
    "     # Hit if player total is below 17\n",
    "    if player_total < 17:\n",
    "        return True\n",
    "    # If the dealer has a strong total (17 or more) and the player isn't close to 21, hit\n",
    "    elif dealer_total >= 17 and player_total < 21:\n",
    "        return True\n",
    "    else:\n",
    "        return False\n",
    "    return False"
   ]
  },
  {
   "cell_type": "markdown",
   "id": "cbf87ebb",
   "metadata": {
    "papermill": {
     "duration": 0.010591,
     "end_time": "2024-11-07T08:14:07.708059",
     "exception": false,
     "start_time": "2024-11-07T08:14:07.697468",
     "status": "completed"
    },
    "tags": []
   },
   "source": [
    "This very conservative agent *always* sticks with the hand of two cards that they're dealt.\n",
    "\n",
    "We'll be simulating games between your player agent and our own dealer agent by calling your function.\n",
    "\n",
    "Try running the function below to see an example of a simulated game:"
   ]
  },
  {
   "cell_type": "code",
   "execution_count": 22,
   "id": "f442ec40",
   "metadata": {
    "execution": {
     "iopub.execute_input": "2024-11-07T08:14:07.732267Z",
     "iopub.status.busy": "2024-11-07T08:14:07.731876Z",
     "iopub.status.idle": "2024-11-07T08:14:07.737449Z",
     "shell.execute_reply": "2024-11-07T08:14:07.736115Z"
    },
    "papermill": {
     "duration": 0.02004,
     "end_time": "2024-11-07T08:14:07.739660",
     "exception": false,
     "start_time": "2024-11-07T08:14:07.719620",
     "status": "completed"
    },
    "tags": []
   },
   "outputs": [
    {
     "name": "stdout",
     "output_type": "stream",
     "text": [
      "Player starts with 4 and J (total = 14)\n",
      "Dealer starts with K\n",
      "\n",
      "__Player's turn__\n",
      "Player hits and receives 3. (total = 17)\n",
      "Player stays\n",
      "\n",
      "__Dealer's turn__\n",
      "Dealer hits and receives J. (total = 20)\n",
      "Dealer stands.\n",
      "Dealer wins. 20 >= 17\n"
     ]
    }
   ],
   "source": [
    "q7.simulate_one_game()"
   ]
  },
  {
   "cell_type": "markdown",
   "id": "b56bbc51",
   "metadata": {
    "papermill": {
     "duration": 0.010719,
     "end_time": "2024-11-07T08:14:07.761419",
     "exception": false,
     "start_time": "2024-11-07T08:14:07.750700",
     "status": "completed"
    },
    "tags": []
   },
   "source": [
    "The real test of your agent's mettle is their average win rate over many games. Try calling the function below to simulate 50000 games of blackjack (it may take a couple seconds):"
   ]
  },
  {
   "cell_type": "code",
   "execution_count": 23,
   "id": "a6dfebd5",
   "metadata": {
    "execution": {
     "iopub.execute_input": "2024-11-07T08:14:07.788838Z",
     "iopub.status.busy": "2024-11-07T08:14:07.787890Z",
     "iopub.status.idle": "2024-11-07T08:14:09.374901Z",
     "shell.execute_reply": "2024-11-07T08:14:09.373420Z"
    },
    "papermill": {
     "duration": 1.604657,
     "end_time": "2024-11-07T08:14:09.378307",
     "exception": false,
     "start_time": "2024-11-07T08:14:07.773650",
     "status": "completed"
    },
    "tags": []
   },
   "outputs": [
    {
     "name": "stdout",
     "output_type": "stream",
     "text": [
      "Player won 20298 out of 50000 games (win rate = 40.6%)\n"
     ]
    }
   ],
   "source": [
    "q7.simulate(n_games=50000)"
   ]
  },
  {
   "cell_type": "markdown",
   "id": "82729095",
   "metadata": {
    "papermill": {
     "duration": 0.011647,
     "end_time": "2024-11-07T08:14:09.401395",
     "exception": false,
     "start_time": "2024-11-07T08:14:09.389748",
     "status": "completed"
    },
    "tags": []
   },
   "source": [
    "Our dumb agent that completely ignores the game state still manages to win shockingly often!\n",
    "\n",
    "Try adding some more smarts to the `should_hit` function and see how it affects the results."
   ]
  },
  {
   "cell_type": "code",
   "execution_count": 24,
   "id": "53c7415c",
   "metadata": {
    "execution": {
     "iopub.execute_input": "2024-11-07T08:14:09.425627Z",
     "iopub.status.busy": "2024-11-07T08:14:09.425235Z",
     "iopub.status.idle": "2024-11-07T08:14:10.886810Z",
     "shell.execute_reply": "2024-11-07T08:14:10.885598Z"
    },
    "papermill": {
     "duration": 1.476536,
     "end_time": "2024-11-07T08:14:10.889419",
     "exception": false,
     "start_time": "2024-11-07T08:14:09.412883",
     "status": "completed"
    },
    "tags": []
   },
   "outputs": [
    {
     "name": "stdout",
     "output_type": "stream",
     "text": [
      "Player won 19073 out of 50000 games (win rate = 38.1%)\n"
     ]
    }
   ],
   "source": [
    "def should_hit(dealer_total, player_total, player_low_aces, player_high_aces):\n",
    "    \"\"\"Return True if the player should hit (request another card) given the current game\n",
    "    state, or False if the player should stay.\n",
    "    When calculating a hand's total value, we count aces as \"high\" (with value 11) if doing so\n",
    "    doesn't bring the total above 21, otherwise we count them as low (with value 1). \n",
    "    For example, if the player's hand is {A, A, A, 7}, we will count it as 11 + 1 + 1 + 7,\n",
    "    and therefore set player_total=20, player_low_aces=2, player_high_aces=1.\n",
    "    \"\"\"\n",
    "    return False\n",
    "\n",
    "q7.simulate(n_games=50000)"
   ]
  },
  {
   "cell_type": "markdown",
   "id": "632bfb27",
   "metadata": {
    "papermill": {
     "duration": 0.013695,
     "end_time": "2024-11-07T08:14:10.914384",
     "exception": false,
     "start_time": "2024-11-07T08:14:10.900689",
     "status": "completed"
    },
    "tags": []
   },
   "source": [
    "# Keep Going\n",
    "\n",
    "Learn about **[lists and tuples](https://www.kaggle.com/colinmorris/lists)** to handle multiple items of data in a systematic way."
   ]
  },
  {
   "cell_type": "markdown",
   "id": "97189283",
   "metadata": {
    "papermill": {
     "duration": 0.014167,
     "end_time": "2024-11-07T08:14:10.943266",
     "exception": false,
     "start_time": "2024-11-07T08:14:10.929099",
     "status": "completed"
    },
    "tags": []
   },
   "source": [
    "---\n",
    "\n",
    "\n",
    "\n",
    "\n",
    "*Have questions or comments? Visit the [course discussion forum](https://www.kaggle.com/learn/python/discussion) to chat with other learners.*"
   ]
  }
 ],
 "metadata": {
  "kaggle": {
   "accelerator": "none",
   "dataSources": [],
   "isGpuEnabled": false,
   "isInternetEnabled": false,
   "language": "python",
   "sourceType": "notebook"
  },
  "kernelspec": {
   "display_name": "Python 3",
   "language": "python",
   "name": "python3"
  },
  "language_info": {
   "codemirror_mode": {
    "name": "ipython",
    "version": 3
   },
   "file_extension": ".py",
   "mimetype": "text/x-python",
   "name": "python",
   "nbconvert_exporter": "python",
   "pygments_lexer": "ipython3",
   "version": "3.10.14"
  },
  "learntools_metadata": {
   "lesson_index": 2,
   "type": "exercise"
  },
  "papermill": {
   "default_parameters": {},
   "duration": 8.286462,
   "end_time": "2024-11-07T08:14:11.478067",
   "environment_variables": {},
   "exception": null,
   "input_path": "__notebook__.ipynb",
   "output_path": "__notebook__.ipynb",
   "parameters": {},
   "start_time": "2024-11-07T08:14:03.191605",
   "version": "2.6.0"
  }
 },
 "nbformat": 4,
 "nbformat_minor": 5
}

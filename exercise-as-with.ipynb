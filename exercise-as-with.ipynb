{
 "cells": [
  {
   "cell_type": "markdown",
   "id": "2ae879cc",
   "metadata": {
    "papermill": {
     "duration": 0.005807,
     "end_time": "2024-11-25T09:15:06.328918",
     "exception": false,
     "start_time": "2024-11-25T09:15:06.323111",
     "status": "completed"
    },
    "tags": []
   },
   "source": [
    "**This notebook is an exercise in the [SQL](https://www.kaggle.com/learn/intro-to-sql) course.  You can reference the tutorial at [this link](https://www.kaggle.com/dansbecker/as-with).**\n",
    "\n",
    "---\n"
   ]
  },
  {
   "cell_type": "markdown",
   "id": "282a4be8",
   "metadata": {
    "papermill": {
     "duration": 0.004645,
     "end_time": "2024-11-25T09:15:06.338673",
     "exception": false,
     "start_time": "2024-11-25T09:15:06.334028",
     "status": "completed"
    },
    "tags": []
   },
   "source": [
    "# Introduction\n",
    "\n",
    "You are getting to the point where you can own an analysis from beginning to end. So you'll do more data exploration in this exercise than you've done before.  Before you get started, run the following set-up code as usual. "
   ]
  },
  {
   "cell_type": "code",
   "execution_count": 1,
   "id": "bc296064",
   "metadata": {
    "execution": {
     "iopub.execute_input": "2024-11-25T09:15:06.350319Z",
     "iopub.status.busy": "2024-11-25T09:15:06.349914Z",
     "iopub.status.idle": "2024-11-25T09:15:35.974680Z",
     "shell.execute_reply": "2024-11-25T09:15:35.973465Z"
    },
    "papermill": {
     "duration": 29.633549,
     "end_time": "2024-11-25T09:15:35.977123",
     "exception": false,
     "start_time": "2024-11-25T09:15:06.343574",
     "status": "completed"
    },
    "tags": []
   },
   "outputs": [
    {
     "name": "stdout",
     "output_type": "stream",
     "text": [
      "Collecting git+https://github.com/Kaggle/learntools.git\r\n",
      "  Cloning https://github.com/Kaggle/learntools.git to /tmp/pip-req-build-pvt6cxbc\r\n",
      "  Running command git clone --filter=blob:none --quiet https://github.com/Kaggle/learntools.git /tmp/pip-req-build-pvt6cxbc\r\n",
      "  Resolved https://github.com/Kaggle/learntools.git to commit ca2a51ee0085e4943cadaf5e9fe7dce2ec947d3c\r\n",
      "  Preparing metadata (setup.py) ... \u001b[?25ldone\r\n",
      "\u001b[?25hBuilding wheels for collected packages: learntools\r\n",
      "  Building wheel for learntools (setup.py) ... \u001b[?25l-\b \bdone\r\n",
      "\u001b[?25h  Created wheel for learntools: filename=learntools-0.3.4-py3-none-any.whl size=268968 sha256=1137a6b9382ffb0c84dfae67870a109f778ce82e4d8d88d809a7026ebf723ae0\r\n",
      "  Stored in directory: /tmp/pip-ephem-wheel-cache-mtenersw/wheels/2f/6c/3c/aa9f50cfb5a862157cb4c7a5b34881828cf45404698255dced\r\n",
      "Successfully built learntools\r\n",
      "Installing collected packages: learntools\r\n",
      "Successfully installed learntools-0.3.4\r\n",
      "Using Kaggle's public dataset BigQuery integration.\n",
      "Setup Complete\n"
     ]
    }
   ],
   "source": [
    "# Get most recent checking code\n",
    "!pip install -U -t /kaggle/working/ git+https://github.com/Kaggle/learntools.git\n",
    "# Set up feedback system\n",
    "from learntools.core import binder\n",
    "binder.bind(globals())\n",
    "from learntools.sql.ex5 import *\n",
    "print(\"Setup Complete\")"
   ]
  },
  {
   "cell_type": "markdown",
   "id": "43f18bcb",
   "metadata": {
    "papermill": {
     "duration": 0.005544,
     "end_time": "2024-11-25T09:15:35.988787",
     "exception": false,
     "start_time": "2024-11-25T09:15:35.983243",
     "status": "completed"
    },
    "tags": []
   },
   "source": [
    "You'll work with a dataset about taxi trips in the city of Chicago. Run the cell below to fetch the `chicago_taxi_trips` dataset."
   ]
  },
  {
   "cell_type": "code",
   "execution_count": 2,
   "id": "ef7547b9",
   "metadata": {
    "execution": {
     "iopub.execute_input": "2024-11-25T09:15:36.003266Z",
     "iopub.status.busy": "2024-11-25T09:15:36.002677Z",
     "iopub.status.idle": "2024-11-25T09:15:36.385173Z",
     "shell.execute_reply": "2024-11-25T09:15:36.383953Z"
    },
    "papermill": {
     "duration": 0.393211,
     "end_time": "2024-11-25T09:15:36.387725",
     "exception": false,
     "start_time": "2024-11-25T09:15:35.994514",
     "status": "completed"
    },
    "tags": []
   },
   "outputs": [
    {
     "name": "stdout",
     "output_type": "stream",
     "text": [
      "Using Kaggle's public dataset BigQuery integration.\n"
     ]
    }
   ],
   "source": [
    "from google.cloud import bigquery\n",
    "\n",
    "# Create a \"Client\" object\n",
    "client = bigquery.Client()\n",
    "\n",
    "# Construct a reference to the \"chicago_taxi_trips\" dataset\n",
    "dataset_ref = client.dataset(\"chicago_taxi_trips\", project=\"bigquery-public-data\")\n",
    "\n",
    "# API request - fetch the dataset\n",
    "dataset = client.get_dataset(dataset_ref)"
   ]
  },
  {
   "cell_type": "markdown",
   "id": "befd0684",
   "metadata": {
    "papermill": {
     "duration": 0.005575,
     "end_time": "2024-11-25T09:15:36.399185",
     "exception": false,
     "start_time": "2024-11-25T09:15:36.393610",
     "status": "completed"
    },
    "tags": []
   },
   "source": [
    "# Exercises\n",
    "\n",
    "You are curious how much slower traffic moves when traffic volume is high. This involves a few steps.\n",
    "\n",
    "### 1) Find the data\n",
    "Before you can access the data, you need to find the table name with the data.\n",
    "\n",
    "*Hint*: Tab completion is helpful whenever you can't remember a command. Type `client.` and then hit the tab key. Don't forget the period before hitting tab."
   ]
  },
  {
   "cell_type": "code",
   "execution_count": 3,
   "id": "d6340300",
   "metadata": {
    "execution": {
     "iopub.execute_input": "2024-11-25T09:15:36.412501Z",
     "iopub.status.busy": "2024-11-25T09:15:36.412114Z",
     "iopub.status.idle": "2024-11-25T09:15:37.009178Z",
     "shell.execute_reply": "2024-11-25T09:15:37.007949Z"
    },
    "papermill": {
     "duration": 0.606637,
     "end_time": "2024-11-25T09:15:37.011546",
     "exception": false,
     "start_time": "2024-11-25T09:15:36.404909",
     "status": "completed"
    },
    "tags": []
   },
   "outputs": [
    {
     "name": "stdout",
     "output_type": "stream",
     "text": [
      "taxi_trips\n"
     ]
    }
   ],
   "source": [
    "# Your code here to find the table name\n",
    "# List all the tables in the dataset\n",
    "tables = list(client.list_tables(dataset))\n",
    "\n",
    "# Print names of all tables in the dataset (there is only one!)\n",
    "for table in tables:  \n",
    "    print(table.table_id)"
   ]
  },
  {
   "cell_type": "code",
   "execution_count": 4,
   "id": "40abdefe",
   "metadata": {
    "execution": {
     "iopub.execute_input": "2024-11-25T09:15:37.024734Z",
     "iopub.status.busy": "2024-11-25T09:15:37.024381Z",
     "iopub.status.idle": "2024-11-25T09:15:37.033530Z",
     "shell.execute_reply": "2024-11-25T09:15:37.032502Z"
    },
    "papermill": {
     "duration": 0.01816,
     "end_time": "2024-11-25T09:15:37.035627",
     "exception": false,
     "start_time": "2024-11-25T09:15:37.017467",
     "status": "completed"
    },
    "tags": []
   },
   "outputs": [
    {
     "data": {
      "application/javascript": [
       "parent.postMessage({\"jupyterEvent\": \"custom.exercise_interaction\", \"data\": {\"outcomeType\": 1, \"valueTowardsCompletion\": 0.16666666666666666, \"interactionType\": 1, \"questionType\": 1, \"questionId\": \"1_GetTableName\", \"learnToolsVersion\": \"0.3.4\", \"failureMessage\": \"\", \"exceptionClass\": \"\", \"trace\": \"\"}}, \"*\")"
      ],
      "text/plain": [
       "<IPython.core.display.Javascript object>"
      ]
     },
     "metadata": {},
     "output_type": "display_data"
    },
    {
     "data": {
      "text/markdown": [
       "<span style=\"color:#33cc33\">Correct</span>"
      ],
      "text/plain": [
       "Correct"
      ]
     },
     "metadata": {},
     "output_type": "display_data"
    }
   ],
   "source": [
    "# Write the table name as a string below\n",
    "table_name = 'taxi_trips'\n",
    "\n",
    "# Check your answer\n",
    "q_1.check()"
   ]
  },
  {
   "cell_type": "markdown",
   "id": "1cf2c6f4",
   "metadata": {
    "papermill": {
     "duration": 0.005864,
     "end_time": "2024-11-25T09:15:37.049438",
     "exception": false,
     "start_time": "2024-11-25T09:15:37.043574",
     "status": "completed"
    },
    "tags": []
   },
   "source": [
    "For the solution, uncomment the line below."
   ]
  },
  {
   "cell_type": "code",
   "execution_count": 5,
   "id": "3d71c37a",
   "metadata": {
    "execution": {
     "iopub.execute_input": "2024-11-25T09:15:37.063755Z",
     "iopub.status.busy": "2024-11-25T09:15:37.062690Z",
     "iopub.status.idle": "2024-11-25T09:15:37.067678Z",
     "shell.execute_reply": "2024-11-25T09:15:37.066515Z"
    },
    "papermill": {
     "duration": 0.014381,
     "end_time": "2024-11-25T09:15:37.069868",
     "exception": false,
     "start_time": "2024-11-25T09:15:37.055487",
     "status": "completed"
    },
    "tags": []
   },
   "outputs": [],
   "source": [
    "#q_1.solution()"
   ]
  },
  {
   "cell_type": "markdown",
   "id": "34227836",
   "metadata": {
    "papermill": {
     "duration": 0.005817,
     "end_time": "2024-11-25T09:15:37.081889",
     "exception": false,
     "start_time": "2024-11-25T09:15:37.076072",
     "status": "completed"
    },
    "tags": []
   },
   "source": [
    "### 2) Peek at the data\n",
    "\n",
    "Use the next code cell to peek at the top few rows of the data. Inspect the data and see if any issues with data quality are immediately obvious. "
   ]
  },
  {
   "cell_type": "code",
   "execution_count": 6,
   "id": "f6bba1bc",
   "metadata": {
    "execution": {
     "iopub.execute_input": "2024-11-25T09:15:37.095453Z",
     "iopub.status.busy": "2024-11-25T09:15:37.095059Z",
     "iopub.status.idle": "2024-11-25T09:15:38.489252Z",
     "shell.execute_reply": "2024-11-25T09:15:38.488127Z"
    },
    "papermill": {
     "duration": 1.403841,
     "end_time": "2024-11-25T09:15:38.491699",
     "exception": false,
     "start_time": "2024-11-25T09:15:37.087858",
     "status": "completed"
    },
    "tags": []
   },
   "outputs": [
    {
     "data": {
      "text/html": [
       "<div>\n",
       "<style scoped>\n",
       "    .dataframe tbody tr th:only-of-type {\n",
       "        vertical-align: middle;\n",
       "    }\n",
       "\n",
       "    .dataframe tbody tr th {\n",
       "        vertical-align: top;\n",
       "    }\n",
       "\n",
       "    .dataframe thead th {\n",
       "        text-align: right;\n",
       "    }\n",
       "</style>\n",
       "<table border=\"1\" class=\"dataframe\">\n",
       "  <thead>\n",
       "    <tr style=\"text-align: right;\">\n",
       "      <th></th>\n",
       "      <th>unique_key</th>\n",
       "      <th>taxi_id</th>\n",
       "      <th>trip_start_timestamp</th>\n",
       "      <th>trip_end_timestamp</th>\n",
       "      <th>trip_seconds</th>\n",
       "      <th>trip_miles</th>\n",
       "      <th>pickup_census_tract</th>\n",
       "      <th>dropoff_census_tract</th>\n",
       "      <th>pickup_community_area</th>\n",
       "      <th>dropoff_community_area</th>\n",
       "      <th>...</th>\n",
       "      <th>extras</th>\n",
       "      <th>trip_total</th>\n",
       "      <th>payment_type</th>\n",
       "      <th>company</th>\n",
       "      <th>pickup_latitude</th>\n",
       "      <th>pickup_longitude</th>\n",
       "      <th>pickup_location</th>\n",
       "      <th>dropoff_latitude</th>\n",
       "      <th>dropoff_longitude</th>\n",
       "      <th>dropoff_location</th>\n",
       "    </tr>\n",
       "  </thead>\n",
       "  <tbody>\n",
       "    <tr>\n",
       "      <th>0</th>\n",
       "      <td>5003bdd51918a9b5a52134096663b4d7e02395c5</td>\n",
       "      <td>2130bc5fd239a4e3b304662424fb4cc7db0ca7abf78cc5...</td>\n",
       "      <td>2013-02-25 14:15:00+00:00</td>\n",
       "      <td>2013-02-25 14:15:00+00:00</td>\n",
       "      <td>120</td>\n",
       "      <td>0.00</td>\n",
       "      <td>NaN</td>\n",
       "      <td>NaN</td>\n",
       "      <td>NaN</td>\n",
       "      <td>NaN</td>\n",
       "      <td>...</td>\n",
       "      <td>NaN</td>\n",
       "      <td>NaN</td>\n",
       "      <td>Cash</td>\n",
       "      <td>None</td>\n",
       "      <td>NaN</td>\n",
       "      <td>NaN</td>\n",
       "      <td>None</td>\n",
       "      <td>NaN</td>\n",
       "      <td>NaN</td>\n",
       "      <td>None</td>\n",
       "    </tr>\n",
       "    <tr>\n",
       "      <th>1</th>\n",
       "      <td>720534d264001b2644f682755b294067fdf1da21</td>\n",
       "      <td>4bb55b69e710d1792f5fd4888001f4ff0ce34040f976f8...</td>\n",
       "      <td>2013-06-02 08:15:00+00:00</td>\n",
       "      <td>2013-06-02 08:15:00+00:00</td>\n",
       "      <td>60</td>\n",
       "      <td>0.02</td>\n",
       "      <td>NaN</td>\n",
       "      <td>NaN</td>\n",
       "      <td>NaN</td>\n",
       "      <td>NaN</td>\n",
       "      <td>...</td>\n",
       "      <td>NaN</td>\n",
       "      <td>NaN</td>\n",
       "      <td>Cash</td>\n",
       "      <td>None</td>\n",
       "      <td>NaN</td>\n",
       "      <td>NaN</td>\n",
       "      <td>None</td>\n",
       "      <td>NaN</td>\n",
       "      <td>NaN</td>\n",
       "      <td>None</td>\n",
       "    </tr>\n",
       "    <tr>\n",
       "      <th>2</th>\n",
       "      <td>515b9a6d5234a4d1fb559dca27b3e1cc541a342d</td>\n",
       "      <td>4bb55b69e710d1792f5fd4888001f4ff0ce34040f976f8...</td>\n",
       "      <td>2013-06-24 06:15:00+00:00</td>\n",
       "      <td>2013-06-24 06:15:00+00:00</td>\n",
       "      <td>60</td>\n",
       "      <td>0.04</td>\n",
       "      <td>NaN</td>\n",
       "      <td>NaN</td>\n",
       "      <td>1.0</td>\n",
       "      <td>77.0</td>\n",
       "      <td>...</td>\n",
       "      <td>NaN</td>\n",
       "      <td>NaN</td>\n",
       "      <td>Cash</td>\n",
       "      <td>None</td>\n",
       "      <td>42.009623</td>\n",
       "      <td>-87.670167</td>\n",
       "      <td>POINT (-87.67016685690001 42.0096228806)</td>\n",
       "      <td>41.986712</td>\n",
       "      <td>-87.663416</td>\n",
       "      <td>POINT (-87.6634164054 41.9867117999)</td>\n",
       "    </tr>\n",
       "    <tr>\n",
       "      <th>3</th>\n",
       "      <td>8afd48d966bf464e93127f43b72a8e405596a8eb</td>\n",
       "      <td>0150188f8c8e8973a198d4af0b427fca8ff48df2662d6b...</td>\n",
       "      <td>2013-02-01 07:00:00+00:00</td>\n",
       "      <td>2013-02-02 00:00:00+00:00</td>\n",
       "      <td>61560</td>\n",
       "      <td>0.00</td>\n",
       "      <td>NaN</td>\n",
       "      <td>NaN</td>\n",
       "      <td>NaN</td>\n",
       "      <td>NaN</td>\n",
       "      <td>...</td>\n",
       "      <td>0.0</td>\n",
       "      <td>0.0</td>\n",
       "      <td>Cash</td>\n",
       "      <td>None</td>\n",
       "      <td>NaN</td>\n",
       "      <td>NaN</td>\n",
       "      <td>None</td>\n",
       "      <td>NaN</td>\n",
       "      <td>NaN</td>\n",
       "      <td>None</td>\n",
       "    </tr>\n",
       "    <tr>\n",
       "      <th>4</th>\n",
       "      <td>fe73a44f01fdd2a3c740a01f53e97ec2ced93455</td>\n",
       "      <td>0150188f8c8e8973a198d4af0b427fca8ff48df2662d6b...</td>\n",
       "      <td>2013-02-01 07:00:00+00:00</td>\n",
       "      <td>2013-02-02 00:00:00+00:00</td>\n",
       "      <td>60900</td>\n",
       "      <td>0.00</td>\n",
       "      <td>NaN</td>\n",
       "      <td>NaN</td>\n",
       "      <td>NaN</td>\n",
       "      <td>NaN</td>\n",
       "      <td>...</td>\n",
       "      <td>0.0</td>\n",
       "      <td>0.0</td>\n",
       "      <td>Cash</td>\n",
       "      <td>None</td>\n",
       "      <td>NaN</td>\n",
       "      <td>NaN</td>\n",
       "      <td>None</td>\n",
       "      <td>NaN</td>\n",
       "      <td>NaN</td>\n",
       "      <td>None</td>\n",
       "    </tr>\n",
       "  </tbody>\n",
       "</table>\n",
       "<p>5 rows × 23 columns</p>\n",
       "</div>"
      ],
      "text/plain": [
       "                                 unique_key  \\\n",
       "0  5003bdd51918a9b5a52134096663b4d7e02395c5   \n",
       "1  720534d264001b2644f682755b294067fdf1da21   \n",
       "2  515b9a6d5234a4d1fb559dca27b3e1cc541a342d   \n",
       "3  8afd48d966bf464e93127f43b72a8e405596a8eb   \n",
       "4  fe73a44f01fdd2a3c740a01f53e97ec2ced93455   \n",
       "\n",
       "                                             taxi_id  \\\n",
       "0  2130bc5fd239a4e3b304662424fb4cc7db0ca7abf78cc5...   \n",
       "1  4bb55b69e710d1792f5fd4888001f4ff0ce34040f976f8...   \n",
       "2  4bb55b69e710d1792f5fd4888001f4ff0ce34040f976f8...   \n",
       "3  0150188f8c8e8973a198d4af0b427fca8ff48df2662d6b...   \n",
       "4  0150188f8c8e8973a198d4af0b427fca8ff48df2662d6b...   \n",
       "\n",
       "       trip_start_timestamp        trip_end_timestamp  trip_seconds  \\\n",
       "0 2013-02-25 14:15:00+00:00 2013-02-25 14:15:00+00:00           120   \n",
       "1 2013-06-02 08:15:00+00:00 2013-06-02 08:15:00+00:00            60   \n",
       "2 2013-06-24 06:15:00+00:00 2013-06-24 06:15:00+00:00            60   \n",
       "3 2013-02-01 07:00:00+00:00 2013-02-02 00:00:00+00:00         61560   \n",
       "4 2013-02-01 07:00:00+00:00 2013-02-02 00:00:00+00:00         60900   \n",
       "\n",
       "   trip_miles  pickup_census_tract  dropoff_census_tract  \\\n",
       "0        0.00                  NaN                   NaN   \n",
       "1        0.02                  NaN                   NaN   \n",
       "2        0.04                  NaN                   NaN   \n",
       "3        0.00                  NaN                   NaN   \n",
       "4        0.00                  NaN                   NaN   \n",
       "\n",
       "   pickup_community_area  dropoff_community_area  ...  extras  trip_total  \\\n",
       "0                    NaN                     NaN  ...     NaN         NaN   \n",
       "1                    NaN                     NaN  ...     NaN         NaN   \n",
       "2                    1.0                    77.0  ...     NaN         NaN   \n",
       "3                    NaN                     NaN  ...     0.0         0.0   \n",
       "4                    NaN                     NaN  ...     0.0         0.0   \n",
       "\n",
       "   payment_type  company  pickup_latitude pickup_longitude  \\\n",
       "0          Cash     None              NaN              NaN   \n",
       "1          Cash     None              NaN              NaN   \n",
       "2          Cash     None        42.009623       -87.670167   \n",
       "3          Cash     None              NaN              NaN   \n",
       "4          Cash     None              NaN              NaN   \n",
       "\n",
       "                            pickup_location  dropoff_latitude  \\\n",
       "0                                      None               NaN   \n",
       "1                                      None               NaN   \n",
       "2  POINT (-87.67016685690001 42.0096228806)         41.986712   \n",
       "3                                      None               NaN   \n",
       "4                                      None               NaN   \n",
       "\n",
       "   dropoff_longitude                      dropoff_location  \n",
       "0                NaN                                  None  \n",
       "1                NaN                                  None  \n",
       "2         -87.663416  POINT (-87.6634164054 41.9867117999)  \n",
       "3                NaN                                  None  \n",
       "4                NaN                                  None  \n",
       "\n",
       "[5 rows x 23 columns]"
      ]
     },
     "execution_count": 6,
     "metadata": {},
     "output_type": "execute_result"
    }
   ],
   "source": [
    "# Your code here\n",
    "# Construct a reference to the \"taxi_trips\" table\n",
    "table_ref = dataset_ref.table(\"taxi_trips\")\n",
    "\n",
    "# API request - fetch the table\n",
    "table = client.get_table(table_ref)\n",
    "\n",
    "# Preview the first five lines of the \"taxi_trips\" table\n",
    "client.list_rows(table, max_results=5).to_dataframe()"
   ]
  },
  {
   "cell_type": "markdown",
   "id": "51ff7b49",
   "metadata": {
    "papermill": {
     "duration": 0.006135,
     "end_time": "2024-11-25T09:15:38.504272",
     "exception": false,
     "start_time": "2024-11-25T09:15:38.498137",
     "status": "completed"
    },
    "tags": []
   },
   "source": [
    "After deciding whether you see any important issues, run the code cell below."
   ]
  },
  {
   "cell_type": "code",
   "execution_count": 7,
   "id": "aa38dcea",
   "metadata": {
    "execution": {
     "iopub.execute_input": "2024-11-25T09:15:38.519433Z",
     "iopub.status.busy": "2024-11-25T09:15:38.519020Z",
     "iopub.status.idle": "2024-11-25T09:15:38.523703Z",
     "shell.execute_reply": "2024-11-25T09:15:38.522559Z"
    },
    "papermill": {
     "duration": 0.015118,
     "end_time": "2024-11-25T09:15:38.525723",
     "exception": false,
     "start_time": "2024-11-25T09:15:38.510605",
     "status": "completed"
    },
    "tags": []
   },
   "outputs": [],
   "source": [
    "# Check your answer (Run this code cell to receive credit!)\n",
    "#q_2.solution()"
   ]
  },
  {
   "cell_type": "markdown",
   "id": "11475d44",
   "metadata": {
    "papermill": {
     "duration": 0.006074,
     "end_time": "2024-11-25T09:15:38.538186",
     "exception": false,
     "start_time": "2024-11-25T09:15:38.532112",
     "status": "completed"
    },
    "tags": []
   },
   "source": [
    "### 3) Determine when this data is from\n",
    "\n",
    "If the data is sufficiently old, we might be careful before assuming the data is still relevant to traffic patterns today. Write a query that counts the number of trips in each year.  \n",
    "\n",
    "Your results should have two columns:\n",
    "- `year` - the year of the trips\n",
    "- `num_trips` - the number of trips in that year\n",
    "\n",
    "Hints:\n",
    "- When using **GROUP BY** and **ORDER BY**, you should refer to the columns by the alias `year` that you set at the top of the **SELECT** query.\n",
    "- The SQL code to **SELECT** the year from `trip_start_timestamp` is <code>SELECT EXTRACT(YEAR FROM trip_start_timestamp)</code>\n",
    "- The **FROM** field can be a little tricky until you are used to it.  The format is:\n",
    "    1. A backick (the symbol \\`).\n",
    "    2. The project name. In this case it is `bigquery-public-data`.\n",
    "    3. A period.\n",
    "    4. The dataset name. In this case, it is `chicago_taxi_trips`.\n",
    "    5. A period.\n",
    "    6. The table name. You used this as your answer in **1) Find the data**.\n",
    "    7. A backtick (the symbol \\`)."
   ]
  },
  {
   "cell_type": "code",
   "execution_count": 8,
   "id": "3fe1b477",
   "metadata": {
    "execution": {
     "iopub.execute_input": "2024-11-25T09:15:38.552426Z",
     "iopub.status.busy": "2024-11-25T09:15:38.552032Z",
     "iopub.status.idle": "2024-11-25T09:15:40.008886Z",
     "shell.execute_reply": "2024-11-25T09:15:40.007807Z"
    },
    "papermill": {
     "duration": 1.466998,
     "end_time": "2024-11-25T09:15:40.011345",
     "exception": false,
     "start_time": "2024-11-25T09:15:38.544347",
     "status": "completed"
    },
    "tags": []
   },
   "outputs": [
    {
     "data": {
      "application/javascript": [
       "parent.postMessage({\"jupyterEvent\": \"custom.exercise_interaction\", \"data\": {\"outcomeType\": 1, \"valueTowardsCompletion\": 0.16666666666666666, \"interactionType\": 1, \"questionType\": 2, \"questionId\": \"3_YearDistrib\", \"learnToolsVersion\": \"0.3.4\", \"failureMessage\": \"\", \"exceptionClass\": \"\", \"trace\": \"\"}}, \"*\")"
      ],
      "text/plain": [
       "<IPython.core.display.Javascript object>"
      ]
     },
     "metadata": {},
     "output_type": "display_data"
    },
    {
     "data": {
      "text/markdown": [
       "<span style=\"color:#33cc33\">Correct</span>"
      ],
      "text/plain": [
       "Correct"
      ]
     },
     "metadata": {},
     "output_type": "display_data"
    }
   ],
   "source": [
    "rides_per_year_query = \"\"\"\n",
    "                       SELECT EXTRACT(YEAR FROM trip_start_timestamp) AS year, \n",
    "                              COUNT(1) AS num_trips\n",
    "                       FROM `bigquery-public-data.chicago_taxi_trips.taxi_trips`\n",
    "                       GROUP BY year\n",
    "                       ORDER BY year\n",
    "                       \"\"\"\n",
    "\n",
    "# Set up the query (cancel the query if it would use too much of \n",
    "# your quota)\n",
    "safe_config = bigquery.QueryJobConfig(maximum_bytes_billed=10**10)\n",
    "rides_per_year_query_job = client.query(rides_per_year_query, job_config=safe_config)\n",
    "\n",
    "# API request - run the query, and return a pandas DataFrame\n",
    "rides_per_year_result = rides_per_year_query_job.to_dataframe()\n",
    "\n",
    "# Check your answer\n",
    "q_3.check()"
   ]
  },
  {
   "cell_type": "markdown",
   "id": "0b6f3d29",
   "metadata": {
    "papermill": {
     "duration": 0.006484,
     "end_time": "2024-11-25T09:15:40.024624",
     "exception": false,
     "start_time": "2024-11-25T09:15:40.018140",
     "status": "completed"
    },
    "tags": []
   },
   "source": [
    "For a hint or the solution, uncomment the appropriate line below."
   ]
  },
  {
   "cell_type": "code",
   "execution_count": 9,
   "id": "6209a4f0",
   "metadata": {
    "execution": {
     "iopub.execute_input": "2024-11-25T09:15:40.040085Z",
     "iopub.status.busy": "2024-11-25T09:15:40.039703Z",
     "iopub.status.idle": "2024-11-25T09:15:40.044354Z",
     "shell.execute_reply": "2024-11-25T09:15:40.043285Z"
    },
    "papermill": {
     "duration": 0.015837,
     "end_time": "2024-11-25T09:15:40.047092",
     "exception": false,
     "start_time": "2024-11-25T09:15:40.031255",
     "status": "completed"
    },
    "tags": []
   },
   "outputs": [],
   "source": [
    "#q_3.hint()\n",
    "#q_3.solution()"
   ]
  },
  {
   "cell_type": "markdown",
   "id": "0d1c8bf1",
   "metadata": {
    "papermill": {
     "duration": 0.006517,
     "end_time": "2024-11-25T09:15:40.062563",
     "exception": false,
     "start_time": "2024-11-25T09:15:40.056046",
     "status": "completed"
    },
    "tags": []
   },
   "source": [
    "### 4) Dive slightly deeper\n",
    "\n",
    "You'd like to take a closer look at rides from 2016.  Copy the query you used above in `rides_per_year_query` into the cell below for `rides_per_month_query`.  Then modify it in two ways:\n",
    "1. Use a **WHERE** clause to limit the query to data from 2016.\n",
    "2. Modify the query to extract the month rather than the year."
   ]
  },
  {
   "cell_type": "code",
   "execution_count": 10,
   "id": "d7b23d14",
   "metadata": {
    "execution": {
     "iopub.execute_input": "2024-11-25T09:15:40.078682Z",
     "iopub.status.busy": "2024-11-25T09:15:40.077783Z",
     "iopub.status.idle": "2024-11-25T09:15:41.146091Z",
     "shell.execute_reply": "2024-11-25T09:15:41.144757Z"
    },
    "papermill": {
     "duration": 1.079599,
     "end_time": "2024-11-25T09:15:41.148837",
     "exception": false,
     "start_time": "2024-11-25T09:15:40.069238",
     "status": "completed"
    },
    "tags": []
   },
   "outputs": [
    {
     "data": {
      "application/javascript": [
       "parent.postMessage({\"jupyterEvent\": \"custom.exercise_interaction\", \"data\": {\"outcomeType\": 1, \"valueTowardsCompletion\": 0.16666666666666666, \"interactionType\": 1, \"questionType\": 2, \"questionId\": \"4_MonthDistrib\", \"learnToolsVersion\": \"0.3.4\", \"failureMessage\": \"\", \"exceptionClass\": \"\", \"trace\": \"\"}}, \"*\")"
      ],
      "text/plain": [
       "<IPython.core.display.Javascript object>"
      ]
     },
     "metadata": {},
     "output_type": "display_data"
    },
    {
     "data": {
      "text/markdown": [
       "<span style=\"color:#33cc33\">Correct</span>"
      ],
      "text/plain": [
       "Correct"
      ]
     },
     "metadata": {},
     "output_type": "display_data"
    }
   ],
   "source": [
    "rides_per_month_query = \"\"\"\n",
    "                        SELECT EXTRACT(MONTH FROM trip_start_timestamp) AS month, \n",
    "                               COUNT(1) AS num_trips\n",
    "                        FROM `bigquery-public-data.chicago_taxi_trips.taxi_trips`\n",
    "                        WHERE EXTRACT(YEAR FROM trip_start_timestamp) = 2016\n",
    "                        GROUP BY month\n",
    "                        ORDER BY month\n",
    "                        \"\"\"\n",
    "\n",
    "# Set up the query (cancel the query if it would use too much of \n",
    "# your quota)\n",
    "safe_config = bigquery.QueryJobConfig(maximum_bytes_billed=10**10)\n",
    "rides_per_month_query_job = client.query(rides_per_month_query, job_config=safe_config)\n",
    "\n",
    "# API request - run the query, and return a pandas DataFrame\n",
    "rides_per_month_result = rides_per_month_query_job.to_dataframe()\n",
    "\n",
    "# Check your answer\n",
    "q_4.check()"
   ]
  },
  {
   "cell_type": "markdown",
   "id": "2494858a",
   "metadata": {
    "papermill": {
     "duration": 0.006532,
     "end_time": "2024-11-25T09:15:41.162543",
     "exception": false,
     "start_time": "2024-11-25T09:15:41.156011",
     "status": "completed"
    },
    "tags": []
   },
   "source": [
    "For a hint or the solution, uncomment the appropriate line below."
   ]
  },
  {
   "cell_type": "code",
   "execution_count": 11,
   "id": "8288e28e",
   "metadata": {
    "execution": {
     "iopub.execute_input": "2024-11-25T09:15:41.178162Z",
     "iopub.status.busy": "2024-11-25T09:15:41.177791Z",
     "iopub.status.idle": "2024-11-25T09:15:41.182407Z",
     "shell.execute_reply": "2024-11-25T09:15:41.181295Z"
    },
    "papermill": {
     "duration": 0.015082,
     "end_time": "2024-11-25T09:15:41.184691",
     "exception": false,
     "start_time": "2024-11-25T09:15:41.169609",
     "status": "completed"
    },
    "tags": []
   },
   "outputs": [],
   "source": [
    "#q_4.hint()\n",
    "#q_4.solution()"
   ]
  },
  {
   "cell_type": "markdown",
   "id": "1538bc77",
   "metadata": {
    "papermill": {
     "duration": 0.006589,
     "end_time": "2024-11-25T09:15:41.198116",
     "exception": false,
     "start_time": "2024-11-25T09:15:41.191527",
     "status": "completed"
    },
    "tags": []
   },
   "source": [
    "### 5) Write the query\n",
    "\n",
    "It's time to step up the sophistication of your queries.  Write a query that shows, for each hour of the day in the dataset, the corresponding number of trips and average speed.\n",
    "\n",
    "Your results should have three columns:\n",
    "- `hour_of_day` - sort by this column, which holds the result of extracting the hour from `trip_start_timestamp`.\n",
    "- `num_trips` - the count of the total number of trips in each hour of the day (e.g. how many trips were started between 6AM and 7AM, independent of which day it occurred on).\n",
    "- `avg_mph` - the average speed, measured in miles per hour, for trips that started in that hour of the day.  Average speed in miles per hour is calculated as `3600 * SUM(trip_miles) / SUM(trip_seconds)`. (The value 3600 is used to convert from seconds to hours.)\n",
    "\n",
    "Restrict your query to data meeting the following criteria:\n",
    "- a `trip_start_timestamp` > **2016-01-01** and < **2016-04-01**\n",
    "- `trip_seconds` > 0 and `trip_miles` > 0\n",
    "\n",
    "You will use a common table expression (CTE) to select just the relevant rides.  Because this dataset is very big, this CTE should select only the columns you'll need to create the final output (though you won't actually create those in the CTE -- instead you'll create those in the later **SELECT** statement below the CTE).\n",
    "\n",
    "This is a much harder query than anything you've written so far.  Good luck!"
   ]
  },
  {
   "cell_type": "code",
   "execution_count": 12,
   "id": "e14eff92",
   "metadata": {
    "execution": {
     "iopub.execute_input": "2024-11-25T09:15:41.213757Z",
     "iopub.status.busy": "2024-11-25T09:15:41.213367Z",
     "iopub.status.idle": "2024-11-25T09:15:42.382966Z",
     "shell.execute_reply": "2024-11-25T09:15:42.381787Z"
    },
    "papermill": {
     "duration": 1.180137,
     "end_time": "2024-11-25T09:15:42.385290",
     "exception": false,
     "start_time": "2024-11-25T09:15:41.205153",
     "status": "completed"
    },
    "tags": []
   },
   "outputs": [
    {
     "name": "stdout",
     "output_type": "stream",
     "text": [
      "    hour_of_day  num_trips    avg_mph\n",
      "0             0     203092  20.191744\n",
      "1             1     178046  18.628598\n",
      "2             2     143447  18.444370\n",
      "3             3     108899  19.273107\n",
      "4             4      80067  27.599669\n",
      "5             5      75786  33.065604\n",
      "6             6     102254  28.533112\n",
      "7             7     187585  19.884592\n",
      "8             8     284223  16.787900\n",
      "9             9     306854  18.434124\n",
      "10           10     279762  20.091309\n",
      "11           11     294006  20.926340\n",
      "12           12     311522  20.063901\n",
      "13           13     317225  19.766321\n",
      "14           14     312629  19.309655\n",
      "15           15     319953  18.515564\n",
      "16           16     349455  17.168814\n",
      "17           17     394324  14.641375\n",
      "18           18     431991  15.381995\n",
      "19           19     416743  17.795008\n",
      "20           20     356279  20.347398\n",
      "21           21     318363  22.584731\n",
      "22           22     289886  21.129847\n",
      "23           23     241690  20.259757\n"
     ]
    },
    {
     "data": {
      "application/javascript": [
       "parent.postMessage({\"jupyterEvent\": \"custom.exercise_interaction\", \"data\": {\"outcomeType\": 1, \"valueTowardsCompletion\": 0.16666666666666666, \"interactionType\": 1, \"questionType\": 2, \"questionId\": \"5_TheLongQuery\", \"learnToolsVersion\": \"0.3.4\", \"failureMessage\": \"\", \"exceptionClass\": \"\", \"trace\": \"\"}}, \"*\")"
      ],
      "text/plain": [
       "<IPython.core.display.Javascript object>"
      ]
     },
     "metadata": {},
     "output_type": "display_data"
    },
    {
     "data": {
      "text/markdown": [
       "<span style=\"color:#33cc33\">Correct</span>"
      ],
      "text/plain": [
       "Correct"
      ]
     },
     "metadata": {},
     "output_type": "display_data"
    }
   ],
   "source": [
    "speeds_query = \"\"\"\n",
    "               WITH RelevantRides AS\n",
    "               (\n",
    "                   SELECT EXTRACT(HOUR FROM trip_start_timestamp) AS hour_of_day, \n",
    "                          trip_miles, \n",
    "                          trip_seconds\n",
    "                   FROM `bigquery-public-data.chicago_taxi_trips.taxi_trips`\n",
    "                   WHERE trip_start_timestamp > '2016-01-01' AND \n",
    "                         trip_start_timestamp < '2016-04-01' AND \n",
    "                         trip_seconds > 0 AND \n",
    "                         trip_miles > 0\n",
    "               )\n",
    "               SELECT hour_of_day, \n",
    "                      COUNT(1) AS num_trips, \n",
    "                      3600 * SUM(trip_miles) / SUM(trip_seconds) AS avg_mph\n",
    "               FROM RelevantRides\n",
    "               GROUP BY hour_of_day\n",
    "               ORDER BY hour_of_day\n",
    "               \"\"\"\n",
    "\n",
    "# Set up the query (cancel the query if it would use too much of \n",
    "# your quota)\n",
    "safe_config = bigquery.QueryJobConfig(maximum_bytes_billed=10**10)\n",
    "speeds_query_job = client.query(speeds_query, job_config=safe_config)\n",
    "\n",
    "# API request - run the query, and return a pandas DataFrame\n",
    "speeds_result = speeds_query_job.to_dataframe()\n",
    "\n",
    "# View results\n",
    "print(speeds_result)\n",
    "# Check your answer\n",
    "q_5.check()"
   ]
  },
  {
   "cell_type": "markdown",
   "id": "a7fd6e9e",
   "metadata": {
    "papermill": {
     "duration": 0.006952,
     "end_time": "2024-11-25T09:15:42.399141",
     "exception": false,
     "start_time": "2024-11-25T09:15:42.392189",
     "status": "completed"
    },
    "tags": []
   },
   "source": [
    "For the solution, uncomment the appropriate line below."
   ]
  },
  {
   "cell_type": "code",
   "execution_count": 13,
   "id": "c31ab6cd",
   "metadata": {
    "execution": {
     "iopub.execute_input": "2024-11-25T09:15:42.415135Z",
     "iopub.status.busy": "2024-11-25T09:15:42.414769Z",
     "iopub.status.idle": "2024-11-25T09:15:42.419652Z",
     "shell.execute_reply": "2024-11-25T09:15:42.418562Z"
    },
    "papermill": {
     "duration": 0.01529,
     "end_time": "2024-11-25T09:15:42.421867",
     "exception": false,
     "start_time": "2024-11-25T09:15:42.406577",
     "status": "completed"
    },
    "tags": []
   },
   "outputs": [],
   "source": [
    "#q_5.solution()"
   ]
  },
  {
   "cell_type": "markdown",
   "id": "a503e12b",
   "metadata": {
    "papermill": {
     "duration": 0.006793,
     "end_time": "2024-11-25T09:15:42.436050",
     "exception": false,
     "start_time": "2024-11-25T09:15:42.429257",
     "status": "completed"
    },
    "tags": []
   },
   "source": [
    "That's a hard query. If you made good progress towards the solution, congratulations!"
   ]
  },
  {
   "cell_type": "markdown",
   "id": "ef725d10",
   "metadata": {
    "papermill": {
     "duration": 0.00671,
     "end_time": "2024-11-25T09:15:42.450095",
     "exception": false,
     "start_time": "2024-11-25T09:15:42.443385",
     "status": "completed"
    },
    "tags": []
   },
   "source": [
    "# Keep going\n",
    "\n",
    "You can write very complex queries now with a single data source. But nothing expands the horizons of SQL as much as the ability to combine or **JOIN** tables.\n",
    "\n",
    "**[Click here](https://www.kaggle.com/dansbecker/joining-data)** to start the last lesson in the Intro to SQL course."
   ]
  },
  {
   "cell_type": "markdown",
   "id": "e7beaec6",
   "metadata": {
    "papermill": {
     "duration": 0.006503,
     "end_time": "2024-11-25T09:15:42.463499",
     "exception": false,
     "start_time": "2024-11-25T09:15:42.456996",
     "status": "completed"
    },
    "tags": []
   },
   "source": [
    "---\n",
    "\n",
    "\n",
    "\n",
    "\n",
    "*Have questions or comments? Visit the [course discussion forum](https://www.kaggle.com/learn/intro-to-sql/discussion) to chat with other learners.*"
   ]
  }
 ],
 "metadata": {
  "kaggle": {
   "accelerator": "none",
   "dataSources": [
    {
     "datasetId": 22219,
     "sourceId": 28536,
     "sourceType": "datasetVersion"
    },
    {
     "datasetId": 11496,
     "sourceId": 285947,
     "sourceType": "datasetVersion"
    }
   ],
   "isGpuEnabled": false,
   "isInternetEnabled": true,
   "language": "python",
   "sourceType": "notebook"
  },
  "kernelspec": {
   "display_name": "Python 3",
   "language": "python",
   "name": "python3"
  },
  "language_info": {
   "codemirror_mode": {
    "name": "ipython",
    "version": 3
   },
   "file_extension": ".py",
   "mimetype": "text/x-python",
   "name": "python",
   "nbconvert_exporter": "python",
   "pygments_lexer": "ipython3",
   "version": "3.10.14"
  },
  "papermill": {
   "default_parameters": {},
   "duration": 39.649879,
   "end_time": "2024-11-25T09:15:43.292601",
   "environment_variables": {},
   "exception": null,
   "input_path": "__notebook__.ipynb",
   "output_path": "__notebook__.ipynb",
   "parameters": {},
   "start_time": "2024-11-25T09:15:03.642722",
   "version": "2.6.0"
  }
 },
 "nbformat": 4,
 "nbformat_minor": 5
}

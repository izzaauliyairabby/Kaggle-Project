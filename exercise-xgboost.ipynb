{
 "cells": [
  {
   "cell_type": "markdown",
   "id": "02321327",
   "metadata": {
    "papermill": {
     "duration": 0.004925,
     "end_time": "2024-11-19T15:46:08.277888",
     "exception": false,
     "start_time": "2024-11-19T15:46:08.272963",
     "status": "completed"
    },
    "tags": []
   },
   "source": [
    "**This notebook is an exercise in the [Intermediate Machine Learning](https://www.kaggle.com/learn/intermediate-machine-learning) course.  You can reference the tutorial at [this link](https://www.kaggle.com/alexisbcook/xgboost).**\n",
    "\n",
    "---\n"
   ]
  },
  {
   "cell_type": "markdown",
   "id": "e7f1e17d",
   "metadata": {
    "papermill": {
     "duration": 0.003924,
     "end_time": "2024-11-19T15:46:08.286171",
     "exception": false,
     "start_time": "2024-11-19T15:46:08.282247",
     "status": "completed"
    },
    "tags": []
   },
   "source": [
    "In this exercise, you will use your new knowledge to train a model with **gradient boosting**.\n",
    "\n",
    "# Setup\n",
    "\n",
    "The questions below will give you feedback on your work. Run the following cell to set up the feedback system."
   ]
  },
  {
   "cell_type": "code",
   "execution_count": 1,
   "id": "019495a3",
   "metadata": {
    "execution": {
     "iopub.execute_input": "2024-11-19T15:46:08.296037Z",
     "iopub.status.busy": "2024-11-19T15:46:08.295620Z",
     "iopub.status.idle": "2024-11-19T15:46:11.658744Z",
     "shell.execute_reply": "2024-11-19T15:46:11.657682Z"
    },
    "papermill": {
     "duration": 3.370845,
     "end_time": "2024-11-19T15:46:11.661090",
     "exception": false,
     "start_time": "2024-11-19T15:46:08.290245",
     "status": "completed"
    },
    "tags": []
   },
   "outputs": [
    {
     "name": "stdout",
     "output_type": "stream",
     "text": [
      "Setup Complete\n"
     ]
    }
   ],
   "source": [
    "# Set up code checking\n",
    "import os\n",
    "if not os.path.exists(\"../input/train.csv\"):\n",
    "    os.symlink(\"../input/home-data-for-ml-course/train.csv\", \"../input/train.csv\")  \n",
    "    os.symlink(\"../input/home-data-for-ml-course/test.csv\", \"../input/test.csv\") \n",
    "from learntools.core import binder\n",
    "binder.bind(globals())\n",
    "from learntools.ml_intermediate.ex6 import *\n",
    "print(\"Setup Complete\")"
   ]
  },
  {
   "cell_type": "markdown",
   "id": "42af166e",
   "metadata": {
    "papermill": {
     "duration": 0.003991,
     "end_time": "2024-11-19T15:46:11.669779",
     "exception": false,
     "start_time": "2024-11-19T15:46:11.665788",
     "status": "completed"
    },
    "tags": []
   },
   "source": [
    "You will work with the [Housing Prices Competition for Kaggle Learn Users](https://www.kaggle.com/c/home-data-for-ml-course) dataset from the previous exercise. \n",
    "\n",
    "![Ames Housing dataset image](https://storage.googleapis.com/kaggle-media/learn/images/lTJVG4e.png)\n",
    "\n",
    "Run the next code cell without changes to load the training and validation sets in `X_train`, `X_valid`, `y_train`, and `y_valid`.  The test set is loaded in `X_test`."
   ]
  },
  {
   "cell_type": "code",
   "execution_count": 2,
   "id": "2679e5e9",
   "metadata": {
    "execution": {
     "iopub.execute_input": "2024-11-19T15:46:11.679806Z",
     "iopub.status.busy": "2024-11-19T15:46:11.679423Z",
     "iopub.status.idle": "2024-11-19T15:46:11.826956Z",
     "shell.execute_reply": "2024-11-19T15:46:11.825786Z"
    },
    "papermill": {
     "duration": 0.155541,
     "end_time": "2024-11-19T15:46:11.829537",
     "exception": false,
     "start_time": "2024-11-19T15:46:11.673996",
     "status": "completed"
    },
    "tags": []
   },
   "outputs": [],
   "source": [
    "import pandas as pd\n",
    "from sklearn.model_selection import train_test_split\n",
    "\n",
    "# Read the data\n",
    "X = pd.read_csv('../input/train.csv', index_col='Id')\n",
    "X_test_full = pd.read_csv('../input/test.csv', index_col='Id')\n",
    "\n",
    "# Remove rows with missing target, separate target from predictors\n",
    "X.dropna(axis=0, subset=['SalePrice'], inplace=True)\n",
    "y = X.SalePrice              \n",
    "X.drop(['SalePrice'], axis=1, inplace=True)\n",
    "\n",
    "# Break off validation set from training data\n",
    "X_train_full, X_valid_full, y_train, y_valid = train_test_split(X, y, train_size=0.8, test_size=0.2,\n",
    "                                                                random_state=0)\n",
    "\n",
    "# \"Cardinality\" means the number of unique values in a column\n",
    "# Select categorical columns with relatively low cardinality (convenient but arbitrary)\n",
    "low_cardinality_cols = [cname for cname in X_train_full.columns if X_train_full[cname].nunique() < 10 and \n",
    "                        X_train_full[cname].dtype == \"object\"]\n",
    "\n",
    "# Select numeric columns\n",
    "numeric_cols = [cname for cname in X_train_full.columns if X_train_full[cname].dtype in ['int64', 'float64']]\n",
    "\n",
    "# Keep selected columns only\n",
    "my_cols = low_cardinality_cols + numeric_cols\n",
    "X_train = X_train_full[my_cols].copy()\n",
    "X_valid = X_valid_full[my_cols].copy()\n",
    "X_test = X_test_full[my_cols].copy()\n",
    "\n",
    "# One-hot encode the data (to shorten the code, we use pandas)\n",
    "X_train = pd.get_dummies(X_train)\n",
    "X_valid = pd.get_dummies(X_valid)\n",
    "X_test = pd.get_dummies(X_test)\n",
    "X_train, X_valid = X_train.align(X_valid, join='left', axis=1)\n",
    "X_train, X_test = X_train.align(X_test, join='left', axis=1)"
   ]
  },
  {
   "cell_type": "markdown",
   "id": "663226d0",
   "metadata": {
    "papermill": {
     "duration": 0.00401,
     "end_time": "2024-11-19T15:46:11.838127",
     "exception": false,
     "start_time": "2024-11-19T15:46:11.834117",
     "status": "completed"
    },
    "tags": []
   },
   "source": [
    "# Step 1: Build model\n",
    "\n",
    "### Part A\n",
    "\n",
    "In this step, you'll build and train your first model with gradient boosting.\n",
    "\n",
    "- Begin by setting `my_model_1` to an XGBoost model.  Use the [XGBRegressor](https://xgboost.readthedocs.io/en/latest/python/python_api.html#xgboost.XGBRegressor) class, and set the random seed to 0 (`random_state=0`).  **Leave all other parameters as default.**\n",
    "- Then, fit the model to the training data in `X_train` and `y_train`."
   ]
  },
  {
   "cell_type": "code",
   "execution_count": 3,
   "id": "601018d7",
   "metadata": {
    "execution": {
     "iopub.execute_input": "2024-11-19T15:46:11.848079Z",
     "iopub.status.busy": "2024-11-19T15:46:11.847664Z",
     "iopub.status.idle": "2024-11-19T15:46:12.286027Z",
     "shell.execute_reply": "2024-11-19T15:46:12.284808Z"
    },
    "papermill": {
     "duration": 0.445921,
     "end_time": "2024-11-19T15:46:12.288169",
     "exception": false,
     "start_time": "2024-11-19T15:46:11.842248",
     "status": "completed"
    },
    "tags": []
   },
   "outputs": [
    {
     "data": {
      "application/javascript": [
       "parent.postMessage({\"jupyterEvent\": \"custom.exercise_interaction\", \"data\": {\"outcomeType\": 1, \"valueTowardsCompletion\": 0.5, \"interactionType\": 1, \"questionType\": 2, \"questionId\": \"1.1_Model1A\", \"learnToolsVersion\": \"0.3.4\", \"failureMessage\": \"\", \"exceptionClass\": \"\", \"trace\": \"\"}}, \"*\")"
      ],
      "text/plain": [
       "<IPython.core.display.Javascript object>"
      ]
     },
     "metadata": {},
     "output_type": "display_data"
    },
    {
     "data": {
      "text/markdown": [
       "<span style=\"color:#33cc33\">Correct</span>"
      ],
      "text/plain": [
       "Correct"
      ]
     },
     "metadata": {},
     "output_type": "display_data"
    }
   ],
   "source": [
    "from xgboost import XGBRegressor\n",
    "\n",
    "# Define the model\n",
    "my_model_1 = XGBRegressor(random_state=0)\n",
    "\n",
    "# Fit the model\n",
    "my_model_1.fit(X_train, y_train)\n",
    "\n",
    "# Check your answer\n",
    "step_1.a.check()"
   ]
  },
  {
   "cell_type": "code",
   "execution_count": 4,
   "id": "1ffde048",
   "metadata": {
    "execution": {
     "iopub.execute_input": "2024-11-19T15:46:12.300081Z",
     "iopub.status.busy": "2024-11-19T15:46:12.299662Z",
     "iopub.status.idle": "2024-11-19T15:46:12.304000Z",
     "shell.execute_reply": "2024-11-19T15:46:12.303011Z"
    },
    "papermill": {
     "duration": 0.012496,
     "end_time": "2024-11-19T15:46:12.306292",
     "exception": false,
     "start_time": "2024-11-19T15:46:12.293796",
     "status": "completed"
    },
    "tags": []
   },
   "outputs": [],
   "source": [
    "# Lines below will give you a hint or solution code\n",
    "#step_1.a.hint()\n",
    "#step_1.a.solution()"
   ]
  },
  {
   "cell_type": "markdown",
   "id": "876d696d",
   "metadata": {
    "papermill": {
     "duration": 0.004389,
     "end_time": "2024-11-19T15:46:12.315290",
     "exception": false,
     "start_time": "2024-11-19T15:46:12.310901",
     "status": "completed"
    },
    "tags": []
   },
   "source": [
    "### Part B\n",
    "\n",
    "Set `predictions_1` to the model's predictions for the validation data.  Recall that the validation features are stored in `X_valid`."
   ]
  },
  {
   "cell_type": "code",
   "execution_count": 5,
   "id": "bca13679",
   "metadata": {
    "execution": {
     "iopub.execute_input": "2024-11-19T15:46:12.326354Z",
     "iopub.status.busy": "2024-11-19T15:46:12.325450Z",
     "iopub.status.idle": "2024-11-19T15:46:12.361599Z",
     "shell.execute_reply": "2024-11-19T15:46:12.359785Z"
    },
    "papermill": {
     "duration": 0.044624,
     "end_time": "2024-11-19T15:46:12.364402",
     "exception": false,
     "start_time": "2024-11-19T15:46:12.319778",
     "status": "completed"
    },
    "tags": []
   },
   "outputs": [
    {
     "data": {
      "application/javascript": [
       "parent.postMessage({\"jupyterEvent\": \"custom.exercise_interaction\", \"data\": {\"outcomeType\": 1, \"valueTowardsCompletion\": 0.5, \"interactionType\": 1, \"questionType\": 2, \"questionId\": \"1.2_Model1B\", \"learnToolsVersion\": \"0.3.4\", \"failureMessage\": \"\", \"exceptionClass\": \"\", \"trace\": \"\"}}, \"*\")"
      ],
      "text/plain": [
       "<IPython.core.display.Javascript object>"
      ]
     },
     "metadata": {},
     "output_type": "display_data"
    },
    {
     "data": {
      "text/markdown": [
       "<span style=\"color:#33cc33\">Correct</span>"
      ],
      "text/plain": [
       "Correct"
      ]
     },
     "metadata": {},
     "output_type": "display_data"
    }
   ],
   "source": [
    "from sklearn.metrics import mean_absolute_error\n",
    "\n",
    "# Get predictions\n",
    "predictions_1 = my_model_1.predict(X_valid) # Your code here\n",
    "\n",
    "# Check your answer\n",
    "step_1.b.check()"
   ]
  },
  {
   "cell_type": "code",
   "execution_count": 6,
   "id": "2113fb3b",
   "metadata": {
    "execution": {
     "iopub.execute_input": "2024-11-19T15:46:12.375888Z",
     "iopub.status.busy": "2024-11-19T15:46:12.375487Z",
     "iopub.status.idle": "2024-11-19T15:46:12.379761Z",
     "shell.execute_reply": "2024-11-19T15:46:12.378860Z"
    },
    "papermill": {
     "duration": 0.012343,
     "end_time": "2024-11-19T15:46:12.381580",
     "exception": false,
     "start_time": "2024-11-19T15:46:12.369237",
     "status": "completed"
    },
    "tags": []
   },
   "outputs": [],
   "source": [
    "# Lines below will give you a hint or solution code\n",
    "#step_1.b.hint()\n",
    "#step_1.b.solution()"
   ]
  },
  {
   "cell_type": "markdown",
   "id": "4662b80c",
   "metadata": {
    "papermill": {
     "duration": 0.004348,
     "end_time": "2024-11-19T15:46:12.390626",
     "exception": false,
     "start_time": "2024-11-19T15:46:12.386278",
     "status": "completed"
    },
    "tags": []
   },
   "source": [
    "### Part C\n",
    "\n",
    "Finally, use the `mean_absolute_error()` function to calculate the mean absolute error (MAE) corresponding to the predictions for the validation set.  Recall that the labels for the validation data are stored in `y_valid`."
   ]
  },
  {
   "cell_type": "code",
   "execution_count": 7,
   "id": "739c4462",
   "metadata": {
    "execution": {
     "iopub.execute_input": "2024-11-19T15:46:12.401719Z",
     "iopub.status.busy": "2024-11-19T15:46:12.401336Z",
     "iopub.status.idle": "2024-11-19T15:46:12.410841Z",
     "shell.execute_reply": "2024-11-19T15:46:12.409763Z"
    },
    "papermill": {
     "duration": 0.017362,
     "end_time": "2024-11-19T15:46:12.412819",
     "exception": false,
     "start_time": "2024-11-19T15:46:12.395457",
     "status": "completed"
    },
    "tags": []
   },
   "outputs": [
    {
     "data": {
      "application/javascript": [
       "parent.postMessage({\"jupyterEvent\": \"custom.exercise_interaction\", \"data\": {\"outcomeType\": 1, \"valueTowardsCompletion\": 0.5, \"interactionType\": 1, \"questionType\": 2, \"questionId\": \"1.3_Model1C\", \"learnToolsVersion\": \"0.3.4\", \"failureMessage\": \"\", \"exceptionClass\": \"\", \"trace\": \"\"}}, \"*\")"
      ],
      "text/plain": [
       "<IPython.core.display.Javascript object>"
      ]
     },
     "metadata": {},
     "output_type": "display_data"
    },
    {
     "data": {
      "text/markdown": [
       "<span style=\"color:#33cc33\">Correct</span>"
      ],
      "text/plain": [
       "Correct"
      ]
     },
     "metadata": {},
     "output_type": "display_data"
    }
   ],
   "source": [
    "# Calculate MAE\n",
    "mae_1 = mean_absolute_error(predictions_1, y_valid) # Your code here\n",
    "\n",
    "# Uncomment to print MAE\n",
    "# print(\"Mean Absolute Error:\" , mae_1)\n",
    "\n",
    "# Check your answer\n",
    "step_1.c.check()"
   ]
  },
  {
   "cell_type": "code",
   "execution_count": 8,
   "id": "7a21e3ac",
   "metadata": {
    "execution": {
     "iopub.execute_input": "2024-11-19T15:46:12.424271Z",
     "iopub.status.busy": "2024-11-19T15:46:12.423849Z",
     "iopub.status.idle": "2024-11-19T15:46:12.428005Z",
     "shell.execute_reply": "2024-11-19T15:46:12.427014Z"
    },
    "papermill": {
     "duration": 0.012241,
     "end_time": "2024-11-19T15:46:12.430087",
     "exception": false,
     "start_time": "2024-11-19T15:46:12.417846",
     "status": "completed"
    },
    "tags": []
   },
   "outputs": [],
   "source": [
    "# Lines below will give you a hint or solution code\n",
    "#step_1.c.hint()\n",
    "#step_1.c.solution()"
   ]
  },
  {
   "cell_type": "markdown",
   "id": "597d3033",
   "metadata": {
    "papermill": {
     "duration": 0.004916,
     "end_time": "2024-11-19T15:46:12.440159",
     "exception": false,
     "start_time": "2024-11-19T15:46:12.435243",
     "status": "completed"
    },
    "tags": []
   },
   "source": [
    "# Step 2: Improve the model\n",
    "\n",
    "Now that you've trained a default model as baseline, it's time to tinker with the parameters, to see if you can get better performance!\n",
    "- Begin by setting `my_model_2` to an XGBoost model, using the [XGBRegressor](https://xgboost.readthedocs.io/en/latest/python/python_api.html#xgboost.XGBRegressor) class.  Use what you learned in the previous tutorial to figure out how to change the default parameters (like `n_estimators` and `learning_rate`) to get better results.\n",
    "- Then, fit the model to the training data in `X_train` and `y_train`.\n",
    "- Set `predictions_2` to the model's predictions for the validation data.  Recall that the validation features are stored in `X_valid`.\n",
    "- Finally, use the `mean_absolute_error()` function to calculate the mean absolute error (MAE) corresponding to the predictions on the validation set.  Recall that the labels for the validation data are stored in `y_valid`.\n",
    "\n",
    "In order for this step to be marked correct, your model in `my_model_2` must attain lower MAE than the model in `my_model_1`. "
   ]
  },
  {
   "cell_type": "code",
   "execution_count": 9,
   "id": "4486aefc",
   "metadata": {
    "execution": {
     "iopub.execute_input": "2024-11-19T15:46:12.451582Z",
     "iopub.status.busy": "2024-11-19T15:46:12.451207Z",
     "iopub.status.idle": "2024-11-19T15:46:17.846118Z",
     "shell.execute_reply": "2024-11-19T15:46:17.844922Z"
    },
    "papermill": {
     "duration": 5.402853,
     "end_time": "2024-11-19T15:46:17.847996",
     "exception": false,
     "start_time": "2024-11-19T15:46:12.445143",
     "status": "completed"
    },
    "tags": []
   },
   "outputs": [
    {
     "name": "stdout",
     "output_type": "stream",
     "text": [
      "Mean Absolute Error: 17224.27947078339\n"
     ]
    },
    {
     "data": {
      "application/javascript": [
       "parent.postMessage({\"jupyterEvent\": \"custom.exercise_interaction\", \"data\": {\"outcomeType\": 1, \"valueTowardsCompletion\": 0.5, \"interactionType\": 1, \"questionType\": 2, \"questionId\": \"2_Model2\", \"learnToolsVersion\": \"0.3.4\", \"failureMessage\": \"\", \"exceptionClass\": \"\", \"trace\": \"\"}}, \"*\")"
      ],
      "text/plain": [
       "<IPython.core.display.Javascript object>"
      ]
     },
     "metadata": {},
     "output_type": "display_data"
    },
    {
     "data": {
      "text/markdown": [
       "<span style=\"color:#33cc33\">Correct</span>"
      ],
      "text/plain": [
       "Correct"
      ]
     },
     "metadata": {},
     "output_type": "display_data"
    }
   ],
   "source": [
    "# Define the model\n",
    "my_model_2 = XGBRegressor(n_estimators=1000, learning_rate=0.05)\n",
    "\n",
    "# Fit the model\n",
    "my_model_2.fit(X_train, y_train)\n",
    "\n",
    "# Get predictions\n",
    "predictions_2 = my_model_2.predict(X_valid)\n",
    "\n",
    "# Calculate MAE\n",
    "mae_2 = mean_absolute_error(predictions_2, y_valid)\n",
    "print(\"Mean Absolute Error:\" , mae_2)\n",
    "\n",
    "# Uncomment to print MAE\n",
    "# print(\"Mean Absolute Error:\" , mae_2)\n",
    "\n",
    "# Check your answer\n",
    "step_2.check()"
   ]
  },
  {
   "cell_type": "code",
   "execution_count": 10,
   "id": "aa885b2c",
   "metadata": {
    "execution": {
     "iopub.execute_input": "2024-11-19T15:46:17.859996Z",
     "iopub.status.busy": "2024-11-19T15:46:17.859559Z",
     "iopub.status.idle": "2024-11-19T15:46:17.863913Z",
     "shell.execute_reply": "2024-11-19T15:46:17.862922Z"
    },
    "papermill": {
     "duration": 0.012848,
     "end_time": "2024-11-19T15:46:17.866002",
     "exception": false,
     "start_time": "2024-11-19T15:46:17.853154",
     "status": "completed"
    },
    "tags": []
   },
   "outputs": [],
   "source": [
    "# Lines below will give you a hint or solution code\n",
    "#step_2.hint()\n",
    "#step_2.solution()"
   ]
  },
  {
   "cell_type": "markdown",
   "id": "791c30b2",
   "metadata": {
    "papermill": {
     "duration": 0.00495,
     "end_time": "2024-11-19T15:46:17.876543",
     "exception": false,
     "start_time": "2024-11-19T15:46:17.871593",
     "status": "completed"
    },
    "tags": []
   },
   "source": [
    "# Step 3: Break the model\n",
    "\n",
    "In this step, you will create a model that performs worse than the original model in Step 1.  This will help you to develop your intuition for how to set parameters.  You might even find that you accidentally get better performance, which is ultimately a nice problem to have and a valuable learning experience!\n",
    "- Begin by setting `my_model_3` to an XGBoost model, using the [XGBRegressor](https://xgboost.readthedocs.io/en/latest/python/python_api.html#xgboost.XGBRegressor) class.  Use what you learned in the previous tutorial to figure out how to change the default parameters (like `n_estimators` and `learning_rate`) to design a model to get high MAE.\n",
    "- Then, fit the model to the training data in `X_train` and `y_train`.\n",
    "- Set `predictions_3` to the model's predictions for the validation data.  Recall that the validation features are stored in `X_valid`.\n",
    "- Finally, use the `mean_absolute_error()` function to calculate the mean absolute error (MAE) corresponding to the predictions on the validation set.  Recall that the labels for the validation data are stored in `y_valid`.\n",
    "\n",
    "In order for this step to be marked correct, your model in `my_model_3` must attain higher MAE than the model in `my_model_1`. "
   ]
  },
  {
   "cell_type": "code",
   "execution_count": 11,
   "id": "cd4d5846",
   "metadata": {
    "execution": {
     "iopub.execute_input": "2024-11-19T15:46:17.888190Z",
     "iopub.status.busy": "2024-11-19T15:46:17.887764Z",
     "iopub.status.idle": "2024-11-19T15:46:17.987379Z",
     "shell.execute_reply": "2024-11-19T15:46:17.986385Z"
    },
    "papermill": {
     "duration": 0.110518,
     "end_time": "2024-11-19T15:46:17.992090",
     "exception": false,
     "start_time": "2024-11-19T15:46:17.881572",
     "status": "completed"
    },
    "tags": []
   },
   "outputs": [
    {
     "name": "stdout",
     "output_type": "stream",
     "text": [
      "Mean Absolute Error: 42678.815550085616\n"
     ]
    },
    {
     "data": {
      "application/javascript": [
       "parent.postMessage({\"jupyterEvent\": \"custom.exercise_interaction\", \"data\": {\"outcomeType\": 1, \"valueTowardsCompletion\": 0.5, \"interactionType\": 1, \"questionType\": 2, \"questionId\": \"3_Model3\", \"learnToolsVersion\": \"0.3.4\", \"failureMessage\": \"\", \"exceptionClass\": \"\", \"trace\": \"\"}}, \"*\")"
      ],
      "text/plain": [
       "<IPython.core.display.Javascript object>"
      ]
     },
     "metadata": {},
     "output_type": "display_data"
    },
    {
     "data": {
      "text/markdown": [
       "<span style=\"color:#33cc33\">Correct</span>"
      ],
      "text/plain": [
       "Correct"
      ]
     },
     "metadata": {},
     "output_type": "display_data"
    }
   ],
   "source": [
    "# Define the model\n",
    "my_model_3 = XGBRegressor(n_estimators=1)\n",
    "\n",
    "# Fit the model\n",
    "my_model_3.fit(X_train, y_train)\n",
    "\n",
    "# Get predictions\n",
    "predictions_3 = my_model_3.predict(X_valid)\n",
    "\n",
    "# Calculate MAE\n",
    "mae_3 = mean_absolute_error(predictions_3, y_valid)\n",
    "print(\"Mean Absolute Error:\" , mae_3)\n",
    "\n",
    "# Uncomment to print MAE\n",
    "# print(\"Mean Absolute Error:\" , mae_3)\n",
    "\n",
    "# Check your answer\n",
    "step_3.check()"
   ]
  },
  {
   "cell_type": "code",
   "execution_count": 12,
   "id": "2512ba53",
   "metadata": {
    "execution": {
     "iopub.execute_input": "2024-11-19T15:46:18.004811Z",
     "iopub.status.busy": "2024-11-19T15:46:18.004210Z",
     "iopub.status.idle": "2024-11-19T15:46:18.008394Z",
     "shell.execute_reply": "2024-11-19T15:46:18.007452Z"
    },
    "papermill": {
     "duration": 0.012854,
     "end_time": "2024-11-19T15:46:18.010419",
     "exception": false,
     "start_time": "2024-11-19T15:46:17.997565",
     "status": "completed"
    },
    "tags": []
   },
   "outputs": [],
   "source": [
    "# Lines below will give you a hint or solution code\n",
    "#step_3.hint()\n",
    "#step_3.solution()"
   ]
  },
  {
   "cell_type": "markdown",
   "id": "8a0fa699",
   "metadata": {
    "papermill": {
     "duration": 0.005175,
     "end_time": "2024-11-19T15:46:18.021212",
     "exception": false,
     "start_time": "2024-11-19T15:46:18.016037",
     "status": "completed"
    },
    "tags": []
   },
   "source": [
    "# Keep going\n",
    "\n",
    "Continue to learn about **[data leakage](https://www.kaggle.com/alexisbcook/data-leakage)**.  This is an important issue for a data scientist to understand, and it has the potential to ruin your models in subtle and dangerous ways!"
   ]
  },
  {
   "cell_type": "markdown",
   "id": "21798342",
   "metadata": {
    "papermill": {
     "duration": 0.005184,
     "end_time": "2024-11-19T15:46:18.031683",
     "exception": false,
     "start_time": "2024-11-19T15:46:18.026499",
     "status": "completed"
    },
    "tags": []
   },
   "source": [
    "---\n",
    "\n",
    "\n",
    "\n",
    "\n",
    "*Have questions or comments? Visit the [course discussion forum](https://www.kaggle.com/learn/intermediate-machine-learning/discussion) to chat with other learners.*"
   ]
  }
 ],
 "metadata": {
  "kaggle": {
   "accelerator": "none",
   "dataSources": [
    {
     "databundleVersionId": 111096,
     "sourceId": 10211,
     "sourceType": "competition"
    }
   ],
   "isGpuEnabled": false,
   "isInternetEnabled": false,
   "language": "python",
   "sourceType": "notebook"
  },
  "kernelspec": {
   "display_name": "Python 3",
   "language": "python",
   "name": "python3"
  },
  "language_info": {
   "codemirror_mode": {
    "name": "ipython",
    "version": 3
   },
   "file_extension": ".py",
   "mimetype": "text/x-python",
   "name": "python",
   "nbconvert_exporter": "python",
   "pygments_lexer": "ipython3",
   "version": "3.10.14"
  },
  "papermill": {
   "default_parameters": {},
   "duration": 13.099915,
   "end_time": "2024-11-19T15:46:18.658144",
   "environment_variables": {},
   "exception": null,
   "input_path": "__notebook__.ipynb",
   "output_path": "__notebook__.ipynb",
   "parameters": {},
   "start_time": "2024-11-19T15:46:05.558229",
   "version": "2.6.0"
  }
 },
 "nbformat": 4,
 "nbformat_minor": 5
}

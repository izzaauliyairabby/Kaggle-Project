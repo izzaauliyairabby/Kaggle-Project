{
 "cells": [
  {
   "cell_type": "markdown",
   "id": "cbe08016",
   "metadata": {
    "papermill": {
     "duration": 0.006624,
     "end_time": "2025-03-12T23:37:54.413415",
     "exception": false,
     "start_time": "2025-03-12T23:37:54.406791",
     "status": "completed"
    },
    "tags": []
   },
   "source": [
    "**This notebook is an exercise in the [Data Cleaning](https://www.kaggle.com/learn/data-cleaning) course.  You can reference the tutorial at [this link](https://www.kaggle.com/alexisbcook/handling-missing-values).**\n",
    "\n",
    "---\n"
   ]
  },
  {
   "cell_type": "markdown",
   "id": "354da345",
   "metadata": {
    "papermill": {
     "duration": 0.005133,
     "end_time": "2025-03-12T23:37:54.424272",
     "exception": false,
     "start_time": "2025-03-12T23:37:54.419139",
     "status": "completed"
    },
    "tags": []
   },
   "source": [
    "In this exercise, you'll apply what you learned in the **Handling missing values** tutorial.\n",
    "\n",
    "# Setup\n",
    "\n",
    "The questions below will give you feedback on your work. Run the following cell to set up the feedback system."
   ]
  },
  {
   "cell_type": "code",
   "execution_count": 1,
   "id": "88a692da",
   "metadata": {
    "execution": {
     "iopub.execute_input": "2025-03-12T23:37:54.436485Z",
     "iopub.status.busy": "2025-03-12T23:37:54.436028Z",
     "iopub.status.idle": "2025-03-12T23:38:01.120541Z",
     "shell.execute_reply": "2025-03-12T23:38:01.119010Z"
    },
    "papermill": {
     "duration": 6.692738,
     "end_time": "2025-03-12T23:38:01.122398",
     "exception": false,
     "start_time": "2025-03-12T23:37:54.429660",
     "status": "completed"
    },
    "tags": []
   },
   "outputs": [
    {
     "name": "stderr",
     "output_type": "stream",
     "text": [
      "/usr/local/lib/python3.10/dist-packages/learntools/data_cleaning/ex1.py:6: DtypeWarning: Columns (22,32) have mixed types. Specify dtype option on import or set low_memory=False.\n",
      "  sf_permits = pd.read_csv(\"../input/building-permit-applications-data/Building_Permits.csv\")\n",
      "<ipython-input-1-b6529dcc52c3>:3: DeprecationWarning: `product` is deprecated as of NumPy 1.25.0, and will be removed in NumPy 2.0. Please use `prod` instead.\n",
      "  from learntools.data_cleaning.ex1 import *\n",
      "/usr/local/lib/python3.10/dist-packages/learntools/data_cleaning/ex1.py:69: FutureWarning: DataFrame.fillna with 'method' is deprecated and will raise in a future version. Use obj.ffill() or obj.bfill() instead.\n",
      "  _expected = sf_permits.fillna(method='bfill', axis=0).fillna(0)\n"
     ]
    },
    {
     "name": "stdout",
     "output_type": "stream",
     "text": [
      "Setup Complete\n"
     ]
    }
   ],
   "source": [
    "from learntools.core import binder\n",
    "binder.bind(globals())\n",
    "from learntools.data_cleaning.ex1 import *\n",
    "print(\"Setup Complete\")"
   ]
  },
  {
   "cell_type": "markdown",
   "id": "16df6794",
   "metadata": {
    "papermill": {
     "duration": 0.005441,
     "end_time": "2025-03-12T23:38:01.133933",
     "exception": false,
     "start_time": "2025-03-12T23:38:01.128492",
     "status": "completed"
    },
    "tags": []
   },
   "source": [
    "# 1) Take a first look at the data\n",
    "\n",
    "Run the next code cell to load in the libraries and dataset you'll use to complete the exercise."
   ]
  },
  {
   "cell_type": "code",
   "execution_count": 2,
   "id": "859f3a43",
   "metadata": {
    "execution": {
     "iopub.execute_input": "2025-03-12T23:38:01.147114Z",
     "iopub.status.busy": "2025-03-12T23:38:01.146782Z",
     "iopub.status.idle": "2025-03-12T23:38:03.101472Z",
     "shell.execute_reply": "2025-03-12T23:38:03.099781Z"
    },
    "papermill": {
     "duration": 1.963363,
     "end_time": "2025-03-12T23:38:03.103220",
     "exception": false,
     "start_time": "2025-03-12T23:38:01.139857",
     "status": "completed"
    },
    "tags": []
   },
   "outputs": [
    {
     "name": "stderr",
     "output_type": "stream",
     "text": [
      "<ipython-input-2-fa725f1adc1c>:6: DtypeWarning: Columns (22,32) have mixed types. Specify dtype option on import or set low_memory=False.\n",
      "  sf_permits = pd.read_csv(\"../input/building-permit-applications-data/Building_Permits.csv\")\n"
     ]
    }
   ],
   "source": [
    "# modules we'll use\n",
    "import pandas as pd\n",
    "import numpy as np\n",
    "\n",
    "# read in all our data\n",
    "sf_permits = pd.read_csv(\"../input/building-permit-applications-data/Building_Permits.csv\")\n",
    "\n",
    "# set seed for reproducibility\n",
    "np.random.seed(0) "
   ]
  },
  {
   "cell_type": "markdown",
   "id": "0a13fd1c",
   "metadata": {
    "papermill": {
     "duration": 0.005427,
     "end_time": "2025-03-12T23:38:03.114535",
     "exception": false,
     "start_time": "2025-03-12T23:38:03.109108",
     "status": "completed"
    },
    "tags": []
   },
   "source": [
    "Use the code cell below to print the first five rows of the `sf_permits` DataFrame."
   ]
  },
  {
   "cell_type": "code",
   "execution_count": 3,
   "id": "97afb75c",
   "metadata": {
    "execution": {
     "iopub.execute_input": "2025-03-12T23:38:03.127331Z",
     "iopub.status.busy": "2025-03-12T23:38:03.126997Z",
     "iopub.status.idle": "2025-03-12T23:38:03.167689Z",
     "shell.execute_reply": "2025-03-12T23:38:03.166525Z"
    },
    "papermill": {
     "duration": 0.049205,
     "end_time": "2025-03-12T23:38:03.169539",
     "exception": false,
     "start_time": "2025-03-12T23:38:03.120334",
     "status": "completed"
    },
    "tags": []
   },
   "outputs": [
    {
     "name": "stderr",
     "output_type": "stream",
     "text": [
      "/usr/local/lib/python3.10/dist-packages/pandas/io/formats/format.py:1458: RuntimeWarning: invalid value encountered in greater\n",
      "  has_large_values = (abs_vals > 1e6).any()\n",
      "/usr/local/lib/python3.10/dist-packages/pandas/io/formats/format.py:1459: RuntimeWarning: invalid value encountered in less\n",
      "  has_small_values = ((abs_vals < 10 ** (-self.digits)) & (abs_vals > 0)).any()\n",
      "/usr/local/lib/python3.10/dist-packages/pandas/io/formats/format.py:1459: RuntimeWarning: invalid value encountered in greater\n",
      "  has_small_values = ((abs_vals < 10 ** (-self.digits)) & (abs_vals > 0)).any()\n",
      "/usr/local/lib/python3.10/dist-packages/pandas/io/formats/format.py:1458: RuntimeWarning: invalid value encountered in greater\n",
      "  has_large_values = (abs_vals > 1e6).any()\n",
      "/usr/local/lib/python3.10/dist-packages/pandas/io/formats/format.py:1459: RuntimeWarning: invalid value encountered in less\n",
      "  has_small_values = ((abs_vals < 10 ** (-self.digits)) & (abs_vals > 0)).any()\n",
      "/usr/local/lib/python3.10/dist-packages/pandas/io/formats/format.py:1459: RuntimeWarning: invalid value encountered in greater\n",
      "  has_small_values = ((abs_vals < 10 ** (-self.digits)) & (abs_vals > 0)).any()\n"
     ]
    },
    {
     "data": {
      "text/html": [
       "<div>\n",
       "<style scoped>\n",
       "    .dataframe tbody tr th:only-of-type {\n",
       "        vertical-align: middle;\n",
       "    }\n",
       "\n",
       "    .dataframe tbody tr th {\n",
       "        vertical-align: top;\n",
       "    }\n",
       "\n",
       "    .dataframe thead th {\n",
       "        text-align: right;\n",
       "    }\n",
       "</style>\n",
       "<table border=\"1\" class=\"dataframe\">\n",
       "  <thead>\n",
       "    <tr style=\"text-align: right;\">\n",
       "      <th></th>\n",
       "      <th>Permit Number</th>\n",
       "      <th>Permit Type</th>\n",
       "      <th>Permit Type Definition</th>\n",
       "      <th>Permit Creation Date</th>\n",
       "      <th>Block</th>\n",
       "      <th>Lot</th>\n",
       "      <th>Street Number</th>\n",
       "      <th>Street Number Suffix</th>\n",
       "      <th>Street Name</th>\n",
       "      <th>Street Suffix</th>\n",
       "      <th>...</th>\n",
       "      <th>Existing Construction Type</th>\n",
       "      <th>Existing Construction Type Description</th>\n",
       "      <th>Proposed Construction Type</th>\n",
       "      <th>Proposed Construction Type Description</th>\n",
       "      <th>Site Permit</th>\n",
       "      <th>Supervisor District</th>\n",
       "      <th>Neighborhoods - Analysis Boundaries</th>\n",
       "      <th>Zipcode</th>\n",
       "      <th>Location</th>\n",
       "      <th>Record ID</th>\n",
       "    </tr>\n",
       "  </thead>\n",
       "  <tbody>\n",
       "    <tr>\n",
       "      <th>0</th>\n",
       "      <td>201505065519</td>\n",
       "      <td>4</td>\n",
       "      <td>sign - erect</td>\n",
       "      <td>05/06/2015</td>\n",
       "      <td>0326</td>\n",
       "      <td>023</td>\n",
       "      <td>140</td>\n",
       "      <td>NaN</td>\n",
       "      <td>Ellis</td>\n",
       "      <td>St</td>\n",
       "      <td>...</td>\n",
       "      <td>3.0</td>\n",
       "      <td>constr type 3</td>\n",
       "      <td>NaN</td>\n",
       "      <td>NaN</td>\n",
       "      <td>NaN</td>\n",
       "      <td>3.0</td>\n",
       "      <td>Tenderloin</td>\n",
       "      <td>94102.0</td>\n",
       "      <td>(37.785719256680785, -122.40852313194863)</td>\n",
       "      <td>1380611233945</td>\n",
       "    </tr>\n",
       "    <tr>\n",
       "      <th>1</th>\n",
       "      <td>201604195146</td>\n",
       "      <td>4</td>\n",
       "      <td>sign - erect</td>\n",
       "      <td>04/19/2016</td>\n",
       "      <td>0306</td>\n",
       "      <td>007</td>\n",
       "      <td>440</td>\n",
       "      <td>NaN</td>\n",
       "      <td>Geary</td>\n",
       "      <td>St</td>\n",
       "      <td>...</td>\n",
       "      <td>3.0</td>\n",
       "      <td>constr type 3</td>\n",
       "      <td>NaN</td>\n",
       "      <td>NaN</td>\n",
       "      <td>NaN</td>\n",
       "      <td>3.0</td>\n",
       "      <td>Tenderloin</td>\n",
       "      <td>94102.0</td>\n",
       "      <td>(37.78733980600732, -122.41063199757738)</td>\n",
       "      <td>1420164406718</td>\n",
       "    </tr>\n",
       "    <tr>\n",
       "      <th>2</th>\n",
       "      <td>201605278609</td>\n",
       "      <td>3</td>\n",
       "      <td>additions alterations or repairs</td>\n",
       "      <td>05/27/2016</td>\n",
       "      <td>0595</td>\n",
       "      <td>203</td>\n",
       "      <td>1647</td>\n",
       "      <td>NaN</td>\n",
       "      <td>Pacific</td>\n",
       "      <td>Av</td>\n",
       "      <td>...</td>\n",
       "      <td>1.0</td>\n",
       "      <td>constr type 1</td>\n",
       "      <td>1.0</td>\n",
       "      <td>constr type 1</td>\n",
       "      <td>NaN</td>\n",
       "      <td>3.0</td>\n",
       "      <td>Russian Hill</td>\n",
       "      <td>94109.0</td>\n",
       "      <td>(37.7946573324287, -122.42232562979227)</td>\n",
       "      <td>1424856504716</td>\n",
       "    </tr>\n",
       "    <tr>\n",
       "      <th>3</th>\n",
       "      <td>201611072166</td>\n",
       "      <td>8</td>\n",
       "      <td>otc alterations permit</td>\n",
       "      <td>11/07/2016</td>\n",
       "      <td>0156</td>\n",
       "      <td>011</td>\n",
       "      <td>1230</td>\n",
       "      <td>NaN</td>\n",
       "      <td>Pacific</td>\n",
       "      <td>Av</td>\n",
       "      <td>...</td>\n",
       "      <td>5.0</td>\n",
       "      <td>wood frame (5)</td>\n",
       "      <td>5.0</td>\n",
       "      <td>wood frame (5)</td>\n",
       "      <td>NaN</td>\n",
       "      <td>3.0</td>\n",
       "      <td>Nob Hill</td>\n",
       "      <td>94109.0</td>\n",
       "      <td>(37.79595867909168, -122.41557405519474)</td>\n",
       "      <td>1443574295566</td>\n",
       "    </tr>\n",
       "    <tr>\n",
       "      <th>4</th>\n",
       "      <td>201611283529</td>\n",
       "      <td>6</td>\n",
       "      <td>demolitions</td>\n",
       "      <td>11/28/2016</td>\n",
       "      <td>0342</td>\n",
       "      <td>001</td>\n",
       "      <td>950</td>\n",
       "      <td>NaN</td>\n",
       "      <td>Market</td>\n",
       "      <td>St</td>\n",
       "      <td>...</td>\n",
       "      <td>3.0</td>\n",
       "      <td>constr type 3</td>\n",
       "      <td>NaN</td>\n",
       "      <td>NaN</td>\n",
       "      <td>NaN</td>\n",
       "      <td>6.0</td>\n",
       "      <td>Tenderloin</td>\n",
       "      <td>94102.0</td>\n",
       "      <td>(37.78315261897309, -122.40950883997789)</td>\n",
       "      <td>144548169992</td>\n",
       "    </tr>\n",
       "  </tbody>\n",
       "</table>\n",
       "<p>5 rows × 43 columns</p>\n",
       "</div>"
      ],
      "text/plain": [
       "  Permit Number  Permit Type            Permit Type Definition  \\\n",
       "0  201505065519            4                      sign - erect   \n",
       "1  201604195146            4                      sign - erect   \n",
       "2  201605278609            3  additions alterations or repairs   \n",
       "3  201611072166            8            otc alterations permit   \n",
       "4  201611283529            6                       demolitions   \n",
       "\n",
       "  Permit Creation Date Block  Lot  Street Number Street Number Suffix  \\\n",
       "0           05/06/2015  0326  023            140                  NaN   \n",
       "1           04/19/2016  0306  007            440                  NaN   \n",
       "2           05/27/2016  0595  203           1647                  NaN   \n",
       "3           11/07/2016  0156  011           1230                  NaN   \n",
       "4           11/28/2016  0342  001            950                  NaN   \n",
       "\n",
       "  Street Name Street Suffix  ...  Existing Construction Type  \\\n",
       "0       Ellis            St  ...                         3.0   \n",
       "1       Geary            St  ...                         3.0   \n",
       "2     Pacific            Av  ...                         1.0   \n",
       "3     Pacific            Av  ...                         5.0   \n",
       "4      Market            St  ...                         3.0   \n",
       "\n",
       "  Existing Construction Type Description Proposed Construction Type  \\\n",
       "0                          constr type 3                        NaN   \n",
       "1                          constr type 3                        NaN   \n",
       "2                          constr type 1                        1.0   \n",
       "3                         wood frame (5)                        5.0   \n",
       "4                          constr type 3                        NaN   \n",
       "\n",
       "  Proposed Construction Type Description Site Permit Supervisor District  \\\n",
       "0                                    NaN         NaN                 3.0   \n",
       "1                                    NaN         NaN                 3.0   \n",
       "2                          constr type 1         NaN                 3.0   \n",
       "3                         wood frame (5)         NaN                 3.0   \n",
       "4                                    NaN         NaN                 6.0   \n",
       "\n",
       "  Neighborhoods - Analysis Boundaries  Zipcode  \\\n",
       "0                          Tenderloin  94102.0   \n",
       "1                          Tenderloin  94102.0   \n",
       "2                        Russian Hill  94109.0   \n",
       "3                            Nob Hill  94109.0   \n",
       "4                          Tenderloin  94102.0   \n",
       "\n",
       "                                    Location      Record ID  \n",
       "0  (37.785719256680785, -122.40852313194863)  1380611233945  \n",
       "1   (37.78733980600732, -122.41063199757738)  1420164406718  \n",
       "2    (37.7946573324287, -122.42232562979227)  1424856504716  \n",
       "3   (37.79595867909168, -122.41557405519474)  1443574295566  \n",
       "4   (37.78315261897309, -122.40950883997789)   144548169992  \n",
       "\n",
       "[5 rows x 43 columns]"
      ]
     },
     "execution_count": 3,
     "metadata": {},
     "output_type": "execute_result"
    }
   ],
   "source": [
    "# TODO: Your code here!\n",
    "sf_permits.head(5)"
   ]
  },
  {
   "cell_type": "markdown",
   "id": "a7e81dfa",
   "metadata": {
    "papermill": {
     "duration": 0.005812,
     "end_time": "2025-03-12T23:38:03.181676",
     "exception": false,
     "start_time": "2025-03-12T23:38:03.175864",
     "status": "completed"
    },
    "tags": []
   },
   "source": [
    "Does the dataset have any missing values?  Once you have an answer, run the code cell below to get credit for your work."
   ]
  },
  {
   "cell_type": "code",
   "execution_count": 4,
   "id": "2535c2f4",
   "metadata": {
    "execution": {
     "iopub.execute_input": "2025-03-12T23:38:03.195104Z",
     "iopub.status.busy": "2025-03-12T23:38:03.194773Z",
     "iopub.status.idle": "2025-03-12T23:38:03.202193Z",
     "shell.execute_reply": "2025-03-12T23:38:03.201335Z"
    },
    "papermill": {
     "duration": 0.01609,
     "end_time": "2025-03-12T23:38:03.203839",
     "exception": false,
     "start_time": "2025-03-12T23:38:03.187749",
     "status": "completed"
    },
    "tags": []
   },
   "outputs": [
    {
     "data": {
      "application/javascript": [
       "parent.postMessage({\"jupyterEvent\": \"custom.exercise_interaction\", \"data\": {\"outcomeType\": 1, \"valueTowardsCompletion\": 0.16666666666666666, \"interactionType\": 1, \"questionType\": 4, \"questionId\": \"1_TakeFirstLook\", \"learnToolsVersion\": \"0.3.4\", \"failureMessage\": \"\", \"exceptionClass\": \"\", \"trace\": \"\"}}, \"*\")"
      ],
      "text/plain": [
       "<IPython.core.display.Javascript object>"
      ]
     },
     "metadata": {},
     "output_type": "display_data"
    },
    {
     "data": {
      "text/markdown": [
       "<span style=\"color:#33cc33\">Correct:</span> \n",
       "\n",
       "The first five rows of the data does show that several columns have missing values.  You can see this in the \"Street Number Suffix\", \"Proposed Construction Type\" and \"Site Permit\" columns, among others."
      ],
      "text/plain": [
       "Correct: \n",
       "\n",
       "The first five rows of the data does show that several columns have missing values.  You can see this in the \"Street Number Suffix\", \"Proposed Construction Type\" and \"Site Permit\" columns, among others."
      ]
     },
     "metadata": {},
     "output_type": "display_data"
    }
   ],
   "source": [
    "# Check your answer (Run this code cell to receive credit!)\n",
    "q1.check()"
   ]
  },
  {
   "cell_type": "code",
   "execution_count": 5,
   "id": "e8e0dda9",
   "metadata": {
    "execution": {
     "iopub.execute_input": "2025-03-12T23:38:03.218501Z",
     "iopub.status.busy": "2025-03-12T23:38:03.218112Z",
     "iopub.status.idle": "2025-03-12T23:38:03.221856Z",
     "shell.execute_reply": "2025-03-12T23:38:03.220965Z"
    },
    "papermill": {
     "duration": 0.012959,
     "end_time": "2025-03-12T23:38:03.223330",
     "exception": false,
     "start_time": "2025-03-12T23:38:03.210371",
     "status": "completed"
    },
    "tags": []
   },
   "outputs": [],
   "source": [
    "# Line below will give you a hint\n",
    "#q1.hint()"
   ]
  },
  {
   "cell_type": "markdown",
   "id": "bfc5e095",
   "metadata": {
    "papermill": {
     "duration": 0.006059,
     "end_time": "2025-03-12T23:38:03.235831",
     "exception": false,
     "start_time": "2025-03-12T23:38:03.229772",
     "status": "completed"
    },
    "tags": []
   },
   "source": [
    "# 2) How many missing data points do we have?\n",
    "\n",
    "What percentage of the values in the dataset are missing?  Your answer should be a number between 0 and 100.  (If 1/4 of the values in the dataset are missing, the answer is 25.)"
   ]
  },
  {
   "cell_type": "code",
   "execution_count": 6,
   "id": "756bd3cd",
   "metadata": {
    "execution": {
     "iopub.execute_input": "2025-03-12T23:38:03.249910Z",
     "iopub.status.busy": "2025-03-12T23:38:03.249379Z",
     "iopub.status.idle": "2025-03-12T23:38:03.509041Z",
     "shell.execute_reply": "2025-03-12T23:38:03.508007Z"
    },
    "papermill": {
     "duration": 0.268674,
     "end_time": "2025-03-12T23:38:03.510836",
     "exception": false,
     "start_time": "2025-03-12T23:38:03.242162",
     "status": "completed"
    },
    "tags": []
   },
   "outputs": [
    {
     "data": {
      "application/javascript": [
       "parent.postMessage({\"jupyterEvent\": \"custom.exercise_interaction\", \"data\": {\"outcomeType\": 1, \"valueTowardsCompletion\": 0.16666666666666666, \"interactionType\": 1, \"questionType\": 1, \"questionId\": \"2_PercentMissingValues\", \"learnToolsVersion\": \"0.3.4\", \"failureMessage\": \"\", \"exceptionClass\": \"\", \"trace\": \"\"}}, \"*\")"
      ],
      "text/plain": [
       "<IPython.core.display.Javascript object>"
      ]
     },
     "metadata": {},
     "output_type": "display_data"
    },
    {
     "data": {
      "text/markdown": [
       "<span style=\"color:#33cc33\">Correct</span>"
      ],
      "text/plain": [
       "Correct"
      ]
     },
     "metadata": {},
     "output_type": "display_data"
    }
   ],
   "source": [
    "# TODO: Your code here!\n",
    "\n",
    "# get the number of missing data points per column\n",
    "missing_values_count = sf_permits.isnull().sum()\n",
    "\n",
    "# how many total missing values do we have?\n",
    "total_cells = np.product(sf_permits.shape)\n",
    "total_missing = missing_values_count.sum()\n",
    "\n",
    "# percent of data that is missing\n",
    "percent_missing = (total_missing/total_cells) * 100\n",
    "\n",
    "# Check your answer\n",
    "q2.check()"
   ]
  },
  {
   "cell_type": "code",
   "execution_count": 7,
   "id": "c0335c52",
   "metadata": {
    "execution": {
     "iopub.execute_input": "2025-03-12T23:38:03.525418Z",
     "iopub.status.busy": "2025-03-12T23:38:03.525074Z",
     "iopub.status.idle": "2025-03-12T23:38:03.528854Z",
     "shell.execute_reply": "2025-03-12T23:38:03.527931Z"
    },
    "papermill": {
     "duration": 0.013263,
     "end_time": "2025-03-12T23:38:03.530766",
     "exception": false,
     "start_time": "2025-03-12T23:38:03.517503",
     "status": "completed"
    },
    "tags": []
   },
   "outputs": [],
   "source": [
    "# Lines below will give you a hint or solution code\n",
    "#q2.hint()\n",
    "#q2.solution()"
   ]
  },
  {
   "cell_type": "markdown",
   "id": "e1d0a6f1",
   "metadata": {
    "papermill": {
     "duration": 0.006187,
     "end_time": "2025-03-12T23:38:03.543553",
     "exception": false,
     "start_time": "2025-03-12T23:38:03.537366",
     "status": "completed"
    },
    "tags": []
   },
   "source": [
    "# 3) Figure out why the data is missing\n",
    "\n",
    "Look at the columns **\"Street Number Suffix\"** and **\"Zipcode\"** from the [San Francisco Building Permits dataset](https://www.kaggle.com/aparnashastry/building-permit-applications-data). Both of these contain missing values. \n",
    "- Which, if either, are missing because they don't exist? \n",
    "- Which, if either, are missing because they weren't recorded?  \n",
    "\n",
    "Once you have an answer, run the code cell below."
   ]
  },
  {
   "cell_type": "code",
   "execution_count": 8,
   "id": "2bc89499",
   "metadata": {
    "execution": {
     "iopub.execute_input": "2025-03-12T23:38:03.557796Z",
     "iopub.status.busy": "2025-03-12T23:38:03.557406Z",
     "iopub.status.idle": "2025-03-12T23:38:03.564571Z",
     "shell.execute_reply": "2025-03-12T23:38:03.563734Z"
    },
    "papermill": {
     "duration": 0.016168,
     "end_time": "2025-03-12T23:38:03.566138",
     "exception": false,
     "start_time": "2025-03-12T23:38:03.549970",
     "status": "completed"
    },
    "tags": []
   },
   "outputs": [
    {
     "data": {
      "application/javascript": [
       "parent.postMessage({\"jupyterEvent\": \"custom.exercise_interaction\", \"data\": {\"outcomeType\": 1, \"valueTowardsCompletion\": 0.16666666666666666, \"interactionType\": 1, \"questionType\": 4, \"questionId\": \"3_WhyDataMissing\", \"learnToolsVersion\": \"0.3.4\", \"failureMessage\": \"\", \"exceptionClass\": \"\", \"trace\": \"\"}}, \"*\")"
      ],
      "text/plain": [
       "<IPython.core.display.Javascript object>"
      ]
     },
     "metadata": {},
     "output_type": "display_data"
    },
    {
     "data": {
      "text/markdown": [
       "<span style=\"color:#33cc33\">Correct:</span> \n",
       "\n",
       "If a value in the \"Street Number Suffix\" column is missing, it is likely because it does not exist. If a value in the \"Zipcode\" column is missing, it was not recorded."
      ],
      "text/plain": [
       "Correct: \n",
       "\n",
       "If a value in the \"Street Number Suffix\" column is missing, it is likely because it does not exist. If a value in the \"Zipcode\" column is missing, it was not recorded."
      ]
     },
     "metadata": {},
     "output_type": "display_data"
    }
   ],
   "source": [
    "# Check your answer (Run this code cell to receive credit!)\n",
    "q3.check()"
   ]
  },
  {
   "cell_type": "code",
   "execution_count": 9,
   "id": "171746f3",
   "metadata": {
    "execution": {
     "iopub.execute_input": "2025-03-12T23:38:03.581170Z",
     "iopub.status.busy": "2025-03-12T23:38:03.580825Z",
     "iopub.status.idle": "2025-03-12T23:38:03.584783Z",
     "shell.execute_reply": "2025-03-12T23:38:03.583567Z"
    },
    "papermill": {
     "duration": 0.013444,
     "end_time": "2025-03-12T23:38:03.586523",
     "exception": false,
     "start_time": "2025-03-12T23:38:03.573079",
     "status": "completed"
    },
    "tags": []
   },
   "outputs": [],
   "source": [
    "# Line below will give you a hint\n",
    "#q3.hint()"
   ]
  },
  {
   "cell_type": "markdown",
   "id": "98bce2b9",
   "metadata": {
    "papermill": {
     "duration": 0.006345,
     "end_time": "2025-03-12T23:38:03.600004",
     "exception": false,
     "start_time": "2025-03-12T23:38:03.593659",
     "status": "completed"
    },
    "tags": []
   },
   "source": [
    "# 4) Drop missing values: rows\n",
    "\n",
    "If you removed all of the rows of `sf_permits` with missing values, how many rows are left?\n",
    "\n",
    "**Note**: Do not change the value of `sf_permits` when checking this.  "
   ]
  },
  {
   "cell_type": "code",
   "execution_count": 10,
   "id": "607f7b09",
   "metadata": {
    "execution": {
     "iopub.execute_input": "2025-03-12T23:38:03.614880Z",
     "iopub.status.busy": "2025-03-12T23:38:03.614521Z",
     "iopub.status.idle": "2025-03-12T23:38:03.868880Z",
     "shell.execute_reply": "2025-03-12T23:38:03.867492Z"
    },
    "papermill": {
     "duration": 0.263993,
     "end_time": "2025-03-12T23:38:03.870717",
     "exception": false,
     "start_time": "2025-03-12T23:38:03.606724",
     "status": "completed"
    },
    "tags": []
   },
   "outputs": [
    {
     "name": "stdout",
     "output_type": "stream",
     "text": [
      "Number of rows left after dropping missing values: 0\n"
     ]
    }
   ],
   "source": [
    "# TODO: Your code here!\n",
    "import pandas as pd\n",
    "\n",
    "# Assuming sf_permits is already loaded as a pandas DataFrame\n",
    "# Drop rows with any missing values\n",
    "sf_permits_cleaned = sf_permits.dropna()\n",
    "\n",
    "# Check the number of rows left\n",
    "rows_left = sf_permits_cleaned.shape[0]\n",
    "print(f\"Number of rows left after dropping missing values: {rows_left}\")"
   ]
  },
  {
   "cell_type": "markdown",
   "id": "0b169f5b",
   "metadata": {
    "papermill": {
     "duration": 0.006388,
     "end_time": "2025-03-12T23:38:03.884104",
     "exception": false,
     "start_time": "2025-03-12T23:38:03.877716",
     "status": "completed"
    },
    "tags": []
   },
   "source": [
    "Once you have an answer, run the code cell below."
   ]
  },
  {
   "cell_type": "code",
   "execution_count": 11,
   "id": "ffec6413",
   "metadata": {
    "execution": {
     "iopub.execute_input": "2025-03-12T23:38:03.898958Z",
     "iopub.status.busy": "2025-03-12T23:38:03.898587Z",
     "iopub.status.idle": "2025-03-12T23:38:03.906207Z",
     "shell.execute_reply": "2025-03-12T23:38:03.905165Z"
    },
    "papermill": {
     "duration": 0.017173,
     "end_time": "2025-03-12T23:38:03.908058",
     "exception": false,
     "start_time": "2025-03-12T23:38:03.890885",
     "status": "completed"
    },
    "tags": []
   },
   "outputs": [
    {
     "data": {
      "application/javascript": [
       "parent.postMessage({\"jupyterEvent\": \"custom.exercise_interaction\", \"data\": {\"outcomeType\": 1, \"valueTowardsCompletion\": 0.16666666666666666, \"interactionType\": 1, \"questionType\": 4, \"questionId\": \"4_DropMissingRows\", \"learnToolsVersion\": \"0.3.4\", \"failureMessage\": \"\", \"exceptionClass\": \"\", \"trace\": \"\"}}, \"*\")"
      ],
      "text/plain": [
       "<IPython.core.display.Javascript object>"
      ]
     },
     "metadata": {},
     "output_type": "display_data"
    },
    {
     "data": {
      "text/markdown": [
       "<span style=\"color:#33cc33\">Correct:</span> \n",
       "\n",
       "There are no rows remaining in the dataset!"
      ],
      "text/plain": [
       "Correct: \n",
       "\n",
       "There are no rows remaining in the dataset!"
      ]
     },
     "metadata": {},
     "output_type": "display_data"
    }
   ],
   "source": [
    "# Check your answer (Run this code cell to receive credit!)\n",
    "q4.check()"
   ]
  },
  {
   "cell_type": "code",
   "execution_count": 12,
   "id": "017784a1",
   "metadata": {
    "execution": {
     "iopub.execute_input": "2025-03-12T23:38:03.924466Z",
     "iopub.status.busy": "2025-03-12T23:38:03.924108Z",
     "iopub.status.idle": "2025-03-12T23:38:03.928002Z",
     "shell.execute_reply": "2025-03-12T23:38:03.927051Z"
    },
    "papermill": {
     "duration": 0.014459,
     "end_time": "2025-03-12T23:38:03.929807",
     "exception": false,
     "start_time": "2025-03-12T23:38:03.915348",
     "status": "completed"
    },
    "tags": []
   },
   "outputs": [],
   "source": [
    "# Line below will give you a hint\n",
    "#q4.hint()"
   ]
  },
  {
   "cell_type": "markdown",
   "id": "723ceb3a",
   "metadata": {
    "papermill": {
     "duration": 0.006804,
     "end_time": "2025-03-12T23:38:03.944158",
     "exception": false,
     "start_time": "2025-03-12T23:38:03.937354",
     "status": "completed"
    },
    "tags": []
   },
   "source": [
    "# 5) Drop missing values: columns\n",
    "\n",
    "Now try removing all the columns with empty values.  \n",
    "- Create a new DataFrame called `sf_permits_with_na_dropped` that has all of the columns with empty values removed.  \n",
    "- How many columns were removed from the original `sf_permits` DataFrame? Use this number to set the value of the `dropped_columns` variable below."
   ]
  },
  {
   "cell_type": "code",
   "execution_count": 13,
   "id": "346ebbe3",
   "metadata": {
    "execution": {
     "iopub.execute_input": "2025-03-12T23:38:03.960294Z",
     "iopub.status.busy": "2025-03-12T23:38:03.959939Z",
     "iopub.status.idle": "2025-03-12T23:38:04.226753Z",
     "shell.execute_reply": "2025-03-12T23:38:04.225574Z"
    },
    "papermill": {
     "duration": 0.277092,
     "end_time": "2025-03-12T23:38:04.228406",
     "exception": false,
     "start_time": "2025-03-12T23:38:03.951314",
     "status": "completed"
    },
    "tags": []
   },
   "outputs": [
    {
     "data": {
      "application/javascript": [
       "parent.postMessage({\"jupyterEvent\": \"custom.exercise_interaction\", \"data\": {\"outcomeType\": 1, \"valueTowardsCompletion\": 0.16666666666666666, \"interactionType\": 1, \"questionType\": 1, \"questionId\": \"5_DropMissingCols\", \"learnToolsVersion\": \"0.3.4\", \"failureMessage\": \"\", \"exceptionClass\": \"\", \"trace\": \"\"}}, \"*\")"
      ],
      "text/plain": [
       "<IPython.core.display.Javascript object>"
      ]
     },
     "metadata": {},
     "output_type": "display_data"
    },
    {
     "data": {
      "text/markdown": [
       "<span style=\"color:#33cc33\">Correct</span>"
      ],
      "text/plain": [
       "Correct"
      ]
     },
     "metadata": {},
     "output_type": "display_data"
    }
   ],
   "source": [
    "# remove all columns with at least one missing value\n",
    "sf_permits_with_na_dropped = sf_permits.dropna(axis=1)\n",
    "\n",
    "# calculate number of dropped columns\n",
    "cols_in_original_dataset = sf_permits.shape[1]\n",
    "cols_in_na_dropped = sf_permits_with_na_dropped.shape[1]\n",
    "dropped_columns = cols_in_original_dataset - cols_in_na_dropped\n",
    "\n",
    "# Check your answer\n",
    "q5.check()"
   ]
  },
  {
   "cell_type": "code",
   "execution_count": 14,
   "id": "85674b75",
   "metadata": {
    "execution": {
     "iopub.execute_input": "2025-03-12T23:38:04.244314Z",
     "iopub.status.busy": "2025-03-12T23:38:04.243969Z",
     "iopub.status.idle": "2025-03-12T23:38:04.247738Z",
     "shell.execute_reply": "2025-03-12T23:38:04.246805Z"
    },
    "papermill": {
     "duration": 0.013571,
     "end_time": "2025-03-12T23:38:04.249319",
     "exception": false,
     "start_time": "2025-03-12T23:38:04.235748",
     "status": "completed"
    },
    "tags": []
   },
   "outputs": [],
   "source": [
    "# Lines below will give you a hint or solution code\n",
    "#q5.hint()\n",
    "#q5.solution()"
   ]
  },
  {
   "cell_type": "markdown",
   "id": "c076a0b6",
   "metadata": {
    "papermill": {
     "duration": 0.006766,
     "end_time": "2025-03-12T23:38:04.263385",
     "exception": false,
     "start_time": "2025-03-12T23:38:04.256619",
     "status": "completed"
    },
    "tags": []
   },
   "source": [
    "# 6) Fill in missing values automatically\n",
    "\n",
    "Try replacing all the NaN's in the `sf_permits` data with the one that comes directly after it and then replacing any remaining NaN's with 0.  Set the result to a new DataFrame `sf_permits_with_na_imputed`."
   ]
  },
  {
   "cell_type": "code",
   "execution_count": 15,
   "id": "b1a628ec",
   "metadata": {
    "execution": {
     "iopub.execute_input": "2025-03-12T23:38:04.279280Z",
     "iopub.status.busy": "2025-03-12T23:38:04.278946Z",
     "iopub.status.idle": "2025-03-12T23:38:06.512868Z",
     "shell.execute_reply": "2025-03-12T23:38:06.511895Z"
    },
    "papermill": {
     "duration": 2.243846,
     "end_time": "2025-03-12T23:38:06.514740",
     "exception": false,
     "start_time": "2025-03-12T23:38:04.270894",
     "status": "completed"
    },
    "tags": []
   },
   "outputs": [
    {
     "name": "stderr",
     "output_type": "stream",
     "text": [
      "<ipython-input-15-260846a1370e>:2: FutureWarning: DataFrame.fillna with 'method' is deprecated and will raise in a future version. Use obj.ffill() or obj.bfill() instead.\n",
      "  sf_permits_with_na_imputed = sf_permits.fillna(method='bfill', axis=0).fillna(0)\n"
     ]
    },
    {
     "data": {
      "application/javascript": [
       "parent.postMessage({\"jupyterEvent\": \"custom.exercise_interaction\", \"data\": {\"outcomeType\": 1, \"valueTowardsCompletion\": 0.16666666666666666, \"interactionType\": 1, \"questionType\": 1, \"questionId\": \"6_ImputeAutomatically\", \"learnToolsVersion\": \"0.3.4\", \"failureMessage\": \"\", \"exceptionClass\": \"\", \"trace\": \"\"}}, \"*\")"
      ],
      "text/plain": [
       "<IPython.core.display.Javascript object>"
      ]
     },
     "metadata": {},
     "output_type": "display_data"
    },
    {
     "data": {
      "text/markdown": [
       "<span style=\"color:#33cc33\">Correct</span>"
      ],
      "text/plain": [
       "Correct"
      ]
     },
     "metadata": {},
     "output_type": "display_data"
    }
   ],
   "source": [
    "# TODO: Your code here\n",
    "sf_permits_with_na_imputed = sf_permits.fillna(method='bfill', axis=0).fillna(0)\n",
    "\n",
    "# Check your answer\n",
    "q6.check()"
   ]
  },
  {
   "cell_type": "code",
   "execution_count": 16,
   "id": "46b70f74",
   "metadata": {
    "execution": {
     "iopub.execute_input": "2025-03-12T23:38:06.531129Z",
     "iopub.status.busy": "2025-03-12T23:38:06.530811Z",
     "iopub.status.idle": "2025-03-12T23:38:06.534956Z",
     "shell.execute_reply": "2025-03-12T23:38:06.533738Z"
    },
    "papermill": {
     "duration": 0.014245,
     "end_time": "2025-03-12T23:38:06.536549",
     "exception": false,
     "start_time": "2025-03-12T23:38:06.522304",
     "status": "completed"
    },
    "tags": []
   },
   "outputs": [],
   "source": [
    "# Lines below will give you a hint or solution code\n",
    "#q6.hint()\n",
    "#q6.solution()"
   ]
  },
  {
   "cell_type": "markdown",
   "id": "f5d4ebce",
   "metadata": {
    "papermill": {
     "duration": 0.007128,
     "end_time": "2025-03-12T23:38:06.551258",
     "exception": false,
     "start_time": "2025-03-12T23:38:06.544130",
     "status": "completed"
    },
    "tags": []
   },
   "source": [
    "# More practice\n",
    "\n",
    "If you're looking for more practice handling missing values:\n",
    "\n",
    "* Check out [this noteboook](https://www.kaggle.com/alexisbcook/missing-values) on handling missing values using scikit-learn's imputer. \n",
    "* Look back at the \"Zipcode\" column in the `sf_permits` dataset, which has some missing values. How would you go about figuring out what the actual zipcode of each address should be? (You might try using another dataset. You can search for datasets about San Fransisco on the [Datasets listing](https://www.kaggle.com/datasets).) \n",
    "\n",
    "# Keep going\n",
    "\n",
    "In the next lesson, learn how to [**apply scaling and normalization**](https://www.kaggle.com/alexisbcook/scaling-and-normalization) to transform your data."
   ]
  },
  {
   "cell_type": "markdown",
   "id": "073c76c7",
   "metadata": {
    "papermill": {
     "duration": 0.007015,
     "end_time": "2025-03-12T23:38:06.565763",
     "exception": false,
     "start_time": "2025-03-12T23:38:06.558748",
     "status": "completed"
    },
    "tags": []
   },
   "source": [
    "---\n",
    "\n",
    "\n",
    "\n",
    "\n",
    "*Have questions or comments? Visit the [course discussion forum](https://www.kaggle.com/learn/data-cleaning/discussion) to chat with other learners.*"
   ]
  }
 ],
 "metadata": {
  "kaggle": {
   "accelerator": "none",
   "dataSources": [
    {
     "datasetId": 16432,
     "sourceId": 21688,
     "sourceType": "datasetVersion"
    }
   ],
   "isGpuEnabled": false,
   "isInternetEnabled": false,
   "language": "python",
   "sourceType": "notebook"
  },
  "kernelspec": {
   "display_name": "Python 3",
   "language": "python",
   "name": "python3"
  },
  "language_info": {
   "codemirror_mode": {
    "name": "ipython",
    "version": 3
   },
   "file_extension": ".py",
   "mimetype": "text/x-python",
   "name": "python",
   "nbconvert_exporter": "python",
   "pygments_lexer": "ipython3",
   "version": "3.10.12"
  },
  "papermill": {
   "default_parameters": {},
   "duration": 15.845467,
   "end_time": "2025-03-12T23:38:07.293494",
   "environment_variables": {},
   "exception": null,
   "input_path": "__notebook__.ipynb",
   "output_path": "__notebook__.ipynb",
   "parameters": {},
   "start_time": "2025-03-12T23:37:51.448027",
   "version": "2.6.0"
  }
 },
 "nbformat": 4,
 "nbformat_minor": 5
}

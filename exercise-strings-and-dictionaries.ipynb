{
 "cells": [
  {
   "cell_type": "markdown",
   "id": "49435be8",
   "metadata": {
    "papermill": {
     "duration": 0.006778,
     "end_time": "2024-11-08T11:33:34.291623",
     "exception": false,
     "start_time": "2024-11-08T11:33:34.284845",
     "status": "completed"
    },
    "tags": []
   },
   "source": [
    "**This notebook is an exercise in the [Python](https://www.kaggle.com/learn/python) course.  You can reference the tutorial at [this link](https://www.kaggle.com/colinmorris/strings-and-dictionaries).**\n",
    "\n",
    "---\n"
   ]
  },
  {
   "cell_type": "markdown",
   "id": "3612796e",
   "metadata": {
    "papermill": {
     "duration": 0.006813,
     "end_time": "2024-11-08T11:33:34.305870",
     "exception": false,
     "start_time": "2024-11-08T11:33:34.299057",
     "status": "completed"
    },
    "tags": []
   },
   "source": [
    "You are almost done with the course. Nice job!\n",
    "\n",
    "We have a couple more interesting problems for you before you go. \n",
    "\n",
    "As always, run the setup code below before working on the questions."
   ]
  },
  {
   "cell_type": "code",
   "execution_count": 1,
   "id": "96415137",
   "metadata": {
    "execution": {
     "iopub.execute_input": "2024-11-08T11:33:34.319353Z",
     "iopub.status.busy": "2024-11-08T11:33:34.318919Z",
     "iopub.status.idle": "2024-11-08T11:33:35.301118Z",
     "shell.execute_reply": "2024-11-08T11:33:35.299917Z"
    },
    "papermill": {
     "duration": 0.992258,
     "end_time": "2024-11-08T11:33:35.303622",
     "exception": false,
     "start_time": "2024-11-08T11:33:34.311364",
     "status": "completed"
    },
    "tags": []
   },
   "outputs": [
    {
     "name": "stdout",
     "output_type": "stream",
     "text": [
      "Setup complete.\n"
     ]
    }
   ],
   "source": [
    "from learntools.core import binder; binder.bind(globals())\n",
    "from learntools.python.ex6 import *\n",
    "print('Setup complete.')"
   ]
  },
  {
   "cell_type": "markdown",
   "id": "e1e11a88",
   "metadata": {
    "papermill": {
     "duration": 0.005201,
     "end_time": "2024-11-08T11:33:35.314429",
     "exception": false,
     "start_time": "2024-11-08T11:33:35.309228",
     "status": "completed"
    },
    "tags": []
   },
   "source": [
    "Let's start with a string lightning round to warm up. What are the lengths of the strings below?\n",
    "\n",
    "For each of the five strings below, predict what `len()` would return when passed that string. Use the variable `length` to record your answer, then run the cell to check whether you were right.  \n",
    "\n",
    "# 0a."
   ]
  },
  {
   "cell_type": "code",
   "execution_count": 2,
   "id": "c1bc633a",
   "metadata": {
    "execution": {
     "iopub.execute_input": "2024-11-08T11:33:35.327720Z",
     "iopub.status.busy": "2024-11-08T11:33:35.326548Z",
     "iopub.status.idle": "2024-11-08T11:33:35.338109Z",
     "shell.execute_reply": "2024-11-08T11:33:35.337011Z"
    },
    "papermill": {
     "duration": 0.020835,
     "end_time": "2024-11-08T11:33:35.340624",
     "exception": false,
     "start_time": "2024-11-08T11:33:35.319789",
     "status": "completed"
    },
    "tags": []
   },
   "outputs": [
    {
     "data": {
      "application/javascript": [
       "parent.postMessage({\"jupyterEvent\": \"custom.exercise_interaction\", \"data\": {\"outcomeType\": 1, \"valueTowardsCompletion\": 0.3333333333333333, \"interactionType\": 1, \"questionType\": 1, \"questionId\": \"0.1_ZA\", \"learnToolsVersion\": \"0.3.4\", \"failureMessage\": \"\", \"exceptionClass\": \"\", \"trace\": \"\"}}, \"*\")"
      ],
      "text/plain": [
       "<IPython.core.display.Javascript object>"
      ]
     },
     "metadata": {},
     "output_type": "display_data"
    },
    {
     "data": {
      "text/markdown": [
       "<span style=\"color:#33cc33\">Correct:</span> \n",
       "\n",
       "The empty string has length zero. Note that the empty string is also the only string that Python considers as False when converting to boolean."
      ],
      "text/plain": [
       "Correct: \n",
       "\n",
       "The empty string has length zero. Note that the empty string is also the only string that Python considers as False when converting to boolean."
      ]
     },
     "metadata": {},
     "output_type": "display_data"
    }
   ],
   "source": [
    "a = \"\"\n",
    "length = 0\n",
    "q0.a.check()"
   ]
  },
  {
   "cell_type": "markdown",
   "id": "def18c9a",
   "metadata": {
    "papermill": {
     "duration": 0.005595,
     "end_time": "2024-11-08T11:33:35.351983",
     "exception": false,
     "start_time": "2024-11-08T11:33:35.346388",
     "status": "completed"
    },
    "tags": []
   },
   "source": [
    "# 0b."
   ]
  },
  {
   "cell_type": "code",
   "execution_count": 3,
   "id": "3039cd2c",
   "metadata": {
    "execution": {
     "iopub.execute_input": "2024-11-08T11:33:35.366233Z",
     "iopub.status.busy": "2024-11-08T11:33:35.365819Z",
     "iopub.status.idle": "2024-11-08T11:33:35.375244Z",
     "shell.execute_reply": "2024-11-08T11:33:35.374035Z"
    },
    "papermill": {
     "duration": 0.018716,
     "end_time": "2024-11-08T11:33:35.377498",
     "exception": false,
     "start_time": "2024-11-08T11:33:35.358782",
     "status": "completed"
    },
    "tags": []
   },
   "outputs": [
    {
     "data": {
      "application/javascript": [
       "parent.postMessage({\"jupyterEvent\": \"custom.exercise_interaction\", \"data\": {\"outcomeType\": 1, \"valueTowardsCompletion\": 0.3333333333333333, \"interactionType\": 1, \"questionType\": 1, \"questionId\": \"0.2_ZB\", \"learnToolsVersion\": \"0.3.4\", \"failureMessage\": \"\", \"exceptionClass\": \"\", \"trace\": \"\"}}, \"*\")"
      ],
      "text/plain": [
       "<IPython.core.display.Javascript object>"
      ]
     },
     "metadata": {},
     "output_type": "display_data"
    },
    {
     "data": {
      "text/markdown": [
       "<span style=\"color:#33cc33\">Correct:</span> \n",
       "\n",
       "Keep in mind Python includes spaces (and punctuation) when counting string length."
      ],
      "text/plain": [
       "Correct: \n",
       "\n",
       "Keep in mind Python includes spaces (and punctuation) when counting string length."
      ]
     },
     "metadata": {},
     "output_type": "display_data"
    }
   ],
   "source": [
    "b = \"it's ok\"\n",
    "length = 7\n",
    "q0.b.check()"
   ]
  },
  {
   "cell_type": "markdown",
   "id": "e9fbf6a7",
   "metadata": {
    "papermill": {
     "duration": 0.005776,
     "end_time": "2024-11-08T11:33:35.389266",
     "exception": false,
     "start_time": "2024-11-08T11:33:35.383490",
     "status": "completed"
    },
    "tags": []
   },
   "source": [
    "# 0c."
   ]
  },
  {
   "cell_type": "code",
   "execution_count": 4,
   "id": "93234aa4",
   "metadata": {
    "execution": {
     "iopub.execute_input": "2024-11-08T11:33:35.402943Z",
     "iopub.status.busy": "2024-11-08T11:33:35.402558Z",
     "iopub.status.idle": "2024-11-08T11:33:35.411506Z",
     "shell.execute_reply": "2024-11-08T11:33:35.410417Z"
    },
    "papermill": {
     "duration": 0.018489,
     "end_time": "2024-11-08T11:33:35.413721",
     "exception": false,
     "start_time": "2024-11-08T11:33:35.395232",
     "status": "completed"
    },
    "tags": []
   },
   "outputs": [
    {
     "data": {
      "application/javascript": [
       "parent.postMessage({\"jupyterEvent\": \"custom.exercise_interaction\", \"data\": {\"outcomeType\": 1, \"valueTowardsCompletion\": 0.3333333333333333, \"interactionType\": 1, \"questionType\": 1, \"questionId\": \"0.3_ZC\", \"learnToolsVersion\": \"0.3.4\", \"failureMessage\": \"\", \"exceptionClass\": \"\", \"trace\": \"\"}}, \"*\")"
      ],
      "text/plain": [
       "<IPython.core.display.Javascript object>"
      ]
     },
     "metadata": {},
     "output_type": "display_data"
    },
    {
     "data": {
      "text/markdown": [
       "<span style=\"color:#33cc33\">Correct:</span> \n",
       "\n",
       "Even though we use different syntax to create it, the string `c` is identical to `b`. In particular, note that the backslash is not part of the string, so it doesn't contribute to its length."
      ],
      "text/plain": [
       "Correct: \n",
       "\n",
       "Even though we use different syntax to create it, the string `c` is identical to `b`. In particular, note that the backslash is not part of the string, so it doesn't contribute to its length."
      ]
     },
     "metadata": {},
     "output_type": "display_data"
    }
   ],
   "source": [
    "c = 'it\\'s ok'\n",
    "length = 7\n",
    "q0.c.check()"
   ]
  },
  {
   "cell_type": "markdown",
   "id": "84970eab",
   "metadata": {
    "papermill": {
     "duration": 0.005853,
     "end_time": "2024-11-08T11:33:35.425814",
     "exception": false,
     "start_time": "2024-11-08T11:33:35.419961",
     "status": "completed"
    },
    "tags": []
   },
   "source": [
    "# 0d."
   ]
  },
  {
   "cell_type": "code",
   "execution_count": 5,
   "id": "96701b10",
   "metadata": {
    "execution": {
     "iopub.execute_input": "2024-11-08T11:33:35.440459Z",
     "iopub.status.busy": "2024-11-08T11:33:35.439418Z",
     "iopub.status.idle": "2024-11-08T11:33:35.449139Z",
     "shell.execute_reply": "2024-11-08T11:33:35.447913Z"
    },
    "papermill": {
     "duration": 0.019531,
     "end_time": "2024-11-08T11:33:35.451541",
     "exception": false,
     "start_time": "2024-11-08T11:33:35.432010",
     "status": "completed"
    },
    "tags": []
   },
   "outputs": [
    {
     "data": {
      "application/javascript": [
       "parent.postMessage({\"jupyterEvent\": \"custom.exercise_interaction\", \"data\": {\"outcomeType\": 1, \"valueTowardsCompletion\": 0.3333333333333333, \"interactionType\": 1, \"questionType\": 1, \"questionId\": \"0.4_ZD\", \"learnToolsVersion\": \"0.3.4\", \"failureMessage\": \"\", \"exceptionClass\": \"\", \"trace\": \"\"}}, \"*\")"
      ],
      "text/plain": [
       "<IPython.core.display.Javascript object>"
      ]
     },
     "metadata": {},
     "output_type": "display_data"
    },
    {
     "data": {
      "text/markdown": [
       "<span style=\"color:#33cc33\">Correct:</span> \n",
       "\n",
       "The fact that this string was created using triple-quote syntax doesn't make any difference in terms of its content or length. This string is exactly the same as `'hey'`."
      ],
      "text/plain": [
       "Correct: \n",
       "\n",
       "The fact that this string was created using triple-quote syntax doesn't make any difference in terms of its content or length. This string is exactly the same as `'hey'`."
      ]
     },
     "metadata": {},
     "output_type": "display_data"
    }
   ],
   "source": [
    "d = \"\"\"hey\"\"\"\n",
    "length = 3\n",
    "q0.d.check()"
   ]
  },
  {
   "cell_type": "markdown",
   "id": "896bc209",
   "metadata": {
    "papermill": {
     "duration": 0.006324,
     "end_time": "2024-11-08T11:33:35.464349",
     "exception": false,
     "start_time": "2024-11-08T11:33:35.458025",
     "status": "completed"
    },
    "tags": []
   },
   "source": [
    "# 0e."
   ]
  },
  {
   "cell_type": "code",
   "execution_count": 6,
   "id": "a6f95dd8",
   "metadata": {
    "execution": {
     "iopub.execute_input": "2024-11-08T11:33:35.480030Z",
     "iopub.status.busy": "2024-11-08T11:33:35.478564Z",
     "iopub.status.idle": "2024-11-08T11:33:35.488408Z",
     "shell.execute_reply": "2024-11-08T11:33:35.487385Z"
    },
    "papermill": {
     "duration": 0.020297,
     "end_time": "2024-11-08T11:33:35.490990",
     "exception": false,
     "start_time": "2024-11-08T11:33:35.470693",
     "status": "completed"
    },
    "tags": []
   },
   "outputs": [
    {
     "data": {
      "application/javascript": [
       "parent.postMessage({\"jupyterEvent\": \"custom.exercise_interaction\", \"data\": {\"outcomeType\": 1, \"valueTowardsCompletion\": 0.3333333333333333, \"interactionType\": 1, \"questionType\": 1, \"questionId\": \"0.5_ZE\", \"learnToolsVersion\": \"0.3.4\", \"failureMessage\": \"\", \"exceptionClass\": \"\", \"trace\": \"\"}}, \"*\")"
      ],
      "text/plain": [
       "<IPython.core.display.Javascript object>"
      ]
     },
     "metadata": {},
     "output_type": "display_data"
    },
    {
     "data": {
      "text/markdown": [
       "<span style=\"color:#33cc33\">Correct:</span> \n",
       "\n",
       "The newline character is just a single character! (Even though we represent it to Python using a combination of two characters.)"
      ],
      "text/plain": [
       "Correct: \n",
       "\n",
       "The newline character is just a single character! (Even though we represent it to Python using a combination of two characters.)"
      ]
     },
     "metadata": {},
     "output_type": "display_data"
    }
   ],
   "source": [
    "e = '\\n'\n",
    "length = 1\n",
    "q0.e.check()"
   ]
  },
  {
   "cell_type": "markdown",
   "id": "8590d415",
   "metadata": {
    "papermill": {
     "duration": 0.006927,
     "end_time": "2024-11-08T11:33:35.504693",
     "exception": false,
     "start_time": "2024-11-08T11:33:35.497766",
     "status": "completed"
    },
    "tags": []
   },
   "source": [
    "# 1.\n",
    "\n",
    "There is a saying that \"Data scientists spend 80% of their time cleaning data, and 20% of their time complaining about cleaning data.\" Let's see if you can write a function to help clean US zip code data. Given a string, it should return whether or not that string represents a valid zip code. For our purposes, a valid zip code is any string consisting of exactly 5 digits.\n",
    "\n",
    "HINT: `str` has a method that will be useful here. Use `help(str)` to review a list of string methods."
   ]
  },
  {
   "cell_type": "code",
   "execution_count": 7,
   "id": "e4dc067c",
   "metadata": {
    "execution": {
     "iopub.execute_input": "2024-11-08T11:33:35.520069Z",
     "iopub.status.busy": "2024-11-08T11:33:35.519670Z",
     "iopub.status.idle": "2024-11-08T11:33:35.529377Z",
     "shell.execute_reply": "2024-11-08T11:33:35.528370Z"
    },
    "papermill": {
     "duration": 0.020281,
     "end_time": "2024-11-08T11:33:35.531744",
     "exception": false,
     "start_time": "2024-11-08T11:33:35.511463",
     "status": "completed"
    },
    "tags": []
   },
   "outputs": [
    {
     "data": {
      "application/javascript": [
       "parent.postMessage({\"jupyterEvent\": \"custom.exercise_interaction\", \"data\": {\"outcomeType\": 1, \"valueTowardsCompletion\": 0.3333333333333333, \"interactionType\": 1, \"questionType\": 2, \"questionId\": \"1_ZipValidator\", \"learnToolsVersion\": \"0.3.4\", \"failureMessage\": \"\", \"exceptionClass\": \"\", \"trace\": \"\"}}, \"*\")"
      ],
      "text/plain": [
       "<IPython.core.display.Javascript object>"
      ]
     },
     "metadata": {},
     "output_type": "display_data"
    },
    {
     "data": {
      "text/markdown": [
       "<span style=\"color:#33cc33\">Correct</span>"
      ],
      "text/plain": [
       "Correct"
      ]
     },
     "metadata": {},
     "output_type": "display_data"
    }
   ],
   "source": [
    "def is_valid_zip(zip_code):\n",
    "    return len(zip_code) == 5 and zip_code.isdigit()\n",
    "\n",
    "# Check your answer\n",
    "q1.check()"
   ]
  },
  {
   "cell_type": "code",
   "execution_count": 8,
   "id": "89c92959",
   "metadata": {
    "execution": {
     "iopub.execute_input": "2024-11-08T11:33:35.547195Z",
     "iopub.status.busy": "2024-11-08T11:33:35.546787Z",
     "iopub.status.idle": "2024-11-08T11:33:35.551361Z",
     "shell.execute_reply": "2024-11-08T11:33:35.550334Z"
    },
    "papermill": {
     "duration": 0.01507,
     "end_time": "2024-11-08T11:33:35.553705",
     "exception": false,
     "start_time": "2024-11-08T11:33:35.538635",
     "status": "completed"
    },
    "tags": []
   },
   "outputs": [],
   "source": [
    "#q1.hint()\n",
    "#q1.solution()"
   ]
  },
  {
   "cell_type": "markdown",
   "id": "f156e029",
   "metadata": {
    "papermill": {
     "duration": 0.00674,
     "end_time": "2024-11-08T11:33:35.567363",
     "exception": false,
     "start_time": "2024-11-08T11:33:35.560623",
     "status": "completed"
    },
    "tags": []
   },
   "source": [
    "# 2.\n",
    "\n",
    "A researcher has gathered thousands of news articles. But she wants to focus her attention on articles including a specific word. Complete the function below to help her filter her list of articles.\n",
    "\n",
    "Your function should meet the following criteria:\n",
    "\n",
    "- Do not include documents where the keyword string shows up only as a part of a larger word. For example, if she were looking for the keyword “closed”, you would not include the string “enclosed.” \n",
    "- She does not want you to distinguish upper case from lower case letters. So the phrase “Closed the case.” would be included when the keyword is “closed”\n",
    "- Do not let periods or commas affect what is matched. “It is closed.” would be included when the keyword is “closed”. But you can assume there are no other types of punctuation."
   ]
  },
  {
   "cell_type": "code",
   "execution_count": 9,
   "id": "7213d7d9",
   "metadata": {
    "execution": {
     "iopub.execute_input": "2024-11-08T11:33:35.582821Z",
     "iopub.status.busy": "2024-11-08T11:33:35.582412Z",
     "iopub.status.idle": "2024-11-08T11:33:35.593328Z",
     "shell.execute_reply": "2024-11-08T11:33:35.592128Z"
    },
    "papermill": {
     "duration": 0.02162,
     "end_time": "2024-11-08T11:33:35.595845",
     "exception": false,
     "start_time": "2024-11-08T11:33:35.574225",
     "status": "completed"
    },
    "tags": []
   },
   "outputs": [
    {
     "data": {
      "application/javascript": [
       "parent.postMessage({\"jupyterEvent\": \"custom.exercise_interaction\", \"data\": {\"outcomeType\": 1, \"valueTowardsCompletion\": 0.3333333333333333, \"interactionType\": 1, \"questionType\": 2, \"questionId\": \"2_WordSearch\", \"learnToolsVersion\": \"0.3.4\", \"failureMessage\": \"\", \"exceptionClass\": \"\", \"trace\": \"\"}}, \"*\")"
      ],
      "text/plain": [
       "<IPython.core.display.Javascript object>"
      ]
     },
     "metadata": {},
     "output_type": "display_data"
    },
    {
     "data": {
      "text/markdown": [
       "<span style=\"color:#33cc33\">Correct</span>"
      ],
      "text/plain": [
       "Correct"
      ]
     },
     "metadata": {},
     "output_type": "display_data"
    }
   ],
   "source": [
    "def word_search(doc_list, keyword):\n",
    "    # list to hold the indices of matching documents\n",
    "    indices = [] \n",
    "    # Iterate through the indices (i) and elements (doc) of documents\n",
    "    for i, doc in enumerate(doc_list):\n",
    "        # Split the string doc into a list of words (according to whitespace)\n",
    "        tokens = doc.split()\n",
    "        # Make a transformed list where we 'normalize' each word to facilitate matching.\n",
    "        # Periods and commas are removed from the end of each word, and it's set to all lowercase.\n",
    "        normalized = [token.rstrip('.,').lower() for token in tokens]\n",
    "        # Is there a match? If so, update the list of matching indices.\n",
    "        if keyword.lower() in normalized:\n",
    "            indices.append(i)\n",
    "    return indices\n",
    "\n",
    "# Check your answer\n",
    "q2.check()"
   ]
  },
  {
   "cell_type": "code",
   "execution_count": 10,
   "id": "6de8cd63",
   "metadata": {
    "execution": {
     "iopub.execute_input": "2024-11-08T11:33:35.612049Z",
     "iopub.status.busy": "2024-11-08T11:33:35.611633Z",
     "iopub.status.idle": "2024-11-08T11:33:35.615886Z",
     "shell.execute_reply": "2024-11-08T11:33:35.614915Z"
    },
    "papermill": {
     "duration": 0.015154,
     "end_time": "2024-11-08T11:33:35.618244",
     "exception": false,
     "start_time": "2024-11-08T11:33:35.603090",
     "status": "completed"
    },
    "tags": []
   },
   "outputs": [],
   "source": [
    "#q2.hint()\n",
    "#q2.solution()"
   ]
  },
  {
   "cell_type": "markdown",
   "id": "41c9bd72",
   "metadata": {
    "papermill": {
     "duration": 0.007,
     "end_time": "2024-11-08T11:33:35.632616",
     "exception": false,
     "start_time": "2024-11-08T11:33:35.625616",
     "status": "completed"
    },
    "tags": []
   },
   "source": [
    "# 3.\n",
    "\n",
    "Now the researcher wants to supply multiple keywords to search for. Complete the function below to help her.\n",
    "\n",
    "(You're encouraged to use the `word_search` function you just wrote when implementing this function. Reusing code in this way makes your programs more robust and readable - and it saves typing!)"
   ]
  },
  {
   "cell_type": "code",
   "execution_count": 11,
   "id": "75455967",
   "metadata": {
    "execution": {
     "iopub.execute_input": "2024-11-08T11:33:35.648993Z",
     "iopub.status.busy": "2024-11-08T11:33:35.648592Z",
     "iopub.status.idle": "2024-11-08T11:33:35.658450Z",
     "shell.execute_reply": "2024-11-08T11:33:35.657292Z"
    },
    "papermill": {
     "duration": 0.021013,
     "end_time": "2024-11-08T11:33:35.660821",
     "exception": false,
     "start_time": "2024-11-08T11:33:35.639808",
     "status": "completed"
    },
    "tags": []
   },
   "outputs": [
    {
     "data": {
      "application/javascript": [
       "parent.postMessage({\"jupyterEvent\": \"custom.exercise_interaction\", \"data\": {\"outcomeType\": 1, \"valueTowardsCompletion\": 0.3333333333333333, \"interactionType\": 1, \"questionType\": 2, \"questionId\": \"3_MultiWordSearch\", \"learnToolsVersion\": \"0.3.4\", \"failureMessage\": \"\", \"exceptionClass\": \"\", \"trace\": \"\"}}, \"*\")"
      ],
      "text/plain": [
       "<IPython.core.display.Javascript object>"
      ]
     },
     "metadata": {},
     "output_type": "display_data"
    },
    {
     "data": {
      "text/markdown": [
       "<span style=\"color:#33cc33\">Correct</span>"
      ],
      "text/plain": [
       "Correct"
      ]
     },
     "metadata": {},
     "output_type": "display_data"
    }
   ],
   "source": [
    "def multi_word_search(documents, keywords):\n",
    "    keyword_to_indices = {}\n",
    "    for keyword in keywords:\n",
    "        keyword_to_indices[keyword] = word_search(documents, keyword)\n",
    "    return keyword_to_indices\n",
    "    \n",
    "# Check your answer\n",
    "q3.check()"
   ]
  },
  {
   "cell_type": "code",
   "execution_count": 12,
   "id": "c7b0dce8",
   "metadata": {
    "execution": {
     "iopub.execute_input": "2024-11-08T11:33:35.678602Z",
     "iopub.status.busy": "2024-11-08T11:33:35.677614Z",
     "iopub.status.idle": "2024-11-08T11:33:35.682456Z",
     "shell.execute_reply": "2024-11-08T11:33:35.681459Z"
    },
    "papermill": {
     "duration": 0.016391,
     "end_time": "2024-11-08T11:33:35.684727",
     "exception": false,
     "start_time": "2024-11-08T11:33:35.668336",
     "status": "completed"
    },
    "tags": []
   },
   "outputs": [],
   "source": [
    "#q3.solution()"
   ]
  },
  {
   "cell_type": "markdown",
   "id": "7fbc59a2",
   "metadata": {
    "papermill": {
     "duration": 0.00733,
     "end_time": "2024-11-08T11:33:35.701055",
     "exception": false,
     "start_time": "2024-11-08T11:33:35.693725",
     "status": "completed"
    },
    "tags": []
   },
   "source": [
    "# Keep Going\n",
    "\n",
    "You've learned a lot. But even the best programmers rely heavily on \"libraries\" of code from other programmers. You'll learn about that in **[the last lesson](https://www.kaggle.com/colinmorris/working-with-external-libraries)**.\n"
   ]
  },
  {
   "cell_type": "markdown",
   "id": "ef09419c",
   "metadata": {
    "papermill": {
     "duration": 0.007035,
     "end_time": "2024-11-08T11:33:35.715404",
     "exception": false,
     "start_time": "2024-11-08T11:33:35.708369",
     "status": "completed"
    },
    "tags": []
   },
   "source": [
    "---\n",
    "\n",
    "\n",
    "\n",
    "\n",
    "*Have questions or comments? Visit the [course discussion forum](https://www.kaggle.com/learn/python/discussion) to chat with other learners.*"
   ]
  }
 ],
 "metadata": {
  "kaggle": {
   "accelerator": "none",
   "dataSources": [],
   "isGpuEnabled": false,
   "isInternetEnabled": false,
   "language": "python",
   "sourceType": "notebook"
  },
  "kernelspec": {
   "display_name": "Python 3",
   "language": "python",
   "name": "python3"
  },
  "language_info": {
   "codemirror_mode": {
    "name": "ipython",
    "version": 3
   },
   "file_extension": ".py",
   "mimetype": "text/x-python",
   "name": "python",
   "nbconvert_exporter": "python",
   "pygments_lexer": "ipython3",
   "version": "3.10.14"
  },
  "learntools_metadata": {
   "lesson_index": 5,
   "type": "exercise"
  },
  "papermill": {
   "default_parameters": {},
   "duration": 4.85747,
   "end_time": "2024-11-08T11:33:36.243378",
   "environment_variables": {},
   "exception": null,
   "input_path": "__notebook__.ipynb",
   "output_path": "__notebook__.ipynb",
   "parameters": {},
   "start_time": "2024-11-08T11:33:31.385908",
   "version": "2.6.0"
  }
 },
 "nbformat": 4,
 "nbformat_minor": 5
}

{
 "cells": [
  {
   "cell_type": "markdown",
   "id": "51b636b1",
   "metadata": {
    "papermill": {
     "duration": 0.005367,
     "end_time": "2024-11-07T14:01:57.043373",
     "exception": false,
     "start_time": "2024-11-07T14:01:57.038006",
     "status": "completed"
    },
    "tags": []
   },
   "source": [
    "**This notebook is an exercise in the [Python](https://www.kaggle.com/learn/python) course.  You can reference the tutorial at [this link](https://www.kaggle.com/colinmorris/strings-and-dictionaries).**\n",
    "\n",
    "---\n"
   ]
  },
  {
   "cell_type": "markdown",
   "id": "45a296e5",
   "metadata": {
    "papermill": {
     "duration": 0.004535,
     "end_time": "2024-11-07T14:01:57.052842",
     "exception": false,
     "start_time": "2024-11-07T14:01:57.048307",
     "status": "completed"
    },
    "tags": []
   },
   "source": [
    "You are almost done with the course. Nice job!\n",
    "\n",
    "We have a couple more interesting problems for you before you go. \n",
    "\n",
    "As always, run the setup code below before working on the questions."
   ]
  },
  {
   "cell_type": "code",
   "execution_count": 1,
   "id": "1c57eb32",
   "metadata": {
    "execution": {
     "iopub.execute_input": "2024-11-07T14:01:57.064202Z",
     "iopub.status.busy": "2024-11-07T14:01:57.063773Z",
     "iopub.status.idle": "2024-11-07T14:01:58.013134Z",
     "shell.execute_reply": "2024-11-07T14:01:58.011817Z"
    },
    "papermill": {
     "duration": 0.958915,
     "end_time": "2024-11-07T14:01:58.016683",
     "exception": false,
     "start_time": "2024-11-07T14:01:57.057768",
     "status": "completed"
    },
    "tags": []
   },
   "outputs": [
    {
     "name": "stdout",
     "output_type": "stream",
     "text": [
      "Setup complete.\n"
     ]
    }
   ],
   "source": [
    "from learntools.core import binder; binder.bind(globals())\n",
    "from learntools.python.ex6 import *\n",
    "print('Setup complete.')"
   ]
  },
  {
   "cell_type": "markdown",
   "id": "e146aa2a",
   "metadata": {
    "papermill": {
     "duration": 0.005462,
     "end_time": "2024-11-07T14:01:58.027884",
     "exception": false,
     "start_time": "2024-11-07T14:01:58.022422",
     "status": "completed"
    },
    "tags": []
   },
   "source": [
    "Let's start with a string lightning round to warm up. What are the lengths of the strings below?\n",
    "\n",
    "For each of the five strings below, predict what `len()` would return when passed that string. Use the variable `length` to record your answer, then run the cell to check whether you were right.  \n",
    "\n",
    "# 0a."
   ]
  },
  {
   "cell_type": "code",
   "execution_count": 2,
   "id": "1801b7c9",
   "metadata": {
    "execution": {
     "iopub.execute_input": "2024-11-07T14:01:58.040225Z",
     "iopub.status.busy": "2024-11-07T14:01:58.039439Z",
     "iopub.status.idle": "2024-11-07T14:01:58.049999Z",
     "shell.execute_reply": "2024-11-07T14:01:58.048845Z"
    },
    "papermill": {
     "duration": 0.019153,
     "end_time": "2024-11-07T14:01:58.052313",
     "exception": false,
     "start_time": "2024-11-07T14:01:58.033160",
     "status": "completed"
    },
    "tags": []
   },
   "outputs": [
    {
     "data": {
      "application/javascript": [
       "parent.postMessage({\"jupyterEvent\": \"custom.exercise_interaction\", \"data\": {\"outcomeType\": 4, \"interactionType\": 1, \"questionType\": 1, \"questionId\": \"0.1_ZA\", \"learnToolsVersion\": \"0.3.4\", \"valueTowardsCompletion\": 0.0, \"failureMessage\": \"\", \"exceptionClass\": \"\", \"trace\": \"\"}}, \"*\")"
      ],
      "text/plain": [
       "<IPython.core.display.Javascript object>"
      ]
     },
     "metadata": {},
     "output_type": "display_data"
    },
    {
     "data": {
      "text/markdown": [
       "<span style=\"color:#ccaa33\">Check:</span> When you've updated the starter code, `check()` will tell you whether your code is correct. You need to update the code that creates variable `length`"
      ],
      "text/plain": [
       "Check: When you've updated the starter code, `check()` will tell you whether your code is correct. You need to update the code that creates variable `length`"
      ]
     },
     "metadata": {},
     "output_type": "display_data"
    }
   ],
   "source": [
    "a = \"\"\n",
    "length = ____\n",
    "q0.a.check()"
   ]
  },
  {
   "cell_type": "markdown",
   "id": "e975f2d5",
   "metadata": {
    "papermill": {
     "duration": 0.00494,
     "end_time": "2024-11-07T14:01:58.062450",
     "exception": false,
     "start_time": "2024-11-07T14:01:58.057510",
     "status": "completed"
    },
    "tags": []
   },
   "source": [
    "# 0b."
   ]
  },
  {
   "cell_type": "code",
   "execution_count": 3,
   "id": "e92c956e",
   "metadata": {
    "execution": {
     "iopub.execute_input": "2024-11-07T14:01:58.075216Z",
     "iopub.status.busy": "2024-11-07T14:01:58.074803Z",
     "iopub.status.idle": "2024-11-07T14:01:58.084368Z",
     "shell.execute_reply": "2024-11-07T14:01:58.083170Z"
    },
    "papermill": {
     "duration": 0.019304,
     "end_time": "2024-11-07T14:01:58.086782",
     "exception": false,
     "start_time": "2024-11-07T14:01:58.067478",
     "status": "completed"
    },
    "tags": []
   },
   "outputs": [
    {
     "data": {
      "application/javascript": [
       "parent.postMessage({\"jupyterEvent\": \"custom.exercise_interaction\", \"data\": {\"outcomeType\": 4, \"interactionType\": 1, \"questionType\": 1, \"questionId\": \"0.2_ZB\", \"learnToolsVersion\": \"0.3.4\", \"valueTowardsCompletion\": 0.0, \"failureMessage\": \"\", \"exceptionClass\": \"\", \"trace\": \"\"}}, \"*\")"
      ],
      "text/plain": [
       "<IPython.core.display.Javascript object>"
      ]
     },
     "metadata": {},
     "output_type": "display_data"
    },
    {
     "data": {
      "text/markdown": [
       "<span style=\"color:#ccaa33\">Check:</span> When you've updated the starter code, `check()` will tell you whether your code is correct. You need to update the code that creates variable `length`"
      ],
      "text/plain": [
       "Check: When you've updated the starter code, `check()` will tell you whether your code is correct. You need to update the code that creates variable `length`"
      ]
     },
     "metadata": {},
     "output_type": "display_data"
    }
   ],
   "source": [
    "b = \"it's ok\"\n",
    "length = ____\n",
    "q0.b.check()"
   ]
  },
  {
   "cell_type": "markdown",
   "id": "751dd493",
   "metadata": {
    "papermill": {
     "duration": 0.005188,
     "end_time": "2024-11-07T14:01:58.097499",
     "exception": false,
     "start_time": "2024-11-07T14:01:58.092311",
     "status": "completed"
    },
    "tags": []
   },
   "source": [
    "# 0c."
   ]
  },
  {
   "cell_type": "code",
   "execution_count": 4,
   "id": "324b2556",
   "metadata": {
    "execution": {
     "iopub.execute_input": "2024-11-07T14:01:58.110078Z",
     "iopub.status.busy": "2024-11-07T14:01:58.109645Z",
     "iopub.status.idle": "2024-11-07T14:01:58.119185Z",
     "shell.execute_reply": "2024-11-07T14:01:58.118064Z"
    },
    "papermill": {
     "duration": 0.018307,
     "end_time": "2024-11-07T14:01:58.121292",
     "exception": false,
     "start_time": "2024-11-07T14:01:58.102985",
     "status": "completed"
    },
    "tags": []
   },
   "outputs": [
    {
     "data": {
      "application/javascript": [
       "parent.postMessage({\"jupyterEvent\": \"custom.exercise_interaction\", \"data\": {\"outcomeType\": 4, \"interactionType\": 1, \"questionType\": 1, \"questionId\": \"0.3_ZC\", \"learnToolsVersion\": \"0.3.4\", \"valueTowardsCompletion\": 0.0, \"failureMessage\": \"\", \"exceptionClass\": \"\", \"trace\": \"\"}}, \"*\")"
      ],
      "text/plain": [
       "<IPython.core.display.Javascript object>"
      ]
     },
     "metadata": {},
     "output_type": "display_data"
    },
    {
     "data": {
      "text/markdown": [
       "<span style=\"color:#ccaa33\">Check:</span> When you've updated the starter code, `check()` will tell you whether your code is correct. You need to update the code that creates variable `length`"
      ],
      "text/plain": [
       "Check: When you've updated the starter code, `check()` will tell you whether your code is correct. You need to update the code that creates variable `length`"
      ]
     },
     "metadata": {},
     "output_type": "display_data"
    }
   ],
   "source": [
    "c = 'it\\'s ok'\n",
    "length = ____\n",
    "q0.c.check()"
   ]
  },
  {
   "cell_type": "markdown",
   "id": "ec91942a",
   "metadata": {
    "papermill": {
     "duration": 0.005547,
     "end_time": "2024-11-07T14:01:58.132774",
     "exception": false,
     "start_time": "2024-11-07T14:01:58.127227",
     "status": "completed"
    },
    "tags": []
   },
   "source": [
    "# 0d."
   ]
  },
  {
   "cell_type": "code",
   "execution_count": 5,
   "id": "1bb835b3",
   "metadata": {
    "execution": {
     "iopub.execute_input": "2024-11-07T14:01:58.145824Z",
     "iopub.status.busy": "2024-11-07T14:01:58.145364Z",
     "iopub.status.idle": "2024-11-07T14:01:58.155786Z",
     "shell.execute_reply": "2024-11-07T14:01:58.154486Z"
    },
    "papermill": {
     "duration": 0.019689,
     "end_time": "2024-11-07T14:01:58.158050",
     "exception": false,
     "start_time": "2024-11-07T14:01:58.138361",
     "status": "completed"
    },
    "tags": []
   },
   "outputs": [
    {
     "data": {
      "application/javascript": [
       "parent.postMessage({\"jupyterEvent\": \"custom.exercise_interaction\", \"data\": {\"outcomeType\": 4, \"interactionType\": 1, \"questionType\": 1, \"questionId\": \"0.4_ZD\", \"learnToolsVersion\": \"0.3.4\", \"valueTowardsCompletion\": 0.0, \"failureMessage\": \"\", \"exceptionClass\": \"\", \"trace\": \"\"}}, \"*\")"
      ],
      "text/plain": [
       "<IPython.core.display.Javascript object>"
      ]
     },
     "metadata": {},
     "output_type": "display_data"
    },
    {
     "data": {
      "text/markdown": [
       "<span style=\"color:#ccaa33\">Check:</span> When you've updated the starter code, `check()` will tell you whether your code is correct. You need to update the code that creates variable `length`"
      ],
      "text/plain": [
       "Check: When you've updated the starter code, `check()` will tell you whether your code is correct. You need to update the code that creates variable `length`"
      ]
     },
     "metadata": {},
     "output_type": "display_data"
    }
   ],
   "source": [
    "d = \"\"\"hey\"\"\"\n",
    "length = ____\n",
    "q0.d.check()"
   ]
  },
  {
   "cell_type": "markdown",
   "id": "2c8d5b65",
   "metadata": {
    "papermill": {
     "duration": 0.005832,
     "end_time": "2024-11-07T14:01:58.170477",
     "exception": false,
     "start_time": "2024-11-07T14:01:58.164645",
     "status": "completed"
    },
    "tags": []
   },
   "source": [
    "# 0e."
   ]
  },
  {
   "cell_type": "code",
   "execution_count": 6,
   "id": "7fe69876",
   "metadata": {
    "execution": {
     "iopub.execute_input": "2024-11-07T14:01:58.184331Z",
     "iopub.status.busy": "2024-11-07T14:01:58.183911Z",
     "iopub.status.idle": "2024-11-07T14:01:58.194330Z",
     "shell.execute_reply": "2024-11-07T14:01:58.193075Z"
    },
    "papermill": {
     "duration": 0.020243,
     "end_time": "2024-11-07T14:01:58.196672",
     "exception": false,
     "start_time": "2024-11-07T14:01:58.176429",
     "status": "completed"
    },
    "tags": []
   },
   "outputs": [
    {
     "data": {
      "application/javascript": [
       "parent.postMessage({\"jupyterEvent\": \"custom.exercise_interaction\", \"data\": {\"outcomeType\": 4, \"interactionType\": 1, \"questionType\": 1, \"questionId\": \"0.5_ZE\", \"learnToolsVersion\": \"0.3.4\", \"valueTowardsCompletion\": 0.0, \"failureMessage\": \"\", \"exceptionClass\": \"\", \"trace\": \"\"}}, \"*\")"
      ],
      "text/plain": [
       "<IPython.core.display.Javascript object>"
      ]
     },
     "metadata": {},
     "output_type": "display_data"
    },
    {
     "data": {
      "text/markdown": [
       "<span style=\"color:#ccaa33\">Check:</span> When you've updated the starter code, `check()` will tell you whether your code is correct. You need to update the code that creates variable `length`"
      ],
      "text/plain": [
       "Check: When you've updated the starter code, `check()` will tell you whether your code is correct. You need to update the code that creates variable `length`"
      ]
     },
     "metadata": {},
     "output_type": "display_data"
    }
   ],
   "source": [
    "e = '\\n'\n",
    "length = ____\n",
    "q0.e.check()"
   ]
  },
  {
   "cell_type": "markdown",
   "id": "e2ac2132",
   "metadata": {
    "papermill": {
     "duration": 0.006338,
     "end_time": "2024-11-07T14:01:58.209544",
     "exception": false,
     "start_time": "2024-11-07T14:01:58.203206",
     "status": "completed"
    },
    "tags": []
   },
   "source": [
    "# 1.\n",
    "\n",
    "There is a saying that \"Data scientists spend 80% of their time cleaning data, and 20% of their time complaining about cleaning data.\" Let's see if you can write a function to help clean US zip code data. Given a string, it should return whether or not that string represents a valid zip code. For our purposes, a valid zip code is any string consisting of exactly 5 digits.\n",
    "\n",
    "HINT: `str` has a method that will be useful here. Use `help(str)` to review a list of string methods."
   ]
  },
  {
   "cell_type": "code",
   "execution_count": 7,
   "id": "48849c1e",
   "metadata": {
    "execution": {
     "iopub.execute_input": "2024-11-07T14:01:58.224572Z",
     "iopub.status.busy": "2024-11-07T14:01:58.223645Z",
     "iopub.status.idle": "2024-11-07T14:01:58.233737Z",
     "shell.execute_reply": "2024-11-07T14:01:58.232573Z"
    },
    "papermill": {
     "duration": 0.020282,
     "end_time": "2024-11-07T14:01:58.236257",
     "exception": false,
     "start_time": "2024-11-07T14:01:58.215975",
     "status": "completed"
    },
    "tags": []
   },
   "outputs": [
    {
     "data": {
      "application/javascript": [
       "parent.postMessage({\"jupyterEvent\": \"custom.exercise_interaction\", \"data\": {\"outcomeType\": 4, \"interactionType\": 1, \"questionType\": 2, \"questionId\": \"1_ZipValidator\", \"learnToolsVersion\": \"0.3.4\", \"valueTowardsCompletion\": 0.0, \"failureMessage\": \"\", \"exceptionClass\": \"\", \"trace\": \"\"}}, \"*\")"
      ],
      "text/plain": [
       "<IPython.core.display.Javascript object>"
      ]
     },
     "metadata": {},
     "output_type": "display_data"
    },
    {
     "data": {
      "text/markdown": [
       "<span style=\"color:#ccaa33\">Check:</span> When you've updated the starter code, `check()` will tell you whether your code is correct. "
      ],
      "text/plain": [
       "Check: When you've updated the starter code, `check()` will tell you whether your code is correct. "
      ]
     },
     "metadata": {},
     "output_type": "display_data"
    }
   ],
   "source": [
    "def is_valid_zip(zip_code):\n",
    "    \"\"\"Returns whether the input string is a valid (5 digit) zip code\n",
    "    \"\"\"\n",
    "    pass\n",
    "\n",
    "# Check your answer\n",
    "q1.check()"
   ]
  },
  {
   "cell_type": "code",
   "execution_count": 8,
   "id": "ddce5266",
   "metadata": {
    "execution": {
     "iopub.execute_input": "2024-11-07T14:01:58.252349Z",
     "iopub.status.busy": "2024-11-07T14:01:58.251927Z",
     "iopub.status.idle": "2024-11-07T14:01:58.256851Z",
     "shell.execute_reply": "2024-11-07T14:01:58.255627Z"
    },
    "papermill": {
     "duration": 0.015983,
     "end_time": "2024-11-07T14:01:58.259073",
     "exception": false,
     "start_time": "2024-11-07T14:01:58.243090",
     "status": "completed"
    },
    "tags": []
   },
   "outputs": [],
   "source": [
    "#q1.hint()\n",
    "#q1.solution()"
   ]
  },
  {
   "cell_type": "markdown",
   "id": "f0b84750",
   "metadata": {
    "papermill": {
     "duration": 0.006941,
     "end_time": "2024-11-07T14:01:58.272835",
     "exception": false,
     "start_time": "2024-11-07T14:01:58.265894",
     "status": "completed"
    },
    "tags": []
   },
   "source": [
    "# 2.\n",
    "\n",
    "A researcher has gathered thousands of news articles. But she wants to focus her attention on articles including a specific word. Complete the function below to help her filter her list of articles.\n",
    "\n",
    "Your function should meet the following criteria:\n",
    "\n",
    "- Do not include documents where the keyword string shows up only as a part of a larger word. For example, if she were looking for the keyword “closed”, you would not include the string “enclosed.” \n",
    "- She does not want you to distinguish upper case from lower case letters. So the phrase “Closed the case.” would be included when the keyword is “closed”\n",
    "- Do not let periods or commas affect what is matched. “It is closed.” would be included when the keyword is “closed”. But you can assume there are no other types of punctuation."
   ]
  },
  {
   "cell_type": "code",
   "execution_count": 9,
   "id": "73b36bc7",
   "metadata": {
    "execution": {
     "iopub.execute_input": "2024-11-07T14:01:58.287910Z",
     "iopub.status.busy": "2024-11-07T14:01:58.287417Z",
     "iopub.status.idle": "2024-11-07T14:01:58.297208Z",
     "shell.execute_reply": "2024-11-07T14:01:58.296158Z"
    },
    "papermill": {
     "duration": 0.019788,
     "end_time": "2024-11-07T14:01:58.299393",
     "exception": false,
     "start_time": "2024-11-07T14:01:58.279605",
     "status": "completed"
    },
    "tags": []
   },
   "outputs": [
    {
     "data": {
      "application/javascript": [
       "parent.postMessage({\"jupyterEvent\": \"custom.exercise_interaction\", \"data\": {\"outcomeType\": 4, \"interactionType\": 1, \"questionType\": 2, \"questionId\": \"2_WordSearch\", \"learnToolsVersion\": \"0.3.4\", \"valueTowardsCompletion\": 0.0, \"failureMessage\": \"\", \"exceptionClass\": \"\", \"trace\": \"\"}}, \"*\")"
      ],
      "text/plain": [
       "<IPython.core.display.Javascript object>"
      ]
     },
     "metadata": {},
     "output_type": "display_data"
    },
    {
     "data": {
      "text/markdown": [
       "<span style=\"color:#ccaa33\">Check:</span> When you've updated the starter code, `check()` will tell you whether your code is correct. "
      ],
      "text/plain": [
       "Check: When you've updated the starter code, `check()` will tell you whether your code is correct. "
      ]
     },
     "metadata": {},
     "output_type": "display_data"
    }
   ],
   "source": [
    "def word_search(doc_list, keyword):\n",
    "    \"\"\"\n",
    "    Takes a list of documents (each document is a string) and a keyword. \n",
    "    Returns list of the index values into the original list for all documents \n",
    "    containing the keyword.\n",
    "\n",
    "    Example:\n",
    "    doc_list = [\"The Learn Python Challenge Casino.\", \"They bought a car\", \"Casinoville\"]\n",
    "    >>> word_search(doc_list, 'casino')\n",
    "    >>> [0]\n",
    "    \"\"\"\n",
    "    pass\n",
    "\n",
    "# Check your answer\n",
    "q2.check()"
   ]
  },
  {
   "cell_type": "code",
   "execution_count": 10,
   "id": "1fd6ccad",
   "metadata": {
    "execution": {
     "iopub.execute_input": "2024-11-07T14:01:58.315439Z",
     "iopub.status.busy": "2024-11-07T14:01:58.314581Z",
     "iopub.status.idle": "2024-11-07T14:01:58.320305Z",
     "shell.execute_reply": "2024-11-07T14:01:58.318183Z"
    },
    "papermill": {
     "duration": 0.016471,
     "end_time": "2024-11-07T14:01:58.322860",
     "exception": false,
     "start_time": "2024-11-07T14:01:58.306389",
     "status": "completed"
    },
    "tags": []
   },
   "outputs": [],
   "source": [
    "#q2.hint()\n",
    "#q2.solution()"
   ]
  },
  {
   "cell_type": "markdown",
   "id": "4b784e77",
   "metadata": {
    "papermill": {
     "duration": 0.00667,
     "end_time": "2024-11-07T14:01:58.337172",
     "exception": false,
     "start_time": "2024-11-07T14:01:58.330502",
     "status": "completed"
    },
    "tags": []
   },
   "source": [
    "# 3.\n",
    "\n",
    "Now the researcher wants to supply multiple keywords to search for. Complete the function below to help her.\n",
    "\n",
    "(You're encouraged to use the `word_search` function you just wrote when implementing this function. Reusing code in this way makes your programs more robust and readable - and it saves typing!)"
   ]
  },
  {
   "cell_type": "code",
   "execution_count": 11,
   "id": "0ee05656",
   "metadata": {
    "execution": {
     "iopub.execute_input": "2024-11-07T14:01:58.353014Z",
     "iopub.status.busy": "2024-11-07T14:01:58.352569Z",
     "iopub.status.idle": "2024-11-07T14:01:58.362059Z",
     "shell.execute_reply": "2024-11-07T14:01:58.360959Z"
    },
    "papermill": {
     "duration": 0.020138,
     "end_time": "2024-11-07T14:01:58.364248",
     "exception": false,
     "start_time": "2024-11-07T14:01:58.344110",
     "status": "completed"
    },
    "tags": []
   },
   "outputs": [
    {
     "data": {
      "application/javascript": [
       "parent.postMessage({\"jupyterEvent\": \"custom.exercise_interaction\", \"data\": {\"outcomeType\": 4, \"interactionType\": 1, \"questionType\": 2, \"questionId\": \"3_MultiWordSearch\", \"learnToolsVersion\": \"0.3.4\", \"valueTowardsCompletion\": 0.0, \"failureMessage\": \"\", \"exceptionClass\": \"\", \"trace\": \"\"}}, \"*\")"
      ],
      "text/plain": [
       "<IPython.core.display.Javascript object>"
      ]
     },
     "metadata": {},
     "output_type": "display_data"
    },
    {
     "data": {
      "text/markdown": [
       "<span style=\"color:#ccaa33\">Check:</span> When you've updated the starter code, `check()` will tell you whether your code is correct. "
      ],
      "text/plain": [
       "Check: When you've updated the starter code, `check()` will tell you whether your code is correct. "
      ]
     },
     "metadata": {},
     "output_type": "display_data"
    }
   ],
   "source": [
    "def multi_word_search(doc_list, keywords):\n",
    "    \"\"\"\n",
    "    Takes list of documents (each document is a string) and a list of keywords.  \n",
    "    Returns a dictionary where each key is a keyword, and the value is a list of indices\n",
    "    (from doc_list) of the documents containing that keyword\n",
    "\n",
    "    >>> doc_list = [\"The Learn Python Challenge Casino.\", \"They bought a car and a casino\", \"Casinoville\"]\n",
    "    >>> keywords = ['casino', 'they']\n",
    "    >>> multi_word_search(doc_list, keywords)\n",
    "    {'casino': [0, 1], 'they': [1]}\n",
    "    \"\"\"\n",
    "    pass\n",
    "\n",
    "# Check your answer\n",
    "q3.check()"
   ]
  },
  {
   "cell_type": "code",
   "execution_count": 12,
   "id": "204ad806",
   "metadata": {
    "execution": {
     "iopub.execute_input": "2024-11-07T14:01:58.380530Z",
     "iopub.status.busy": "2024-11-07T14:01:58.380148Z",
     "iopub.status.idle": "2024-11-07T14:01:58.385015Z",
     "shell.execute_reply": "2024-11-07T14:01:58.383775Z"
    },
    "papermill": {
     "duration": 0.015751,
     "end_time": "2024-11-07T14:01:58.387321",
     "exception": false,
     "start_time": "2024-11-07T14:01:58.371570",
     "status": "completed"
    },
    "tags": []
   },
   "outputs": [],
   "source": [
    "#q3.solution()"
   ]
  },
  {
   "cell_type": "markdown",
   "id": "2f3f8fb9",
   "metadata": {
    "papermill": {
     "duration": 0.007638,
     "end_time": "2024-11-07T14:01:58.402227",
     "exception": false,
     "start_time": "2024-11-07T14:01:58.394589",
     "status": "completed"
    },
    "tags": []
   },
   "source": [
    "# Keep Going\n",
    "\n",
    "You've learned a lot. But even the best programmers rely heavily on \"libraries\" of code from other programmers. You'll learn about that in **[the last lesson](https://www.kaggle.com/colinmorris/working-with-external-libraries)**.\n"
   ]
  },
  {
   "cell_type": "markdown",
   "id": "56f69217",
   "metadata": {
    "papermill": {
     "duration": 0.00688,
     "end_time": "2024-11-07T14:01:58.416471",
     "exception": false,
     "start_time": "2024-11-07T14:01:58.409591",
     "status": "completed"
    },
    "tags": []
   },
   "source": [
    "---\n",
    "\n",
    "\n",
    "\n",
    "\n",
    "*Have questions or comments? Visit the [course discussion forum](https://www.kaggle.com/learn/python/discussion) to chat with other learners.*"
   ]
  }
 ],
 "metadata": {
  "kaggle": {
   "accelerator": "none",
   "dataSources": [],
   "isGpuEnabled": false,
   "isInternetEnabled": false,
   "language": "python",
   "sourceType": "notebook"
  },
  "kernelspec": {
   "display_name": "Python 3",
   "language": "python",
   "name": "python3"
  },
  "language_info": {
   "codemirror_mode": {
    "name": "ipython",
    "version": 3
   },
   "file_extension": ".py",
   "mimetype": "text/x-python",
   "name": "python",
   "nbconvert_exporter": "python",
   "pygments_lexer": "ipython3",
   "version": "3.10.14"
  },
  "learntools_metadata": {
   "lesson_index": 5,
   "type": "exercise"
  },
  "papermill": {
   "default_parameters": {},
   "duration": 4.736984,
   "end_time": "2024-11-07T14:01:58.945478",
   "environment_variables": {},
   "exception": null,
   "input_path": "__notebook__.ipynb",
   "output_path": "__notebook__.ipynb",
   "parameters": {},
   "start_time": "2024-11-07T14:01:54.208494",
   "version": "2.6.0"
  }
 },
 "nbformat": 4,
 "nbformat_minor": 5
}

{
 "cells": [
  {
   "cell_type": "markdown",
   "id": "7ddb6657",
   "metadata": {
    "papermill": {
     "duration": 0.006086,
     "end_time": "2024-11-08T11:35:07.283739",
     "exception": false,
     "start_time": "2024-11-08T11:35:07.277653",
     "status": "completed"
    },
    "tags": []
   },
   "source": [
    "**This notebook is an exercise in the [Python](https://www.kaggle.com/learn/python) course.  You can reference the tutorial at [this link](https://www.kaggle.com/colinmorris/strings-and-dictionaries).**\n",
    "\n",
    "---\n"
   ]
  },
  {
   "cell_type": "markdown",
   "id": "80dc2150",
   "metadata": {
    "papermill": {
     "duration": 0.004935,
     "end_time": "2024-11-08T11:35:07.294088",
     "exception": false,
     "start_time": "2024-11-08T11:35:07.289153",
     "status": "completed"
    },
    "tags": []
   },
   "source": [
    "You are almost done with the course. Nice job!\n",
    "\n",
    "We have a couple more interesting problems for you before you go. \n",
    "\n",
    "As always, run the setup code below before working on the questions."
   ]
  },
  {
   "cell_type": "code",
   "execution_count": 1,
   "id": "cb1e9afe",
   "metadata": {
    "execution": {
     "iopub.execute_input": "2024-11-08T11:35:07.307064Z",
     "iopub.status.busy": "2024-11-08T11:35:07.305941Z",
     "iopub.status.idle": "2024-11-08T11:35:08.192630Z",
     "shell.execute_reply": "2024-11-08T11:35:08.191506Z"
    },
    "papermill": {
     "duration": 0.89694,
     "end_time": "2024-11-08T11:35:08.196145",
     "exception": false,
     "start_time": "2024-11-08T11:35:07.299205",
     "status": "completed"
    },
    "tags": []
   },
   "outputs": [
    {
     "name": "stdout",
     "output_type": "stream",
     "text": [
      "Setup complete.\n"
     ]
    }
   ],
   "source": [
    "from learntools.core import binder; binder.bind(globals())\n",
    "from learntools.python.ex6 import *\n",
    "print('Setup complete.')"
   ]
  },
  {
   "cell_type": "markdown",
   "id": "488cdabc",
   "metadata": {
    "papermill": {
     "duration": 0.005172,
     "end_time": "2024-11-08T11:35:08.207563",
     "exception": false,
     "start_time": "2024-11-08T11:35:08.202391",
     "status": "completed"
    },
    "tags": []
   },
   "source": [
    "Let's start with a string lightning round to warm up. What are the lengths of the strings below?\n",
    "\n",
    "For each of the five strings below, predict what `len()` would return when passed that string. Use the variable `length` to record your answer, then run the cell to check whether you were right.  \n",
    "\n",
    "# 0a."
   ]
  },
  {
   "cell_type": "code",
   "execution_count": 2,
   "id": "0b468913",
   "metadata": {
    "execution": {
     "iopub.execute_input": "2024-11-08T11:35:08.220244Z",
     "iopub.status.busy": "2024-11-08T11:35:08.219673Z",
     "iopub.status.idle": "2024-11-08T11:35:08.229830Z",
     "shell.execute_reply": "2024-11-08T11:35:08.228745Z"
    },
    "papermill": {
     "duration": 0.019102,
     "end_time": "2024-11-08T11:35:08.232006",
     "exception": false,
     "start_time": "2024-11-08T11:35:08.212904",
     "status": "completed"
    },
    "tags": []
   },
   "outputs": [
    {
     "data": {
      "application/javascript": [
       "parent.postMessage({\"jupyterEvent\": \"custom.exercise_interaction\", \"data\": {\"outcomeType\": 1, \"valueTowardsCompletion\": 0.3333333333333333, \"interactionType\": 1, \"questionType\": 1, \"questionId\": \"0.1_ZA\", \"learnToolsVersion\": \"0.3.4\", \"failureMessage\": \"\", \"exceptionClass\": \"\", \"trace\": \"\"}}, \"*\")"
      ],
      "text/plain": [
       "<IPython.core.display.Javascript object>"
      ]
     },
     "metadata": {},
     "output_type": "display_data"
    },
    {
     "data": {
      "text/markdown": [
       "<span style=\"color:#33cc33\">Correct:</span> \n",
       "\n",
       "The empty string has length zero. Note that the empty string is also the only string that Python considers as False when converting to boolean."
      ],
      "text/plain": [
       "Correct: \n",
       "\n",
       "The empty string has length zero. Note that the empty string is also the only string that Python considers as False when converting to boolean."
      ]
     },
     "metadata": {},
     "output_type": "display_data"
    }
   ],
   "source": [
    "a = \"\"\n",
    "length = 0\n",
    "q0.a.check()"
   ]
  },
  {
   "cell_type": "markdown",
   "id": "83f0c6ce",
   "metadata": {
    "papermill": {
     "duration": 0.005332,
     "end_time": "2024-11-08T11:35:08.243052",
     "exception": false,
     "start_time": "2024-11-08T11:35:08.237720",
     "status": "completed"
    },
    "tags": []
   },
   "source": [
    "# 0b."
   ]
  },
  {
   "cell_type": "code",
   "execution_count": 3,
   "id": "2148f053",
   "metadata": {
    "execution": {
     "iopub.execute_input": "2024-11-08T11:35:08.257069Z",
     "iopub.status.busy": "2024-11-08T11:35:08.256650Z",
     "iopub.status.idle": "2024-11-08T11:35:08.266156Z",
     "shell.execute_reply": "2024-11-08T11:35:08.265135Z"
    },
    "papermill": {
     "duration": 0.018686,
     "end_time": "2024-11-08T11:35:08.268399",
     "exception": false,
     "start_time": "2024-11-08T11:35:08.249713",
     "status": "completed"
    },
    "tags": []
   },
   "outputs": [
    {
     "data": {
      "application/javascript": [
       "parent.postMessage({\"jupyterEvent\": \"custom.exercise_interaction\", \"data\": {\"outcomeType\": 1, \"valueTowardsCompletion\": 0.3333333333333333, \"interactionType\": 1, \"questionType\": 1, \"questionId\": \"0.2_ZB\", \"learnToolsVersion\": \"0.3.4\", \"failureMessage\": \"\", \"exceptionClass\": \"\", \"trace\": \"\"}}, \"*\")"
      ],
      "text/plain": [
       "<IPython.core.display.Javascript object>"
      ]
     },
     "metadata": {},
     "output_type": "display_data"
    },
    {
     "data": {
      "text/markdown": [
       "<span style=\"color:#33cc33\">Correct:</span> \n",
       "\n",
       "Keep in mind Python includes spaces (and punctuation) when counting string length."
      ],
      "text/plain": [
       "Correct: \n",
       "\n",
       "Keep in mind Python includes spaces (and punctuation) when counting string length."
      ]
     },
     "metadata": {},
     "output_type": "display_data"
    }
   ],
   "source": [
    "b = \"it's ok\"\n",
    "length = 7\n",
    "q0.b.check()"
   ]
  },
  {
   "cell_type": "markdown",
   "id": "94ee90ee",
   "metadata": {
    "papermill": {
     "duration": 0.006045,
     "end_time": "2024-11-08T11:35:08.280473",
     "exception": false,
     "start_time": "2024-11-08T11:35:08.274428",
     "status": "completed"
    },
    "tags": []
   },
   "source": [
    "# 0c."
   ]
  },
  {
   "cell_type": "code",
   "execution_count": 4,
   "id": "abbf4304",
   "metadata": {
    "execution": {
     "iopub.execute_input": "2024-11-08T11:35:08.294655Z",
     "iopub.status.busy": "2024-11-08T11:35:08.293688Z",
     "iopub.status.idle": "2024-11-08T11:35:08.302347Z",
     "shell.execute_reply": "2024-11-08T11:35:08.301334Z"
    },
    "papermill": {
     "duration": 0.018134,
     "end_time": "2024-11-08T11:35:08.304538",
     "exception": false,
     "start_time": "2024-11-08T11:35:08.286404",
     "status": "completed"
    },
    "tags": []
   },
   "outputs": [
    {
     "data": {
      "application/javascript": [
       "parent.postMessage({\"jupyterEvent\": \"custom.exercise_interaction\", \"data\": {\"outcomeType\": 1, \"valueTowardsCompletion\": 0.3333333333333333, \"interactionType\": 1, \"questionType\": 1, \"questionId\": \"0.3_ZC\", \"learnToolsVersion\": \"0.3.4\", \"failureMessage\": \"\", \"exceptionClass\": \"\", \"trace\": \"\"}}, \"*\")"
      ],
      "text/plain": [
       "<IPython.core.display.Javascript object>"
      ]
     },
     "metadata": {},
     "output_type": "display_data"
    },
    {
     "data": {
      "text/markdown": [
       "<span style=\"color:#33cc33\">Correct:</span> \n",
       "\n",
       "Even though we use different syntax to create it, the string `c` is identical to `b`. In particular, note that the backslash is not part of the string, so it doesn't contribute to its length."
      ],
      "text/plain": [
       "Correct: \n",
       "\n",
       "Even though we use different syntax to create it, the string `c` is identical to `b`. In particular, note that the backslash is not part of the string, so it doesn't contribute to its length."
      ]
     },
     "metadata": {},
     "output_type": "display_data"
    }
   ],
   "source": [
    "c = 'it\\'s ok'\n",
    "length = 7\n",
    "q0.c.check()"
   ]
  },
  {
   "cell_type": "markdown",
   "id": "f52875bc",
   "metadata": {
    "papermill": {
     "duration": 0.005825,
     "end_time": "2024-11-08T11:35:08.316495",
     "exception": false,
     "start_time": "2024-11-08T11:35:08.310670",
     "status": "completed"
    },
    "tags": []
   },
   "source": [
    "# 0d."
   ]
  },
  {
   "cell_type": "code",
   "execution_count": 5,
   "id": "6e89cfe9",
   "metadata": {
    "execution": {
     "iopub.execute_input": "2024-11-08T11:35:08.330447Z",
     "iopub.status.busy": "2024-11-08T11:35:08.330024Z",
     "iopub.status.idle": "2024-11-08T11:35:08.339364Z",
     "shell.execute_reply": "2024-11-08T11:35:08.338283Z"
    },
    "papermill": {
     "duration": 0.019292,
     "end_time": "2024-11-08T11:35:08.341793",
     "exception": false,
     "start_time": "2024-11-08T11:35:08.322501",
     "status": "completed"
    },
    "tags": []
   },
   "outputs": [
    {
     "data": {
      "application/javascript": [
       "parent.postMessage({\"jupyterEvent\": \"custom.exercise_interaction\", \"data\": {\"outcomeType\": 1, \"valueTowardsCompletion\": 0.3333333333333333, \"interactionType\": 1, \"questionType\": 1, \"questionId\": \"0.4_ZD\", \"learnToolsVersion\": \"0.3.4\", \"failureMessage\": \"\", \"exceptionClass\": \"\", \"trace\": \"\"}}, \"*\")"
      ],
      "text/plain": [
       "<IPython.core.display.Javascript object>"
      ]
     },
     "metadata": {},
     "output_type": "display_data"
    },
    {
     "data": {
      "text/markdown": [
       "<span style=\"color:#33cc33\">Correct:</span> \n",
       "\n",
       "The fact that this string was created using triple-quote syntax doesn't make any difference in terms of its content or length. This string is exactly the same as `'hey'`."
      ],
      "text/plain": [
       "Correct: \n",
       "\n",
       "The fact that this string was created using triple-quote syntax doesn't make any difference in terms of its content or length. This string is exactly the same as `'hey'`."
      ]
     },
     "metadata": {},
     "output_type": "display_data"
    }
   ],
   "source": [
    "d = \"\"\"hey\"\"\"\n",
    "length = 3\n",
    "q0.d.check()"
   ]
  },
  {
   "cell_type": "markdown",
   "id": "d0db3702",
   "metadata": {
    "papermill": {
     "duration": 0.006157,
     "end_time": "2024-11-08T11:35:08.354379",
     "exception": false,
     "start_time": "2024-11-08T11:35:08.348222",
     "status": "completed"
    },
    "tags": []
   },
   "source": [
    "# 0e."
   ]
  },
  {
   "cell_type": "code",
   "execution_count": 6,
   "id": "95327675",
   "metadata": {
    "execution": {
     "iopub.execute_input": "2024-11-08T11:35:08.369690Z",
     "iopub.status.busy": "2024-11-08T11:35:08.368924Z",
     "iopub.status.idle": "2024-11-08T11:35:08.377647Z",
     "shell.execute_reply": "2024-11-08T11:35:08.376633Z"
    },
    "papermill": {
     "duration": 0.018875,
     "end_time": "2024-11-08T11:35:08.379973",
     "exception": false,
     "start_time": "2024-11-08T11:35:08.361098",
     "status": "completed"
    },
    "tags": []
   },
   "outputs": [
    {
     "data": {
      "application/javascript": [
       "parent.postMessage({\"jupyterEvent\": \"custom.exercise_interaction\", \"data\": {\"outcomeType\": 1, \"valueTowardsCompletion\": 0.3333333333333333, \"interactionType\": 1, \"questionType\": 1, \"questionId\": \"0.5_ZE\", \"learnToolsVersion\": \"0.3.4\", \"failureMessage\": \"\", \"exceptionClass\": \"\", \"trace\": \"\"}}, \"*\")"
      ],
      "text/plain": [
       "<IPython.core.display.Javascript object>"
      ]
     },
     "metadata": {},
     "output_type": "display_data"
    },
    {
     "data": {
      "text/markdown": [
       "<span style=\"color:#33cc33\">Correct:</span> \n",
       "\n",
       "The newline character is just a single character! (Even though we represent it to Python using a combination of two characters.)"
      ],
      "text/plain": [
       "Correct: \n",
       "\n",
       "The newline character is just a single character! (Even though we represent it to Python using a combination of two characters.)"
      ]
     },
     "metadata": {},
     "output_type": "display_data"
    }
   ],
   "source": [
    "e = '\\n'\n",
    "length = 1\n",
    "q0.e.check()"
   ]
  },
  {
   "cell_type": "markdown",
   "id": "1741fab7",
   "metadata": {
    "papermill": {
     "duration": 0.006385,
     "end_time": "2024-11-08T11:35:08.392981",
     "exception": false,
     "start_time": "2024-11-08T11:35:08.386596",
     "status": "completed"
    },
    "tags": []
   },
   "source": [
    "# 1.\n",
    "\n",
    "There is a saying that \"Data scientists spend 80% of their time cleaning data, and 20% of their time complaining about cleaning data.\" Let's see if you can write a function to help clean US zip code data. Given a string, it should return whether or not that string represents a valid zip code. For our purposes, a valid zip code is any string consisting of exactly 5 digits.\n",
    "\n",
    "HINT: `str` has a method that will be useful here. Use `help(str)` to review a list of string methods."
   ]
  },
  {
   "cell_type": "code",
   "execution_count": 7,
   "id": "5b3051e2",
   "metadata": {
    "execution": {
     "iopub.execute_input": "2024-11-08T11:35:08.408361Z",
     "iopub.status.busy": "2024-11-08T11:35:08.407531Z",
     "iopub.status.idle": "2024-11-08T11:35:08.416651Z",
     "shell.execute_reply": "2024-11-08T11:35:08.415618Z"
    },
    "papermill": {
     "duration": 0.01937,
     "end_time": "2024-11-08T11:35:08.418947",
     "exception": false,
     "start_time": "2024-11-08T11:35:08.399577",
     "status": "completed"
    },
    "tags": []
   },
   "outputs": [
    {
     "data": {
      "application/javascript": [
       "parent.postMessage({\"jupyterEvent\": \"custom.exercise_interaction\", \"data\": {\"outcomeType\": 1, \"valueTowardsCompletion\": 0.3333333333333333, \"interactionType\": 1, \"questionType\": 2, \"questionId\": \"1_ZipValidator\", \"learnToolsVersion\": \"0.3.4\", \"failureMessage\": \"\", \"exceptionClass\": \"\", \"trace\": \"\"}}, \"*\")"
      ],
      "text/plain": [
       "<IPython.core.display.Javascript object>"
      ]
     },
     "metadata": {},
     "output_type": "display_data"
    },
    {
     "data": {
      "text/markdown": [
       "<span style=\"color:#33cc33\">Correct</span>"
      ],
      "text/plain": [
       "Correct"
      ]
     },
     "metadata": {},
     "output_type": "display_data"
    }
   ],
   "source": [
    "def is_valid_zip(zip_code):\n",
    "    return len(zip_code) == 5 and zip_code.isdigit()\n",
    "\n",
    "# Check your answer\n",
    "q1.check()"
   ]
  },
  {
   "cell_type": "code",
   "execution_count": 8,
   "id": "fa4b87ab",
   "metadata": {
    "execution": {
     "iopub.execute_input": "2024-11-08T11:35:08.434497Z",
     "iopub.status.busy": "2024-11-08T11:35:08.433701Z",
     "iopub.status.idle": "2024-11-08T11:35:08.438341Z",
     "shell.execute_reply": "2024-11-08T11:35:08.437214Z"
    },
    "papermill": {
     "duration": 0.014979,
     "end_time": "2024-11-08T11:35:08.440592",
     "exception": false,
     "start_time": "2024-11-08T11:35:08.425613",
     "status": "completed"
    },
    "tags": []
   },
   "outputs": [],
   "source": [
    "#q1.hint()\n",
    "#q1.solution()"
   ]
  },
  {
   "cell_type": "markdown",
   "id": "6da6d1ac",
   "metadata": {
    "papermill": {
     "duration": 0.006656,
     "end_time": "2024-11-08T11:35:08.454097",
     "exception": false,
     "start_time": "2024-11-08T11:35:08.447441",
     "status": "completed"
    },
    "tags": []
   },
   "source": [
    "# 2.\n",
    "\n",
    "A researcher has gathered thousands of news articles. But she wants to focus her attention on articles including a specific word. Complete the function below to help her filter her list of articles.\n",
    "\n",
    "Your function should meet the following criteria:\n",
    "\n",
    "- Do not include documents where the keyword string shows up only as a part of a larger word. For example, if she were looking for the keyword “closed”, you would not include the string “enclosed.” \n",
    "- She does not want you to distinguish upper case from lower case letters. So the phrase “Closed the case.” would be included when the keyword is “closed”\n",
    "- Do not let periods or commas affect what is matched. “It is closed.” would be included when the keyword is “closed”. But you can assume there are no other types of punctuation."
   ]
  },
  {
   "cell_type": "code",
   "execution_count": 9,
   "id": "f1453353",
   "metadata": {
    "execution": {
     "iopub.execute_input": "2024-11-08T11:35:08.469418Z",
     "iopub.status.busy": "2024-11-08T11:35:08.468971Z",
     "iopub.status.idle": "2024-11-08T11:35:08.479551Z",
     "shell.execute_reply": "2024-11-08T11:35:08.478452Z"
    },
    "papermill": {
     "duration": 0.020724,
     "end_time": "2024-11-08T11:35:08.481680",
     "exception": false,
     "start_time": "2024-11-08T11:35:08.460956",
     "status": "completed"
    },
    "tags": []
   },
   "outputs": [
    {
     "data": {
      "application/javascript": [
       "parent.postMessage({\"jupyterEvent\": \"custom.exercise_interaction\", \"data\": {\"outcomeType\": 1, \"valueTowardsCompletion\": 0.3333333333333333, \"interactionType\": 1, \"questionType\": 2, \"questionId\": \"2_WordSearch\", \"learnToolsVersion\": \"0.3.4\", \"failureMessage\": \"\", \"exceptionClass\": \"\", \"trace\": \"\"}}, \"*\")"
      ],
      "text/plain": [
       "<IPython.core.display.Javascript object>"
      ]
     },
     "metadata": {},
     "output_type": "display_data"
    },
    {
     "data": {
      "text/markdown": [
       "<span style=\"color:#33cc33\">Correct</span>"
      ],
      "text/plain": [
       "Correct"
      ]
     },
     "metadata": {},
     "output_type": "display_data"
    }
   ],
   "source": [
    "def word_search(doc_list, keyword):\n",
    "    # list to hold the indices of matching documents\n",
    "    indices = [] \n",
    "    # Iterate through the indices (i) and elements (doc) of documents\n",
    "    for i, doc in enumerate(doc_list):\n",
    "        # Split the string doc into a list of words (according to whitespace)\n",
    "        tokens = doc.split()\n",
    "        # Make a transformed list where we 'normalize' each word to facilitate matching.\n",
    "        # Periods and commas are removed from the end of each word, and it's set to all lowercase.\n",
    "        normalized = [token.rstrip('.,').lower() for token in tokens]\n",
    "        # Is there a match? If so, update the list of matching indices.\n",
    "        if keyword.lower() in normalized:\n",
    "            indices.append(i)\n",
    "    return indices\n",
    "\n",
    "# Check your answer\n",
    "q2.check()"
   ]
  },
  {
   "cell_type": "code",
   "execution_count": 10,
   "id": "45b5d9d6",
   "metadata": {
    "execution": {
     "iopub.execute_input": "2024-11-08T11:35:08.497521Z",
     "iopub.status.busy": "2024-11-08T11:35:08.497109Z",
     "iopub.status.idle": "2024-11-08T11:35:08.501733Z",
     "shell.execute_reply": "2024-11-08T11:35:08.500671Z"
    },
    "papermill": {
     "duration": 0.015272,
     "end_time": "2024-11-08T11:35:08.503961",
     "exception": false,
     "start_time": "2024-11-08T11:35:08.488689",
     "status": "completed"
    },
    "tags": []
   },
   "outputs": [],
   "source": [
    "#q2.hint()\n",
    "#q2.solution()"
   ]
  },
  {
   "cell_type": "markdown",
   "id": "3bcb6b04",
   "metadata": {
    "papermill": {
     "duration": 0.006917,
     "end_time": "2024-11-08T11:35:08.517962",
     "exception": false,
     "start_time": "2024-11-08T11:35:08.511045",
     "status": "completed"
    },
    "tags": []
   },
   "source": [
    "# 3.\n",
    "\n",
    "Now the researcher wants to supply multiple keywords to search for. Complete the function below to help her.\n",
    "\n",
    "(You're encouraged to use the `word_search` function you just wrote when implementing this function. Reusing code in this way makes your programs more robust and readable - and it saves typing!)"
   ]
  },
  {
   "cell_type": "code",
   "execution_count": 11,
   "id": "e006f11c",
   "metadata": {
    "execution": {
     "iopub.execute_input": "2024-11-08T11:35:08.534068Z",
     "iopub.status.busy": "2024-11-08T11:35:08.533644Z",
     "iopub.status.idle": "2024-11-08T11:35:08.543860Z",
     "shell.execute_reply": "2024-11-08T11:35:08.542640Z"
    },
    "papermill": {
     "duration": 0.021065,
     "end_time": "2024-11-08T11:35:08.546192",
     "exception": false,
     "start_time": "2024-11-08T11:35:08.525127",
     "status": "completed"
    },
    "tags": []
   },
   "outputs": [
    {
     "data": {
      "application/javascript": [
       "parent.postMessage({\"jupyterEvent\": \"custom.exercise_interaction\", \"data\": {\"outcomeType\": 1, \"valueTowardsCompletion\": 0.3333333333333333, \"interactionType\": 1, \"questionType\": 2, \"questionId\": \"3_MultiWordSearch\", \"learnToolsVersion\": \"0.3.4\", \"failureMessage\": \"\", \"exceptionClass\": \"\", \"trace\": \"\"}}, \"*\")"
      ],
      "text/plain": [
       "<IPython.core.display.Javascript object>"
      ]
     },
     "metadata": {},
     "output_type": "display_data"
    },
    {
     "data": {
      "text/markdown": [
       "<span style=\"color:#33cc33\">Correct</span>"
      ],
      "text/plain": [
       "Correct"
      ]
     },
     "metadata": {},
     "output_type": "display_data"
    }
   ],
   "source": [
    "def multi_word_search(documents, keywords):\n",
    "    keyword_to_indices = {}\n",
    "    for keyword in keywords:\n",
    "        keyword_to_indices[keyword] = word_search(documents, keyword)\n",
    "    return keyword_to_indices\n",
    "    \n",
    "# Check your answer\n",
    "q3.check()"
   ]
  },
  {
   "cell_type": "code",
   "execution_count": 12,
   "id": "20fcdd1d",
   "metadata": {
    "execution": {
     "iopub.execute_input": "2024-11-08T11:35:08.562710Z",
     "iopub.status.busy": "2024-11-08T11:35:08.562282Z",
     "iopub.status.idle": "2024-11-08T11:35:08.567190Z",
     "shell.execute_reply": "2024-11-08T11:35:08.566061Z"
    },
    "papermill": {
     "duration": 0.015785,
     "end_time": "2024-11-08T11:35:08.569430",
     "exception": false,
     "start_time": "2024-11-08T11:35:08.553645",
     "status": "completed"
    },
    "tags": []
   },
   "outputs": [],
   "source": [
    "#q3.solution()"
   ]
  },
  {
   "cell_type": "markdown",
   "id": "4a9a69fe",
   "metadata": {
    "papermill": {
     "duration": 0.00717,
     "end_time": "2024-11-08T11:35:08.583962",
     "exception": false,
     "start_time": "2024-11-08T11:35:08.576792",
     "status": "completed"
    },
    "tags": []
   },
   "source": [
    "# Keep Going\n",
    "\n",
    "You've learned a lot. But even the best programmers rely heavily on \"libraries\" of code from other programmers. You'll learn about that in **[the last lesson](https://www.kaggle.com/colinmorris/working-with-external-libraries)**.\n"
   ]
  },
  {
   "cell_type": "markdown",
   "id": "0355fad3",
   "metadata": {
    "papermill": {
     "duration": 0.007018,
     "end_time": "2024-11-08T11:35:08.598247",
     "exception": false,
     "start_time": "2024-11-08T11:35:08.591229",
     "status": "completed"
    },
    "tags": []
   },
   "source": [
    "---\n",
    "\n",
    "\n",
    "\n",
    "\n",
    "*Have questions or comments? Visit the [course discussion forum](https://www.kaggle.com/learn/python/discussion) to chat with other learners.*"
   ]
  }
 ],
 "metadata": {
  "kaggle": {
   "accelerator": "none",
   "dataSources": [],
   "isGpuEnabled": false,
   "isInternetEnabled": false,
   "language": "python",
   "sourceType": "notebook"
  },
  "kernelspec": {
   "display_name": "Python 3",
   "language": "python",
   "name": "python3"
  },
  "language_info": {
   "codemirror_mode": {
    "name": "ipython",
    "version": 3
   },
   "file_extension": ".py",
   "mimetype": "text/x-python",
   "name": "python",
   "nbconvert_exporter": "python",
   "pygments_lexer": "ipython3",
   "version": "3.10.14"
  },
  "learntools_metadata": {
   "lesson_index": 5,
   "type": "exercise"
  },
  "papermill": {
   "default_parameters": {},
   "duration": 4.873882,
   "end_time": "2024-11-08T11:35:09.126471",
   "environment_variables": {},
   "exception": null,
   "input_path": "__notebook__.ipynb",
   "output_path": "__notebook__.ipynb",
   "parameters": {},
   "start_time": "2024-11-08T11:35:04.252589",
   "version": "2.6.0"
  }
 },
 "nbformat": 4,
 "nbformat_minor": 5
}

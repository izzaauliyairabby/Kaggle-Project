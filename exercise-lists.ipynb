{
 "cells": [
  {
   "cell_type": "markdown",
   "id": "8e626789",
   "metadata": {
    "papermill": {
     "duration": 0.007118,
     "end_time": "2024-11-07T08:13:20.645724",
     "exception": false,
     "start_time": "2024-11-07T08:13:20.638606",
     "status": "completed"
    },
    "tags": []
   },
   "source": [
    "**This notebook is an exercise in the [Python](https://www.kaggle.com/learn/python) course.  You can reference the tutorial at [this link](https://www.kaggle.com/colinmorris/lists).**\n",
    "\n",
    "---\n"
   ]
  },
  {
   "cell_type": "markdown",
   "id": "936bd1e3",
   "metadata": {
    "papermill": {
     "duration": 0.006065,
     "end_time": "2024-11-07T08:13:20.658861",
     "exception": false,
     "start_time": "2024-11-07T08:13:20.652796",
     "status": "completed"
    },
    "tags": []
   },
   "source": [
    "Things get more interesting with lists. You'll apply your new knowledge to solve the questions below. Remember to run the following cell first."
   ]
  },
  {
   "cell_type": "code",
   "execution_count": 1,
   "id": "cdef752e",
   "metadata": {
    "execution": {
     "iopub.execute_input": "2024-11-07T08:13:20.673283Z",
     "iopub.status.busy": "2024-11-07T08:13:20.672863Z",
     "iopub.status.idle": "2024-11-07T08:13:21.567760Z",
     "shell.execute_reply": "2024-11-07T08:13:21.566544Z"
    },
    "papermill": {
     "duration": 0.905274,
     "end_time": "2024-11-07T08:13:21.570503",
     "exception": false,
     "start_time": "2024-11-07T08:13:20.665229",
     "status": "completed"
    },
    "tags": []
   },
   "outputs": [
    {
     "name": "stdout",
     "output_type": "stream",
     "text": [
      "Setup complete.\n"
     ]
    }
   ],
   "source": [
    "from learntools.core import binder; binder.bind(globals())\n",
    "from learntools.python.ex4 import *\n",
    "print('Setup complete.')"
   ]
  },
  {
   "cell_type": "markdown",
   "id": "3ec5f60f",
   "metadata": {
    "papermill": {
     "duration": 0.006346,
     "end_time": "2024-11-07T08:13:21.583682",
     "exception": false,
     "start_time": "2024-11-07T08:13:21.577336",
     "status": "completed"
    },
    "tags": []
   },
   "source": [
    "# 1.\n",
    "\n",
    "Complete the function below according to its docstring."
   ]
  },
  {
   "cell_type": "code",
   "execution_count": 2,
   "id": "2240f9c0",
   "metadata": {
    "execution": {
     "iopub.execute_input": "2024-11-07T08:13:21.599371Z",
     "iopub.status.busy": "2024-11-07T08:13:21.598261Z",
     "iopub.status.idle": "2024-11-07T08:13:21.610331Z",
     "shell.execute_reply": "2024-11-07T08:13:21.609281Z"
    },
    "papermill": {
     "duration": 0.022904,
     "end_time": "2024-11-07T08:13:21.613117",
     "exception": false,
     "start_time": "2024-11-07T08:13:21.590213",
     "status": "completed"
    },
    "tags": []
   },
   "outputs": [
    {
     "data": {
      "application/javascript": [
       "parent.postMessage({\"jupyterEvent\": \"custom.exercise_interaction\", \"data\": {\"outcomeType\": 1, \"valueTowardsCompletion\": 0.2, \"interactionType\": 1, \"questionType\": 2, \"questionId\": \"1_SelectSecondItem\", \"learnToolsVersion\": \"0.3.4\", \"failureMessage\": \"\", \"exceptionClass\": \"\", \"trace\": \"\"}}, \"*\")"
      ],
      "text/plain": [
       "<IPython.core.display.Javascript object>"
      ]
     },
     "metadata": {},
     "output_type": "display_data"
    },
    {
     "data": {
      "text/markdown": [
       "<span style=\"color:#33cc33\">Correct</span>"
      ],
      "text/plain": [
       "Correct"
      ]
     },
     "metadata": {},
     "output_type": "display_data"
    }
   ],
   "source": [
    "def select_second(L):\n",
    "    if len(L) < 2:\n",
    "        return None\n",
    "    return L[1]\n",
    "\n",
    "# Check your answer\n",
    "q1.check()"
   ]
  },
  {
   "cell_type": "code",
   "execution_count": 3,
   "id": "813d6525",
   "metadata": {
    "execution": {
     "iopub.execute_input": "2024-11-07T08:13:21.628988Z",
     "iopub.status.busy": "2024-11-07T08:13:21.628574Z",
     "iopub.status.idle": "2024-11-07T08:13:21.633153Z",
     "shell.execute_reply": "2024-11-07T08:13:21.632125Z"
    },
    "papermill": {
     "duration": 0.015181,
     "end_time": "2024-11-07T08:13:21.635483",
     "exception": false,
     "start_time": "2024-11-07T08:13:21.620302",
     "status": "completed"
    },
    "tags": []
   },
   "outputs": [],
   "source": [
    "#q1.hint()\n",
    "#q1.solution()"
   ]
  },
  {
   "cell_type": "markdown",
   "id": "c7939aaa",
   "metadata": {
    "papermill": {
     "duration": 0.006581,
     "end_time": "2024-11-07T08:13:21.649066",
     "exception": false,
     "start_time": "2024-11-07T08:13:21.642485",
     "status": "completed"
    },
    "tags": []
   },
   "source": [
    "# 2.\n",
    "\n",
    "You are analyzing sports teams.  Members of each team are stored in a list. The Coach is the first name in the list, the captain is the second name in the list, and other players are listed after that. \n",
    "These lists are stored in another list, which starts with the best team and proceeds through the list to the worst team last.  Complete the function below to select the **captain** of the worst team."
   ]
  },
  {
   "cell_type": "code",
   "execution_count": 4,
   "id": "24b07797",
   "metadata": {
    "execution": {
     "iopub.execute_input": "2024-11-07T08:13:21.666129Z",
     "iopub.status.busy": "2024-11-07T08:13:21.665089Z",
     "iopub.status.idle": "2024-11-07T08:13:21.675090Z",
     "shell.execute_reply": "2024-11-07T08:13:21.674054Z"
    },
    "papermill": {
     "duration": 0.020952,
     "end_time": "2024-11-07T08:13:21.677868",
     "exception": false,
     "start_time": "2024-11-07T08:13:21.656916",
     "status": "completed"
    },
    "tags": []
   },
   "outputs": [
    {
     "data": {
      "application/javascript": [
       "parent.postMessage({\"jupyterEvent\": \"custom.exercise_interaction\", \"data\": {\"outcomeType\": 1, \"valueTowardsCompletion\": 0.2, \"interactionType\": 1, \"questionType\": 2, \"questionId\": \"2_LosingTeamCaptain\", \"learnToolsVersion\": \"0.3.4\", \"failureMessage\": \"\", \"exceptionClass\": \"\", \"trace\": \"\"}}, \"*\")"
      ],
      "text/plain": [
       "<IPython.core.display.Javascript object>"
      ]
     },
     "metadata": {},
     "output_type": "display_data"
    },
    {
     "data": {
      "text/markdown": [
       "<span style=\"color:#33cc33\">Correct</span>"
      ],
      "text/plain": [
       "Correct"
      ]
     },
     "metadata": {},
     "output_type": "display_data"
    }
   ],
   "source": [
    "def losing_team_captain(teams):\n",
    "    \"\"\"Given a list of teams, where each team is a list of names, return the 2nd player (captain)\n",
    "    from the last listed team\n",
    "    \"\"\"\n",
    "    return teams[-1][1]\n",
    "    pass\n",
    "\n",
    "# Check your answer\n",
    "q2.check()"
   ]
  },
  {
   "cell_type": "code",
   "execution_count": 5,
   "id": "b1e80079",
   "metadata": {
    "execution": {
     "iopub.execute_input": "2024-11-07T08:13:21.694376Z",
     "iopub.status.busy": "2024-11-07T08:13:21.693649Z",
     "iopub.status.idle": "2024-11-07T08:13:21.698595Z",
     "shell.execute_reply": "2024-11-07T08:13:21.697451Z"
    },
    "papermill": {
     "duration": 0.015813,
     "end_time": "2024-11-07T08:13:21.700909",
     "exception": false,
     "start_time": "2024-11-07T08:13:21.685096",
     "status": "completed"
    },
    "tags": []
   },
   "outputs": [],
   "source": [
    "#q2.hint()\n",
    "#q2.solution()"
   ]
  },
  {
   "cell_type": "markdown",
   "id": "b05cbba2",
   "metadata": {
    "papermill": {
     "duration": 0.006999,
     "end_time": "2024-11-07T08:13:21.715282",
     "exception": false,
     "start_time": "2024-11-07T08:13:21.708283",
     "status": "completed"
    },
    "tags": []
   },
   "source": [
    "# 3.\n",
    "\n",
    "The next iteration of Mario Kart will feature an extra-infuriating new item, the *Purple Shell*. When used, it warps the last place racer into first place and the first place racer into last place. Complete the function below to implement the Purple Shell's effect."
   ]
  },
  {
   "cell_type": "code",
   "execution_count": 6,
   "id": "67310c05",
   "metadata": {
    "execution": {
     "iopub.execute_input": "2024-11-07T08:13:21.732361Z",
     "iopub.status.busy": "2024-11-07T08:13:21.731506Z",
     "iopub.status.idle": "2024-11-07T08:13:21.741277Z",
     "shell.execute_reply": "2024-11-07T08:13:21.740262Z"
    },
    "papermill": {
     "duration": 0.021101,
     "end_time": "2024-11-07T08:13:21.744039",
     "exception": false,
     "start_time": "2024-11-07T08:13:21.722938",
     "status": "completed"
    },
    "tags": []
   },
   "outputs": [
    {
     "data": {
      "application/javascript": [
       "parent.postMessage({\"jupyterEvent\": \"custom.exercise_interaction\", \"data\": {\"outcomeType\": 1, \"valueTowardsCompletion\": 0.2, \"interactionType\": 1, \"questionType\": 2, \"questionId\": \"3_PurpleShell\", \"learnToolsVersion\": \"0.3.4\", \"failureMessage\": \"\", \"exceptionClass\": \"\", \"trace\": \"\"}}, \"*\")"
      ],
      "text/plain": [
       "<IPython.core.display.Javascript object>"
      ]
     },
     "metadata": {},
     "output_type": "display_data"
    },
    {
     "data": {
      "text/markdown": [
       "<span style=\"color:#33cc33\">Correct</span>"
      ],
      "text/plain": [
       "Correct"
      ]
     },
     "metadata": {},
     "output_type": "display_data"
    }
   ],
   "source": [
    "def purple_shell(racers):\n",
    "    # One slick way to do the swap is x[0], x[-1] = x[-1], x[0].\n",
    "    racers[0], racers[-1] = racers[-1], racers[0]\n",
    "\n",
    "# Check your answer\n",
    "q3.check()"
   ]
  },
  {
   "cell_type": "code",
   "execution_count": 7,
   "id": "67f89525",
   "metadata": {
    "execution": {
     "iopub.execute_input": "2024-11-07T08:13:21.761154Z",
     "iopub.status.busy": "2024-11-07T08:13:21.760740Z",
     "iopub.status.idle": "2024-11-07T08:13:21.765633Z",
     "shell.execute_reply": "2024-11-07T08:13:21.764458Z"
    },
    "papermill": {
     "duration": 0.016481,
     "end_time": "2024-11-07T08:13:21.768128",
     "exception": false,
     "start_time": "2024-11-07T08:13:21.751647",
     "status": "completed"
    },
    "tags": []
   },
   "outputs": [],
   "source": [
    "#q3.hint()\n",
    "#q3.solution()"
   ]
  },
  {
   "cell_type": "markdown",
   "id": "4480a4bb",
   "metadata": {
    "papermill": {
     "duration": 0.007215,
     "end_time": "2024-11-07T08:13:21.782857",
     "exception": false,
     "start_time": "2024-11-07T08:13:21.775642",
     "status": "completed"
    },
    "tags": []
   },
   "source": [
    "# 4.\n",
    "\n",
    "What are the lengths of the following lists? Fill in the variable `lengths` with your predictions. (Try to make a prediction for each list *without* just calling `len()` on it.)"
   ]
  },
  {
   "cell_type": "code",
   "execution_count": 8,
   "id": "3053f089",
   "metadata": {
    "execution": {
     "iopub.execute_input": "2024-11-07T08:13:21.800225Z",
     "iopub.status.busy": "2024-11-07T08:13:21.799237Z",
     "iopub.status.idle": "2024-11-07T08:13:21.810367Z",
     "shell.execute_reply": "2024-11-07T08:13:21.809343Z"
    },
    "papermill": {
     "duration": 0.022469,
     "end_time": "2024-11-07T08:13:21.812850",
     "exception": false,
     "start_time": "2024-11-07T08:13:21.790381",
     "status": "completed"
    },
    "tags": []
   },
   "outputs": [
    {
     "data": {
      "application/javascript": [
       "parent.postMessage({\"jupyterEvent\": \"custom.exercise_interaction\", \"data\": {\"outcomeType\": 1, \"valueTowardsCompletion\": 0.2, \"interactionType\": 1, \"questionType\": 1, \"questionId\": \"4_UnderstandLen\", \"learnToolsVersion\": \"0.3.4\", \"failureMessage\": \"\", \"exceptionClass\": \"\", \"trace\": \"\"}}, \"*\")"
      ],
      "text/plain": [
       "<IPython.core.display.Javascript object>"
      ]
     },
     "metadata": {},
     "output_type": "display_data"
    },
    {
     "data": {
      "text/markdown": [
       "<span style=\"color:#33cc33\">Correct:</span> \n",
       "\n",
       "\n",
       "- a: There are three items in this list. Nothing tricky yet.\n",
       "- b: The list `[2, 3]` counts as a single item. It has one item before it. So we have 2 items in the list\n",
       "- c: The empty list has 0 items\n",
       "- d: The expression is the same as the list `[2, 3]`, which has length 2."
      ],
      "text/plain": [
       "Correct: \n",
       "\n",
       "\n",
       "- a: There are three items in this list. Nothing tricky yet.\n",
       "- b: The list `[2, 3]` counts as a single item. It has one item before it. So we have 2 items in the list\n",
       "- c: The empty list has 0 items\n",
       "- d: The expression is the same as the list `[2, 3]`, which has length 2."
      ]
     },
     "metadata": {},
     "output_type": "display_data"
    }
   ],
   "source": [
    "a = [1, 2, 3]\n",
    "b = [1, [2, 3]]\n",
    "c = []\n",
    "d = [1, 2, 3][1:]\n",
    "\n",
    "# Put your predictions in the list below. Lengths should contain 4 numbers, the\n",
    "# first being the length of a, the second being the length of b and so on.\n",
    "lengths = [3, 2, 0, 2]\n",
    "\n",
    "# Check your answer\n",
    "q4.check()"
   ]
  },
  {
   "cell_type": "code",
   "execution_count": 9,
   "id": "6bc02eac",
   "metadata": {
    "execution": {
     "iopub.execute_input": "2024-11-07T08:13:21.831098Z",
     "iopub.status.busy": "2024-11-07T08:13:21.830124Z",
     "iopub.status.idle": "2024-11-07T08:13:21.834873Z",
     "shell.execute_reply": "2024-11-07T08:13:21.833772Z"
    },
    "papermill": {
     "duration": 0.016244,
     "end_time": "2024-11-07T08:13:21.837211",
     "exception": false,
     "start_time": "2024-11-07T08:13:21.820967",
     "status": "completed"
    },
    "tags": []
   },
   "outputs": [],
   "source": [
    "# line below provides some explanation\n",
    "#q4.solution()"
   ]
  },
  {
   "cell_type": "markdown",
   "id": "1c2a8a6b",
   "metadata": {
    "papermill": {
     "duration": 0.007559,
     "end_time": "2024-11-07T08:13:21.852691",
     "exception": false,
     "start_time": "2024-11-07T08:13:21.845132",
     "status": "completed"
    },
    "tags": []
   },
   "source": [
    "# 5. <span title=\"A bit spicy\" style=\"color: darkgreen \">🌶️</span>\n",
    "\n",
    "We're using lists to record people who attended our party and what order they arrived in. For example, the following list represents a party with 7 guests, in which Adela showed up first and Ford was the last to arrive:\n",
    "\n",
    "    party_attendees = ['Adela', 'Fleda', 'Owen', 'May', 'Mona', 'Gilbert', 'Ford']\n",
    "\n",
    "A guest is considered 'fashionably late' if they arrived after at least half of the party's guests. However, they must not be the very last guest (that's taking it too far). In the above example, Mona and Gilbert are the only guests who were fashionably late.\n",
    "\n",
    "Complete the function below which takes a list of party attendees as well as a person, and tells us whether that person is fashionably late."
   ]
  },
  {
   "cell_type": "code",
   "execution_count": 10,
   "id": "dc74544b",
   "metadata": {
    "execution": {
     "iopub.execute_input": "2024-11-07T08:13:21.871529Z",
     "iopub.status.busy": "2024-11-07T08:13:21.870319Z",
     "iopub.status.idle": "2024-11-07T08:13:21.881314Z",
     "shell.execute_reply": "2024-11-07T08:13:21.880153Z"
    },
    "papermill": {
     "duration": 0.023036,
     "end_time": "2024-11-07T08:13:21.883747",
     "exception": false,
     "start_time": "2024-11-07T08:13:21.860711",
     "status": "completed"
    },
    "tags": []
   },
   "outputs": [
    {
     "data": {
      "application/javascript": [
       "parent.postMessage({\"jupyterEvent\": \"custom.exercise_interaction\", \"data\": {\"outcomeType\": 1, \"valueTowardsCompletion\": 0.2, \"interactionType\": 1, \"questionType\": 2, \"questionId\": \"5_FashionablyLate\", \"learnToolsVersion\": \"0.3.4\", \"failureMessage\": \"\", \"exceptionClass\": \"\", \"trace\": \"\"}}, \"*\")"
      ],
      "text/plain": [
       "<IPython.core.display.Javascript object>"
      ]
     },
     "metadata": {},
     "output_type": "display_data"
    },
    {
     "data": {
      "text/markdown": [
       "<span style=\"color:#33cc33\">Correct</span>"
      ],
      "text/plain": [
       "Correct"
      ]
     },
     "metadata": {},
     "output_type": "display_data"
    }
   ],
   "source": [
    "def fashionably_late(arrivals, name):\n",
    "    \"\"\"Given an ordered list of arrivals to the party and a name, return whether the guest with that\n",
    "    name was fashionably late.\n",
    "    \"\"\"\n",
    "    order = arrivals.index(name)\n",
    "    total = len(arrivals)\n",
    "    return order >= len(arrivals) / 2 and order != len(arrivals) - 1\n",
    "\n",
    "# Check your answer\n",
    "q5.check()"
   ]
  },
  {
   "cell_type": "code",
   "execution_count": 11,
   "id": "5c898310",
   "metadata": {
    "execution": {
     "iopub.execute_input": "2024-11-07T08:13:21.902221Z",
     "iopub.status.busy": "2024-11-07T08:13:21.901801Z",
     "iopub.status.idle": "2024-11-07T08:13:21.910900Z",
     "shell.execute_reply": "2024-11-07T08:13:21.909825Z"
    },
    "papermill": {
     "duration": 0.021198,
     "end_time": "2024-11-07T08:13:21.913208",
     "exception": false,
     "start_time": "2024-11-07T08:13:21.892010",
     "status": "completed"
    },
    "tags": []
   },
   "outputs": [
    {
     "data": {
      "application/javascript": [
       "parent.postMessage({\"jupyterEvent\": \"custom.exercise_interaction\", \"data\": {\"interactionType\": 3, \"questionType\": 2, \"questionId\": \"5_FashionablyLate\", \"learnToolsVersion\": \"0.3.4\", \"valueTowardsCompletion\": 0.0, \"failureMessage\": \"\", \"exceptionClass\": \"\", \"trace\": \"\", \"outcomeType\": 4}}, \"*\")"
      ],
      "text/plain": [
       "<IPython.core.display.Javascript object>"
      ]
     },
     "metadata": {},
     "output_type": "display_data"
    },
    {
     "data": {
      "text/markdown": [
       "<span style=\"color:#33cc99\">Solution:</span> \n",
       "```python\n",
       "def fashionably_late(arrivals, name):\n",
       "    order = arrivals.index(name)\n",
       "    return order >= len(arrivals) / 2 and order != len(arrivals) - 1\n",
       "```"
      ],
      "text/plain": [
       "Solution: \n",
       "```python\n",
       "def fashionably_late(arrivals, name):\n",
       "    order = arrivals.index(name)\n",
       "    return order >= len(arrivals) / 2 and order != len(arrivals) - 1\n",
       "```"
      ]
     },
     "metadata": {},
     "output_type": "display_data"
    }
   ],
   "source": [
    "#q5.hint()\n",
    "q5.solution()"
   ]
  },
  {
   "cell_type": "markdown",
   "id": "e72e089d",
   "metadata": {
    "papermill": {
     "duration": 0.008194,
     "end_time": "2024-11-07T08:13:21.930169",
     "exception": false,
     "start_time": "2024-11-07T08:13:21.921975",
     "status": "completed"
    },
    "tags": []
   },
   "source": [
    "# Keep Going\n",
    "\n",
    "That's it for lists and tuples! Now you have the baseline knowledge to **[learn about loops](https://www.kaggle.com/colinmorris/loops-and-list-comprehensions)**, which is where lists and tuples get really interesting. "
   ]
  },
  {
   "cell_type": "markdown",
   "id": "89e34db0",
   "metadata": {
    "papermill": {
     "duration": 0.008183,
     "end_time": "2024-11-07T08:13:21.946998",
     "exception": false,
     "start_time": "2024-11-07T08:13:21.938815",
     "status": "completed"
    },
    "tags": []
   },
   "source": [
    "---\n",
    "\n",
    "\n",
    "\n",
    "\n",
    "*Have questions or comments? Visit the [course discussion forum](https://www.kaggle.com/learn/python/discussion) to chat with other learners.*"
   ]
  }
 ],
 "metadata": {
  "kaggle": {
   "accelerator": "none",
   "dataSources": [],
   "isGpuEnabled": false,
   "isInternetEnabled": false,
   "language": "python",
   "sourceType": "notebook"
  },
  "kernelspec": {
   "display_name": "Python 3",
   "language": "python",
   "name": "python3"
  },
  "language_info": {
   "codemirror_mode": {
    "name": "ipython",
    "version": 3
   },
   "file_extension": ".py",
   "mimetype": "text/x-python",
   "name": "python",
   "nbconvert_exporter": "python",
   "pygments_lexer": "ipython3",
   "version": "3.10.14"
  },
  "learntools_metadata": {
   "lesson_index": 3,
   "type": "exercise"
  },
  "papermill": {
   "default_parameters": {},
   "duration": 4.664248,
   "end_time": "2024-11-07T08:13:22.376399",
   "environment_variables": {},
   "exception": null,
   "input_path": "__notebook__.ipynb",
   "output_path": "__notebook__.ipynb",
   "parameters": {},
   "start_time": "2024-11-07T08:13:17.712151",
   "version": "2.6.0"
  }
 },
 "nbformat": 4,
 "nbformat_minor": 5
}

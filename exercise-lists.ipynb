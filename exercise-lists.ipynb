{
 "cells": [
  {
   "cell_type": "markdown",
   "id": "1d17365c",
   "metadata": {
    "papermill": {
     "duration": 0.007782,
     "end_time": "2024-11-07T11:04:10.463180",
     "exception": false,
     "start_time": "2024-11-07T11:04:10.455398",
     "status": "completed"
    },
    "tags": []
   },
   "source": [
    "**This notebook is an exercise in the [Python](https://www.kaggle.com/learn/python) course.  You can reference the tutorial at [this link](https://www.kaggle.com/colinmorris/lists).**\n",
    "\n",
    "---\n"
   ]
  },
  {
   "cell_type": "markdown",
   "id": "f70b5a43",
   "metadata": {
    "papermill": {
     "duration": 0.00692,
     "end_time": "2024-11-07T11:04:10.476911",
     "exception": false,
     "start_time": "2024-11-07T11:04:10.469991",
     "status": "completed"
    },
    "tags": []
   },
   "source": [
    "Things get more interesting with lists. You'll apply your new knowledge to solve the questions below. Remember to run the following cell first."
   ]
  },
  {
   "cell_type": "code",
   "execution_count": 1,
   "id": "324febb7",
   "metadata": {
    "execution": {
     "iopub.execute_input": "2024-11-07T11:04:10.492740Z",
     "iopub.status.busy": "2024-11-07T11:04:10.492137Z",
     "iopub.status.idle": "2024-11-07T11:04:11.745222Z",
     "shell.execute_reply": "2024-11-07T11:04:11.743968Z"
    },
    "papermill": {
     "duration": 1.264369,
     "end_time": "2024-11-07T11:04:11.748041",
     "exception": false,
     "start_time": "2024-11-07T11:04:10.483672",
     "status": "completed"
    },
    "tags": []
   },
   "outputs": [
    {
     "name": "stdout",
     "output_type": "stream",
     "text": [
      "Setup complete.\n"
     ]
    }
   ],
   "source": [
    "from learntools.core import binder; binder.bind(globals())\n",
    "from learntools.python.ex4 import *\n",
    "print('Setup complete.')"
   ]
  },
  {
   "cell_type": "markdown",
   "id": "b17aa451",
   "metadata": {
    "papermill": {
     "duration": 0.0068,
     "end_time": "2024-11-07T11:04:11.761972",
     "exception": false,
     "start_time": "2024-11-07T11:04:11.755172",
     "status": "completed"
    },
    "tags": []
   },
   "source": [
    "# 1.\n",
    "\n",
    "Complete the function below according to its docstring."
   ]
  },
  {
   "cell_type": "code",
   "execution_count": 2,
   "id": "c9e1d4d2",
   "metadata": {
    "execution": {
     "iopub.execute_input": "2024-11-07T11:04:11.777869Z",
     "iopub.status.busy": "2024-11-07T11:04:11.776915Z",
     "iopub.status.idle": "2024-11-07T11:04:11.789527Z",
     "shell.execute_reply": "2024-11-07T11:04:11.788249Z"
    },
    "papermill": {
     "duration": 0.023233,
     "end_time": "2024-11-07T11:04:11.791932",
     "exception": false,
     "start_time": "2024-11-07T11:04:11.768699",
     "status": "completed"
    },
    "tags": []
   },
   "outputs": [
    {
     "data": {
      "application/javascript": [
       "parent.postMessage({\"jupyterEvent\": \"custom.exercise_interaction\", \"data\": {\"outcomeType\": 1, \"valueTowardsCompletion\": 0.2, \"interactionType\": 1, \"questionType\": 2, \"questionId\": \"1_SelectSecondItem\", \"learnToolsVersion\": \"0.3.4\", \"failureMessage\": \"\", \"exceptionClass\": \"\", \"trace\": \"\"}}, \"*\")"
      ],
      "text/plain": [
       "<IPython.core.display.Javascript object>"
      ]
     },
     "metadata": {},
     "output_type": "display_data"
    },
    {
     "data": {
      "text/markdown": [
       "<span style=\"color:#33cc33\">Correct</span>"
      ],
      "text/plain": [
       "Correct"
      ]
     },
     "metadata": {},
     "output_type": "display_data"
    }
   ],
   "source": [
    "def select_second(L):\n",
    "    if len(L) < 2:\n",
    "        return None\n",
    "    return L[1]\n",
    "\n",
    "# Check your answer\n",
    "q1.check()"
   ]
  },
  {
   "cell_type": "code",
   "execution_count": 3,
   "id": "6e26111d",
   "metadata": {
    "execution": {
     "iopub.execute_input": "2024-11-07T11:04:11.807693Z",
     "iopub.status.busy": "2024-11-07T11:04:11.807234Z",
     "iopub.status.idle": "2024-11-07T11:04:11.812241Z",
     "shell.execute_reply": "2024-11-07T11:04:11.811182Z"
    },
    "papermill": {
     "duration": 0.015802,
     "end_time": "2024-11-07T11:04:11.814772",
     "exception": false,
     "start_time": "2024-11-07T11:04:11.798970",
     "status": "completed"
    },
    "tags": []
   },
   "outputs": [],
   "source": [
    "#q1.hint()\n",
    "#q1.solution()"
   ]
  },
  {
   "cell_type": "markdown",
   "id": "bb038e6e",
   "metadata": {
    "papermill": {
     "duration": 0.006679,
     "end_time": "2024-11-07T11:04:11.828427",
     "exception": false,
     "start_time": "2024-11-07T11:04:11.821748",
     "status": "completed"
    },
    "tags": []
   },
   "source": [
    "# 2.\n",
    "\n",
    "You are analyzing sports teams.  Members of each team are stored in a list. The Coach is the first name in the list, the captain is the second name in the list, and other players are listed after that. \n",
    "These lists are stored in another list, which starts with the best team and proceeds through the list to the worst team last.  Complete the function below to select the **captain** of the worst team."
   ]
  },
  {
   "cell_type": "code",
   "execution_count": 4,
   "id": "c0511426",
   "metadata": {
    "execution": {
     "iopub.execute_input": "2024-11-07T11:04:11.845091Z",
     "iopub.status.busy": "2024-11-07T11:04:11.844650Z",
     "iopub.status.idle": "2024-11-07T11:04:11.856670Z",
     "shell.execute_reply": "2024-11-07T11:04:11.854958Z"
    },
    "papermill": {
     "duration": 0.022956,
     "end_time": "2024-11-07T11:04:11.859353",
     "exception": false,
     "start_time": "2024-11-07T11:04:11.836397",
     "status": "completed"
    },
    "tags": []
   },
   "outputs": [
    {
     "data": {
      "application/javascript": [
       "parent.postMessage({\"jupyterEvent\": \"custom.exercise_interaction\", \"data\": {\"outcomeType\": 1, \"valueTowardsCompletion\": 0.2, \"interactionType\": 1, \"questionType\": 2, \"questionId\": \"2_LosingTeamCaptain\", \"learnToolsVersion\": \"0.3.4\", \"failureMessage\": \"\", \"exceptionClass\": \"\", \"trace\": \"\"}}, \"*\")"
      ],
      "text/plain": [
       "<IPython.core.display.Javascript object>"
      ]
     },
     "metadata": {},
     "output_type": "display_data"
    },
    {
     "data": {
      "text/markdown": [
       "<span style=\"color:#33cc33\">Correct</span>"
      ],
      "text/plain": [
       "Correct"
      ]
     },
     "metadata": {},
     "output_type": "display_data"
    }
   ],
   "source": [
    "def losing_team_captain(teams):\n",
    "    \"\"\"Given a list of teams, where each team is a list of names, return the 2nd player (captain)\n",
    "    from the last listed team\n",
    "    \"\"\"\n",
    "    return teams[-1][1]\n",
    "    pass\n",
    "\n",
    "# Check your answer\n",
    "q2.check()"
   ]
  },
  {
   "cell_type": "code",
   "execution_count": 5,
   "id": "2abb7986",
   "metadata": {
    "execution": {
     "iopub.execute_input": "2024-11-07T11:04:11.878090Z",
     "iopub.status.busy": "2024-11-07T11:04:11.876880Z",
     "iopub.status.idle": "2024-11-07T11:04:11.882037Z",
     "shell.execute_reply": "2024-11-07T11:04:11.880767Z"
    },
    "papermill": {
     "duration": 0.017213,
     "end_time": "2024-11-07T11:04:11.884619",
     "exception": false,
     "start_time": "2024-11-07T11:04:11.867406",
     "status": "completed"
    },
    "tags": []
   },
   "outputs": [],
   "source": [
    "#q2.hint()\n",
    "#q2.solution()"
   ]
  },
  {
   "cell_type": "markdown",
   "id": "10f90e2b",
   "metadata": {
    "papermill": {
     "duration": 0.010166,
     "end_time": "2024-11-07T11:04:11.903350",
     "exception": false,
     "start_time": "2024-11-07T11:04:11.893184",
     "status": "completed"
    },
    "tags": []
   },
   "source": [
    "# 3.\n",
    "\n",
    "The next iteration of Mario Kart will feature an extra-infuriating new item, the *Purple Shell*. When used, it warps the last place racer into first place and the first place racer into last place. Complete the function below to implement the Purple Shell's effect."
   ]
  },
  {
   "cell_type": "code",
   "execution_count": 6,
   "id": "1e33dbde",
   "metadata": {
    "execution": {
     "iopub.execute_input": "2024-11-07T11:04:11.922207Z",
     "iopub.status.busy": "2024-11-07T11:04:11.920735Z",
     "iopub.status.idle": "2024-11-07T11:04:11.933676Z",
     "shell.execute_reply": "2024-11-07T11:04:11.932546Z"
    },
    "papermill": {
     "duration": 0.02479,
     "end_time": "2024-11-07T11:04:11.936090",
     "exception": false,
     "start_time": "2024-11-07T11:04:11.911300",
     "status": "completed"
    },
    "tags": []
   },
   "outputs": [
    {
     "data": {
      "application/javascript": [
       "parent.postMessage({\"jupyterEvent\": \"custom.exercise_interaction\", \"data\": {\"outcomeType\": 1, \"valueTowardsCompletion\": 0.2, \"interactionType\": 1, \"questionType\": 2, \"questionId\": \"3_PurpleShell\", \"learnToolsVersion\": \"0.3.4\", \"failureMessage\": \"\", \"exceptionClass\": \"\", \"trace\": \"\"}}, \"*\")"
      ],
      "text/plain": [
       "<IPython.core.display.Javascript object>"
      ]
     },
     "metadata": {},
     "output_type": "display_data"
    },
    {
     "data": {
      "text/markdown": [
       "<span style=\"color:#33cc33\">Correct</span>"
      ],
      "text/plain": [
       "Correct"
      ]
     },
     "metadata": {},
     "output_type": "display_data"
    }
   ],
   "source": [
    "def purple_shell(racers):\n",
    "    # One slick way to do the swap is x[0], x[-1] = x[-1], x[0].\n",
    "    racers[0], racers[-1] = racers[-1], racers[0]\n",
    "\n",
    "# Check your answer\n",
    "q3.check()"
   ]
  },
  {
   "cell_type": "code",
   "execution_count": 7,
   "id": "b32b79f1",
   "metadata": {
    "execution": {
     "iopub.execute_input": "2024-11-07T11:04:11.953704Z",
     "iopub.status.busy": "2024-11-07T11:04:11.953249Z",
     "iopub.status.idle": "2024-11-07T11:04:11.958597Z",
     "shell.execute_reply": "2024-11-07T11:04:11.957343Z"
    },
    "papermill": {
     "duration": 0.017446,
     "end_time": "2024-11-07T11:04:11.961214",
     "exception": false,
     "start_time": "2024-11-07T11:04:11.943768",
     "status": "completed"
    },
    "tags": []
   },
   "outputs": [],
   "source": [
    "#q3.hint()\n",
    "#q3.solution()"
   ]
  },
  {
   "cell_type": "markdown",
   "id": "4d1dc70a",
   "metadata": {
    "papermill": {
     "duration": 0.008474,
     "end_time": "2024-11-07T11:04:11.977769",
     "exception": false,
     "start_time": "2024-11-07T11:04:11.969295",
     "status": "completed"
    },
    "tags": []
   },
   "source": [
    "# 4.\n",
    "\n",
    "What are the lengths of the following lists? Fill in the variable `lengths` with your predictions. (Try to make a prediction for each list *without* just calling `len()` on it.)"
   ]
  },
  {
   "cell_type": "code",
   "execution_count": 8,
   "id": "551af208",
   "metadata": {
    "execution": {
     "iopub.execute_input": "2024-11-07T11:04:11.995512Z",
     "iopub.status.busy": "2024-11-07T11:04:11.995070Z",
     "iopub.status.idle": "2024-11-07T11:04:12.007309Z",
     "shell.execute_reply": "2024-11-07T11:04:12.006059Z"
    },
    "papermill": {
     "duration": 0.024199,
     "end_time": "2024-11-07T11:04:12.010225",
     "exception": false,
     "start_time": "2024-11-07T11:04:11.986026",
     "status": "completed"
    },
    "tags": []
   },
   "outputs": [
    {
     "data": {
      "application/javascript": [
       "parent.postMessage({\"jupyterEvent\": \"custom.exercise_interaction\", \"data\": {\"outcomeType\": 1, \"valueTowardsCompletion\": 0.2, \"interactionType\": 1, \"questionType\": 1, \"questionId\": \"4_UnderstandLen\", \"learnToolsVersion\": \"0.3.4\", \"failureMessage\": \"\", \"exceptionClass\": \"\", \"trace\": \"\"}}, \"*\")"
      ],
      "text/plain": [
       "<IPython.core.display.Javascript object>"
      ]
     },
     "metadata": {},
     "output_type": "display_data"
    },
    {
     "data": {
      "text/markdown": [
       "<span style=\"color:#33cc33\">Correct:</span> \n",
       "\n",
       "\n",
       "- a: There are three items in this list. Nothing tricky yet.\n",
       "- b: The list `[2, 3]` counts as a single item. It has one item before it. So we have 2 items in the list\n",
       "- c: The empty list has 0 items\n",
       "- d: The expression is the same as the list `[2, 3]`, which has length 2."
      ],
      "text/plain": [
       "Correct: \n",
       "\n",
       "\n",
       "- a: There are three items in this list. Nothing tricky yet.\n",
       "- b: The list `[2, 3]` counts as a single item. It has one item before it. So we have 2 items in the list\n",
       "- c: The empty list has 0 items\n",
       "- d: The expression is the same as the list `[2, 3]`, which has length 2."
      ]
     },
     "metadata": {},
     "output_type": "display_data"
    }
   ],
   "source": [
    "a = [1, 2, 3]\n",
    "b = [1, [2, 3]]\n",
    "c = []\n",
    "d = [1, 2, 3][1:]\n",
    "\n",
    "# Put your predictions in the list below. Lengths should contain 4 numbers, the\n",
    "# first being the length of a, the second being the length of b and so on.\n",
    "lengths = [3, 2, 0, 2]\n",
    "\n",
    "# Check your answer\n",
    "q4.check()"
   ]
  },
  {
   "cell_type": "code",
   "execution_count": 9,
   "id": "75c52ee7",
   "metadata": {
    "execution": {
     "iopub.execute_input": "2024-11-07T11:04:12.028353Z",
     "iopub.status.busy": "2024-11-07T11:04:12.027919Z",
     "iopub.status.idle": "2024-11-07T11:04:12.033234Z",
     "shell.execute_reply": "2024-11-07T11:04:12.031911Z"
    },
    "papermill": {
     "duration": 0.017568,
     "end_time": "2024-11-07T11:04:12.036037",
     "exception": false,
     "start_time": "2024-11-07T11:04:12.018469",
     "status": "completed"
    },
    "tags": []
   },
   "outputs": [],
   "source": [
    "# line below provides some explanation\n",
    "#q4.solution()"
   ]
  },
  {
   "cell_type": "markdown",
   "id": "847ea252",
   "metadata": {
    "papermill": {
     "duration": 0.007766,
     "end_time": "2024-11-07T11:04:12.051955",
     "exception": false,
     "start_time": "2024-11-07T11:04:12.044189",
     "status": "completed"
    },
    "tags": []
   },
   "source": [
    "# 5. <span title=\"A bit spicy\" style=\"color: darkgreen \">🌶️</span>\n",
    "\n",
    "We're using lists to record people who attended our party and what order they arrived in. For example, the following list represents a party with 7 guests, in which Adela showed up first and Ford was the last to arrive:\n",
    "\n",
    "    party_attendees = ['Adela', 'Fleda', 'Owen', 'May', 'Mona', 'Gilbert', 'Ford']\n",
    "\n",
    "A guest is considered 'fashionably late' if they arrived after at least half of the party's guests. However, they must not be the very last guest (that's taking it too far). In the above example, Mona and Gilbert are the only guests who were fashionably late.\n",
    "\n",
    "Complete the function below which takes a list of party attendees as well as a person, and tells us whether that person is fashionably late."
   ]
  },
  {
   "cell_type": "code",
   "execution_count": 10,
   "id": "ad6db940",
   "metadata": {
    "execution": {
     "iopub.execute_input": "2024-11-07T11:04:12.070457Z",
     "iopub.status.busy": "2024-11-07T11:04:12.070049Z",
     "iopub.status.idle": "2024-11-07T11:04:12.082267Z",
     "shell.execute_reply": "2024-11-07T11:04:12.081002Z"
    },
    "papermill": {
     "duration": 0.024585,
     "end_time": "2024-11-07T11:04:12.084965",
     "exception": false,
     "start_time": "2024-11-07T11:04:12.060380",
     "status": "completed"
    },
    "tags": []
   },
   "outputs": [
    {
     "data": {
      "application/javascript": [
       "parent.postMessage({\"jupyterEvent\": \"custom.exercise_interaction\", \"data\": {\"outcomeType\": 1, \"valueTowardsCompletion\": 0.2, \"interactionType\": 1, \"questionType\": 2, \"questionId\": \"5_FashionablyLate\", \"learnToolsVersion\": \"0.3.4\", \"failureMessage\": \"\", \"exceptionClass\": \"\", \"trace\": \"\"}}, \"*\")"
      ],
      "text/plain": [
       "<IPython.core.display.Javascript object>"
      ]
     },
     "metadata": {},
     "output_type": "display_data"
    },
    {
     "data": {
      "text/markdown": [
       "<span style=\"color:#33cc33\">Correct</span>"
      ],
      "text/plain": [
       "Correct"
      ]
     },
     "metadata": {},
     "output_type": "display_data"
    }
   ],
   "source": [
    "def fashionably_late(arrivals, name):\n",
    "    \"\"\"Given an ordered list of arrivals to the party and a name, return whether the guest with that\n",
    "    name was fashionably late.\n",
    "    \"\"\"\n",
    "    order = arrivals.index(name)\n",
    "    total = len(arrivals)\n",
    "    return order >= len(arrivals) / 2 and order != len(arrivals) - 1\n",
    "\n",
    "# Check your answer\n",
    "q5.check()"
   ]
  },
  {
   "cell_type": "code",
   "execution_count": 11,
   "id": "ca376e4a",
   "metadata": {
    "execution": {
     "iopub.execute_input": "2024-11-07T11:04:12.103894Z",
     "iopub.status.busy": "2024-11-07T11:04:12.103411Z",
     "iopub.status.idle": "2024-11-07T11:04:12.113156Z",
     "shell.execute_reply": "2024-11-07T11:04:12.111935Z"
    },
    "papermill": {
     "duration": 0.022253,
     "end_time": "2024-11-07T11:04:12.115817",
     "exception": false,
     "start_time": "2024-11-07T11:04:12.093564",
     "status": "completed"
    },
    "tags": []
   },
   "outputs": [
    {
     "data": {
      "application/javascript": [
       "parent.postMessage({\"jupyterEvent\": \"custom.exercise_interaction\", \"data\": {\"interactionType\": 3, \"questionType\": 2, \"questionId\": \"5_FashionablyLate\", \"learnToolsVersion\": \"0.3.4\", \"valueTowardsCompletion\": 0.0, \"failureMessage\": \"\", \"exceptionClass\": \"\", \"trace\": \"\", \"outcomeType\": 4}}, \"*\")"
      ],
      "text/plain": [
       "<IPython.core.display.Javascript object>"
      ]
     },
     "metadata": {},
     "output_type": "display_data"
    },
    {
     "data": {
      "text/markdown": [
       "<span style=\"color:#33cc99\">Solution:</span> \n",
       "```python\n",
       "def fashionably_late(arrivals, name):\n",
       "    order = arrivals.index(name)\n",
       "    return order >= len(arrivals) / 2 and order != len(arrivals) - 1\n",
       "```"
      ],
      "text/plain": [
       "Solution: \n",
       "```python\n",
       "def fashionably_late(arrivals, name):\n",
       "    order = arrivals.index(name)\n",
       "    return order >= len(arrivals) / 2 and order != len(arrivals) - 1\n",
       "```"
      ]
     },
     "metadata": {},
     "output_type": "display_data"
    }
   ],
   "source": [
    "#q5.hint()\n",
    "q5.solution()"
   ]
  },
  {
   "cell_type": "markdown",
   "id": "d5d0e6d8",
   "metadata": {
    "papermill": {
     "duration": 0.008884,
     "end_time": "2024-11-07T11:04:12.133896",
     "exception": false,
     "start_time": "2024-11-07T11:04:12.125012",
     "status": "completed"
    },
    "tags": []
   },
   "source": [
    "# Keep Going\n",
    "\n",
    "That's it for lists and tuples! Now you have the baseline knowledge to **[learn about loops](https://www.kaggle.com/colinmorris/loops-and-list-comprehensions)**, which is where lists and tuples get really interesting. "
   ]
  },
  {
   "cell_type": "markdown",
   "id": "1de6887f",
   "metadata": {
    "papermill": {
     "duration": 0.008804,
     "end_time": "2024-11-07T11:04:12.151666",
     "exception": false,
     "start_time": "2024-11-07T11:04:12.142862",
     "status": "completed"
    },
    "tags": []
   },
   "source": [
    "---\n",
    "\n",
    "\n",
    "\n",
    "\n",
    "*Have questions or comments? Visit the [course discussion forum](https://www.kaggle.com/learn/python/discussion) to chat with other learners.*"
   ]
  }
 ],
 "metadata": {
  "kaggle": {
   "accelerator": "none",
   "dataSources": [],
   "isGpuEnabled": false,
   "isInternetEnabled": false,
   "language": "python",
   "sourceType": "notebook"
  },
  "kernelspec": {
   "display_name": "Python 3",
   "language": "python",
   "name": "python3"
  },
  "language_info": {
   "codemirror_mode": {
    "name": "ipython",
    "version": 3
   },
   "file_extension": ".py",
   "mimetype": "text/x-python",
   "name": "python",
   "nbconvert_exporter": "python",
   "pygments_lexer": "ipython3",
   "version": "3.10.14"
  },
  "learntools_metadata": {
   "lesson_index": 3,
   "type": "exercise"
  },
  "papermill": {
   "default_parameters": {},
   "duration": 5.598514,
   "end_time": "2024-11-07T11:04:12.683001",
   "environment_variables": {},
   "exception": null,
   "input_path": "__notebook__.ipynb",
   "output_path": "__notebook__.ipynb",
   "parameters": {},
   "start_time": "2024-11-07T11:04:07.084487",
   "version": "2.6.0"
  }
 },
 "nbformat": 4,
 "nbformat_minor": 5
}

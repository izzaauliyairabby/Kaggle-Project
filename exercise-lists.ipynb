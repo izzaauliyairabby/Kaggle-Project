{
 "cells": [
  {
   "cell_type": "markdown",
   "id": "7c92d295",
   "metadata": {
    "papermill": {
     "duration": 0.005217,
     "end_time": "2024-11-07T11:01:30.852163",
     "exception": false,
     "start_time": "2024-11-07T11:01:30.846946",
     "status": "completed"
    },
    "tags": []
   },
   "source": [
    "**This notebook is an exercise in the [Python](https://www.kaggle.com/learn/python) course.  You can reference the tutorial at [this link](https://www.kaggle.com/colinmorris/lists).**\n",
    "\n",
    "---\n"
   ]
  },
  {
   "cell_type": "markdown",
   "id": "fb772b42",
   "metadata": {
    "papermill": {
     "duration": 0.004267,
     "end_time": "2024-11-07T11:01:30.861144",
     "exception": false,
     "start_time": "2024-11-07T11:01:30.856877",
     "status": "completed"
    },
    "tags": []
   },
   "source": [
    "Things get more interesting with lists. You'll apply your new knowledge to solve the questions below. Remember to run the following cell first."
   ]
  },
  {
   "cell_type": "code",
   "execution_count": 1,
   "id": "315f5dce",
   "metadata": {
    "execution": {
     "iopub.execute_input": "2024-11-07T11:01:30.871786Z",
     "iopub.status.busy": "2024-11-07T11:01:30.871388Z",
     "iopub.status.idle": "2024-11-07T11:01:31.812629Z",
     "shell.execute_reply": "2024-11-07T11:01:31.811564Z"
    },
    "papermill": {
     "duration": 0.949882,
     "end_time": "2024-11-07T11:01:31.815511",
     "exception": false,
     "start_time": "2024-11-07T11:01:30.865629",
     "status": "completed"
    },
    "tags": []
   },
   "outputs": [
    {
     "name": "stdout",
     "output_type": "stream",
     "text": [
      "Setup complete.\n"
     ]
    }
   ],
   "source": [
    "from learntools.core import binder; binder.bind(globals())\n",
    "from learntools.python.ex4 import *\n",
    "print('Setup complete.')"
   ]
  },
  {
   "cell_type": "markdown",
   "id": "f70cc5fa",
   "metadata": {
    "papermill": {
     "duration": 0.006511,
     "end_time": "2024-11-07T11:01:31.829094",
     "exception": false,
     "start_time": "2024-11-07T11:01:31.822583",
     "status": "completed"
    },
    "tags": []
   },
   "source": [
    "# 1.\n",
    "\n",
    "Complete the function below according to its docstring."
   ]
  },
  {
   "cell_type": "code",
   "execution_count": 2,
   "id": "112b61e2",
   "metadata": {
    "execution": {
     "iopub.execute_input": "2024-11-07T11:01:31.844736Z",
     "iopub.status.busy": "2024-11-07T11:01:31.844205Z",
     "iopub.status.idle": "2024-11-07T11:01:31.855713Z",
     "shell.execute_reply": "2024-11-07T11:01:31.854665Z"
    },
    "papermill": {
     "duration": 0.022273,
     "end_time": "2024-11-07T11:01:31.858351",
     "exception": false,
     "start_time": "2024-11-07T11:01:31.836078",
     "status": "completed"
    },
    "tags": []
   },
   "outputs": [
    {
     "data": {
      "application/javascript": [
       "parent.postMessage({\"jupyterEvent\": \"custom.exercise_interaction\", \"data\": {\"outcomeType\": 1, \"valueTowardsCompletion\": 0.2, \"interactionType\": 1, \"questionType\": 2, \"questionId\": \"1_SelectSecondItem\", \"learnToolsVersion\": \"0.3.4\", \"failureMessage\": \"\", \"exceptionClass\": \"\", \"trace\": \"\"}}, \"*\")"
      ],
      "text/plain": [
       "<IPython.core.display.Javascript object>"
      ]
     },
     "metadata": {},
     "output_type": "display_data"
    },
    {
     "data": {
      "text/markdown": [
       "<span style=\"color:#33cc33\">Correct</span>"
      ],
      "text/plain": [
       "Correct"
      ]
     },
     "metadata": {},
     "output_type": "display_data"
    }
   ],
   "source": [
    "def select_second(L):\n",
    "    if len(L) < 2:\n",
    "        return None\n",
    "    return L[1]\n",
    "\n",
    "# Check your answer\n",
    "q1.check()"
   ]
  },
  {
   "cell_type": "code",
   "execution_count": 3,
   "id": "f2c354ac",
   "metadata": {
    "execution": {
     "iopub.execute_input": "2024-11-07T11:01:31.874670Z",
     "iopub.status.busy": "2024-11-07T11:01:31.874273Z",
     "iopub.status.idle": "2024-11-07T11:01:31.878984Z",
     "shell.execute_reply": "2024-11-07T11:01:31.877822Z"
    },
    "papermill": {
     "duration": 0.015474,
     "end_time": "2024-11-07T11:01:31.881247",
     "exception": false,
     "start_time": "2024-11-07T11:01:31.865773",
     "status": "completed"
    },
    "tags": []
   },
   "outputs": [],
   "source": [
    "#q1.hint()\n",
    "#q1.solution()"
   ]
  },
  {
   "cell_type": "markdown",
   "id": "5edef5af",
   "metadata": {
    "papermill": {
     "duration": 0.0046,
     "end_time": "2024-11-07T11:01:31.891043",
     "exception": false,
     "start_time": "2024-11-07T11:01:31.886443",
     "status": "completed"
    },
    "tags": []
   },
   "source": [
    "# 2.\n",
    "\n",
    "You are analyzing sports teams.  Members of each team are stored in a list. The Coach is the first name in the list, the captain is the second name in the list, and other players are listed after that. \n",
    "These lists are stored in another list, which starts with the best team and proceeds through the list to the worst team last.  Complete the function below to select the **captain** of the worst team."
   ]
  },
  {
   "cell_type": "code",
   "execution_count": 4,
   "id": "8cb1c323",
   "metadata": {
    "execution": {
     "iopub.execute_input": "2024-11-07T11:01:31.904300Z",
     "iopub.status.busy": "2024-11-07T11:01:31.903776Z",
     "iopub.status.idle": "2024-11-07T11:01:31.917477Z",
     "shell.execute_reply": "2024-11-07T11:01:31.916447Z"
    },
    "papermill": {
     "duration": 0.024431,
     "end_time": "2024-11-07T11:01:31.921407",
     "exception": false,
     "start_time": "2024-11-07T11:01:31.896976",
     "status": "completed"
    },
    "tags": []
   },
   "outputs": [
    {
     "data": {
      "application/javascript": [
       "parent.postMessage({\"jupyterEvent\": \"custom.exercise_interaction\", \"data\": {\"outcomeType\": 1, \"valueTowardsCompletion\": 0.2, \"interactionType\": 1, \"questionType\": 2, \"questionId\": \"2_LosingTeamCaptain\", \"learnToolsVersion\": \"0.3.4\", \"failureMessage\": \"\", \"exceptionClass\": \"\", \"trace\": \"\"}}, \"*\")"
      ],
      "text/plain": [
       "<IPython.core.display.Javascript object>"
      ]
     },
     "metadata": {},
     "output_type": "display_data"
    },
    {
     "data": {
      "text/markdown": [
       "<span style=\"color:#33cc33\">Correct</span>"
      ],
      "text/plain": [
       "Correct"
      ]
     },
     "metadata": {},
     "output_type": "display_data"
    }
   ],
   "source": [
    "def losing_team_captain(teams):\n",
    "    \"\"\"Given a list of teams, where each team is a list of names, return the 2nd player (captain)\n",
    "    from the last listed team\n",
    "    \"\"\"\n",
    "    return teams[-1][1]\n",
    "    pass\n",
    "\n",
    "# Check your answer\n",
    "q2.check()"
   ]
  },
  {
   "cell_type": "code",
   "execution_count": 5,
   "id": "2240c022",
   "metadata": {
    "execution": {
     "iopub.execute_input": "2024-11-07T11:01:31.938790Z",
     "iopub.status.busy": "2024-11-07T11:01:31.937725Z",
     "iopub.status.idle": "2024-11-07T11:01:31.944343Z",
     "shell.execute_reply": "2024-11-07T11:01:31.943193Z"
    },
    "papermill": {
     "duration": 0.018719,
     "end_time": "2024-11-07T11:01:31.947401",
     "exception": false,
     "start_time": "2024-11-07T11:01:31.928682",
     "status": "completed"
    },
    "tags": []
   },
   "outputs": [],
   "source": [
    "#q2.hint()\n",
    "#q2.solution()"
   ]
  },
  {
   "cell_type": "markdown",
   "id": "a934db6a",
   "metadata": {
    "papermill": {
     "duration": 0.007304,
     "end_time": "2024-11-07T11:01:31.962556",
     "exception": false,
     "start_time": "2024-11-07T11:01:31.955252",
     "status": "completed"
    },
    "tags": []
   },
   "source": [
    "# 3.\n",
    "\n",
    "The next iteration of Mario Kart will feature an extra-infuriating new item, the *Purple Shell*. When used, it warps the last place racer into first place and the first place racer into last place. Complete the function below to implement the Purple Shell's effect."
   ]
  },
  {
   "cell_type": "code",
   "execution_count": 6,
   "id": "7e29eb38",
   "metadata": {
    "execution": {
     "iopub.execute_input": "2024-11-07T11:01:31.975776Z",
     "iopub.status.busy": "2024-11-07T11:01:31.974715Z",
     "iopub.status.idle": "2024-11-07T11:01:31.985419Z",
     "shell.execute_reply": "2024-11-07T11:01:31.984281Z"
    },
    "papermill": {
     "duration": 0.019605,
     "end_time": "2024-11-07T11:01:31.987672",
     "exception": false,
     "start_time": "2024-11-07T11:01:31.968067",
     "status": "completed"
    },
    "tags": []
   },
   "outputs": [
    {
     "data": {
      "application/javascript": [
       "parent.postMessage({\"jupyterEvent\": \"custom.exercise_interaction\", \"data\": {\"outcomeType\": 1, \"valueTowardsCompletion\": 0.2, \"interactionType\": 1, \"questionType\": 2, \"questionId\": \"3_PurpleShell\", \"learnToolsVersion\": \"0.3.4\", \"failureMessage\": \"\", \"exceptionClass\": \"\", \"trace\": \"\"}}, \"*\")"
      ],
      "text/plain": [
       "<IPython.core.display.Javascript object>"
      ]
     },
     "metadata": {},
     "output_type": "display_data"
    },
    {
     "data": {
      "text/markdown": [
       "<span style=\"color:#33cc33\">Correct</span>"
      ],
      "text/plain": [
       "Correct"
      ]
     },
     "metadata": {},
     "output_type": "display_data"
    }
   ],
   "source": [
    "def purple_shell(racers):\n",
    "    # One slick way to do the swap is x[0], x[-1] = x[-1], x[0].\n",
    "    racers[0], racers[-1] = racers[-1], racers[0]\n",
    "\n",
    "# Check your answer\n",
    "q3.check()"
   ]
  },
  {
   "cell_type": "code",
   "execution_count": 7,
   "id": "9adf1490",
   "metadata": {
    "execution": {
     "iopub.execute_input": "2024-11-07T11:01:32.000760Z",
     "iopub.status.busy": "2024-11-07T11:01:32.000266Z",
     "iopub.status.idle": "2024-11-07T11:01:32.005499Z",
     "shell.execute_reply": "2024-11-07T11:01:32.004151Z"
    },
    "papermill": {
     "duration": 0.014785,
     "end_time": "2024-11-07T11:01:32.008012",
     "exception": false,
     "start_time": "2024-11-07T11:01:31.993227",
     "status": "completed"
    },
    "tags": []
   },
   "outputs": [],
   "source": [
    "#q3.hint()\n",
    "#q3.solution()"
   ]
  },
  {
   "cell_type": "markdown",
   "id": "5686fa65",
   "metadata": {
    "papermill": {
     "duration": 0.005386,
     "end_time": "2024-11-07T11:01:32.019442",
     "exception": false,
     "start_time": "2024-11-07T11:01:32.014056",
     "status": "completed"
    },
    "tags": []
   },
   "source": [
    "# 4.\n",
    "\n",
    "What are the lengths of the following lists? Fill in the variable `lengths` with your predictions. (Try to make a prediction for each list *without* just calling `len()` on it.)"
   ]
  },
  {
   "cell_type": "code",
   "execution_count": 8,
   "id": "fc8c7082",
   "metadata": {
    "execution": {
     "iopub.execute_input": "2024-11-07T11:01:32.035881Z",
     "iopub.status.busy": "2024-11-07T11:01:32.034985Z",
     "iopub.status.idle": "2024-11-07T11:01:32.045927Z",
     "shell.execute_reply": "2024-11-07T11:01:32.044640Z"
    },
    "papermill": {
     "duration": 0.022343,
     "end_time": "2024-11-07T11:01:32.048921",
     "exception": false,
     "start_time": "2024-11-07T11:01:32.026578",
     "status": "completed"
    },
    "tags": []
   },
   "outputs": [
    {
     "data": {
      "application/javascript": [
       "parent.postMessage({\"jupyterEvent\": \"custom.exercise_interaction\", \"data\": {\"outcomeType\": 1, \"valueTowardsCompletion\": 0.2, \"interactionType\": 1, \"questionType\": 1, \"questionId\": \"4_UnderstandLen\", \"learnToolsVersion\": \"0.3.4\", \"failureMessage\": \"\", \"exceptionClass\": \"\", \"trace\": \"\"}}, \"*\")"
      ],
      "text/plain": [
       "<IPython.core.display.Javascript object>"
      ]
     },
     "metadata": {},
     "output_type": "display_data"
    },
    {
     "data": {
      "text/markdown": [
       "<span style=\"color:#33cc33\">Correct:</span> \n",
       "\n",
       "\n",
       "- a: There are three items in this list. Nothing tricky yet.\n",
       "- b: The list `[2, 3]` counts as a single item. It has one item before it. So we have 2 items in the list\n",
       "- c: The empty list has 0 items\n",
       "- d: The expression is the same as the list `[2, 3]`, which has length 2."
      ],
      "text/plain": [
       "Correct: \n",
       "\n",
       "\n",
       "- a: There are three items in this list. Nothing tricky yet.\n",
       "- b: The list `[2, 3]` counts as a single item. It has one item before it. So we have 2 items in the list\n",
       "- c: The empty list has 0 items\n",
       "- d: The expression is the same as the list `[2, 3]`, which has length 2."
      ]
     },
     "metadata": {},
     "output_type": "display_data"
    }
   ],
   "source": [
    "a = [1, 2, 3]\n",
    "b = [1, [2, 3]]\n",
    "c = []\n",
    "d = [1, 2, 3][1:]\n",
    "\n",
    "# Put your predictions in the list below. Lengths should contain 4 numbers, the\n",
    "# first being the length of a, the second being the length of b and so on.\n",
    "lengths = [3, 2, 0, 2]\n",
    "\n",
    "# Check your answer\n",
    "q4.check()"
   ]
  },
  {
   "cell_type": "code",
   "execution_count": 9,
   "id": "a9eab0c5",
   "metadata": {
    "execution": {
     "iopub.execute_input": "2024-11-07T11:01:32.062730Z",
     "iopub.status.busy": "2024-11-07T11:01:32.062255Z",
     "iopub.status.idle": "2024-11-07T11:01:32.067216Z",
     "shell.execute_reply": "2024-11-07T11:01:32.066099Z"
    },
    "papermill": {
     "duration": 0.014397,
     "end_time": "2024-11-07T11:01:32.069545",
     "exception": false,
     "start_time": "2024-11-07T11:01:32.055148",
     "status": "completed"
    },
    "tags": []
   },
   "outputs": [],
   "source": [
    "# line below provides some explanation\n",
    "#q4.solution()"
   ]
  },
  {
   "cell_type": "markdown",
   "id": "b80c252e",
   "metadata": {
    "papermill": {
     "duration": 0.005474,
     "end_time": "2024-11-07T11:01:32.080804",
     "exception": false,
     "start_time": "2024-11-07T11:01:32.075330",
     "status": "completed"
    },
    "tags": []
   },
   "source": [
    "# 5. <span title=\"A bit spicy\" style=\"color: darkgreen \">🌶️</span>\n",
    "\n",
    "We're using lists to record people who attended our party and what order they arrived in. For example, the following list represents a party with 7 guests, in which Adela showed up first and Ford was the last to arrive:\n",
    "\n",
    "    party_attendees = ['Adela', 'Fleda', 'Owen', 'May', 'Mona', 'Gilbert', 'Ford']\n",
    "\n",
    "A guest is considered 'fashionably late' if they arrived after at least half of the party's guests. However, they must not be the very last guest (that's taking it too far). In the above example, Mona and Gilbert are the only guests who were fashionably late.\n",
    "\n",
    "Complete the function below which takes a list of party attendees as well as a person, and tells us whether that person is fashionably late."
   ]
  },
  {
   "cell_type": "code",
   "execution_count": 10,
   "id": "5a70b932",
   "metadata": {
    "execution": {
     "iopub.execute_input": "2024-11-07T11:01:32.094650Z",
     "iopub.status.busy": "2024-11-07T11:01:32.093661Z",
     "iopub.status.idle": "2024-11-07T11:01:32.104569Z",
     "shell.execute_reply": "2024-11-07T11:01:32.103475Z"
    },
    "papermill": {
     "duration": 0.020347,
     "end_time": "2024-11-07T11:01:32.106895",
     "exception": false,
     "start_time": "2024-11-07T11:01:32.086548",
     "status": "completed"
    },
    "tags": []
   },
   "outputs": [
    {
     "data": {
      "application/javascript": [
       "parent.postMessage({\"jupyterEvent\": \"custom.exercise_interaction\", \"data\": {\"outcomeType\": 1, \"valueTowardsCompletion\": 0.2, \"interactionType\": 1, \"questionType\": 2, \"questionId\": \"5_FashionablyLate\", \"learnToolsVersion\": \"0.3.4\", \"failureMessage\": \"\", \"exceptionClass\": \"\", \"trace\": \"\"}}, \"*\")"
      ],
      "text/plain": [
       "<IPython.core.display.Javascript object>"
      ]
     },
     "metadata": {},
     "output_type": "display_data"
    },
    {
     "data": {
      "text/markdown": [
       "<span style=\"color:#33cc33\">Correct</span>"
      ],
      "text/plain": [
       "Correct"
      ]
     },
     "metadata": {},
     "output_type": "display_data"
    }
   ],
   "source": [
    "def fashionably_late(arrivals, name):\n",
    "    \"\"\"Given an ordered list of arrivals to the party and a name, return whether the guest with that\n",
    "    name was fashionably late.\n",
    "    \"\"\"\n",
    "    order = arrivals.index(name)\n",
    "    total = len(arrivals)\n",
    "    return order >= len(arrivals) / 2 and order != len(arrivals) - 1\n",
    "\n",
    "# Check your answer\n",
    "q5.check()"
   ]
  },
  {
   "cell_type": "code",
   "execution_count": 11,
   "id": "06fc77b7",
   "metadata": {
    "execution": {
     "iopub.execute_input": "2024-11-07T11:01:32.120878Z",
     "iopub.status.busy": "2024-11-07T11:01:32.120351Z",
     "iopub.status.idle": "2024-11-07T11:01:32.129691Z",
     "shell.execute_reply": "2024-11-07T11:01:32.128700Z"
    },
    "papermill": {
     "duration": 0.019533,
     "end_time": "2024-11-07T11:01:32.132415",
     "exception": false,
     "start_time": "2024-11-07T11:01:32.112882",
     "status": "completed"
    },
    "tags": []
   },
   "outputs": [
    {
     "data": {
      "application/javascript": [
       "parent.postMessage({\"jupyterEvent\": \"custom.exercise_interaction\", \"data\": {\"interactionType\": 3, \"questionType\": 2, \"questionId\": \"5_FashionablyLate\", \"learnToolsVersion\": \"0.3.4\", \"valueTowardsCompletion\": 0.0, \"failureMessage\": \"\", \"exceptionClass\": \"\", \"trace\": \"\", \"outcomeType\": 4}}, \"*\")"
      ],
      "text/plain": [
       "<IPython.core.display.Javascript object>"
      ]
     },
     "metadata": {},
     "output_type": "display_data"
    },
    {
     "data": {
      "text/markdown": [
       "<span style=\"color:#33cc99\">Solution:</span> \n",
       "```python\n",
       "def fashionably_late(arrivals, name):\n",
       "    order = arrivals.index(name)\n",
       "    return order >= len(arrivals) / 2 and order != len(arrivals) - 1\n",
       "```"
      ],
      "text/plain": [
       "Solution: \n",
       "```python\n",
       "def fashionably_late(arrivals, name):\n",
       "    order = arrivals.index(name)\n",
       "    return order >= len(arrivals) / 2 and order != len(arrivals) - 1\n",
       "```"
      ]
     },
     "metadata": {},
     "output_type": "display_data"
    }
   ],
   "source": [
    "#q5.hint()\n",
    "q5.solution()"
   ]
  },
  {
   "cell_type": "markdown",
   "id": "55c017f5",
   "metadata": {
    "papermill": {
     "duration": 0.007678,
     "end_time": "2024-11-07T11:01:32.149571",
     "exception": false,
     "start_time": "2024-11-07T11:01:32.141893",
     "status": "completed"
    },
    "tags": []
   },
   "source": [
    "# Keep Going\n",
    "\n",
    "That's it for lists and tuples! Now you have the baseline knowledge to **[learn about loops](https://www.kaggle.com/colinmorris/loops-and-list-comprehensions)**, which is where lists and tuples get really interesting. "
   ]
  },
  {
   "cell_type": "markdown",
   "id": "50563e65",
   "metadata": {
    "papermill": {
     "duration": 0.005853,
     "end_time": "2024-11-07T11:01:32.161783",
     "exception": false,
     "start_time": "2024-11-07T11:01:32.155930",
     "status": "completed"
    },
    "tags": []
   },
   "source": [
    "---\n",
    "\n",
    "\n",
    "\n",
    "\n",
    "*Have questions or comments? Visit the [course discussion forum](https://www.kaggle.com/learn/python/discussion) to chat with other learners.*"
   ]
  }
 ],
 "metadata": {
  "kaggle": {
   "accelerator": "none",
   "dataSources": [],
   "isGpuEnabled": false,
   "isInternetEnabled": false,
   "language": "python",
   "sourceType": "notebook"
  },
  "kernelspec": {
   "display_name": "Python 3",
   "language": "python",
   "name": "python3"
  },
  "language_info": {
   "codemirror_mode": {
    "name": "ipython",
    "version": 3
   },
   "file_extension": ".py",
   "mimetype": "text/x-python",
   "name": "python",
   "nbconvert_exporter": "python",
   "pygments_lexer": "ipython3",
   "version": "3.10.14"
  },
  "learntools_metadata": {
   "lesson_index": 3,
   "type": "exercise"
  },
  "papermill": {
   "default_parameters": {},
   "duration": 4.632824,
   "end_time": "2024-11-07T11:01:32.689143",
   "environment_variables": {},
   "exception": null,
   "input_path": "__notebook__.ipynb",
   "output_path": "__notebook__.ipynb",
   "parameters": {},
   "start_time": "2024-11-07T11:01:28.056319",
   "version": "2.6.0"
  }
 },
 "nbformat": 4,
 "nbformat_minor": 5
}

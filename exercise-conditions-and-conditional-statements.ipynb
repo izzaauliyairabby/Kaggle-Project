{
 "cells": [
  {
   "cell_type": "markdown",
   "id": "e5dc5401",
   "metadata": {
    "papermill": {
     "duration": 0.009114,
     "end_time": "2024-11-04T16:53:36.996496",
     "exception": false,
     "start_time": "2024-11-04T16:53:36.987382",
     "status": "completed"
    },
    "tags": []
   },
   "source": [
    "**This notebook is an exercise in the [Intro to Programming](https://www.kaggle.com/learn/intro-to-programming) course.  You can reference the tutorial at [this link](https://www.kaggle.com/alexisbcook/conditions-and-conditional-statements).**\n",
    "\n",
    "---\n"
   ]
  },
  {
   "cell_type": "markdown",
   "id": "9e0ac603",
   "metadata": {
    "papermill": {
     "duration": 0.006866,
     "end_time": "2024-11-04T16:53:37.010680",
     "exception": false,
     "start_time": "2024-11-04T16:53:37.003814",
     "status": "completed"
    },
    "tags": []
   },
   "source": [
    "In the tutorial, you learned about conditions and conditional statements. In this exercise, you will use what you learned to answer several questions.\n",
    "\n",
    "# Set up the notebook\n",
    "\n",
    "Run the next code cell without changes to set up the notebook."
   ]
  },
  {
   "cell_type": "code",
   "execution_count": 1,
   "id": "797948e8",
   "metadata": {
    "execution": {
     "iopub.execute_input": "2024-11-04T16:53:37.026511Z",
     "iopub.status.busy": "2024-11-04T16:53:37.026056Z",
     "iopub.status.idle": "2024-11-04T16:53:38.024104Z",
     "shell.execute_reply": "2024-11-04T16:53:38.022405Z"
    },
    "papermill": {
     "duration": 1.010401,
     "end_time": "2024-11-04T16:53:38.027754",
     "exception": false,
     "start_time": "2024-11-04T16:53:37.017353",
     "status": "completed"
    },
    "tags": []
   },
   "outputs": [
    {
     "name": "stdout",
     "output_type": "stream",
     "text": [
      "Setup complete.\n"
     ]
    }
   ],
   "source": [
    "from learntools.core import binder\n",
    "binder.bind(globals())\n",
    "from learntools.intro_to_programming.ex4 import *\n",
    "print('Setup complete.')"
   ]
  },
  {
   "cell_type": "markdown",
   "id": "627d6225",
   "metadata": {
    "papermill": {
     "duration": 0.006703,
     "end_time": "2024-11-04T16:53:38.041747",
     "exception": false,
     "start_time": "2024-11-04T16:53:38.035044",
     "status": "completed"
    },
    "tags": []
   },
   "source": [
    "# Question 1\n",
    "\n",
    "You work at a college admissions office.  When inspecting a dataset of college applicants, you notice that some students have represented their grades with letters (`\"A\"`, `\"B\"`, `\"C\"`, `\"D\"`, `\"F\"`), whereas others have represented their grades with a number between 0 and 100.\n",
    "\n",
    "You realize that for consistency, all of the grades should be formatted in the same way, and you decide to format them all as letters.  For the conversion, you decide to assign:\n",
    "- `\"A\"` - any grade 90-100, inclusive\n",
    "- `\"B\"` - any grade 80-89, inclusive\n",
    "- `\"C\"` - any grade 70-79, inclusive\n",
    "- `\"D\"` - any grade 60-69, inclusive\n",
    "- `\"F\"` - any grade <60\n",
    "\n",
    "Write a function `get_grade()` that takes as input:\n",
    "- `score` - an integer 0-100 corresponding to a numerical grade\n",
    "\n",
    "It should return a Python string with the letter grade that it corresponds to.  For instance,\n",
    "- A score of 85 corresponds to a B grade.  In other words, `get_grade(85)` should return `\"B\"`.\n",
    "- A score of 49 corresponds to an F grade.  In other words, `get_grade(49)` should return `\"F\"`.\n",
    "\n",
    "Make sure that when supplying the grade that is returned by the function, it is enclosed in quotes.  (For instance, if you want to return `\"A\"`, you should write `return \"A\"` and not `return A`.)"
   ]
  },
  {
   "cell_type": "code",
   "execution_count": 2,
   "id": "fadcd940",
   "metadata": {
    "execution": {
     "iopub.execute_input": "2024-11-04T16:53:38.058402Z",
     "iopub.status.busy": "2024-11-04T16:53:38.057773Z",
     "iopub.status.idle": "2024-11-04T16:53:38.072348Z",
     "shell.execute_reply": "2024-11-04T16:53:38.070366Z"
    },
    "papermill": {
     "duration": 0.026811,
     "end_time": "2024-11-04T16:53:38.075244",
     "exception": false,
     "start_time": "2024-11-04T16:53:38.048433",
     "status": "completed"
    },
    "tags": []
   },
   "outputs": [
    {
     "data": {
      "application/javascript": [
       "parent.postMessage({\"jupyterEvent\": \"custom.exercise_interaction\", \"data\": {\"outcomeType\": 1, \"valueTowardsCompletion\": 0.2, \"interactionType\": 1, \"questionType\": 2, \"questionId\": \"1_GetGrade\", \"learnToolsVersion\": \"0.3.4\", \"failureMessage\": \"\", \"exceptionClass\": \"\", \"trace\": \"\"}}, \"*\")"
      ],
      "text/plain": [
       "<IPython.core.display.Javascript object>"
      ]
     },
     "metadata": {},
     "output_type": "display_data"
    },
    {
     "data": {
      "text/markdown": [
       "<span style=\"color:#33cc33\">Correct</span>"
      ],
      "text/plain": [
       "Correct"
      ]
     },
     "metadata": {},
     "output_type": "display_data"
    }
   ],
   "source": [
    "# TODO: Edit the function to return the correct grade for different scores\n",
    "def get_grade(score):\n",
    "    if score >= 90:\n",
    "        grade = \"A\"\n",
    "    elif score >= 80:\n",
    "        grade = \"B\"\n",
    "    elif score >= 70:\n",
    "        grade = \"C\"\n",
    "    elif score >= 60:\n",
    "        grade = \"D\"\n",
    "    else:\n",
    "        grade = \"F\"\n",
    "    return grade\n",
    "    \n",
    "# Check your answer\n",
    "q1.check()"
   ]
  },
  {
   "cell_type": "code",
   "execution_count": 3,
   "id": "6f5bd32b",
   "metadata": {
    "execution": {
     "iopub.execute_input": "2024-11-04T16:53:38.094912Z",
     "iopub.status.busy": "2024-11-04T16:53:38.094420Z",
     "iopub.status.idle": "2024-11-04T16:53:38.106185Z",
     "shell.execute_reply": "2024-11-04T16:53:38.104846Z"
    },
    "papermill": {
     "duration": 0.02303,
     "end_time": "2024-11-04T16:53:38.108740",
     "exception": false,
     "start_time": "2024-11-04T16:53:38.085710",
     "status": "completed"
    },
    "tags": []
   },
   "outputs": [
    {
     "data": {
      "application/javascript": [
       "parent.postMessage({\"jupyterEvent\": \"custom.exercise_interaction\", \"data\": {\"interactionType\": 3, \"questionType\": 2, \"questionId\": \"1_GetGrade\", \"learnToolsVersion\": \"0.3.4\", \"valueTowardsCompletion\": 0.0, \"failureMessage\": \"\", \"exceptionClass\": \"\", \"trace\": \"\", \"outcomeType\": 4}}, \"*\")"
      ],
      "text/plain": [
       "<IPython.core.display.Javascript object>"
      ]
     },
     "metadata": {},
     "output_type": "display_data"
    },
    {
     "data": {
      "text/markdown": [
       "<span style=\"color:#33cc99\">Solution:</span> \n",
       "```python\n",
       "def get_grade(score):\n",
       "    if score >= 90:\n",
       "        grade = \"A\"\n",
       "    elif score >= 80:\n",
       "        grade = \"B\"\n",
       "    elif score >= 70:\n",
       "        grade = \"C\"\n",
       "    elif score >= 60:\n",
       "        grade = \"D\"\n",
       "    else:\n",
       "        grade = \"F\"\n",
       "    return grade\n",
       "\n",
       "```"
      ],
      "text/plain": [
       "Solution: \n",
       "```python\n",
       "def get_grade(score):\n",
       "    if score >= 90:\n",
       "        grade = \"A\"\n",
       "    elif score >= 80:\n",
       "        grade = \"B\"\n",
       "    elif score >= 70:\n",
       "        grade = \"C\"\n",
       "    elif score >= 60:\n",
       "        grade = \"D\"\n",
       "    else:\n",
       "        grade = \"F\"\n",
       "    return grade\n",
       "\n",
       "```"
      ]
     },
     "metadata": {},
     "output_type": "display_data"
    }
   ],
   "source": [
    "# Uncomment to see a hint\n",
    "#q1.hint()\n",
    "\n",
    "# Uncomment to see the solution\n",
    "q1.solution()"
   ]
  },
  {
   "cell_type": "markdown",
   "id": "41a250ff",
   "metadata": {
    "papermill": {
     "duration": 0.008479,
     "end_time": "2024-11-04T16:53:38.124835",
     "exception": false,
     "start_time": "2024-11-04T16:53:38.116356",
     "status": "completed"
    },
    "tags": []
   },
   "source": [
    "# Question 2\n",
    "\n",
    "In the exercise for the previous lesson, you wrote a function `cost_of_project()` that estimated the price of rings for an online shop that sells rings with custom engravings.  This function did not use conditional statements.  In this exercise, you will rewrite the function to use conditional statements.  Recall that the online shop has the following price structure:\n",
    "- Gold plated rings have a base cost of \\\\$50, and you charge \\\\$7 per engraved unit.  \n",
    "- Solid gold rings have a base cost of \\\\$100, and you charge \\\\$10 per engraved unit.\n",
    "- Spaces and punctuation are counted as engraved units.\n",
    "\n",
    "Your function `cost_of_project()` takes two arguments:\n",
    "- `engraving` - a Python string with the text of the engraving\n",
    "- `solid_gold` - a Boolean that indicates whether the ring is solid gold\n",
    "\n",
    "It should return the cost of the project.  \n",
    "\n",
    "The function has been partially completed for you, and you need to fill in the blanks to complete the function."
   ]
  },
  {
   "cell_type": "code",
   "execution_count": 4,
   "id": "069ab32a",
   "metadata": {
    "execution": {
     "iopub.execute_input": "2024-11-04T16:53:38.144046Z",
     "iopub.status.busy": "2024-11-04T16:53:38.143517Z",
     "iopub.status.idle": "2024-11-04T16:53:38.157873Z",
     "shell.execute_reply": "2024-11-04T16:53:38.156103Z"
    },
    "papermill": {
     "duration": 0.02654,
     "end_time": "2024-11-04T16:53:38.160945",
     "exception": false,
     "start_time": "2024-11-04T16:53:38.134405",
     "status": "completed"
    },
    "tags": []
   },
   "outputs": [
    {
     "data": {
      "application/javascript": [
       "parent.postMessage({\"jupyterEvent\": \"custom.exercise_interaction\", \"data\": {\"outcomeType\": 1, \"valueTowardsCompletion\": 0.2, \"interactionType\": 1, \"questionType\": 2, \"questionId\": \"2_CostProjectPartDeux\", \"learnToolsVersion\": \"0.3.4\", \"failureMessage\": \"\", \"exceptionClass\": \"\", \"trace\": \"\"}}, \"*\")"
      ],
      "text/plain": [
       "<IPython.core.display.Javascript object>"
      ]
     },
     "metadata": {},
     "output_type": "display_data"
    },
    {
     "data": {
      "text/markdown": [
       "<span style=\"color:#33cc33\">Correct</span>"
      ],
      "text/plain": [
       "Correct"
      ]
     },
     "metadata": {},
     "output_type": "display_data"
    }
   ],
   "source": [
    "# option 1\n",
    "def cost_of_project(engraving, solid_gold):\n",
    "    num_units = len(engraving)\n",
    "    if solid_gold == True:\n",
    "        cost = 100 + 10 * num_units\n",
    "    else:\n",
    "        cost = 50 + 7 * num_units\n",
    "    return cost\n",
    "\n",
    "# Check your answer\n",
    "q2.check()"
   ]
  },
  {
   "cell_type": "code",
   "execution_count": 5,
   "id": "0ff296a0",
   "metadata": {
    "execution": {
     "iopub.execute_input": "2024-11-04T16:53:38.178820Z",
     "iopub.status.busy": "2024-11-04T16:53:38.178297Z",
     "iopub.status.idle": "2024-11-04T16:53:38.189499Z",
     "shell.execute_reply": "2024-11-04T16:53:38.188290Z"
    },
    "papermill": {
     "duration": 0.023444,
     "end_time": "2024-11-04T16:53:38.192148",
     "exception": false,
     "start_time": "2024-11-04T16:53:38.168704",
     "status": "completed"
    },
    "tags": []
   },
   "outputs": [
    {
     "data": {
      "application/javascript": [
       "parent.postMessage({\"jupyterEvent\": \"custom.exercise_interaction\", \"data\": {\"interactionType\": 3, \"questionType\": 2, \"questionId\": \"2_CostProjectPartDeux\", \"learnToolsVersion\": \"0.3.4\", \"valueTowardsCompletion\": 0.0, \"failureMessage\": \"\", \"exceptionClass\": \"\", \"trace\": \"\", \"outcomeType\": 4}}, \"*\")"
      ],
      "text/plain": [
       "<IPython.core.display.Javascript object>"
      ]
     },
     "metadata": {},
     "output_type": "display_data"
    },
    {
     "data": {
      "text/markdown": [
       "<span style=\"color:#33cc99\">Solution:</span> \n",
       "```python\n",
       "# option 1\n",
       "def cost_of_project(engraving, solid_gold):\n",
       "    num_units = len(engraving)\n",
       "    if solid_gold == True:\n",
       "        cost = 100 + 10 * num_units\n",
       "    else:\n",
       "        cost = 50 + 7 * num_units\n",
       "    return cost\n",
       "    \n",
       "# option 2 \n",
       "def cost_of_project(engraving, solid_gold):\n",
       "    if solid_gold == True:\n",
       "        cost = 100 + 10 * len(engraving)\n",
       "    else:\n",
       "        cost = 50 + 7 * len(engraving)\n",
       "    return cost\n",
       "\n",
       "```"
      ],
      "text/plain": [
       "Solution: \n",
       "```python\n",
       "# option 1\n",
       "def cost_of_project(engraving, solid_gold):\n",
       "    num_units = len(engraving)\n",
       "    if solid_gold == True:\n",
       "        cost = 100 + 10 * num_units\n",
       "    else:\n",
       "        cost = 50 + 7 * num_units\n",
       "    return cost\n",
       "    \n",
       "# option 2 \n",
       "def cost_of_project(engraving, solid_gold):\n",
       "    if solid_gold == True:\n",
       "        cost = 100 + 10 * len(engraving)\n",
       "    else:\n",
       "        cost = 50 + 7 * len(engraving)\n",
       "    return cost\n",
       "\n",
       "```"
      ]
     },
     "metadata": {},
     "output_type": "display_data"
    }
   ],
   "source": [
    "# Uncomment to see a hint\n",
    "#q2.hint()\n",
    "\n",
    "# Uncomment to see the solution\n",
    "q2.solution()"
   ]
  },
  {
   "cell_type": "markdown",
   "id": "7e7bb5d0",
   "metadata": {
    "papermill": {
     "duration": 0.010623,
     "end_time": "2024-11-04T16:53:38.211191",
     "exception": false,
     "start_time": "2024-11-04T16:53:38.200568",
     "status": "completed"
    },
    "tags": []
   },
   "source": [
    "# Question 3\n",
    "\n",
    "You are a programmer at a water agency.  Recently, you have been tasked to write a function `get_water_bill()` that takes as input:\n",
    "- `num_gallons` = the number of gallons of water that a customer used that month.  (This will always be an integer with no decimal part.)\n",
    "\n",
    "It should output the water bill.  \n",
    "\n",
    "The water agency uses this pricing structure:\n",
    "<table style=\"width: 100%;\">\n",
    "<tbody>\n",
    "<tr><th><b>Tier</b></th><th><b>Amount in gallons</b></th><th><b>Price per 1000 gallons</b></th></tr>\n",
    "<tr>\n",
    "<td>Tier 1</td>\n",
    "<td>0 - 8,000</td>\n",
    "<td>\\$5</td>\n",
    "</tr>\n",
    "<tr>\n",
    "<td>Tier 2</td>\n",
    "<td>8,001 - 22,000</td>\n",
    "<td>\\$6</td>\n",
    "</tr>\n",
    "<tr>\n",
    "<td>Tier 3</td>\n",
    "<td>22,001 - 30,000</td>\n",
    "<td>\\$7</td>\n",
    "</tr>\n",
    "<tr>\n",
    "<td>Tier 4</td>\n",
    "<td>30,001+</td>\n",
    "<td>\\$10</td>\n",
    "</tr>\n",
    "</tbody>\n",
    "</table>\n",
    "\n",
    "For example: \n",
    "- Someone who uses 10,000 gallons of water in a month is placed in Tier 2, and needs to pay a water bill of \\\\$6 * 10 = \\\\$60.  In other words, `get_water_bill(10000)` should return `60.0`.\n",
    "- Someone who uses 25,000 gallons of water in a month is placed in Tier 3, and needs to pay a water bill of \\\\$7 * 25 = \\\\$175.  In other words, `get_water_bill(25000)` should return `175.0`.\n",
    "\n",
    "**Do not round your answer.**  So, your answer might return fractions of a penny."
   ]
  },
  {
   "cell_type": "code",
   "execution_count": 6,
   "id": "86897269",
   "metadata": {
    "execution": {
     "iopub.execute_input": "2024-11-04T16:53:38.229304Z",
     "iopub.status.busy": "2024-11-04T16:53:38.228818Z",
     "iopub.status.idle": "2024-11-04T16:53:38.239891Z",
     "shell.execute_reply": "2024-11-04T16:53:38.238539Z"
    },
    "papermill": {
     "duration": 0.023164,
     "end_time": "2024-11-04T16:53:38.242527",
     "exception": false,
     "start_time": "2024-11-04T16:53:38.219363",
     "status": "completed"
    },
    "tags": []
   },
   "outputs": [
    {
     "data": {
      "application/javascript": [
       "parent.postMessage({\"jupyterEvent\": \"custom.exercise_interaction\", \"data\": {\"outcomeType\": 1, \"valueTowardsCompletion\": 0.2, \"interactionType\": 1, \"questionType\": 2, \"questionId\": \"3_GetWaterBill\", \"learnToolsVersion\": \"0.3.4\", \"failureMessage\": \"\", \"exceptionClass\": \"\", \"trace\": \"\"}}, \"*\")"
      ],
      "text/plain": [
       "<IPython.core.display.Javascript object>"
      ]
     },
     "metadata": {},
     "output_type": "display_data"
    },
    {
     "data": {
      "text/markdown": [
       "<span style=\"color:#33cc33\">Correct</span>"
      ],
      "text/plain": [
       "Correct"
      ]
     },
     "metadata": {},
     "output_type": "display_data"
    }
   ],
   "source": [
    "# TODO: Edit the function to return the correct bill for different\n",
    "# values of num_gallons\n",
    "def get_water_bill(num_gallons):\n",
    "    if num_gallons <= 8000:\n",
    "        bill = 5 * num_gallons / 1000\n",
    "    elif num_gallons <= 22000:\n",
    "        bill = 6 * num_gallons / 1000\n",
    "    elif num_gallons <= 30000:\n",
    "        bill = 7 * num_gallons / 1000\n",
    "    else:\n",
    "        bill = 10 * num_gallons / 1000\n",
    "    return bill\n",
    "\n",
    "# Check your answer\n",
    "q3.check()"
   ]
  },
  {
   "cell_type": "code",
   "execution_count": 7,
   "id": "634817e3",
   "metadata": {
    "execution": {
     "iopub.execute_input": "2024-11-04T16:53:38.262309Z",
     "iopub.status.busy": "2024-11-04T16:53:38.261038Z",
     "iopub.status.idle": "2024-11-04T16:53:38.271901Z",
     "shell.execute_reply": "2024-11-04T16:53:38.270721Z"
    },
    "papermill": {
     "duration": 0.023097,
     "end_time": "2024-11-04T16:53:38.274489",
     "exception": false,
     "start_time": "2024-11-04T16:53:38.251392",
     "status": "completed"
    },
    "tags": []
   },
   "outputs": [
    {
     "data": {
      "application/javascript": [
       "parent.postMessage({\"jupyterEvent\": \"custom.exercise_interaction\", \"data\": {\"interactionType\": 3, \"questionType\": 2, \"questionId\": \"3_GetWaterBill\", \"learnToolsVersion\": \"0.3.4\", \"valueTowardsCompletion\": 0.0, \"failureMessage\": \"\", \"exceptionClass\": \"\", \"trace\": \"\", \"outcomeType\": 4}}, \"*\")"
      ],
      "text/plain": [
       "<IPython.core.display.Javascript object>"
      ]
     },
     "metadata": {},
     "output_type": "display_data"
    },
    {
     "data": {
      "text/markdown": [
       "<span style=\"color:#33cc99\">Solution:</span> \n",
       "```python\n",
       "def get_water_bill(num_gallons):\n",
       "    if num_gallons <= 8000:\n",
       "        bill = 5 * num_gallons / 1000\n",
       "    elif num_gallons <= 22000:\n",
       "        bill = 6 * num_gallons / 1000\n",
       "    elif num_gallons <= 30000:\n",
       "        bill = 7 * num_gallons / 1000\n",
       "    else:\n",
       "        bill = 10 * num_gallons / 1000\n",
       "    return bill\n",
       "\n",
       "```"
      ],
      "text/plain": [
       "Solution: \n",
       "```python\n",
       "def get_water_bill(num_gallons):\n",
       "    if num_gallons <= 8000:\n",
       "        bill = 5 * num_gallons / 1000\n",
       "    elif num_gallons <= 22000:\n",
       "        bill = 6 * num_gallons / 1000\n",
       "    elif num_gallons <= 30000:\n",
       "        bill = 7 * num_gallons / 1000\n",
       "    else:\n",
       "        bill = 10 * num_gallons / 1000\n",
       "    return bill\n",
       "\n",
       "```"
      ]
     },
     "metadata": {},
     "output_type": "display_data"
    }
   ],
   "source": [
    "# Uncomment to see a hint\n",
    "#q3.hint()\n",
    "\n",
    "# Uncomment to see the solution\n",
    "q3.solution()"
   ]
  },
  {
   "cell_type": "markdown",
   "id": "45b43d90",
   "metadata": {
    "papermill": {
     "duration": 0.008715,
     "end_time": "2024-11-04T16:53:38.292343",
     "exception": false,
     "start_time": "2024-11-04T16:53:38.283628",
     "status": "completed"
    },
    "tags": []
   },
   "source": [
    "# Question 4\n",
    "\n",
    "You work for a company that provides data services.  For \\\\$100/month, your company provides 15 gigabytes (GB) of data.  Then, any additional data is billed at \\\\$0.10/MB (or \\\\$100/GB, since 1,000 MB are in 1 GB).\n",
    "\n",
    "Use the next code cell to write a function `get_phone_bill()` that takes as input:\n",
    "- `gb` = number of GB that the customer used in a month\n",
    "\n",
    "It should return the customer's total phone bill.\n",
    "\n",
    "For instance:\n",
    "- A customer who uses 10 GB of data in one month is billed only \\\\$100, since the usage stayed under 15 GB.  In other words, `get_phone_bill(10)` should return `100`.\n",
    "- A customer who uses 15.1 GB (or 15 GB + 100 MB) of data in one month has gone over by .1 GB, so they must pay \\\\$100 (cost of plan), plus \\\\$0.10 * 100 = \\\\$10, for a total bill of \\\\$110.  In other words, `get_phone_bill(15.1)` should return `110`.\n",
    "\n",
    "Do not round your answer."
   ]
  },
  {
   "cell_type": "code",
   "execution_count": 8,
   "id": "72f25df5",
   "metadata": {
    "execution": {
     "iopub.execute_input": "2024-11-04T16:53:38.312490Z",
     "iopub.status.busy": "2024-11-04T16:53:38.312044Z",
     "iopub.status.idle": "2024-11-04T16:53:38.326556Z",
     "shell.execute_reply": "2024-11-04T16:53:38.325462Z"
    },
    "papermill": {
     "duration": 0.027995,
     "end_time": "2024-11-04T16:53:38.328874",
     "exception": false,
     "start_time": "2024-11-04T16:53:38.300879",
     "status": "completed"
    },
    "tags": []
   },
   "outputs": [
    {
     "name": "stdout",
     "output_type": "stream",
     "text": [
      "100\n",
      "109.99999999999997\n",
      "600.0\n"
     ]
    },
    {
     "data": {
      "application/javascript": [
       "parent.postMessage({\"jupyterEvent\": \"custom.exercise_interaction\", \"data\": {\"outcomeType\": 1, \"valueTowardsCompletion\": 0.2, \"interactionType\": 1, \"questionType\": 2, \"questionId\": \"4_GetPhoneBill\", \"learnToolsVersion\": \"0.3.4\", \"failureMessage\": \"\", \"exceptionClass\": \"\", \"trace\": \"\"}}, \"*\")"
      ],
      "text/plain": [
       "<IPython.core.display.Javascript object>"
      ]
     },
     "metadata": {},
     "output_type": "display_data"
    },
    {
     "data": {
      "text/markdown": [
       "<span style=\"color:#33cc33\">Correct</span>"
      ],
      "text/plain": [
       "Correct"
      ]
     },
     "metadata": {},
     "output_type": "display_data"
    }
   ],
   "source": [
    "# TODO: Edit the function to return the correct bill for different\n",
    "# values of GB\n",
    "def get_phone_bill(gb):\n",
    "    # Base cost for the plan\n",
    "    base_cost = 100\n",
    "    # Allowed data in GB\n",
    "    allowed_data = 15\n",
    "    \n",
    "    if gb <= allowed_data:\n",
    "        return base_cost  # No additional charge\n",
    "    else:\n",
    "        # Calculate additional GB used\n",
    "        additional_gb = gb - allowed_data\n",
    "        # Convert additional GB to MB\n",
    "        additional_mb = additional_gb * 1000\n",
    "        # Calculate additional cost\n",
    "        additional_cost = additional_mb * 0.10\n",
    "        # Total bill\n",
    "        total_bill = base_cost + additional_cost\n",
    "        return total_bill\n",
    "\n",
    "# Test cases\n",
    "print(get_phone_bill(10))   # Should return 100\n",
    "print(get_phone_bill(15.1)) # Should return 110\n",
    "print(get_phone_bill(20))   # Should return 200\n",
    "\n",
    "# Check your answer\n",
    "q4.check()"
   ]
  },
  {
   "cell_type": "code",
   "execution_count": 9,
   "id": "57ddffe3",
   "metadata": {
    "execution": {
     "iopub.execute_input": "2024-11-04T16:53:38.348472Z",
     "iopub.status.busy": "2024-11-04T16:53:38.347998Z",
     "iopub.status.idle": "2024-11-04T16:53:38.357423Z",
     "shell.execute_reply": "2024-11-04T16:53:38.356158Z"
    },
    "papermill": {
     "duration": 0.021972,
     "end_time": "2024-11-04T16:53:38.359681",
     "exception": false,
     "start_time": "2024-11-04T16:53:38.337709",
     "status": "completed"
    },
    "tags": []
   },
   "outputs": [
    {
     "data": {
      "application/javascript": [
       "parent.postMessage({\"jupyterEvent\": \"custom.exercise_interaction\", \"data\": {\"interactionType\": 3, \"questionType\": 2, \"questionId\": \"4_GetPhoneBill\", \"learnToolsVersion\": \"0.3.4\", \"valueTowardsCompletion\": 0.0, \"failureMessage\": \"\", \"exceptionClass\": \"\", \"trace\": \"\", \"outcomeType\": 4}}, \"*\")"
      ],
      "text/plain": [
       "<IPython.core.display.Javascript object>"
      ]
     },
     "metadata": {},
     "output_type": "display_data"
    },
    {
     "data": {
      "text/markdown": [
       "<span style=\"color:#33cc99\">Solution:</span> \n",
       "```python\n",
       "def get_phone_bill(gb):\n",
       "    if gb <= 15:\n",
       "        bill = 100\n",
       "    else:\n",
       "        bill = 100 + (gb - 15) * 100\n",
       "    return bill\n",
       "\n",
       "```"
      ],
      "text/plain": [
       "Solution: \n",
       "```python\n",
       "def get_phone_bill(gb):\n",
       "    if gb <= 15:\n",
       "        bill = 100\n",
       "    else:\n",
       "        bill = 100 + (gb - 15) * 100\n",
       "    return bill\n",
       "\n",
       "```"
      ]
     },
     "metadata": {},
     "output_type": "display_data"
    }
   ],
   "source": [
    "# Uncomment to see a hint\n",
    "#q4.hint()\n",
    "\n",
    "# Uncomment to see the solution\n",
    "q4.solution()"
   ]
  },
  {
   "cell_type": "markdown",
   "id": "cf57d3c0",
   "metadata": {
    "papermill": {
     "duration": 0.0098,
     "end_time": "2024-11-04T16:53:38.379437",
     "exception": false,
     "start_time": "2024-11-04T16:53:38.369637",
     "status": "completed"
    },
    "tags": []
   },
   "source": [
    "# 🌶️ Question 5\n",
    "\n",
    "In Mexico, foods and beverages that are high in saturated fat, trans fat, sugar, sodium, and/or calories appear with warning labels that are designed to help consumers make healthy food choices.\n",
    "\n",
    "For instance, the [box of cookies](https://world.openfoodfacts.org/product/7501000673209/florentinas-gamesa) in the image below appears with two labels (in the upper right corner):\n",
    "- EXCESO CALORÍAS (in English, EXCESS CALORIES)\n",
    "- EXCESO AZÚCARES (in English, EXCESS SUGAR)\n",
    "\n",
    "<center><img src=\"https://storage.googleapis.com/kaggle-media/learn/images/VXYKHnM.png\" alt=\"drawing\" width=\"500\"/></center>\n",
    "\n",
    "In this question, you'll work with a function `get_labels()` that takes the nutritional details about a food item and prints the needed warning labels.  This function takes several inputs:\n",
    "- `food_type` = one of `\"solid\"` or `\"liquid\"`\n",
    "- `serving_size` = size of one serving (if solid, in grams; if liquid, in milliliters)\n",
    "- `calories_per_serving` = calories in one serving\n",
    "- `saturated_fat_g` = grams of saturated fat in one serving\n",
    "- `trans_fat_g` = grams of trans fat in one serving\n",
    "- `sodium_mg` = mg of sodium in one serving\n",
    "- `sugars_g` = grams of sugar in one serving\n",
    "\n",
    "Note that some of the code here should feel unfamiliar to you, since we have not shared the details of how some of the functions like `excess_sugar()` or `excess_saturated_fat()` work.  But at a high level, these are functions that return a value of `True` if the food is deemed to have an excess of sugar or saturated fat, respectively.  These functions are used within the `get_labels()` function, and whenever there is an excess (of sugar or saturated fat, but also of trans fat, sodium, or calories), it prints the corresponding label."
   ]
  },
  {
   "cell_type": "code",
   "execution_count": 10,
   "id": "a1ad7b86",
   "metadata": {
    "execution": {
     "iopub.execute_input": "2024-11-04T16:53:38.400595Z",
     "iopub.status.busy": "2024-11-04T16:53:38.400159Z",
     "iopub.status.idle": "2024-11-04T16:53:38.409075Z",
     "shell.execute_reply": "2024-11-04T16:53:38.407944Z"
    },
    "papermill": {
     "duration": 0.02229,
     "end_time": "2024-11-04T16:53:38.411740",
     "exception": false,
     "start_time": "2024-11-04T16:53:38.389450",
     "status": "completed"
    },
    "tags": []
   },
   "outputs": [],
   "source": [
    "# import functions needed to make get_labels work\n",
    "from learntools.intro_to_programming.ex4q5 import excess_sugar, excess_saturated_fat, excess_trans_fat, excess_sodium, excess_calories\n",
    "\n",
    "def get_labels(food_type, serving_size, calories_per_serving, saturated_fat_g, trans_fat_g, sodium_mg, sugars_g):\n",
    "    # Print messages based on findings\n",
    "    if excess_sugar(sugars_g, calories_per_serving) == True:\n",
    "        print(\"EXCESO AZÚCARES / EXCESS SUGAR\")\n",
    "    if excess_saturated_fat(saturated_fat_g, calories_per_serving) == True:\n",
    "        print(\"EXCESO GRASAS SATURADAS / EXCESS SATURATED FAT\")\n",
    "    if excess_trans_fat(trans_fat_g, calories_per_serving) == True:\n",
    "        print(\"EXCESO GRASAS TRANS / EXCESS TRANS FAT\")\n",
    "    if excess_sodium(calories_per_serving, sodium_mg) == True:\n",
    "        print(\"EXCESO SODIO / EXCESS SODIUM\")\n",
    "    if excess_calories(food_type, calories_per_serving, serving_size) == True:\n",
    "        print(\"EXCESO CALORÍAS / EXCESS CALORIES\")"
   ]
  },
  {
   "cell_type": "markdown",
   "id": "1fbd1eb2",
   "metadata": {
    "papermill": {
     "duration": 0.008619,
     "end_time": "2024-11-04T16:53:38.429453",
     "exception": false,
     "start_time": "2024-11-04T16:53:38.420834",
     "status": "completed"
    },
    "tags": []
   },
   "source": [
    "The next code cell demonstrates how to use `get_labels()` to get the warning labels that the food item should contain.  We begin with [bologna](https://world.openfoodfacts.org/product/4099100179378/bologna).  Here is [an image](https://storage.googleapis.com/kaggle-media/learn/images/Cfcx72e.png) with all of the nutritional information.  Note that for this food,\n",
    "- `food_type = \"solid\"` (because bologna is a solid and not a liquid)\n",
    "- `serving_size = 32` (the serving size is 32 grams)\n",
    "- `calories_per_serving = 110` (there are 110 calories per serving)\n",
    "- `saturated_fat_g = 2.5` (there are 2.5 grams of saturated fat per serving)\n",
    "- `trans_fat_g = 0` (there are 0 grams of trans fat per serving)\n",
    "- `sodium_mg = 400` (there are 400 mg of sodium per serving)\n",
    "- `sugars_g = 1` (the nutrition facts say <1g, but we will round it up to 1 gram per serving to be safe)\n",
    "\n",
    "By supplying all of these values to the function, we can print the warning labels."
   ]
  },
  {
   "cell_type": "code",
   "execution_count": 11,
   "id": "48a73af6",
   "metadata": {
    "execution": {
     "iopub.execute_input": "2024-11-04T16:53:38.450168Z",
     "iopub.status.busy": "2024-11-04T16:53:38.449134Z",
     "iopub.status.idle": "2024-11-04T16:53:38.455014Z",
     "shell.execute_reply": "2024-11-04T16:53:38.453955Z"
    },
    "papermill": {
     "duration": 0.019849,
     "end_time": "2024-11-04T16:53:38.458171",
     "exception": false,
     "start_time": "2024-11-04T16:53:38.438322",
     "status": "completed"
    },
    "tags": []
   },
   "outputs": [
    {
     "name": "stdout",
     "output_type": "stream",
     "text": [
      "EXCESO GRASAS SATURADAS / EXCESS SATURATED FAT\n",
      "EXCESO SODIO / EXCESS SODIUM\n",
      "EXCESO CALORÍAS / EXCESS CALORIES\n"
     ]
    }
   ],
   "source": [
    "# bologna https://world.openfoodfacts.org/product/4099100179378/bologna\n",
    "get_labels(\"solid\", 32, 110, 2.5, 0, 400, 1)"
   ]
  },
  {
   "cell_type": "markdown",
   "id": "d72a874c",
   "metadata": {
    "papermill": {
     "duration": 0.009266,
     "end_time": "2024-11-04T16:53:38.477558",
     "exception": false,
     "start_time": "2024-11-04T16:53:38.468292",
     "status": "completed"
    },
    "tags": []
   },
   "source": [
    "This bologna has three labels, printed in the output above.\n",
    "\n",
    "For the rest of this question, you will use the same `get_labels()` function to determine the labels for more foods.  This question is designed to help you get practice with feeling comfortable with code that other people have written, and where you don't have time to review every single line of code before interacting with it.  For instance, when you take the [Intro to Machine Learning course](http://www.kaggle.com/learn/intro-to-machine-learning), you'll work with a Python package called \"scikit-learn\", which is a large collection of code that you'll learn how to run without reviewing all of the code in detail (as it would take too long, and you can trust that it was implemented correctly).\n",
    "\n",
    "In general, as you continue coding in Python, you will often be running code that other people have written.  This is common practice for advanced programmers.\n",
    "\n",
    "In the next code cell, fill in the values for [this cereal](https://world.openfoodfacts.org/product/7501008023624/zucaritas-kellogg-s).  Here is [an image](https://storage.googleapis.com/kaggle-media/learn/images/MUxzHVU.png) with all of the nutritional information.\n",
    "\n",
    "**Note**: running the line of code below as-is will return an error.  You have to fill in the nutritional values first."
   ]
  },
  {
   "cell_type": "code",
   "execution_count": null,
   "id": "d33f2ed9",
   "metadata": {
    "papermill": {
     "duration": 0.008829,
     "end_time": "2024-11-04T16:53:38.495624",
     "exception": false,
     "start_time": "2024-11-04T16:53:38.486795",
     "status": "completed"
    },
    "tags": []
   },
   "outputs": [],
   "source": []
  },
  {
   "cell_type": "markdown",
   "id": "52a1919b",
   "metadata": {
    "papermill": {
     "duration": 0.009081,
     "end_time": "2024-11-04T16:53:38.513564",
     "exception": false,
     "start_time": "2024-11-04T16:53:38.504483",
     "status": "completed"
    },
    "tags": []
   },
   "source": [
    "Next, try [these mozzarella sticks](https://world-es.openfoodfacts.org/producto/0062325540104/mozzarella-cheese-sticks).  Here is [an image](https://storage.googleapis.com/kaggle-media/learn/images/rcdB7VH.png) with all of the nutritional information."
   ]
  },
  {
   "cell_type": "code",
   "execution_count": 12,
   "id": "4f3190ff",
   "metadata": {
    "execution": {
     "iopub.execute_input": "2024-11-04T16:53:38.534322Z",
     "iopub.status.busy": "2024-11-04T16:53:38.533873Z",
     "iopub.status.idle": "2024-11-04T16:53:38.545467Z",
     "shell.execute_reply": "2024-11-04T16:53:38.543939Z"
    },
    "papermill": {
     "duration": 0.024478,
     "end_time": "2024-11-04T16:53:38.547856",
     "exception": false,
     "start_time": "2024-11-04T16:53:38.523378",
     "status": "completed"
    },
    "tags": []
   },
   "outputs": [
    {
     "name": "stdout",
     "output_type": "stream",
     "text": [
      "Food Type: Solid\n",
      "Serving Size: 32 grams\n"
     ]
    }
   ],
   "source": [
    "# mozzarella sticks https://world-es.openfoodfacts.org/producto/0062325540104/mozzarella-cheese-sticks\n",
    "# TODO: Uncomment the line below, fill in the values, and run the function\n",
    "#get_labels()\n",
    "def excess_sugar(sugars_g):\n",
    "    return sugars_g > 10  # Example threshold\n",
    "\n",
    "def excess_saturated_fat(saturated_fat_g):\n",
    "    return saturated_fat_g > 5  # Example threshold\n",
    "\n",
    "def excess_trans_fat(trans_fat_g):\n",
    "    return trans_fat_g > 0.5  # Example threshold\n",
    "\n",
    "def excess_sodium(sodium_mg):\n",
    "    return sodium_mg > 2000  # Example threshold\n",
    "\n",
    "def excess_calories(calories_per_serving):\n",
    "    return calories_per_serving > 200  # Example threshold\n",
    "\n",
    "def get_labels(food_type, serving_size, calories_per_serving, saturated_fat_g, trans_fat_g, sodium_mg, sugars_g):\n",
    "    print(f\"Food Type: {food_type.capitalize()}\")\n",
    "    print(f\"Serving Size: {serving_size} {'grams' if food_type == 'solid' else 'milliliters'}\")\n",
    "    \n",
    "    if excess_sugar(sugars_g):\n",
    "        print(\"Warning: Excess Sugar\")\n",
    "    if excess_saturated_fat(saturated_fat_g):\n",
    "        print(\"Warning: Excess Saturated Fat\")\n",
    "    if excess_trans_fat(trans_fat_g):\n",
    "        print(\"Warning: Excess Trans Fat\")\n",
    "    if excess_sodium(sodium_mg):\n",
    "        print(\"Warning: Excess Sodium\")\n",
    "    if excess_calories(calories_per_serving):\n",
    "        print(\"Warning: Excess Calories\")\n",
    "\n",
    "# Example usage for bologna\n",
    "food_type = \"solid\"\n",
    "serving_size = 32  # grams\n",
    "calories_per_serving = 110\n",
    "saturated_fat_g = 2.5\n",
    "trans_fat_g = 0\n",
    "sodium_mg = 400\n",
    "sugars_g = 1\n",
    "\n",
    "get_labels(food_type, serving_size, calories_per_serving, saturated_fat_g, trans_fat_g, sodium_mg, sugars_g)\n"
   ]
  },
  {
   "cell_type": "markdown",
   "id": "76d79ac0",
   "metadata": {
    "papermill": {
     "duration": 0.009001,
     "end_time": "2024-11-04T16:53:38.566828",
     "exception": false,
     "start_time": "2024-11-04T16:53:38.557827",
     "status": "completed"
    },
    "tags": []
   },
   "source": [
    "Feel free to skip to the end of the notebook now and run `q5.check()` to complete the exercise.  If you want to try more foods, \n",
    "- try [these cookies](https://world.openfoodfacts.org/product/0069700118545/biscuits-au-sucre-pretraches).  Here is [an image](https://storage.googleapis.com/kaggle-media/learn/images/2Bc271o.png) with all of the nutritional information.\n",
    "- try [this soda](https://world-es.openfoodfacts.org/producto/0078000113464/orange-soda-sunkist).  Here is [an image](https://storage.googleapis.com/kaggle-media/learn/images/RsBYa8E.png) with all of the nutritional information.\n",
    "\n",
    "Use the two code cells below for this."
   ]
  },
  {
   "cell_type": "code",
   "execution_count": 13,
   "id": "9ddf751b",
   "metadata": {
    "execution": {
     "iopub.execute_input": "2024-11-04T16:53:38.586783Z",
     "iopub.status.busy": "2024-11-04T16:53:38.586374Z",
     "iopub.status.idle": "2024-11-04T16:53:38.591387Z",
     "shell.execute_reply": "2024-11-04T16:53:38.590119Z"
    },
    "papermill": {
     "duration": 0.018034,
     "end_time": "2024-11-04T16:53:38.593903",
     "exception": false,
     "start_time": "2024-11-04T16:53:38.575869",
     "status": "completed"
    },
    "tags": []
   },
   "outputs": [],
   "source": [
    "# pillsbury cookies https://world.openfoodfacts.org/product/0069700118545/biscuits-au-sucre-pretraches\n",
    "# TODO: Uncomment the line below, fill in the values, and run the function\n",
    "#get_labels()"
   ]
  },
  {
   "cell_type": "code",
   "execution_count": 14,
   "id": "d6697384",
   "metadata": {
    "execution": {
     "iopub.execute_input": "2024-11-04T16:53:38.613834Z",
     "iopub.status.busy": "2024-11-04T16:53:38.613416Z",
     "iopub.status.idle": "2024-11-04T16:53:38.618299Z",
     "shell.execute_reply": "2024-11-04T16:53:38.617162Z"
    },
    "papermill": {
     "duration": 0.017426,
     "end_time": "2024-11-04T16:53:38.620460",
     "exception": false,
     "start_time": "2024-11-04T16:53:38.603034",
     "status": "completed"
    },
    "tags": []
   },
   "outputs": [],
   "source": [
    "# sunkist orange soda https://world-es.openfoodfacts.org/producto/0078000113464/orange-soda-sunkist\n",
    "# TODO: Uncomment the line below, fill in the values, and run the function\n",
    "#get_labels()"
   ]
  },
  {
   "cell_type": "markdown",
   "id": "72be71ad",
   "metadata": {
    "papermill": {
     "duration": 0.008721,
     "end_time": "2024-11-04T16:53:38.638864",
     "exception": false,
     "start_time": "2024-11-04T16:53:38.630143",
     "status": "completed"
    },
    "tags": []
   },
   "source": [
    "Once you have finished investigating the food items in this question, run the final code cell to get credit for completing this problem."
   ]
  },
  {
   "cell_type": "code",
   "execution_count": 15,
   "id": "30917c34",
   "metadata": {
    "execution": {
     "iopub.execute_input": "2024-11-04T16:53:38.659185Z",
     "iopub.status.busy": "2024-11-04T16:53:38.658763Z",
     "iopub.status.idle": "2024-11-04T16:53:38.667330Z",
     "shell.execute_reply": "2024-11-04T16:53:38.666305Z"
    },
    "papermill": {
     "duration": 0.021929,
     "end_time": "2024-11-04T16:53:38.669659",
     "exception": false,
     "start_time": "2024-11-04T16:53:38.647730",
     "status": "completed"
    },
    "tags": []
   },
   "outputs": [
    {
     "data": {
      "application/javascript": [
       "parent.postMessage({\"jupyterEvent\": \"custom.exercise_interaction\", \"data\": {\"outcomeType\": 1, \"valueTowardsCompletion\": 0.2, \"interactionType\": 1, \"questionType\": 2, \"questionId\": \"5_GetLabels\", \"learnToolsVersion\": \"0.3.4\", \"failureMessage\": \"\", \"exceptionClass\": \"\", \"trace\": \"\"}}, \"*\")"
      ],
      "text/plain": [
       "<IPython.core.display.Javascript object>"
      ]
     },
     "metadata": {},
     "output_type": "display_data"
    },
    {
     "data": {
      "text/markdown": [
       "<span style=\"color:#33cc33\">Once you have determined the labels for all of the food items, you're ready to move on to the next lesson!</span>"
      ],
      "text/plain": [
       "Once you have determined the labels for all of the food items, you're ready to move on to the next lesson!"
      ]
     },
     "metadata": {},
     "output_type": "display_data"
    }
   ],
   "source": [
    "# Get credit for completing the problem\n",
    "q5.check()"
   ]
  },
  {
   "cell_type": "markdown",
   "id": "bebcbfb5",
   "metadata": {
    "papermill": {
     "duration": 0.009851,
     "end_time": "2024-11-04T16:53:38.688972",
     "exception": false,
     "start_time": "2024-11-04T16:53:38.679121",
     "status": "completed"
    },
    "tags": []
   },
   "source": [
    "# Keep going\n",
    "\n",
    "Continue to the next lesson to **[learn about Python lists](https://www.kaggle.com/alexisbcook/intro-to-lists)**."
   ]
  },
  {
   "cell_type": "code",
   "execution_count": null,
   "id": "1801b7af",
   "metadata": {
    "papermill": {
     "duration": 0.009461,
     "end_time": "2024-11-04T16:53:38.707777",
     "exception": false,
     "start_time": "2024-11-04T16:53:38.698316",
     "status": "completed"
    },
    "tags": []
   },
   "outputs": [],
   "source": []
  }
 ],
 "metadata": {
  "kaggle": {
   "accelerator": "none",
   "dataSources": [],
   "isGpuEnabled": false,
   "isInternetEnabled": false,
   "language": "python",
   "sourceType": "notebook"
  },
  "kernelspec": {
   "display_name": "Python 3",
   "language": "python",
   "name": "python3"
  },
  "language_info": {
   "codemirror_mode": {
    "name": "ipython",
    "version": 3
   },
   "file_extension": ".py",
   "mimetype": "text/x-python",
   "name": "python",
   "nbconvert_exporter": "python",
   "pygments_lexer": "ipython3",
   "version": "3.10.14"
  },
  "papermill": {
   "default_parameters": {},
   "duration": 5.82318,
   "end_time": "2024-11-04T16:53:39.238700",
   "environment_variables": {},
   "exception": null,
   "input_path": "__notebook__.ipynb",
   "output_path": "__notebook__.ipynb",
   "parameters": {},
   "start_time": "2024-11-04T16:53:33.415520",
   "version": "2.6.0"
  }
 },
 "nbformat": 4,
 "nbformat_minor": 5
}

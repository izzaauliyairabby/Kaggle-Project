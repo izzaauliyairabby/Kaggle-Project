{
 "cells": [
  {
   "cell_type": "markdown",
   "id": "74c1d6ae",
   "metadata": {
    "papermill": {
     "duration": 0.007351,
     "end_time": "2024-11-04T09:54:02.935467",
     "exception": false,
     "start_time": "2024-11-04T09:54:02.928116",
     "status": "completed"
    },
    "tags": []
   },
   "source": [
    "**This notebook is an exercise in the [Intro to Programming](https://www.kaggle.com/learn/intro-to-programming) course.  You can reference the tutorial at [this link](https://www.kaggle.com/alexisbcook/conditions-and-conditional-statements).**\n",
    "\n",
    "---\n"
   ]
  },
  {
   "cell_type": "markdown",
   "id": "d50a827a",
   "metadata": {
    "papermill": {
     "duration": 0.006252,
     "end_time": "2024-11-04T09:54:02.948665",
     "exception": false,
     "start_time": "2024-11-04T09:54:02.942413",
     "status": "completed"
    },
    "tags": []
   },
   "source": [
    "In the tutorial, you learned about conditions and conditional statements. In this exercise, you will use what you learned to answer several questions.\n",
    "\n",
    "# Set up the notebook\n",
    "\n",
    "Run the next code cell without changes to set up the notebook."
   ]
  },
  {
   "cell_type": "code",
   "execution_count": 1,
   "id": "337a73b9",
   "metadata": {
    "execution": {
     "iopub.execute_input": "2024-11-04T09:54:02.963650Z",
     "iopub.status.busy": "2024-11-04T09:54:02.963209Z",
     "iopub.status.idle": "2024-11-04T09:54:03.973886Z",
     "shell.execute_reply": "2024-11-04T09:54:03.972713Z"
    },
    "papermill": {
     "duration": 1.021221,
     "end_time": "2024-11-04T09:54:03.976399",
     "exception": false,
     "start_time": "2024-11-04T09:54:02.955178",
     "status": "completed"
    },
    "tags": []
   },
   "outputs": [
    {
     "name": "stdout",
     "output_type": "stream",
     "text": [
      "Setup complete.\n"
     ]
    }
   ],
   "source": [
    "from learntools.core import binder\n",
    "binder.bind(globals())\n",
    "from learntools.intro_to_programming.ex4 import *\n",
    "print('Setup complete.')"
   ]
  },
  {
   "cell_type": "markdown",
   "id": "3cbb3364",
   "metadata": {
    "papermill": {
     "duration": 0.006695,
     "end_time": "2024-11-04T09:54:03.990248",
     "exception": false,
     "start_time": "2024-11-04T09:54:03.983553",
     "status": "completed"
    },
    "tags": []
   },
   "source": [
    "# Question 1\n",
    "\n",
    "You work at a college admissions office.  When inspecting a dataset of college applicants, you notice that some students have represented their grades with letters (`\"A\"`, `\"B\"`, `\"C\"`, `\"D\"`, `\"F\"`), whereas others have represented their grades with a number between 0 and 100.\n",
    "\n",
    "You realize that for consistency, all of the grades should be formatted in the same way, and you decide to format them all as letters.  For the conversion, you decide to assign:\n",
    "- `\"A\"` - any grade 90-100, inclusive\n",
    "- `\"B\"` - any grade 80-89, inclusive\n",
    "- `\"C\"` - any grade 70-79, inclusive\n",
    "- `\"D\"` - any grade 60-69, inclusive\n",
    "- `\"F\"` - any grade <60\n",
    "\n",
    "Write a function `get_grade()` that takes as input:\n",
    "- `score` - an integer 0-100 corresponding to a numerical grade\n",
    "\n",
    "It should return a Python string with the letter grade that it corresponds to.  For instance,\n",
    "- A score of 85 corresponds to a B grade.  In other words, `get_grade(85)` should return `\"B\"`.\n",
    "- A score of 49 corresponds to an F grade.  In other words, `get_grade(49)` should return `\"F\"`.\n",
    "\n",
    "Make sure that when supplying the grade that is returned by the function, it is enclosed in quotes.  (For instance, if you want to return `\"A\"`, you should write `return \"A\"` and not `return A`.)"
   ]
  },
  {
   "cell_type": "code",
   "execution_count": 2,
   "id": "64b3eb38",
   "metadata": {
    "execution": {
     "iopub.execute_input": "2024-11-04T09:54:04.006136Z",
     "iopub.status.busy": "2024-11-04T09:54:04.004903Z",
     "iopub.status.idle": "2024-11-04T09:54:04.017107Z",
     "shell.execute_reply": "2024-11-04T09:54:04.015711Z"
    },
    "papermill": {
     "duration": 0.023037,
     "end_time": "2024-11-04T09:54:04.019952",
     "exception": false,
     "start_time": "2024-11-04T09:54:03.996915",
     "status": "completed"
    },
    "tags": []
   },
   "outputs": [
    {
     "data": {
      "application/javascript": [
       "parent.postMessage({\"jupyterEvent\": \"custom.exercise_interaction\", \"data\": {\"outcomeType\": 2, \"failureMessage\": \"Expected return value of `'D'` given `score=60`, but got `'F'` instead.\", \"interactionType\": 1, \"questionType\": 2, \"questionId\": \"1_GetGrade\", \"learnToolsVersion\": \"0.3.4\", \"valueTowardsCompletion\": 0.0, \"exceptionClass\": \"\", \"trace\": \"\"}}, \"*\")"
      ],
      "text/plain": [
       "<IPython.core.display.Javascript object>"
      ]
     },
     "metadata": {},
     "output_type": "display_data"
    },
    {
     "data": {
      "text/markdown": [
       "<span style=\"color:#cc3333\">Incorrect:</span> Expected return value of `'D'` given `score=60`, but got `'F'` instead."
      ],
      "text/plain": [
       "Incorrect: Expected return value of `'D'` given `score=60`, but got `'F'` instead."
      ]
     },
     "metadata": {},
     "output_type": "display_data"
    }
   ],
   "source": [
    "# TODO: Edit the function to return the correct grade for different scores\n",
    "def get_grade(score): \n",
    "    grade = \"F\"\n",
    "    return grade\n",
    "    \n",
    "# Check your answer\n",
    "q1.check()"
   ]
  },
  {
   "cell_type": "code",
   "execution_count": 3,
   "id": "47278d46",
   "metadata": {
    "execution": {
     "iopub.execute_input": "2024-11-04T09:54:04.037534Z",
     "iopub.status.busy": "2024-11-04T09:54:04.037148Z",
     "iopub.status.idle": "2024-11-04T09:54:04.042192Z",
     "shell.execute_reply": "2024-11-04T09:54:04.040706Z"
    },
    "papermill": {
     "duration": 0.016115,
     "end_time": "2024-11-04T09:54:04.044744",
     "exception": false,
     "start_time": "2024-11-04T09:54:04.028629",
     "status": "completed"
    },
    "tags": []
   },
   "outputs": [],
   "source": [
    "# Uncomment to see a hint\n",
    "#q1.hint()\n",
    "\n",
    "# Uncomment to see the solution\n",
    "#q1.solution()"
   ]
  },
  {
   "cell_type": "markdown",
   "id": "b6e62876",
   "metadata": {
    "papermill": {
     "duration": 0.007169,
     "end_time": "2024-11-04T09:54:04.059133",
     "exception": false,
     "start_time": "2024-11-04T09:54:04.051964",
     "status": "completed"
    },
    "tags": []
   },
   "source": [
    "# Question 2\n",
    "\n",
    "In the exercise for the previous lesson, you wrote a function `cost_of_project()` that estimated the price of rings for an online shop that sells rings with custom engravings.  This function did not use conditional statements.  In this exercise, you will rewrite the function to use conditional statements.  Recall that the online shop has the following price structure:\n",
    "- Gold plated rings have a base cost of \\\\$50, and you charge \\\\$7 per engraved unit.  \n",
    "- Solid gold rings have a base cost of \\\\$100, and you charge \\\\$10 per engraved unit.\n",
    "- Spaces and punctuation are counted as engraved units.\n",
    "\n",
    "Your function `cost_of_project()` takes two arguments:\n",
    "- `engraving` - a Python string with the text of the engraving\n",
    "- `solid_gold` - a Boolean that indicates whether the ring is solid gold\n",
    "\n",
    "It should return the cost of the project.  \n",
    "\n",
    "The function has been partially completed for you, and you need to fill in the blanks to complete the function."
   ]
  },
  {
   "cell_type": "code",
   "execution_count": 4,
   "id": "222adf8e",
   "metadata": {
    "execution": {
     "iopub.execute_input": "2024-11-04T09:54:04.075337Z",
     "iopub.status.busy": "2024-11-04T09:54:04.074939Z",
     "iopub.status.idle": "2024-11-04T09:54:04.085461Z",
     "shell.execute_reply": "2024-11-04T09:54:04.084159Z"
    },
    "papermill": {
     "duration": 0.021315,
     "end_time": "2024-11-04T09:54:04.087699",
     "exception": false,
     "start_time": "2024-11-04T09:54:04.066384",
     "status": "completed"
    },
    "tags": []
   },
   "outputs": [
    {
     "data": {
      "application/javascript": [
       "parent.postMessage({\"jupyterEvent\": \"custom.exercise_interaction\", \"data\": {\"outcomeType\": 1, \"valueTowardsCompletion\": 0.2, \"interactionType\": 1, \"questionType\": 2, \"questionId\": \"2_CostProjectPartDeux\", \"learnToolsVersion\": \"0.3.4\", \"failureMessage\": \"\", \"exceptionClass\": \"\", \"trace\": \"\"}}, \"*\")"
      ],
      "text/plain": [
       "<IPython.core.display.Javascript object>"
      ]
     },
     "metadata": {},
     "output_type": "display_data"
    },
    {
     "data": {
      "text/markdown": [
       "<span style=\"color:#33cc33\">Correct</span>"
      ],
      "text/plain": [
       "Correct"
      ]
     },
     "metadata": {},
     "output_type": "display_data"
    }
   ],
   "source": [
    "# option 1\n",
    "def cost_of_project(engraving, solid_gold):\n",
    "    num_units = len(engraving)\n",
    "    if solid_gold == True:\n",
    "        cost = 100 + 10 * num_units\n",
    "    else:\n",
    "        cost = 50 + 7 * num_units\n",
    "    return cost\n",
    "\n",
    "# Check your answer\n",
    "q2.check()"
   ]
  },
  {
   "cell_type": "code",
   "execution_count": 5,
   "id": "89e364e6",
   "metadata": {
    "execution": {
     "iopub.execute_input": "2024-11-04T09:54:04.105617Z",
     "iopub.status.busy": "2024-11-04T09:54:04.104709Z",
     "iopub.status.idle": "2024-11-04T09:54:04.115166Z",
     "shell.execute_reply": "2024-11-04T09:54:04.113985Z"
    },
    "papermill": {
     "duration": 0.022589,
     "end_time": "2024-11-04T09:54:04.118406",
     "exception": false,
     "start_time": "2024-11-04T09:54:04.095817",
     "status": "completed"
    },
    "tags": []
   },
   "outputs": [
    {
     "data": {
      "application/javascript": [
       "parent.postMessage({\"jupyterEvent\": \"custom.exercise_interaction\", \"data\": {\"interactionType\": 3, \"questionType\": 2, \"questionId\": \"2_CostProjectPartDeux\", \"learnToolsVersion\": \"0.3.4\", \"valueTowardsCompletion\": 0.0, \"failureMessage\": \"\", \"exceptionClass\": \"\", \"trace\": \"\", \"outcomeType\": 4}}, \"*\")"
      ],
      "text/plain": [
       "<IPython.core.display.Javascript object>"
      ]
     },
     "metadata": {},
     "output_type": "display_data"
    },
    {
     "data": {
      "text/markdown": [
       "<span style=\"color:#33cc99\">Solution:</span> \n",
       "```python\n",
       "# option 1\n",
       "def cost_of_project(engraving, solid_gold):\n",
       "    num_units = len(engraving)\n",
       "    if solid_gold == True:\n",
       "        cost = 100 + 10 * num_units\n",
       "    else:\n",
       "        cost = 50 + 7 * num_units\n",
       "    return cost\n",
       "    \n",
       "# option 2 \n",
       "def cost_of_project(engraving, solid_gold):\n",
       "    if solid_gold == True:\n",
       "        cost = 100 + 10 * len(engraving)\n",
       "    else:\n",
       "        cost = 50 + 7 * len(engraving)\n",
       "    return cost\n",
       "\n",
       "```"
      ],
      "text/plain": [
       "Solution: \n",
       "```python\n",
       "# option 1\n",
       "def cost_of_project(engraving, solid_gold):\n",
       "    num_units = len(engraving)\n",
       "    if solid_gold == True:\n",
       "        cost = 100 + 10 * num_units\n",
       "    else:\n",
       "        cost = 50 + 7 * num_units\n",
       "    return cost\n",
       "    \n",
       "# option 2 \n",
       "def cost_of_project(engraving, solid_gold):\n",
       "    if solid_gold == True:\n",
       "        cost = 100 + 10 * len(engraving)\n",
       "    else:\n",
       "        cost = 50 + 7 * len(engraving)\n",
       "    return cost\n",
       "\n",
       "```"
      ]
     },
     "metadata": {},
     "output_type": "display_data"
    }
   ],
   "source": [
    "# Uncomment to see a hint\n",
    "#q2.hint()\n",
    "\n",
    "# Uncomment to see the solution\n",
    "q2.solution()"
   ]
  },
  {
   "cell_type": "markdown",
   "id": "8510c886",
   "metadata": {
    "papermill": {
     "duration": 0.007924,
     "end_time": "2024-11-04T09:54:04.135015",
     "exception": false,
     "start_time": "2024-11-04T09:54:04.127091",
     "status": "completed"
    },
    "tags": []
   },
   "source": [
    "# Question 3\n",
    "\n",
    "You are a programmer at a water agency.  Recently, you have been tasked to write a function `get_water_bill()` that takes as input:\n",
    "- `num_gallons` = the number of gallons of water that a customer used that month.  (This will always be an integer with no decimal part.)\n",
    "\n",
    "It should output the water bill.  \n",
    "\n",
    "The water agency uses this pricing structure:\n",
    "<table style=\"width: 100%;\">\n",
    "<tbody>\n",
    "<tr><th><b>Tier</b></th><th><b>Amount in gallons</b></th><th><b>Price per 1000 gallons</b></th></tr>\n",
    "<tr>\n",
    "<td>Tier 1</td>\n",
    "<td>0 - 8,000</td>\n",
    "<td>\\$5</td>\n",
    "</tr>\n",
    "<tr>\n",
    "<td>Tier 2</td>\n",
    "<td>8,001 - 22,000</td>\n",
    "<td>\\$6</td>\n",
    "</tr>\n",
    "<tr>\n",
    "<td>Tier 3</td>\n",
    "<td>22,001 - 30,000</td>\n",
    "<td>\\$7</td>\n",
    "</tr>\n",
    "<tr>\n",
    "<td>Tier 4</td>\n",
    "<td>30,001+</td>\n",
    "<td>\\$10</td>\n",
    "</tr>\n",
    "</tbody>\n",
    "</table>\n",
    "\n",
    "For example: \n",
    "- Someone who uses 10,000 gallons of water in a month is placed in Tier 2, and needs to pay a water bill of \\\\$6 * 10 = \\\\$60.  In other words, `get_water_bill(10000)` should return `60.0`.\n",
    "- Someone who uses 25,000 gallons of water in a month is placed in Tier 3, and needs to pay a water bill of \\\\$7 * 25 = \\\\$175.  In other words, `get_water_bill(25000)` should return `175.0`.\n",
    "\n",
    "**Do not round your answer.**  So, your answer might return fractions of a penny."
   ]
  },
  {
   "cell_type": "code",
   "execution_count": 6,
   "id": "40b724c4",
   "metadata": {
    "execution": {
     "iopub.execute_input": "2024-11-04T09:54:04.153572Z",
     "iopub.status.busy": "2024-11-04T09:54:04.153180Z",
     "iopub.status.idle": "2024-11-04T09:54:04.164967Z",
     "shell.execute_reply": "2024-11-04T09:54:04.163474Z"
    },
    "papermill": {
     "duration": 0.024162,
     "end_time": "2024-11-04T09:54:04.167524",
     "exception": false,
     "start_time": "2024-11-04T09:54:04.143362",
     "status": "completed"
    },
    "tags": []
   },
   "outputs": [
    {
     "data": {
      "application/javascript": [
       "parent.postMessage({\"jupyterEvent\": \"custom.exercise_interaction\", \"data\": {\"outcomeType\": 1, \"valueTowardsCompletion\": 0.2, \"interactionType\": 1, \"questionType\": 2, \"questionId\": \"3_GetWaterBill\", \"learnToolsVersion\": \"0.3.4\", \"failureMessage\": \"\", \"exceptionClass\": \"\", \"trace\": \"\"}}, \"*\")"
      ],
      "text/plain": [
       "<IPython.core.display.Javascript object>"
      ]
     },
     "metadata": {},
     "output_type": "display_data"
    },
    {
     "data": {
      "text/markdown": [
       "<span style=\"color:#33cc33\">Correct</span>"
      ],
      "text/plain": [
       "Correct"
      ]
     },
     "metadata": {},
     "output_type": "display_data"
    }
   ],
   "source": [
    "# TODO: Edit the function to return the correct bill for different\n",
    "# values of num_gallons\n",
    "def get_water_bill(num_gallons):\n",
    "    if num_gallons <= 8000:\n",
    "        bill = 5 * num_gallons / 1000\n",
    "    elif num_gallons <= 22000:\n",
    "        bill = 6 * num_gallons / 1000\n",
    "    elif num_gallons <= 30000:\n",
    "        bill = 7 * num_gallons / 1000\n",
    "    else:\n",
    "        bill = 10 * num_gallons / 1000\n",
    "    return bill\n",
    "\n",
    "# Check your answer\n",
    "q3.check()"
   ]
  },
  {
   "cell_type": "code",
   "execution_count": 7,
   "id": "ebf99e5f",
   "metadata": {
    "execution": {
     "iopub.execute_input": "2024-11-04T09:54:04.188527Z",
     "iopub.status.busy": "2024-11-04T09:54:04.188016Z",
     "iopub.status.idle": "2024-11-04T09:54:04.198982Z",
     "shell.execute_reply": "2024-11-04T09:54:04.197564Z"
    },
    "papermill": {
     "duration": 0.024456,
     "end_time": "2024-11-04T09:54:04.201387",
     "exception": false,
     "start_time": "2024-11-04T09:54:04.176931",
     "status": "completed"
    },
    "tags": []
   },
   "outputs": [
    {
     "data": {
      "application/javascript": [
       "parent.postMessage({\"jupyterEvent\": \"custom.exercise_interaction\", \"data\": {\"interactionType\": 3, \"questionType\": 2, \"questionId\": \"3_GetWaterBill\", \"learnToolsVersion\": \"0.3.4\", \"valueTowardsCompletion\": 0.0, \"failureMessage\": \"\", \"exceptionClass\": \"\", \"trace\": \"\", \"outcomeType\": 4}}, \"*\")"
      ],
      "text/plain": [
       "<IPython.core.display.Javascript object>"
      ]
     },
     "metadata": {},
     "output_type": "display_data"
    },
    {
     "data": {
      "text/markdown": [
       "<span style=\"color:#33cc99\">Solution:</span> \n",
       "```python\n",
       "def get_water_bill(num_gallons):\n",
       "    if num_gallons <= 8000:\n",
       "        bill = 5 * num_gallons / 1000\n",
       "    elif num_gallons <= 22000:\n",
       "        bill = 6 * num_gallons / 1000\n",
       "    elif num_gallons <= 30000:\n",
       "        bill = 7 * num_gallons / 1000\n",
       "    else:\n",
       "        bill = 10 * num_gallons / 1000\n",
       "    return bill\n",
       "\n",
       "```"
      ],
      "text/plain": [
       "Solution: \n",
       "```python\n",
       "def get_water_bill(num_gallons):\n",
       "    if num_gallons <= 8000:\n",
       "        bill = 5 * num_gallons / 1000\n",
       "    elif num_gallons <= 22000:\n",
       "        bill = 6 * num_gallons / 1000\n",
       "    elif num_gallons <= 30000:\n",
       "        bill = 7 * num_gallons / 1000\n",
       "    else:\n",
       "        bill = 10 * num_gallons / 1000\n",
       "    return bill\n",
       "\n",
       "```"
      ]
     },
     "metadata": {},
     "output_type": "display_data"
    }
   ],
   "source": [
    "# Uncomment to see a hint\n",
    "#q3.hint()\n",
    "\n",
    "# Uncomment to see the solution\n",
    "q3.solution()"
   ]
  },
  {
   "cell_type": "markdown",
   "id": "f284b38a",
   "metadata": {
    "papermill": {
     "duration": 0.008339,
     "end_time": "2024-11-04T09:54:04.218504",
     "exception": false,
     "start_time": "2024-11-04T09:54:04.210165",
     "status": "completed"
    },
    "tags": []
   },
   "source": [
    "# Question 4\n",
    "\n",
    "You work for a company that provides data services.  For \\\\$100/month, your company provides 15 gigabytes (GB) of data.  Then, any additional data is billed at \\\\$0.10/MB (or \\\\$100/GB, since 1,000 MB are in 1 GB).\n",
    "\n",
    "Use the next code cell to write a function `get_phone_bill()` that takes as input:\n",
    "- `gb` = number of GB that the customer used in a month\n",
    "\n",
    "It should return the customer's total phone bill.\n",
    "\n",
    "For instance:\n",
    "- A customer who uses 10 GB of data in one month is billed only \\\\$100, since the usage stayed under 15 GB.  In other words, `get_phone_bill(10)` should return `100`.\n",
    "- A customer who uses 15.1 GB (or 15 GB + 100 MB) of data in one month has gone over by .1 GB, so they must pay \\\\$100 (cost of plan), plus \\\\$0.10 * 100 = \\\\$10, for a total bill of \\\\$110.  In other words, `get_phone_bill(15.1)` should return `110`.\n",
    "\n",
    "Do not round your answer."
   ]
  },
  {
   "cell_type": "code",
   "execution_count": 8,
   "id": "9a01313f",
   "metadata": {
    "execution": {
     "iopub.execute_input": "2024-11-04T09:54:04.237456Z",
     "iopub.status.busy": "2024-11-04T09:54:04.237034Z",
     "iopub.status.idle": "2024-11-04T09:54:04.252470Z",
     "shell.execute_reply": "2024-11-04T09:54:04.250949Z"
    },
    "papermill": {
     "duration": 0.028308,
     "end_time": "2024-11-04T09:54:04.255357",
     "exception": false,
     "start_time": "2024-11-04T09:54:04.227049",
     "status": "completed"
    },
    "tags": []
   },
   "outputs": [
    {
     "name": "stdout",
     "output_type": "stream",
     "text": [
      "100\n",
      "109.99999999999997\n",
      "600.0\n"
     ]
    },
    {
     "data": {
      "application/javascript": [
       "parent.postMessage({\"jupyterEvent\": \"custom.exercise_interaction\", \"data\": {\"outcomeType\": 1, \"valueTowardsCompletion\": 0.2, \"interactionType\": 1, \"questionType\": 2, \"questionId\": \"4_GetPhoneBill\", \"learnToolsVersion\": \"0.3.4\", \"failureMessage\": \"\", \"exceptionClass\": \"\", \"trace\": \"\"}}, \"*\")"
      ],
      "text/plain": [
       "<IPython.core.display.Javascript object>"
      ]
     },
     "metadata": {},
     "output_type": "display_data"
    },
    {
     "data": {
      "text/markdown": [
       "<span style=\"color:#33cc33\">Correct</span>"
      ],
      "text/plain": [
       "Correct"
      ]
     },
     "metadata": {},
     "output_type": "display_data"
    }
   ],
   "source": [
    "# TODO: Edit the function to return the correct bill for different\n",
    "# values of GB\n",
    "def get_phone_bill(gb):\n",
    "    # Base cost for the plan\n",
    "    base_cost = 100\n",
    "    # Allowed data in GB\n",
    "    allowed_data = 15\n",
    "    \n",
    "    if gb <= allowed_data:\n",
    "        return base_cost  # No additional charge\n",
    "    else:\n",
    "        # Calculate additional GB used\n",
    "        additional_gb = gb - allowed_data\n",
    "        # Convert additional GB to MB\n",
    "        additional_mb = additional_gb * 1000\n",
    "        # Calculate additional cost\n",
    "        additional_cost = additional_mb * 0.10\n",
    "        # Total bill\n",
    "        total_bill = base_cost + additional_cost\n",
    "        return total_bill\n",
    "\n",
    "# Test cases\n",
    "print(get_phone_bill(10))   # Should return 100\n",
    "print(get_phone_bill(15.1)) # Should return 110\n",
    "print(get_phone_bill(20))   # Should return 200\n",
    "\n",
    "# Check your answer\n",
    "q4.check()"
   ]
  },
  {
   "cell_type": "code",
   "execution_count": 9,
   "id": "4afd0839",
   "metadata": {
    "execution": {
     "iopub.execute_input": "2024-11-04T09:54:04.277461Z",
     "iopub.status.busy": "2024-11-04T09:54:04.277044Z",
     "iopub.status.idle": "2024-11-04T09:54:04.287944Z",
     "shell.execute_reply": "2024-11-04T09:54:04.286665Z"
    },
    "papermill": {
     "duration": 0.024451,
     "end_time": "2024-11-04T09:54:04.290484",
     "exception": false,
     "start_time": "2024-11-04T09:54:04.266033",
     "status": "completed"
    },
    "tags": []
   },
   "outputs": [
    {
     "data": {
      "application/javascript": [
       "parent.postMessage({\"jupyterEvent\": \"custom.exercise_interaction\", \"data\": {\"interactionType\": 3, \"questionType\": 2, \"questionId\": \"4_GetPhoneBill\", \"learnToolsVersion\": \"0.3.4\", \"valueTowardsCompletion\": 0.0, \"failureMessage\": \"\", \"exceptionClass\": \"\", \"trace\": \"\", \"outcomeType\": 4}}, \"*\")"
      ],
      "text/plain": [
       "<IPython.core.display.Javascript object>"
      ]
     },
     "metadata": {},
     "output_type": "display_data"
    },
    {
     "data": {
      "text/markdown": [
       "<span style=\"color:#33cc99\">Solution:</span> \n",
       "```python\n",
       "def get_phone_bill(gb):\n",
       "    if gb <= 15:\n",
       "        bill = 100\n",
       "    else:\n",
       "        bill = 100 + (gb - 15) * 100\n",
       "    return bill\n",
       "\n",
       "```"
      ],
      "text/plain": [
       "Solution: \n",
       "```python\n",
       "def get_phone_bill(gb):\n",
       "    if gb <= 15:\n",
       "        bill = 100\n",
       "    else:\n",
       "        bill = 100 + (gb - 15) * 100\n",
       "    return bill\n",
       "\n",
       "```"
      ]
     },
     "metadata": {},
     "output_type": "display_data"
    }
   ],
   "source": [
    "# Uncomment to see a hint\n",
    "#q4.hint()\n",
    "\n",
    "# Uncomment to see the solution\n",
    "q4.solution()"
   ]
  },
  {
   "cell_type": "markdown",
   "id": "57a041bc",
   "metadata": {
    "papermill": {
     "duration": 0.010635,
     "end_time": "2024-11-04T09:54:04.310525",
     "exception": false,
     "start_time": "2024-11-04T09:54:04.299890",
     "status": "completed"
    },
    "tags": []
   },
   "source": [
    "# 🌶️ Question 5\n",
    "\n",
    "In Mexico, foods and beverages that are high in saturated fat, trans fat, sugar, sodium, and/or calories appear with warning labels that are designed to help consumers make healthy food choices.\n",
    "\n",
    "For instance, the [box of cookies](https://world.openfoodfacts.org/product/7501000673209/florentinas-gamesa) in the image below appears with two labels (in the upper right corner):\n",
    "- EXCESO CALORÍAS (in English, EXCESS CALORIES)\n",
    "- EXCESO AZÚCARES (in English, EXCESS SUGAR)\n",
    "\n",
    "<center><img src=\"https://storage.googleapis.com/kaggle-media/learn/images/VXYKHnM.png\" alt=\"drawing\" width=\"500\"/></center>\n",
    "\n",
    "In this question, you'll work with a function `get_labels()` that takes the nutritional details about a food item and prints the needed warning labels.  This function takes several inputs:\n",
    "- `food_type` = one of `\"solid\"` or `\"liquid\"`\n",
    "- `serving_size` = size of one serving (if solid, in grams; if liquid, in milliliters)\n",
    "- `calories_per_serving` = calories in one serving\n",
    "- `saturated_fat_g` = grams of saturated fat in one serving\n",
    "- `trans_fat_g` = grams of trans fat in one serving\n",
    "- `sodium_mg` = mg of sodium in one serving\n",
    "- `sugars_g` = grams of sugar in one serving\n",
    "\n",
    "Note that some of the code here should feel unfamiliar to you, since we have not shared the details of how some of the functions like `excess_sugar()` or `excess_saturated_fat()` work.  But at a high level, these are functions that return a value of `True` if the food is deemed to have an excess of sugar or saturated fat, respectively.  These functions are used within the `get_labels()` function, and whenever there is an excess (of sugar or saturated fat, but also of trans fat, sodium, or calories), it prints the corresponding label."
   ]
  },
  {
   "cell_type": "code",
   "execution_count": 10,
   "id": "6be2ac86",
   "metadata": {
    "execution": {
     "iopub.execute_input": "2024-11-04T09:54:04.332936Z",
     "iopub.status.busy": "2024-11-04T09:54:04.332488Z",
     "iopub.status.idle": "2024-11-04T09:54:04.345069Z",
     "shell.execute_reply": "2024-11-04T09:54:04.343274Z"
    },
    "papermill": {
     "duration": 0.02677,
     "end_time": "2024-11-04T09:54:04.347994",
     "exception": false,
     "start_time": "2024-11-04T09:54:04.321224",
     "status": "completed"
    },
    "tags": []
   },
   "outputs": [],
   "source": [
    "# import functions needed to make get_labels work\n",
    "from learntools.intro_to_programming.ex4q5 import excess_sugar, excess_saturated_fat, excess_trans_fat, excess_sodium, excess_calories\n",
    "\n",
    "def get_labels(food_type, serving_size, calories_per_serving, saturated_fat_g, trans_fat_g, sodium_mg, sugars_g):\n",
    "    # Print messages based on findings\n",
    "    if excess_sugar(sugars_g, calories_per_serving) == True:\n",
    "        print(\"EXCESO AZÚCARES / EXCESS SUGAR\")\n",
    "    if excess_saturated_fat(saturated_fat_g, calories_per_serving) == True:\n",
    "        print(\"EXCESO GRASAS SATURADAS / EXCESS SATURATED FAT\")\n",
    "    if excess_trans_fat(trans_fat_g, calories_per_serving) == True:\n",
    "        print(\"EXCESO GRASAS TRANS / EXCESS TRANS FAT\")\n",
    "    if excess_sodium(calories_per_serving, sodium_mg) == True:\n",
    "        print(\"EXCESO SODIO / EXCESS SODIUM\")\n",
    "    if excess_calories(food_type, calories_per_serving, serving_size) == True:\n",
    "        print(\"EXCESO CALORÍAS / EXCESS CALORIES\")"
   ]
  },
  {
   "cell_type": "markdown",
   "id": "f9d70484",
   "metadata": {
    "papermill": {
     "duration": 0.00845,
     "end_time": "2024-11-04T09:54:04.365374",
     "exception": false,
     "start_time": "2024-11-04T09:54:04.356924",
     "status": "completed"
    },
    "tags": []
   },
   "source": [
    "The next code cell demonstrates how to use `get_labels()` to get the warning labels that the food item should contain.  We begin with [bologna](https://world.openfoodfacts.org/product/4099100179378/bologna).  Here is [an image](https://storage.googleapis.com/kaggle-media/learn/images/Cfcx72e.png) with all of the nutritional information.  Note that for this food,\n",
    "- `food_type = \"solid\"` (because bologna is a solid and not a liquid)\n",
    "- `serving_size = 32` (the serving size is 32 grams)\n",
    "- `calories_per_serving = 110` (there are 110 calories per serving)\n",
    "- `saturated_fat_g = 2.5` (there are 2.5 grams of saturated fat per serving)\n",
    "- `trans_fat_g = 0` (there are 0 grams of trans fat per serving)\n",
    "- `sodium_mg = 400` (there are 400 mg of sodium per serving)\n",
    "- `sugars_g = 1` (the nutrition facts say <1g, but we will round it up to 1 gram per serving to be safe)\n",
    "\n",
    "By supplying all of these values to the function, we can print the warning labels."
   ]
  },
  {
   "cell_type": "code",
   "execution_count": 11,
   "id": "7dec750a",
   "metadata": {
    "execution": {
     "iopub.execute_input": "2024-11-04T09:54:04.385815Z",
     "iopub.status.busy": "2024-11-04T09:54:04.385396Z",
     "iopub.status.idle": "2024-11-04T09:54:04.391816Z",
     "shell.execute_reply": "2024-11-04T09:54:04.390506Z"
    },
    "papermill": {
     "duration": 0.020584,
     "end_time": "2024-11-04T09:54:04.394801",
     "exception": false,
     "start_time": "2024-11-04T09:54:04.374217",
     "status": "completed"
    },
    "tags": []
   },
   "outputs": [
    {
     "name": "stdout",
     "output_type": "stream",
     "text": [
      "EXCESO GRASAS SATURADAS / EXCESS SATURATED FAT\n",
      "EXCESO SODIO / EXCESS SODIUM\n",
      "EXCESO CALORÍAS / EXCESS CALORIES\n"
     ]
    }
   ],
   "source": [
    "# bologna https://world.openfoodfacts.org/product/4099100179378/bologna\n",
    "get_labels(\"solid\", 32, 110, 2.5, 0, 400, 1)"
   ]
  },
  {
   "cell_type": "markdown",
   "id": "4c74ba16",
   "metadata": {
    "papermill": {
     "duration": 0.008461,
     "end_time": "2024-11-04T09:54:04.411985",
     "exception": false,
     "start_time": "2024-11-04T09:54:04.403524",
     "status": "completed"
    },
    "tags": []
   },
   "source": [
    "This bologna has three labels, printed in the output above.\n",
    "\n",
    "For the rest of this question, you will use the same `get_labels()` function to determine the labels for more foods.  This question is designed to help you get practice with feeling comfortable with code that other people have written, and where you don't have time to review every single line of code before interacting with it.  For instance, when you take the [Intro to Machine Learning course](http://www.kaggle.com/learn/intro-to-machine-learning), you'll work with a Python package called \"scikit-learn\", which is a large collection of code that you'll learn how to run without reviewing all of the code in detail (as it would take too long, and you can trust that it was implemented correctly).\n",
    "\n",
    "In general, as you continue coding in Python, you will often be running code that other people have written.  This is common practice for advanced programmers.\n",
    "\n",
    "In the next code cell, fill in the values for [this cereal](https://world.openfoodfacts.org/product/7501008023624/zucaritas-kellogg-s).  Here is [an image](https://storage.googleapis.com/kaggle-media/learn/images/MUxzHVU.png) with all of the nutritional information.\n",
    "\n",
    "**Note**: running the line of code below as-is will return an error.  You have to fill in the nutritional values first."
   ]
  },
  {
   "cell_type": "code",
   "execution_count": null,
   "id": "ed7514dc",
   "metadata": {
    "papermill": {
     "duration": 0.008458,
     "end_time": "2024-11-04T09:54:04.429276",
     "exception": false,
     "start_time": "2024-11-04T09:54:04.420818",
     "status": "completed"
    },
    "tags": []
   },
   "outputs": [],
   "source": []
  },
  {
   "cell_type": "markdown",
   "id": "9b8199a0",
   "metadata": {
    "papermill": {
     "duration": 0.008457,
     "end_time": "2024-11-04T09:54:04.446484",
     "exception": false,
     "start_time": "2024-11-04T09:54:04.438027",
     "status": "completed"
    },
    "tags": []
   },
   "source": [
    "Next, try [these mozzarella sticks](https://world-es.openfoodfacts.org/producto/0062325540104/mozzarella-cheese-sticks).  Here is [an image](https://storage.googleapis.com/kaggle-media/learn/images/rcdB7VH.png) with all of the nutritional information."
   ]
  },
  {
   "cell_type": "code",
   "execution_count": 12,
   "id": "f9997b46",
   "metadata": {
    "execution": {
     "iopub.execute_input": "2024-11-04T09:54:04.466295Z",
     "iopub.status.busy": "2024-11-04T09:54:04.465812Z",
     "iopub.status.idle": "2024-11-04T09:54:04.476321Z",
     "shell.execute_reply": "2024-11-04T09:54:04.475128Z"
    },
    "papermill": {
     "duration": 0.024183,
     "end_time": "2024-11-04T09:54:04.479458",
     "exception": false,
     "start_time": "2024-11-04T09:54:04.455275",
     "status": "completed"
    },
    "tags": []
   },
   "outputs": [
    {
     "name": "stdout",
     "output_type": "stream",
     "text": [
      "Food Type: Solid\n",
      "Serving Size: 32 grams\n"
     ]
    }
   ],
   "source": [
    "# mozzarella sticks https://world-es.openfoodfacts.org/producto/0062325540104/mozzarella-cheese-sticks\n",
    "# TODO: Uncomment the line below, fill in the values, and run the function\n",
    "#get_labels()\n",
    "def excess_sugar(sugars_g):\n",
    "    return sugars_g > 10  # Example threshold\n",
    "\n",
    "def excess_saturated_fat(saturated_fat_g):\n",
    "    return saturated_fat_g > 5  # Example threshold\n",
    "\n",
    "def excess_trans_fat(trans_fat_g):\n",
    "    return trans_fat_g > 0.5  # Example threshold\n",
    "\n",
    "def excess_sodium(sodium_mg):\n",
    "    return sodium_mg > 2000  # Example threshold\n",
    "\n",
    "def excess_calories(calories_per_serving):\n",
    "    return calories_per_serving > 200  # Example threshold\n",
    "\n",
    "def get_labels(food_type, serving_size, calories_per_serving, saturated_fat_g, trans_fat_g, sodium_mg, sugars_g):\n",
    "    print(f\"Food Type: {food_type.capitalize()}\")\n",
    "    print(f\"Serving Size: {serving_size} {'grams' if food_type == 'solid' else 'milliliters'}\")\n",
    "    \n",
    "    if excess_sugar(sugars_g):\n",
    "        print(\"Warning: Excess Sugar\")\n",
    "    if excess_saturated_fat(saturated_fat_g):\n",
    "        print(\"Warning: Excess Saturated Fat\")\n",
    "    if excess_trans_fat(trans_fat_g):\n",
    "        print(\"Warning: Excess Trans Fat\")\n",
    "    if excess_sodium(sodium_mg):\n",
    "        print(\"Warning: Excess Sodium\")\n",
    "    if excess_calories(calories_per_serving):\n",
    "        print(\"Warning: Excess Calories\")\n",
    "\n",
    "# Example usage for bologna\n",
    "food_type = \"solid\"\n",
    "serving_size = 32  # grams\n",
    "calories_per_serving = 110\n",
    "saturated_fat_g = 2.5\n",
    "trans_fat_g = 0\n",
    "sodium_mg = 400\n",
    "sugars_g = 1\n",
    "\n",
    "get_labels(food_type, serving_size, calories_per_serving, saturated_fat_g, trans_fat_g, sodium_mg, sugars_g)\n"
   ]
  },
  {
   "cell_type": "markdown",
   "id": "9dfc4bf6",
   "metadata": {
    "papermill": {
     "duration": 0.009594,
     "end_time": "2024-11-04T09:54:04.498368",
     "exception": false,
     "start_time": "2024-11-04T09:54:04.488774",
     "status": "completed"
    },
    "tags": []
   },
   "source": [
    "Feel free to skip to the end of the notebook now and run `q5.check()` to complete the exercise.  If you want to try more foods, \n",
    "- try [these cookies](https://world.openfoodfacts.org/product/0069700118545/biscuits-au-sucre-pretraches).  Here is [an image](https://storage.googleapis.com/kaggle-media/learn/images/2Bc271o.png) with all of the nutritional information.\n",
    "- try [this soda](https://world-es.openfoodfacts.org/producto/0078000113464/orange-soda-sunkist).  Here is [an image](https://storage.googleapis.com/kaggle-media/learn/images/RsBYa8E.png) with all of the nutritional information.\n",
    "\n",
    "Use the two code cells below for this."
   ]
  },
  {
   "cell_type": "code",
   "execution_count": 13,
   "id": "7a6ca5d6",
   "metadata": {
    "execution": {
     "iopub.execute_input": "2024-11-04T09:54:04.519014Z",
     "iopub.status.busy": "2024-11-04T09:54:04.518549Z",
     "iopub.status.idle": "2024-11-04T09:54:04.523774Z",
     "shell.execute_reply": "2024-11-04T09:54:04.522352Z"
    },
    "papermill": {
     "duration": 0.019113,
     "end_time": "2024-11-04T09:54:04.526457",
     "exception": false,
     "start_time": "2024-11-04T09:54:04.507344",
     "status": "completed"
    },
    "tags": []
   },
   "outputs": [],
   "source": [
    "# pillsbury cookies https://world.openfoodfacts.org/product/0069700118545/biscuits-au-sucre-pretraches\n",
    "# TODO: Uncomment the line below, fill in the values, and run the function\n",
    "#get_labels()"
   ]
  },
  {
   "cell_type": "code",
   "execution_count": 14,
   "id": "62cf8eaa",
   "metadata": {
    "execution": {
     "iopub.execute_input": "2024-11-04T09:54:04.546123Z",
     "iopub.status.busy": "2024-11-04T09:54:04.545677Z",
     "iopub.status.idle": "2024-11-04T09:54:04.550320Z",
     "shell.execute_reply": "2024-11-04T09:54:04.549173Z"
    },
    "papermill": {
     "duration": 0.017258,
     "end_time": "2024-11-04T09:54:04.552642",
     "exception": false,
     "start_time": "2024-11-04T09:54:04.535384",
     "status": "completed"
    },
    "tags": []
   },
   "outputs": [],
   "source": [
    "# sunkist orange soda https://world-es.openfoodfacts.org/producto/0078000113464/orange-soda-sunkist\n",
    "# TODO: Uncomment the line below, fill in the values, and run the function\n",
    "#get_labels()"
   ]
  },
  {
   "cell_type": "markdown",
   "id": "e4895307",
   "metadata": {
    "papermill": {
     "duration": 0.009022,
     "end_time": "2024-11-04T09:54:04.570494",
     "exception": false,
     "start_time": "2024-11-04T09:54:04.561472",
     "status": "completed"
    },
    "tags": []
   },
   "source": [
    "Once you have finished investigating the food items in this question, run the final code cell to get credit for completing this problem."
   ]
  },
  {
   "cell_type": "code",
   "execution_count": 15,
   "id": "41c21bc5",
   "metadata": {
    "execution": {
     "iopub.execute_input": "2024-11-04T09:54:04.590671Z",
     "iopub.status.busy": "2024-11-04T09:54:04.590235Z",
     "iopub.status.idle": "2024-11-04T09:54:04.600060Z",
     "shell.execute_reply": "2024-11-04T09:54:04.598716Z"
    },
    "papermill": {
     "duration": 0.022939,
     "end_time": "2024-11-04T09:54:04.602681",
     "exception": false,
     "start_time": "2024-11-04T09:54:04.579742",
     "status": "completed"
    },
    "tags": []
   },
   "outputs": [
    {
     "data": {
      "application/javascript": [
       "parent.postMessage({\"jupyterEvent\": \"custom.exercise_interaction\", \"data\": {\"outcomeType\": 1, \"valueTowardsCompletion\": 0.2, \"interactionType\": 1, \"questionType\": 2, \"questionId\": \"5_GetLabels\", \"learnToolsVersion\": \"0.3.4\", \"failureMessage\": \"\", \"exceptionClass\": \"\", \"trace\": \"\"}}, \"*\")"
      ],
      "text/plain": [
       "<IPython.core.display.Javascript object>"
      ]
     },
     "metadata": {},
     "output_type": "display_data"
    },
    {
     "data": {
      "text/markdown": [
       "<span style=\"color:#33cc33\">Once you have determined the labels for all of the food items, you're ready to move on to the next lesson!</span>"
      ],
      "text/plain": [
       "Once you have determined the labels for all of the food items, you're ready to move on to the next lesson!"
      ]
     },
     "metadata": {},
     "output_type": "display_data"
    }
   ],
   "source": [
    "# Get credit for completing the problem\n",
    "q5.check()"
   ]
  },
  {
   "cell_type": "markdown",
   "id": "0c476867",
   "metadata": {
    "papermill": {
     "duration": 0.008931,
     "end_time": "2024-11-04T09:54:04.620826",
     "exception": false,
     "start_time": "2024-11-04T09:54:04.611895",
     "status": "completed"
    },
    "tags": []
   },
   "source": [
    "# Keep going\n",
    "\n",
    "Continue to the next lesson to **[learn about Python lists](https://www.kaggle.com/alexisbcook/intro-to-lists)**."
   ]
  },
  {
   "cell_type": "code",
   "execution_count": null,
   "id": "cbd87a7d",
   "metadata": {
    "papermill": {
     "duration": 0.00874,
     "end_time": "2024-11-04T09:54:04.639139",
     "exception": false,
     "start_time": "2024-11-04T09:54:04.630399",
     "status": "completed"
    },
    "tags": []
   },
   "outputs": [],
   "source": []
  }
 ],
 "metadata": {
  "kaggle": {
   "accelerator": "none",
   "dataSources": [],
   "isGpuEnabled": false,
   "isInternetEnabled": false,
   "language": "python",
   "sourceType": "notebook"
  },
  "kernelspec": {
   "display_name": "Python 3",
   "language": "python",
   "name": "python3"
  },
  "language_info": {
   "codemirror_mode": {
    "name": "ipython",
    "version": 3
   },
   "file_extension": ".py",
   "mimetype": "text/x-python",
   "name": "python",
   "nbconvert_exporter": "python",
   "pygments_lexer": "ipython3",
   "version": "3.10.14"
  },
  "papermill": {
   "default_parameters": {},
   "duration": 5.223243,
   "end_time": "2024-11-04T09:54:05.171606",
   "environment_variables": {},
   "exception": null,
   "input_path": "__notebook__.ipynb",
   "output_path": "__notebook__.ipynb",
   "parameters": {},
   "start_time": "2024-11-04T09:53:59.948363",
   "version": "2.6.0"
  }
 },
 "nbformat": 4,
 "nbformat_minor": 5
}

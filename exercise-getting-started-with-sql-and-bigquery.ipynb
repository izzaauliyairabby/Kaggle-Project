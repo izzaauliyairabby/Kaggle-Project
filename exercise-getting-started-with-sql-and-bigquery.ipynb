{
 "cells": [
  {
   "cell_type": "markdown",
   "id": "a020f40d",
   "metadata": {
    "papermill": {
     "duration": 0.005405,
     "end_time": "2024-11-24T10:22:53.773677",
     "exception": false,
     "start_time": "2024-11-24T10:22:53.768272",
     "status": "completed"
    },
    "tags": []
   },
   "source": [
    "**This notebook is an exercise in the [SQL](https://www.kaggle.com/learn/intro-to-sql) course.  You can reference the tutorial at [this link](https://www.kaggle.com/dansbecker/getting-started-with-sql-and-bigquery).**\n",
    "\n",
    "---\n"
   ]
  },
  {
   "cell_type": "markdown",
   "id": "bdaf76d7",
   "metadata": {
    "papermill": {
     "duration": 0.00461,
     "end_time": "2024-11-24T10:22:53.783360",
     "exception": false,
     "start_time": "2024-11-24T10:22:53.778750",
     "status": "completed"
    },
    "tags": []
   },
   "source": [
    "# Introduction\n",
    "\n",
    "The first test of your new data exploration skills uses data describing crime in the city of Chicago.\n",
    "\n",
    "Before you get started, run the following cell. It sets up the automated feedback system to review your answers."
   ]
  },
  {
   "cell_type": "code",
   "execution_count": 1,
   "id": "a96cbfa9",
   "metadata": {
    "execution": {
     "iopub.execute_input": "2024-11-24T10:22:53.794342Z",
     "iopub.status.busy": "2024-11-24T10:22:53.793818Z",
     "iopub.status.idle": "2024-11-24T10:23:00.326617Z",
     "shell.execute_reply": "2024-11-24T10:23:00.325265Z"
    },
    "papermill": {
     "duration": 6.541003,
     "end_time": "2024-11-24T10:23:00.328921",
     "exception": false,
     "start_time": "2024-11-24T10:22:53.787918",
     "status": "completed"
    },
    "tags": []
   },
   "outputs": [
    {
     "name": "stdout",
     "output_type": "stream",
     "text": [
      "Using Kaggle's public dataset BigQuery integration.\n",
      "Setup Complete\n"
     ]
    }
   ],
   "source": [
    "# Set up feedack system\n",
    "from learntools.core import binder\n",
    "binder.bind(globals())\n",
    "from learntools.sql.ex1 import *\n",
    "print(\"Setup Complete\")"
   ]
  },
  {
   "cell_type": "markdown",
   "id": "b11c7a31",
   "metadata": {
    "papermill": {
     "duration": 0.004365,
     "end_time": "2024-11-24T10:23:00.338170",
     "exception": false,
     "start_time": "2024-11-24T10:23:00.333805",
     "status": "completed"
    },
    "tags": []
   },
   "source": [
    "Use the next code cell to fetch the dataset."
   ]
  },
  {
   "cell_type": "code",
   "execution_count": 2,
   "id": "78a438c5",
   "metadata": {
    "execution": {
     "iopub.execute_input": "2024-11-24T10:23:00.349272Z",
     "iopub.status.busy": "2024-11-24T10:23:00.348723Z",
     "iopub.status.idle": "2024-11-24T10:23:00.684938Z",
     "shell.execute_reply": "2024-11-24T10:23:00.683835Z"
    },
    "papermill": {
     "duration": 0.344723,
     "end_time": "2024-11-24T10:23:00.687442",
     "exception": false,
     "start_time": "2024-11-24T10:23:00.342719",
     "status": "completed"
    },
    "tags": []
   },
   "outputs": [
    {
     "name": "stdout",
     "output_type": "stream",
     "text": [
      "Using Kaggle's public dataset BigQuery integration.\n"
     ]
    }
   ],
   "source": [
    "from google.cloud import bigquery\n",
    "\n",
    "# Create a \"Client\" object\n",
    "client = bigquery.Client()\n",
    "\n",
    "# Construct a reference to the \"chicago_crime\" dataset\n",
    "dataset_ref = client.dataset(\"chicago_crime\", project=\"bigquery-public-data\")\n",
    "\n",
    "# API request - fetch the dataset\n",
    "dataset = client.get_dataset(dataset_ref)"
   ]
  },
  {
   "cell_type": "markdown",
   "id": "c3783ab6",
   "metadata": {
    "papermill": {
     "duration": 0.004385,
     "end_time": "2024-11-24T10:23:00.696619",
     "exception": false,
     "start_time": "2024-11-24T10:23:00.692234",
     "status": "completed"
    },
    "tags": []
   },
   "source": [
    "# Exercises\n",
    "\n",
    "### 1) Count tables in the dataset\n",
    "\n",
    "How many tables are in the Chicago Crime dataset?"
   ]
  },
  {
   "cell_type": "code",
   "execution_count": 3,
   "id": "6aced309",
   "metadata": {
    "execution": {
     "iopub.execute_input": "2024-11-24T10:23:00.708468Z",
     "iopub.status.busy": "2024-11-24T10:23:00.708092Z",
     "iopub.status.idle": "2024-11-24T10:23:01.554099Z",
     "shell.execute_reply": "2024-11-24T10:23:01.553019Z"
    },
    "papermill": {
     "duration": 0.854476,
     "end_time": "2024-11-24T10:23:01.556691",
     "exception": false,
     "start_time": "2024-11-24T10:23:00.702215",
     "status": "completed"
    },
    "tags": []
   },
   "outputs": [],
   "source": [
    "# Write the code you need here to figure out the answer\n",
    "tables = list(client.list_tables(dataset))"
   ]
  },
  {
   "cell_type": "code",
   "execution_count": 4,
   "id": "812accfb",
   "metadata": {
    "execution": {
     "iopub.execute_input": "2024-11-24T10:23:01.567914Z",
     "iopub.status.busy": "2024-11-24T10:23:01.567499Z",
     "iopub.status.idle": "2024-11-24T10:23:01.578115Z",
     "shell.execute_reply": "2024-11-24T10:23:01.577000Z"
    },
    "papermill": {
     "duration": 0.018664,
     "end_time": "2024-11-24T10:23:01.580200",
     "exception": false,
     "start_time": "2024-11-24T10:23:01.561536",
     "status": "completed"
    },
    "tags": []
   },
   "outputs": [
    {
     "name": "stdout",
     "output_type": "stream",
     "text": [
      "1\n"
     ]
    },
    {
     "data": {
      "application/javascript": [
       "parent.postMessage({\"jupyterEvent\": \"custom.exercise_interaction\", \"data\": {\"outcomeType\": 1, \"valueTowardsCompletion\": 0.3333333333333333, \"interactionType\": 1, \"questionType\": 1, \"questionId\": \"1_CountTables\", \"learnToolsVersion\": \"0.3.4\", \"failureMessage\": \"\", \"exceptionClass\": \"\", \"trace\": \"\"}}, \"*\")"
      ],
      "text/plain": [
       "<IPython.core.display.Javascript object>"
      ]
     },
     "metadata": {},
     "output_type": "display_data"
    },
    {
     "data": {
      "text/markdown": [
       "<span style=\"color:#33cc33\">Correct</span>"
      ],
      "text/plain": [
       "Correct"
      ]
     },
     "metadata": {},
     "output_type": "display_data"
    }
   ],
   "source": [
    "num_tables = 1 # Store the answer as num_tables and then run this cell\n",
    "print(len(tables))\n",
    "\n",
    "# Check your answer\n",
    "q_1.check()"
   ]
  },
  {
   "cell_type": "markdown",
   "id": "5c365521",
   "metadata": {
    "papermill": {
     "duration": 0.004594,
     "end_time": "2024-11-24T10:23:01.589891",
     "exception": false,
     "start_time": "2024-11-24T10:23:01.585297",
     "status": "completed"
    },
    "tags": []
   },
   "source": [
    "For a hint or the solution, uncomment the appropriate line below."
   ]
  },
  {
   "cell_type": "code",
   "execution_count": 5,
   "id": "c3ed9b03",
   "metadata": {
    "execution": {
     "iopub.execute_input": "2024-11-24T10:23:01.601791Z",
     "iopub.status.busy": "2024-11-24T10:23:01.600796Z",
     "iopub.status.idle": "2024-11-24T10:23:01.605344Z",
     "shell.execute_reply": "2024-11-24T10:23:01.604244Z"
    },
    "papermill": {
     "duration": 0.012419,
     "end_time": "2024-11-24T10:23:01.607273",
     "exception": false,
     "start_time": "2024-11-24T10:23:01.594854",
     "status": "completed"
    },
    "tags": []
   },
   "outputs": [],
   "source": [
    "#q_1.hint()\n",
    "#q_1.solution()"
   ]
  },
  {
   "cell_type": "markdown",
   "id": "d6a066bd",
   "metadata": {
    "papermill": {
     "duration": 0.005264,
     "end_time": "2024-11-24T10:23:01.617539",
     "exception": false,
     "start_time": "2024-11-24T10:23:01.612275",
     "status": "completed"
    },
    "tags": []
   },
   "source": [
    "### 2) Explore the table schema\n",
    "\n",
    "How many columns in the `crime` table have `TIMESTAMP` data?"
   ]
  },
  {
   "cell_type": "code",
   "execution_count": 6,
   "id": "d275e623",
   "metadata": {
    "execution": {
     "iopub.execute_input": "2024-11-24T10:23:01.628917Z",
     "iopub.status.busy": "2024-11-24T10:23:01.628514Z",
     "iopub.status.idle": "2024-11-24T10:23:01.931530Z",
     "shell.execute_reply": "2024-11-24T10:23:01.930452Z"
    },
    "papermill": {
     "duration": 0.311247,
     "end_time": "2024-11-24T10:23:01.933760",
     "exception": false,
     "start_time": "2024-11-24T10:23:01.622513",
     "status": "completed"
    },
    "tags": []
   },
   "outputs": [
    {
     "name": "stdout",
     "output_type": "stream",
     "text": [
      "[SchemaField('unique_key', 'INTEGER', 'REQUIRED', None, (), None), SchemaField('case_number', 'STRING', 'NULLABLE', None, (), None), SchemaField('date', 'TIMESTAMP', 'NULLABLE', None, (), None), SchemaField('block', 'STRING', 'NULLABLE', None, (), None), SchemaField('iucr', 'STRING', 'NULLABLE', None, (), None), SchemaField('primary_type', 'STRING', 'NULLABLE', None, (), None), SchemaField('description', 'STRING', 'NULLABLE', None, (), None), SchemaField('location_description', 'STRING', 'NULLABLE', None, (), None), SchemaField('arrest', 'BOOLEAN', 'NULLABLE', None, (), None), SchemaField('domestic', 'BOOLEAN', 'NULLABLE', None, (), None), SchemaField('beat', 'INTEGER', 'NULLABLE', None, (), None), SchemaField('district', 'INTEGER', 'NULLABLE', None, (), None), SchemaField('ward', 'INTEGER', 'NULLABLE', None, (), None), SchemaField('community_area', 'INTEGER', 'NULLABLE', None, (), None), SchemaField('fbi_code', 'STRING', 'NULLABLE', None, (), None), SchemaField('x_coordinate', 'FLOAT', 'NULLABLE', None, (), None), SchemaField('y_coordinate', 'FLOAT', 'NULLABLE', None, (), None), SchemaField('year', 'INTEGER', 'NULLABLE', None, (), None), SchemaField('updated_on', 'TIMESTAMP', 'NULLABLE', None, (), None), SchemaField('latitude', 'FLOAT', 'NULLABLE', None, (), None), SchemaField('longitude', 'FLOAT', 'NULLABLE', None, (), None), SchemaField('location', 'STRING', 'NULLABLE', None, (), None)]\n"
     ]
    }
   ],
   "source": [
    "# Construct a reference to the \"crime\" table\n",
    "table_ref = dataset_ref.table(\"crime\")\n",
    "\n",
    "# API request - fetch the table\n",
    "table = client.get_table(table_ref)\n",
    "\n",
    "# Print information on all the columns in the \"crime\" table in the \"chicago_crime\" dataset\n",
    "print(table.schema)"
   ]
  },
  {
   "cell_type": "code",
   "execution_count": 7,
   "id": "0dedbe7d",
   "metadata": {
    "execution": {
     "iopub.execute_input": "2024-11-24T10:23:01.945404Z",
     "iopub.status.busy": "2024-11-24T10:23:01.945054Z",
     "iopub.status.idle": "2024-11-24T10:23:01.953966Z",
     "shell.execute_reply": "2024-11-24T10:23:01.952864Z"
    },
    "papermill": {
     "duration": 0.017436,
     "end_time": "2024-11-24T10:23:01.956248",
     "exception": false,
     "start_time": "2024-11-24T10:23:01.938812",
     "status": "completed"
    },
    "tags": []
   },
   "outputs": [
    {
     "data": {
      "application/javascript": [
       "parent.postMessage({\"jupyterEvent\": \"custom.exercise_interaction\", \"data\": {\"outcomeType\": 1, \"valueTowardsCompletion\": 0.3333333333333333, \"interactionType\": 1, \"questionType\": 1, \"questionId\": \"2_CountTimestampFields\", \"learnToolsVersion\": \"0.3.4\", \"failureMessage\": \"\", \"exceptionClass\": \"\", \"trace\": \"\"}}, \"*\")"
      ],
      "text/plain": [
       "<IPython.core.display.Javascript object>"
      ]
     },
     "metadata": {},
     "output_type": "display_data"
    },
    {
     "data": {
      "text/markdown": [
       "<span style=\"color:#33cc33\">Correct</span>"
      ],
      "text/plain": [
       "Correct"
      ]
     },
     "metadata": {},
     "output_type": "display_data"
    }
   ],
   "source": [
    "num_timestamp_fields = 2 # Put your answer here\n",
    "\n",
    "# Check your answer\n",
    "q_2.check()"
   ]
  },
  {
   "cell_type": "markdown",
   "id": "506dc94d",
   "metadata": {
    "papermill": {
     "duration": 0.005041,
     "end_time": "2024-11-24T10:23:01.966744",
     "exception": false,
     "start_time": "2024-11-24T10:23:01.961703",
     "status": "completed"
    },
    "tags": []
   },
   "source": [
    "For a hint or the solution, uncomment the appropriate line below."
   ]
  },
  {
   "cell_type": "code",
   "execution_count": 8,
   "id": "7cec5ef9",
   "metadata": {
    "execution": {
     "iopub.execute_input": "2024-11-24T10:23:01.979160Z",
     "iopub.status.busy": "2024-11-24T10:23:01.978210Z",
     "iopub.status.idle": "2024-11-24T10:23:01.982877Z",
     "shell.execute_reply": "2024-11-24T10:23:01.981657Z"
    },
    "papermill": {
     "duration": 0.013125,
     "end_time": "2024-11-24T10:23:01.985060",
     "exception": false,
     "start_time": "2024-11-24T10:23:01.971935",
     "status": "completed"
    },
    "tags": []
   },
   "outputs": [],
   "source": [
    "#q_2.hint()\n",
    "#q_2.solution()"
   ]
  },
  {
   "cell_type": "markdown",
   "id": "8fcf432f",
   "metadata": {
    "papermill": {
     "duration": 0.005061,
     "end_time": "2024-11-24T10:23:01.995528",
     "exception": false,
     "start_time": "2024-11-24T10:23:01.990467",
     "status": "completed"
    },
    "tags": []
   },
   "source": [
    "### 3) Create a crime map\n",
    "\n",
    "If you wanted to create a map with a dot at the location of each crime, what are the names of the two fields you likely need to pull out of the `crime` table to plot the crimes on a map?"
   ]
  },
  {
   "cell_type": "code",
   "execution_count": 9,
   "id": "07857491",
   "metadata": {
    "execution": {
     "iopub.execute_input": "2024-11-24T10:23:02.007949Z",
     "iopub.status.busy": "2024-11-24T10:23:02.007526Z",
     "iopub.status.idle": "2024-11-24T10:23:02.012353Z",
     "shell.execute_reply": "2024-11-24T10:23:02.011279Z"
    },
    "papermill": {
     "duration": 0.013439,
     "end_time": "2024-11-24T10:23:02.014432",
     "exception": false,
     "start_time": "2024-11-24T10:23:02.000993",
     "status": "completed"
    },
    "tags": []
   },
   "outputs": [],
   "source": [
    "# Write the code here to explore the data so you can find the answer"
   ]
  },
  {
   "cell_type": "code",
   "execution_count": 10,
   "id": "ec9cb9df",
   "metadata": {
    "execution": {
     "iopub.execute_input": "2024-11-24T10:23:02.027275Z",
     "iopub.status.busy": "2024-11-24T10:23:02.026422Z",
     "iopub.status.idle": "2024-11-24T10:23:02.035853Z",
     "shell.execute_reply": "2024-11-24T10:23:02.034546Z"
    },
    "papermill": {
     "duration": 0.018177,
     "end_time": "2024-11-24T10:23:02.038042",
     "exception": false,
     "start_time": "2024-11-24T10:23:02.019865",
     "status": "completed"
    },
    "tags": []
   },
   "outputs": [
    {
     "data": {
      "application/javascript": [
       "parent.postMessage({\"jupyterEvent\": \"custom.exercise_interaction\", \"data\": {\"outcomeType\": 1, \"valueTowardsCompletion\": 0.3333333333333333, \"interactionType\": 1, \"questionType\": 2, \"questionId\": \"3_IdentifyFieldsForPlotting\", \"learnToolsVersion\": \"0.3.4\", \"failureMessage\": \"\", \"exceptionClass\": \"\", \"trace\": \"\"}}, \"*\")"
      ],
      "text/plain": [
       "<IPython.core.display.Javascript object>"
      ]
     },
     "metadata": {},
     "output_type": "display_data"
    },
    {
     "data": {
      "text/markdown": [
       "<span style=\"color:#33cc33\">Correct</span>"
      ],
      "text/plain": [
       "Correct"
      ]
     },
     "metadata": {},
     "output_type": "display_data"
    }
   ],
   "source": [
    "fields_for_plotting = ['latitude', 'longitude'] # Put your answers here\n",
    "\n",
    "# Check your answer\n",
    "q_3.check()"
   ]
  },
  {
   "cell_type": "markdown",
   "id": "0a71bd71",
   "metadata": {
    "papermill": {
     "duration": 0.005262,
     "end_time": "2024-11-24T10:23:02.049058",
     "exception": false,
     "start_time": "2024-11-24T10:23:02.043796",
     "status": "completed"
    },
    "tags": []
   },
   "source": [
    "For a hint or the solution, uncomment the appropriate line below."
   ]
  },
  {
   "cell_type": "code",
   "execution_count": 11,
   "id": "8994d69b",
   "metadata": {
    "execution": {
     "iopub.execute_input": "2024-11-24T10:23:02.062054Z",
     "iopub.status.busy": "2024-11-24T10:23:02.061650Z",
     "iopub.status.idle": "2024-11-24T10:23:02.066463Z",
     "shell.execute_reply": "2024-11-24T10:23:02.065326Z"
    },
    "papermill": {
     "duration": 0.014315,
     "end_time": "2024-11-24T10:23:02.069074",
     "exception": false,
     "start_time": "2024-11-24T10:23:02.054759",
     "status": "completed"
    },
    "tags": []
   },
   "outputs": [],
   "source": [
    "#q_3.hint()\n",
    "#q_3.solution()"
   ]
  },
  {
   "cell_type": "markdown",
   "id": "6f86f203",
   "metadata": {
    "papermill": {
     "duration": 0.005761,
     "end_time": "2024-11-24T10:23:02.080359",
     "exception": false,
     "start_time": "2024-11-24T10:23:02.074598",
     "status": "completed"
    },
    "tags": []
   },
   "source": [
    "Thinking about the question above, there are a few columns that appear to have geographic data. Look at a few values (with the `list_rows()` command) to see if you can determine their relationship.  Two columns will still be hard to interpret. But it should be obvious how the `location` column relates to `latitude` and `longitude`."
   ]
  },
  {
   "cell_type": "code",
   "execution_count": 12,
   "id": "a1e38857",
   "metadata": {
    "execution": {
     "iopub.execute_input": "2024-11-24T10:23:02.092838Z",
     "iopub.status.busy": "2024-11-24T10:23:02.092440Z",
     "iopub.status.idle": "2024-11-24T10:23:02.097086Z",
     "shell.execute_reply": "2024-11-24T10:23:02.095865Z"
    },
    "papermill": {
     "duration": 0.013447,
     "end_time": "2024-11-24T10:23:02.099359",
     "exception": false,
     "start_time": "2024-11-24T10:23:02.085912",
     "status": "completed"
    },
    "tags": []
   },
   "outputs": [],
   "source": [
    "# Scratch space for your code"
   ]
  },
  {
   "cell_type": "markdown",
   "id": "78877d75",
   "metadata": {
    "papermill": {
     "duration": 0.005439,
     "end_time": "2024-11-24T10:23:02.110407",
     "exception": false,
     "start_time": "2024-11-24T10:23:02.104968",
     "status": "completed"
    },
    "tags": []
   },
   "source": [
    "# Keep going\n",
    "\n",
    "You've looked at the schema, but you haven't yet done anything exciting with the data itself. Things get more interesting when you get to the data, so keep going to **[write your first SQL query](https://www.kaggle.com/dansbecker/select-from-where).**"
   ]
  },
  {
   "cell_type": "markdown",
   "id": "da3db5ae",
   "metadata": {
    "papermill": {
     "duration": 0.005457,
     "end_time": "2024-11-24T10:23:02.121342",
     "exception": false,
     "start_time": "2024-11-24T10:23:02.115885",
     "status": "completed"
    },
    "tags": []
   },
   "source": [
    "---\n",
    "\n",
    "\n",
    "\n",
    "\n",
    "*Have questions or comments? Visit the [course discussion forum](https://www.kaggle.com/learn/intro-to-sql/discussion) to chat with other learners.*"
   ]
  }
 ],
 "metadata": {
  "kaggle": {
   "accelerator": "none",
   "dataSources": [
    {
     "datasetId": 22090,
     "sourceId": 28376,
     "sourceType": "datasetVersion"
    },
    {
     "datasetId": 6057,
     "sourceId": 285982,
     "sourceType": "datasetVersion"
    }
   ],
   "isGpuEnabled": false,
   "isInternetEnabled": false,
   "language": "python",
   "sourceType": "notebook"
  },
  "kernelspec": {
   "display_name": "Python 3",
   "language": "python",
   "name": "python3"
  },
  "language_info": {
   "codemirror_mode": {
    "name": "ipython",
    "version": 3
   },
   "file_extension": ".py",
   "mimetype": "text/x-python",
   "name": "python",
   "nbconvert_exporter": "python",
   "pygments_lexer": "ipython3",
   "version": "3.10.14"
  },
  "papermill": {
   "default_parameters": {},
   "duration": 11.810003,
   "end_time": "2024-11-24T10:23:02.848745",
   "environment_variables": {},
   "exception": null,
   "input_path": "__notebook__.ipynb",
   "output_path": "__notebook__.ipynb",
   "parameters": {},
   "start_time": "2024-11-24T10:22:51.038742",
   "version": "2.6.0"
  }
 },
 "nbformat": 4,
 "nbformat_minor": 5
}

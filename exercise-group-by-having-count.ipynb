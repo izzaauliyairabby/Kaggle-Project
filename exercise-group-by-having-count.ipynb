{
 "cells": [
  {
   "cell_type": "markdown",
   "id": "951e2d60",
   "metadata": {
    "papermill": {
     "duration": 0.004932,
     "end_time": "2024-11-25T07:44:20.180583",
     "exception": false,
     "start_time": "2024-11-25T07:44:20.175651",
     "status": "completed"
    },
    "tags": []
   },
   "source": [
    "**This notebook is an exercise in the [SQL](https://www.kaggle.com/learn/intro-to-sql) course.  You can reference the tutorial at [this link](https://www.kaggle.com/dansbecker/group-by-having-count).**\n",
    "\n",
    "---\n"
   ]
  },
  {
   "cell_type": "markdown",
   "id": "b1477356",
   "metadata": {
    "papermill": {
     "duration": 0.003241,
     "end_time": "2024-11-25T07:44:20.187650",
     "exception": false,
     "start_time": "2024-11-25T07:44:20.184409",
     "status": "completed"
    },
    "tags": []
   },
   "source": [
    "# Introduction\n",
    "\n",
    "Queries with **GROUP BY** can be powerful. There are many small things that can trip you up (like the order of the clauses), but it will start to feel natural once you've done it a few times. Here, you'll write queries using **GROUP BY** to answer questions from the Hacker News dataset.\n",
    "\n",
    "Before you get started, run the following cell to set everything up:"
   ]
  },
  {
   "cell_type": "code",
   "execution_count": 1,
   "id": "bd6fdaa7",
   "metadata": {
    "execution": {
     "iopub.execute_input": "2024-11-25T07:44:20.196220Z",
     "iopub.status.busy": "2024-11-25T07:44:20.195795Z",
     "iopub.status.idle": "2024-11-25T07:44:29.460622Z",
     "shell.execute_reply": "2024-11-25T07:44:29.459355Z"
    },
    "papermill": {
     "duration": 9.271946,
     "end_time": "2024-11-25T07:44:29.463015",
     "exception": false,
     "start_time": "2024-11-25T07:44:20.191069",
     "status": "completed"
    },
    "tags": []
   },
   "outputs": [
    {
     "name": "stdout",
     "output_type": "stream",
     "text": [
      "Using Kaggle's public dataset BigQuery integration.\n",
      "Setup Complete\n"
     ]
    }
   ],
   "source": [
    "# Set up feedback system\n",
    "from learntools.core import binder\n",
    "binder.bind(globals())\n",
    "from learntools.sql.ex3 import *\n",
    "print(\"Setup Complete\")"
   ]
  },
  {
   "cell_type": "markdown",
   "id": "d77f756d",
   "metadata": {
    "papermill": {
     "duration": 0.003183,
     "end_time": "2024-11-25T07:44:29.469863",
     "exception": false,
     "start_time": "2024-11-25T07:44:29.466680",
     "status": "completed"
    },
    "tags": []
   },
   "source": [
    "The code cell below fetches the `full` table from the `hacker_news` dataset.  We also preview the first five rows of the table."
   ]
  },
  {
   "cell_type": "code",
   "execution_count": 2,
   "id": "aa0b6f8c",
   "metadata": {
    "execution": {
     "iopub.execute_input": "2024-11-25T07:44:29.478618Z",
     "iopub.status.busy": "2024-11-25T07:44:29.478105Z",
     "iopub.status.idle": "2024-11-25T07:44:31.998945Z",
     "shell.execute_reply": "2024-11-25T07:44:31.997890Z"
    },
    "papermill": {
     "duration": 2.528012,
     "end_time": "2024-11-25T07:44:32.001333",
     "exception": false,
     "start_time": "2024-11-25T07:44:29.473321",
     "status": "completed"
    },
    "tags": []
   },
   "outputs": [
    {
     "name": "stdout",
     "output_type": "stream",
     "text": [
      "Using Kaggle's public dataset BigQuery integration.\n"
     ]
    },
    {
     "data": {
      "text/html": [
       "<div>\n",
       "<style scoped>\n",
       "    .dataframe tbody tr th:only-of-type {\n",
       "        vertical-align: middle;\n",
       "    }\n",
       "\n",
       "    .dataframe tbody tr th {\n",
       "        vertical-align: top;\n",
       "    }\n",
       "\n",
       "    .dataframe thead th {\n",
       "        text-align: right;\n",
       "    }\n",
       "</style>\n",
       "<table border=\"1\" class=\"dataframe\">\n",
       "  <thead>\n",
       "    <tr style=\"text-align: right;\">\n",
       "      <th></th>\n",
       "      <th>title</th>\n",
       "      <th>url</th>\n",
       "      <th>text</th>\n",
       "      <th>dead</th>\n",
       "      <th>by</th>\n",
       "      <th>score</th>\n",
       "      <th>time</th>\n",
       "      <th>timestamp</th>\n",
       "      <th>type</th>\n",
       "      <th>id</th>\n",
       "      <th>parent</th>\n",
       "      <th>descendants</th>\n",
       "      <th>ranking</th>\n",
       "      <th>deleted</th>\n",
       "    </tr>\n",
       "  </thead>\n",
       "  <tbody>\n",
       "    <tr>\n",
       "      <th>0</th>\n",
       "      <td>None</td>\n",
       "      <td>None</td>\n",
       "      <td>None</td>\n",
       "      <td>None</td>\n",
       "      <td>None</td>\n",
       "      <td>NaN</td>\n",
       "      <td>1260770788</td>\n",
       "      <td>2009-12-14 06:06:28+00:00</td>\n",
       "      <td>story</td>\n",
       "      <td>993714</td>\n",
       "      <td>NaN</td>\n",
       "      <td>NaN</td>\n",
       "      <td>NaN</td>\n",
       "      <td>None</td>\n",
       "    </tr>\n",
       "    <tr>\n",
       "      <th>1</th>\n",
       "      <td>None</td>\n",
       "      <td>None</td>\n",
       "      <td>None</td>\n",
       "      <td>None</td>\n",
       "      <td>None</td>\n",
       "      <td>NaN</td>\n",
       "      <td>1437673048</td>\n",
       "      <td>2015-07-23 17:37:28+00:00</td>\n",
       "      <td>story</td>\n",
       "      <td>9937261</td>\n",
       "      <td>NaN</td>\n",
       "      <td>NaN</td>\n",
       "      <td>NaN</td>\n",
       "      <td>None</td>\n",
       "    </tr>\n",
       "    <tr>\n",
       "      <th>2</th>\n",
       "      <td>None</td>\n",
       "      <td>None</td>\n",
       "      <td>None</td>\n",
       "      <td>None</td>\n",
       "      <td>None</td>\n",
       "      <td>NaN</td>\n",
       "      <td>1437673159</td>\n",
       "      <td>2015-07-23 17:39:19+00:00</td>\n",
       "      <td>story</td>\n",
       "      <td>9937275</td>\n",
       "      <td>NaN</td>\n",
       "      <td>NaN</td>\n",
       "      <td>NaN</td>\n",
       "      <td>None</td>\n",
       "    </tr>\n",
       "    <tr>\n",
       "      <th>3</th>\n",
       "      <td>None</td>\n",
       "      <td>None</td>\n",
       "      <td>None</td>\n",
       "      <td>None</td>\n",
       "      <td>None</td>\n",
       "      <td>NaN</td>\n",
       "      <td>1437673352</td>\n",
       "      <td>2015-07-23 17:42:32+00:00</td>\n",
       "      <td>story</td>\n",
       "      <td>9937301</td>\n",
       "      <td>NaN</td>\n",
       "      <td>NaN</td>\n",
       "      <td>NaN</td>\n",
       "      <td>None</td>\n",
       "    </tr>\n",
       "    <tr>\n",
       "      <th>4</th>\n",
       "      <td>None</td>\n",
       "      <td>None</td>\n",
       "      <td>None</td>\n",
       "      <td>None</td>\n",
       "      <td>None</td>\n",
       "      <td>NaN</td>\n",
       "      <td>1437673905</td>\n",
       "      <td>2015-07-23 17:51:45+00:00</td>\n",
       "      <td>story</td>\n",
       "      <td>9937348</td>\n",
       "      <td>NaN</td>\n",
       "      <td>NaN</td>\n",
       "      <td>NaN</td>\n",
       "      <td>None</td>\n",
       "    </tr>\n",
       "  </tbody>\n",
       "</table>\n",
       "</div>"
      ],
      "text/plain": [
       "  title   url  text  dead    by  score        time                 timestamp  \\\n",
       "0  None  None  None  None  None    NaN  1260770788 2009-12-14 06:06:28+00:00   \n",
       "1  None  None  None  None  None    NaN  1437673048 2015-07-23 17:37:28+00:00   \n",
       "2  None  None  None  None  None    NaN  1437673159 2015-07-23 17:39:19+00:00   \n",
       "3  None  None  None  None  None    NaN  1437673352 2015-07-23 17:42:32+00:00   \n",
       "4  None  None  None  None  None    NaN  1437673905 2015-07-23 17:51:45+00:00   \n",
       "\n",
       "    type       id  parent  descendants  ranking deleted  \n",
       "0  story   993714     NaN          NaN      NaN    None  \n",
       "1  story  9937261     NaN          NaN      NaN    None  \n",
       "2  story  9937275     NaN          NaN      NaN    None  \n",
       "3  story  9937301     NaN          NaN      NaN    None  \n",
       "4  story  9937348     NaN          NaN      NaN    None  "
      ]
     },
     "execution_count": 2,
     "metadata": {},
     "output_type": "execute_result"
    }
   ],
   "source": [
    "from google.cloud import bigquery\n",
    "\n",
    "# Create a \"Client\" object\n",
    "client = bigquery.Client()\n",
    "\n",
    "# Construct a reference to the \"hacker_news\" dataset\n",
    "dataset_ref = client.dataset(\"hacker_news\", project=\"bigquery-public-data\")\n",
    "\n",
    "# API request - fetch the dataset\n",
    "dataset = client.get_dataset(dataset_ref)\n",
    "\n",
    "# Construct a reference to the \"full\" table\n",
    "table_ref = dataset_ref.table(\"full\")\n",
    "\n",
    "# API request - fetch the table\n",
    "table = client.get_table(table_ref)\n",
    "\n",
    "# Preview the first five lines of the table\n",
    "client.list_rows(table, max_results=5).to_dataframe()"
   ]
  },
  {
   "cell_type": "markdown",
   "id": "c56a7134",
   "metadata": {
    "papermill": {
     "duration": 0.003635,
     "end_time": "2024-11-25T07:44:32.009094",
     "exception": false,
     "start_time": "2024-11-25T07:44:32.005459",
     "status": "completed"
    },
    "tags": []
   },
   "source": [
    "# Exercises\n",
    "\n",
    "### 1) Prolific commenters\n",
    "\n",
    "Hacker News would like to send awards to everyone who has written more than 10,000 posts. Write a query that returns all authors with more than 10,000 posts as well as their post counts. Call the column with post counts `NumPosts`.\n",
    "\n",
    "In case sample query is helpful, here is a query you saw in the tutorial to answer a similar question:\n",
    "```\n",
    "query = \"\"\"\n",
    "        SELECT parent, COUNT(1) AS NumPosts\n",
    "        FROM `bigquery-public-data.hacker_news.full`\n",
    "        GROUP BY parent\n",
    "        HAVING COUNT(1) > 10\n",
    "        \"\"\"\n",
    "```"
   ]
  },
  {
   "cell_type": "code",
   "execution_count": 3,
   "id": "04ec013f",
   "metadata": {
    "execution": {
     "iopub.execute_input": "2024-11-25T07:44:32.020340Z",
     "iopub.status.busy": "2024-11-25T07:44:32.019950Z",
     "iopub.status.idle": "2024-11-25T07:44:33.881994Z",
     "shell.execute_reply": "2024-11-25T07:44:33.880654Z"
    },
    "papermill": {
     "duration": 1.871011,
     "end_time": "2024-11-25T07:44:33.884265",
     "exception": false,
     "start_time": "2024-11-25T07:44:32.013254",
     "status": "completed"
    },
    "tags": []
   },
   "outputs": [
    {
     "name": "stdout",
     "output_type": "stream",
     "text": [
      "      author  NumPosts\n",
      "0     Retric     27354\n",
      "1    Animats     23781\n",
      "2    mcguire     10082\n",
      "3  mindcrime     12631\n",
      "4      ghaff     27247\n"
     ]
    },
    {
     "data": {
      "application/javascript": [
       "parent.postMessage({\"jupyterEvent\": \"custom.exercise_interaction\", \"data\": {\"outcomeType\": 1, \"valueTowardsCompletion\": 0.5, \"interactionType\": 1, \"questionType\": 2, \"questionId\": \"1_ProlificCommenters\", \"learnToolsVersion\": \"0.3.4\", \"failureMessage\": \"\", \"exceptionClass\": \"\", \"trace\": \"\"}}, \"*\")"
      ],
      "text/plain": [
       "<IPython.core.display.Javascript object>"
      ]
     },
     "metadata": {},
     "output_type": "display_data"
    },
    {
     "data": {
      "text/markdown": [
       "<span style=\"color:#33cc33\">Correct</span>"
      ],
      "text/plain": [
       "Correct"
      ]
     },
     "metadata": {},
     "output_type": "display_data"
    }
   ],
   "source": [
    "# Query to select prolific commenters and post counts\n",
    "prolific_commenters_query =  \"\"\"\n",
    "                            SELECT `by` AS author, COUNT(1) AS NumPosts\n",
    "                            FROM `bigquery-public-data.hacker_news.full`\n",
    "                            GROUP BY author\n",
    "                            HAVING COUNT(1) > 10000\n",
    "                            \"\"\" # Your code goes here\n",
    "\n",
    "# Set up the query (cancel the query if it would use too much of \n",
    "# your quota, with the limit set to 1 GB)\n",
    "safe_config = bigquery.QueryJobConfig(maximum_bytes_billed=10**10)\n",
    "query_job = client.query(prolific_commenters_query, job_config=safe_config)\n",
    "\n",
    "# API request - run the query, and return a pandas DataFrame\n",
    "prolific_commenters = query_job.to_dataframe()\n",
    "\n",
    "# View top few rows of results\n",
    "print(prolific_commenters.head())\n",
    "\n",
    "# Check your answer\n",
    "q_1.check()"
   ]
  },
  {
   "cell_type": "markdown",
   "id": "a00c5fb7",
   "metadata": {
    "papermill": {
     "duration": 0.003955,
     "end_time": "2024-11-25T07:44:33.892639",
     "exception": false,
     "start_time": "2024-11-25T07:44:33.888684",
     "status": "completed"
    },
    "tags": []
   },
   "source": [
    "For the solution, uncomment the line below."
   ]
  },
  {
   "cell_type": "code",
   "execution_count": 4,
   "id": "5ac43ed4",
   "metadata": {
    "execution": {
     "iopub.execute_input": "2024-11-25T07:44:33.903824Z",
     "iopub.status.busy": "2024-11-25T07:44:33.903426Z",
     "iopub.status.idle": "2024-11-25T07:44:33.908222Z",
     "shell.execute_reply": "2024-11-25T07:44:33.906998Z"
    },
    "papermill": {
     "duration": 0.013562,
     "end_time": "2024-11-25T07:44:33.910377",
     "exception": false,
     "start_time": "2024-11-25T07:44:33.896815",
     "status": "completed"
    },
    "tags": []
   },
   "outputs": [],
   "source": [
    "#q_1.solution()"
   ]
  },
  {
   "cell_type": "markdown",
   "id": "48ce4771",
   "metadata": {
    "papermill": {
     "duration": 0.003826,
     "end_time": "2024-11-25T07:44:33.918393",
     "exception": false,
     "start_time": "2024-11-25T07:44:33.914567",
     "status": "completed"
    },
    "tags": []
   },
   "source": [
    "### 2) Deleted comments\n",
    "\n",
    "How many comments have been deleted? (If a comment was deleted, the `deleted` column in the table will have the value `True`.)"
   ]
  },
  {
   "cell_type": "code",
   "execution_count": 5,
   "id": "d462e9cb",
   "metadata": {
    "execution": {
     "iopub.execute_input": "2024-11-25T07:44:33.928351Z",
     "iopub.status.busy": "2024-11-25T07:44:33.927968Z",
     "iopub.status.idle": "2024-11-25T07:44:36.013248Z",
     "shell.execute_reply": "2024-11-25T07:44:36.012148Z"
    },
    "papermill": {
     "duration": 2.092996,
     "end_time": "2024-11-25T07:44:36.015442",
     "exception": false,
     "start_time": "2024-11-25T07:44:33.922446",
     "status": "completed"
    },
    "tags": []
   },
   "outputs": [
    {
     "name": "stdout",
     "output_type": "stream",
     "text": [
      "   num_deleted_posts\n",
      "0                  0\n"
     ]
    }
   ],
   "source": [
    "# Write your query here and figure out the answer\n",
    "deleted_posts_query = \"\"\"\n",
    "                      SELECT COUNT(1) AS num_deleted_posts\n",
    "                      FROM `bigquery-public-data.hacker_news.full`\n",
    "                      WHERE deleted = True\n",
    "                      \"\"\"\n",
    "                      \n",
    "# Set up the query\n",
    "query_job = client.query(deleted_posts_query)\n",
    "\n",
    "# API request - run the query, and return a pandas DataFrame\n",
    "deleted_posts = query_job.to_dataframe()\n",
    "\n",
    "# View results\n",
    "print(deleted_posts)"
   ]
  },
  {
   "cell_type": "code",
   "execution_count": 6,
   "id": "06e5488a",
   "metadata": {
    "execution": {
     "iopub.execute_input": "2024-11-25T07:44:36.026055Z",
     "iopub.status.busy": "2024-11-25T07:44:36.025338Z",
     "iopub.status.idle": "2024-11-25T07:44:36.034943Z",
     "shell.execute_reply": "2024-11-25T07:44:36.033886Z"
    },
    "papermill": {
     "duration": 0.017553,
     "end_time": "2024-11-25T07:44:36.037285",
     "exception": false,
     "start_time": "2024-11-25T07:44:36.019732",
     "status": "completed"
    },
    "tags": []
   },
   "outputs": [
    {
     "data": {
      "application/javascript": [
       "parent.postMessage({\"jupyterEvent\": \"custom.exercise_interaction\", \"data\": {\"outcomeType\": 1, \"valueTowardsCompletion\": 0.5, \"interactionType\": 1, \"questionType\": 1, \"questionId\": \"2_NumDeletedPosts\", \"learnToolsVersion\": \"0.3.4\", \"failureMessage\": \"\", \"exceptionClass\": \"\", \"trace\": \"\"}}, \"*\")"
      ],
      "text/plain": [
       "<IPython.core.display.Javascript object>"
      ]
     },
     "metadata": {},
     "output_type": "display_data"
    },
    {
     "data": {
      "text/markdown": [
       "<span style=\"color:#33cc33\">Correct</span>"
      ],
      "text/plain": [
       "Correct"
      ]
     },
     "metadata": {},
     "output_type": "display_data"
    }
   ],
   "source": [
    "num_deleted_posts = 0 # Put your answer here\n",
    "\n",
    "# Check your answer\n",
    "q_2.check()"
   ]
  },
  {
   "cell_type": "markdown",
   "id": "1fcc78ec",
   "metadata": {
    "papermill": {
     "duration": 0.004563,
     "end_time": "2024-11-25T07:44:36.046295",
     "exception": false,
     "start_time": "2024-11-25T07:44:36.041732",
     "status": "completed"
    },
    "tags": []
   },
   "source": [
    "For the solution, uncomment the line below."
   ]
  },
  {
   "cell_type": "code",
   "execution_count": 7,
   "id": "465be2e1",
   "metadata": {
    "execution": {
     "iopub.execute_input": "2024-11-25T07:44:36.057349Z",
     "iopub.status.busy": "2024-11-25T07:44:36.056369Z",
     "iopub.status.idle": "2024-11-25T07:44:36.061095Z",
     "shell.execute_reply": "2024-11-25T07:44:36.059999Z"
    },
    "papermill": {
     "duration": 0.012305,
     "end_time": "2024-11-25T07:44:36.063127",
     "exception": false,
     "start_time": "2024-11-25T07:44:36.050822",
     "status": "completed"
    },
    "tags": []
   },
   "outputs": [],
   "source": [
    "#q_2.solution()"
   ]
  },
  {
   "cell_type": "markdown",
   "id": "45cb7c22",
   "metadata": {
    "papermill": {
     "duration": 0.004616,
     "end_time": "2024-11-25T07:44:36.072230",
     "exception": false,
     "start_time": "2024-11-25T07:44:36.067614",
     "status": "completed"
    },
    "tags": []
   },
   "source": [
    "# Keep Going\n",
    "**[Click here](https://www.kaggle.com/dansbecker/order-by)** to move on and learn about the **ORDER BY** clause."
   ]
  },
  {
   "cell_type": "markdown",
   "id": "f38ab8e5",
   "metadata": {
    "papermill": {
     "duration": 0.004108,
     "end_time": "2024-11-25T07:44:36.080841",
     "exception": false,
     "start_time": "2024-11-25T07:44:36.076733",
     "status": "completed"
    },
    "tags": []
   },
   "source": [
    "---\n",
    "\n",
    "\n",
    "\n",
    "\n",
    "*Have questions or comments? Visit the [course discussion forum](https://www.kaggle.com/learn/intro-to-sql/discussion) to chat with other learners.*"
   ]
  }
 ],
 "metadata": {
  "kaggle": {
   "accelerator": "none",
   "dataSources": [
    {
     "datasetId": 6057,
     "sourceId": 285982,
     "sourceType": "datasetVersion"
    }
   ],
   "isGpuEnabled": false,
   "isInternetEnabled": false,
   "language": "python",
   "sourceType": "notebook"
  },
  "kernelspec": {
   "display_name": "Python 3",
   "language": "python",
   "name": "python3"
  },
  "language_info": {
   "codemirror_mode": {
    "name": "ipython",
    "version": 3
   },
   "file_extension": ".py",
   "mimetype": "text/x-python",
   "name": "python",
   "nbconvert_exporter": "python",
   "pygments_lexer": "ipython3",
   "version": "3.10.14"
  },
  "papermill": {
   "default_parameters": {},
   "duration": 19.454108,
   "end_time": "2024-11-25T07:44:36.908609",
   "environment_variables": {},
   "exception": null,
   "input_path": "__notebook__.ipynb",
   "output_path": "__notebook__.ipynb",
   "parameters": {},
   "start_time": "2024-11-25T07:44:17.454501",
   "version": "2.6.0"
  }
 },
 "nbformat": 4,
 "nbformat_minor": 5
}

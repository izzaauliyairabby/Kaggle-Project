{
 "cells": [
  {
   "cell_type": "markdown",
   "id": "094711ea",
   "metadata": {
    "papermill": {
     "duration": 0.005321,
     "end_time": "2024-11-20T15:36:41.989541",
     "exception": false,
     "start_time": "2024-11-20T15:36:41.984220",
     "status": "completed"
    },
    "tags": []
   },
   "source": [
    "**This notebook is an exercise in the [Data Visualization](https://www.kaggle.com/learn/data-visualization) course.  You can reference the tutorial at [this link](https://www.kaggle.com/alexisbcook/final-project).**\n",
    "\n",
    "---\n"
   ]
  },
  {
   "cell_type": "markdown",
   "id": "270e9e46",
   "metadata": {
    "papermill": {
     "duration": 0.004321,
     "end_time": "2024-11-20T15:36:41.998585",
     "exception": false,
     "start_time": "2024-11-20T15:36:41.994264",
     "status": "completed"
    },
    "tags": []
   },
   "source": [
    "Now it's time for you to demonstrate your new skills with a project of your own!\n",
    "\n",
    "In this exercise, you will work with a dataset of your choosing.  Once you've selected a dataset, you'll design and create your own plot to tell interesting stories behind the data!\n",
    "\n",
    "## Setup\n",
    "\n",
    "Run the next cell to import and configure the Python libraries that you need to complete the exercise."
   ]
  },
  {
   "cell_type": "code",
   "execution_count": 1,
   "id": "ee3d4694",
   "metadata": {
    "execution": {
     "iopub.execute_input": "2024-11-20T15:36:42.009894Z",
     "iopub.status.busy": "2024-11-20T15:36:42.009476Z",
     "iopub.status.idle": "2024-11-20T15:36:45.284429Z",
     "shell.execute_reply": "2024-11-20T15:36:45.283116Z"
    },
    "papermill": {
     "duration": 3.28373,
     "end_time": "2024-11-20T15:36:45.286917",
     "exception": false,
     "start_time": "2024-11-20T15:36:42.003187",
     "status": "completed"
    },
    "tags": []
   },
   "outputs": [
    {
     "name": "stdout",
     "output_type": "stream",
     "text": [
      "Setup Complete\n"
     ]
    }
   ],
   "source": [
    "import pandas as pd\n",
    "pd.plotting.register_matplotlib_converters()\n",
    "import matplotlib.pyplot as plt\n",
    "%matplotlib inline\n",
    "import seaborn as sns\n",
    "print(\"Setup Complete\")"
   ]
  },
  {
   "cell_type": "markdown",
   "id": "41556f0d",
   "metadata": {
    "papermill": {
     "duration": 0.00453,
     "end_time": "2024-11-20T15:36:45.296391",
     "exception": false,
     "start_time": "2024-11-20T15:36:45.291861",
     "status": "completed"
    },
    "tags": []
   },
   "source": [
    "The questions below will give you feedback on your work. Run the following cell to set up the feedback system."
   ]
  },
  {
   "cell_type": "code",
   "execution_count": 2,
   "id": "9a43e15b",
   "metadata": {
    "execution": {
     "iopub.execute_input": "2024-11-20T15:36:45.307999Z",
     "iopub.status.busy": "2024-11-20T15:36:45.307467Z",
     "iopub.status.idle": "2024-11-20T15:36:45.367970Z",
     "shell.execute_reply": "2024-11-20T15:36:45.366775Z"
    },
    "papermill": {
     "duration": 0.069608,
     "end_time": "2024-11-20T15:36:45.370861",
     "exception": false,
     "start_time": "2024-11-20T15:36:45.301253",
     "status": "completed"
    },
    "tags": []
   },
   "outputs": [
    {
     "name": "stdout",
     "output_type": "stream",
     "text": [
      "Setup Complete\n"
     ]
    }
   ],
   "source": [
    "# Set up code checking\n",
    "from learntools.core import binder\n",
    "binder.bind(globals())\n",
    "from learntools.data_viz_to_coder.ex7 import *\n",
    "print(\"Setup Complete\")"
   ]
  },
  {
   "cell_type": "markdown",
   "id": "2df47736",
   "metadata": {
    "papermill": {
     "duration": 0.008561,
     "end_time": "2024-11-20T15:36:45.388800",
     "exception": false,
     "start_time": "2024-11-20T15:36:45.380239",
     "status": "completed"
    },
    "tags": []
   },
   "source": [
    "## Step 1: Attach a dataset to the notebook\n",
    "\n",
    "Begin by selecting a CSV dataset from [Kaggle Datasets](https://www.kaggle.com/datasets).  If you're unsure how to do this, please revisit the instructions in the previous tutorial.\n",
    "\n",
    "Once you have selected a dataset, click on the **[+ Add data]** option in the top right corner.  This will generate a pop-up window that you can use to search for your chosen dataset.  \n",
    "\n",
    "![ex6_search_dataset](https://storage.googleapis.com/kaggle-media/learn/images/cIIWPUS.png)\n",
    "\n",
    "Once you have found the dataset, click on the **[Add]** button to attach it to the notebook.  You can check that it was successful by looking at the **Data** dropdown menu to the right of the notebook -- look for an **input** folder containing a subfolder that matches the name of the dataset.\n",
    "\n",
    "<center>\n",
    "<img src=\"https://storage.googleapis.com/kaggle-media/learn/images/nMYc1Nu.png\" width=30%><br/>\n",
    "</center>\n",
    "\n",
    "You can click on the carat to the left of the name of the dataset to double-check that it contains a CSV file.  For instance, the image below shows that the example dataset contains two CSV files: (1) **dc-wikia-data.csv**, and (2) **marvel-wikia-data.csv**.\n",
    "\n",
    "<center>\n",
    "<img src=\"https://storage.googleapis.com/kaggle-media/learn/images/B4sJkVA.png\" width=30%><br/>\n",
    "</center>\n",
    "\n",
    "Once you've uploaded a dataset with a CSV file, run the code cell below **without changes** to receive credit for your work!"
   ]
  },
  {
   "cell_type": "code",
   "execution_count": 3,
   "id": "202b3e1e",
   "metadata": {
    "execution": {
     "iopub.execute_input": "2024-11-20T15:36:45.405851Z",
     "iopub.status.busy": "2024-11-20T15:36:45.405466Z",
     "iopub.status.idle": "2024-11-20T15:36:45.428500Z",
     "shell.execute_reply": "2024-11-20T15:36:45.426042Z"
    },
    "papermill": {
     "duration": 0.033144,
     "end_time": "2024-11-20T15:36:45.431876",
     "exception": false,
     "start_time": "2024-11-20T15:36:45.398732",
     "status": "completed"
    },
    "tags": []
   },
   "outputs": [
    {
     "data": {
      "application/javascript": [
       "parent.postMessage({\"jupyterEvent\": \"custom.exercise_interaction\", \"data\": {\"outcomeType\": 1, \"valueTowardsCompletion\": 0.25, \"interactionType\": 1, \"questionType\": 2, \"questionId\": \"1_AttachData\", \"learnToolsVersion\": \"0.3.4\", \"failureMessage\": \"\", \"exceptionClass\": \"\", \"trace\": \"\"}}, \"*\")"
      ],
      "text/plain": [
       "<IPython.core.display.Javascript object>"
      ]
     },
     "metadata": {},
     "output_type": "display_data"
    },
    {
     "data": {
      "text/markdown": [
       "<span style=\"color:#33cc33\">Correct:</span> \n",
       "\n"
      ],
      "text/plain": [
       "Correct: \n"
      ]
     },
     "metadata": {},
     "output_type": "display_data"
    }
   ],
   "source": [
    "# Check for a dataset with a CSV file\n",
    "step_1.check()"
   ]
  },
  {
   "cell_type": "markdown",
   "id": "f19958c9",
   "metadata": {
    "papermill": {
     "duration": 0.005224,
     "end_time": "2024-11-20T15:36:45.442670",
     "exception": false,
     "start_time": "2024-11-20T15:36:45.437446",
     "status": "completed"
    },
    "tags": []
   },
   "source": [
    "## Step 2: Specify the filepath\n",
    "\n",
    "Now that the dataset is attached to the notebook, you can find its filepath.  To do this, begin by clicking on the CSV file you'd like to use.  This will open the CSV file in a tab below the notebook.  You can find the filepath towards the top of this new tab.  \n",
    "\n",
    "![ex6_filepath](https://storage.googleapis.com/kaggle-media/learn/images/fgXQV47.png)\n",
    "\n",
    "After you find the filepath corresponding to your dataset, fill it in as the value for `my_filepath` in the code cell below, and run the code cell to check that you've provided a valid filepath.  For instance, in the case of this example dataset, we would set\n",
    "```\n",
    "my_filepath = \"../input/fivethirtyeight-comic-characters-dataset/dc-wikia-data.csv\"\n",
    "```  \n",
    "Note that **you must enclose the filepath in quotation marks**; otherwise, the code will return an error.\n",
    "\n",
    "Once you've entered the filepath, you can close the tab below the notebook by clicking on the **[X]** at the top of the tab."
   ]
  },
  {
   "cell_type": "code",
   "execution_count": 4,
   "id": "f7a70255",
   "metadata": {
    "execution": {
     "iopub.execute_input": "2024-11-20T15:36:45.457866Z",
     "iopub.status.busy": "2024-11-20T15:36:45.457314Z",
     "iopub.status.idle": "2024-11-20T15:36:45.470344Z",
     "shell.execute_reply": "2024-11-20T15:36:45.468864Z"
    },
    "papermill": {
     "duration": 0.023772,
     "end_time": "2024-11-20T15:36:45.473385",
     "exception": false,
     "start_time": "2024-11-20T15:36:45.449613",
     "status": "completed"
    },
    "tags": []
   },
   "outputs": [
    {
     "data": {
      "application/javascript": [
       "parent.postMessage({\"jupyterEvent\": \"custom.exercise_interaction\", \"data\": {\"outcomeType\": 1, \"valueTowardsCompletion\": 0.25, \"interactionType\": 1, \"questionType\": 2, \"questionId\": \"2_Filepath\", \"learnToolsVersion\": \"0.3.4\", \"failureMessage\": \"\", \"exceptionClass\": \"\", \"trace\": \"\"}}, \"*\")"
      ],
      "text/plain": [
       "<IPython.core.display.Javascript object>"
      ]
     },
     "metadata": {},
     "output_type": "display_data"
    },
    {
     "data": {
      "text/markdown": [
       "<span style=\"color:#33cc33\">Correct:</span> \n",
       "\n"
      ],
      "text/plain": [
       "Correct: \n"
      ]
     },
     "metadata": {},
     "output_type": "display_data"
    }
   ],
   "source": [
    "# Fill in the line below: Specify the path of the CSV file to read\n",
    "my_filepath = \"../input/fivethirtyeight-comic-characters-dataset/dc-wikia-data.csv\"\n",
    "\n",
    "# Check for a valid filepath to a CSV file in a dataset\n",
    "step_2.check()"
   ]
  },
  {
   "cell_type": "markdown",
   "id": "5fafb85b",
   "metadata": {
    "papermill": {
     "duration": 0.005328,
     "end_time": "2024-11-20T15:36:45.484576",
     "exception": false,
     "start_time": "2024-11-20T15:36:45.479248",
     "status": "completed"
    },
    "tags": []
   },
   "source": [
    "## Step 3: Load the data\n",
    "\n",
    "Use the next code cell to load your data file into `my_data`.  Use the filepath that you specified in the previous step."
   ]
  },
  {
   "cell_type": "code",
   "execution_count": 5,
   "id": "3e809511",
   "metadata": {
    "execution": {
     "iopub.execute_input": "2024-11-20T15:36:45.499398Z",
     "iopub.status.busy": "2024-11-20T15:36:45.498068Z",
     "iopub.status.idle": "2024-11-20T15:36:45.584522Z",
     "shell.execute_reply": "2024-11-20T15:36:45.583263Z"
    },
    "papermill": {
     "duration": 0.097042,
     "end_time": "2024-11-20T15:36:45.587236",
     "exception": false,
     "start_time": "2024-11-20T15:36:45.490194",
     "status": "completed"
    },
    "tags": []
   },
   "outputs": [
    {
     "data": {
      "application/javascript": [
       "parent.postMessage({\"jupyterEvent\": \"custom.exercise_interaction\", \"data\": {\"outcomeType\": 1, \"valueTowardsCompletion\": 0.25, \"interactionType\": 1, \"questionType\": 2, \"questionId\": \"3_LoadData\", \"learnToolsVersion\": \"0.3.4\", \"failureMessage\": \"\", \"exceptionClass\": \"\", \"trace\": \"\"}}, \"*\")"
      ],
      "text/plain": [
       "<IPython.core.display.Javascript object>"
      ]
     },
     "metadata": {},
     "output_type": "display_data"
    },
    {
     "data": {
      "text/markdown": [
       "<span style=\"color:#33cc33\">Correct:</span> \n",
       "\n"
      ],
      "text/plain": [
       "Correct: \n"
      ]
     },
     "metadata": {},
     "output_type": "display_data"
    }
   ],
   "source": [
    "# Fill in the line below: Read the file into a variable my_data\n",
    "my_data = pd.read_csv(my_filepath)\n",
    "\n",
    "# Check that a dataset has been uploaded into my_data\n",
    "step_3.check()"
   ]
  },
  {
   "cell_type": "markdown",
   "id": "f9faa1c5",
   "metadata": {
    "papermill": {
     "duration": 0.006067,
     "end_time": "2024-11-20T15:36:45.599164",
     "exception": false,
     "start_time": "2024-11-20T15:36:45.593097",
     "status": "completed"
    },
    "tags": []
   },
   "source": [
    "**_After the code cell above is marked correct_**, run the code cell below without changes to view the first five rows of the data."
   ]
  },
  {
   "cell_type": "code",
   "execution_count": 6,
   "id": "c21182ff",
   "metadata": {
    "execution": {
     "iopub.execute_input": "2024-11-20T15:36:45.614090Z",
     "iopub.status.busy": "2024-11-20T15:36:45.613545Z",
     "iopub.status.idle": "2024-11-20T15:36:45.624587Z",
     "shell.execute_reply": "2024-11-20T15:36:45.623219Z"
    },
    "papermill": {
     "duration": 0.022608,
     "end_time": "2024-11-20T15:36:45.627428",
     "exception": false,
     "start_time": "2024-11-20T15:36:45.604820",
     "status": "completed"
    },
    "tags": []
   },
   "outputs": [
    {
     "data": {
      "text/plain": [
       "Index(['page_id', 'name', 'urlslug', 'ID', 'ALIGN', 'EYE', 'HAIR', 'SEX',\n",
       "       'GSM', 'ALIVE', 'APPEARANCES', 'FIRST APPEARANCE', 'YEAR'],\n",
       "      dtype='object')"
      ]
     },
     "execution_count": 6,
     "metadata": {},
     "output_type": "execute_result"
    }
   ],
   "source": [
    "my_data.columns"
   ]
  },
  {
   "cell_type": "code",
   "execution_count": 7,
   "id": "c165312f",
   "metadata": {
    "execution": {
     "iopub.execute_input": "2024-11-20T15:36:45.642141Z",
     "iopub.status.busy": "2024-11-20T15:36:45.641728Z",
     "iopub.status.idle": "2024-11-20T15:36:45.686785Z",
     "shell.execute_reply": "2024-11-20T15:36:45.685305Z"
    },
    "papermill": {
     "duration": 0.055729,
     "end_time": "2024-11-20T15:36:45.689739",
     "exception": false,
     "start_time": "2024-11-20T15:36:45.634010",
     "status": "completed"
    },
    "tags": []
   },
   "outputs": [
    {
     "data": {
      "text/html": [
       "<div>\n",
       "<style scoped>\n",
       "    .dataframe tbody tr th:only-of-type {\n",
       "        vertical-align: middle;\n",
       "    }\n",
       "\n",
       "    .dataframe tbody tr th {\n",
       "        vertical-align: top;\n",
       "    }\n",
       "\n",
       "    .dataframe thead th {\n",
       "        text-align: right;\n",
       "    }\n",
       "</style>\n",
       "<table border=\"1\" class=\"dataframe\">\n",
       "  <thead>\n",
       "    <tr style=\"text-align: right;\">\n",
       "      <th></th>\n",
       "      <th>page_id</th>\n",
       "      <th>APPEARANCES</th>\n",
       "      <th>YEAR</th>\n",
       "    </tr>\n",
       "  </thead>\n",
       "  <tbody>\n",
       "    <tr>\n",
       "      <th>count</th>\n",
       "      <td>6896.000000</td>\n",
       "      <td>6541.000000</td>\n",
       "      <td>6827.000000</td>\n",
       "    </tr>\n",
       "    <tr>\n",
       "      <th>mean</th>\n",
       "      <td>147441.209252</td>\n",
       "      <td>23.625134</td>\n",
       "      <td>1989.766662</td>\n",
       "    </tr>\n",
       "    <tr>\n",
       "      <th>std</th>\n",
       "      <td>108388.631149</td>\n",
       "      <td>87.378509</td>\n",
       "      <td>16.824194</td>\n",
       "    </tr>\n",
       "    <tr>\n",
       "      <th>min</th>\n",
       "      <td>1380.000000</td>\n",
       "      <td>1.000000</td>\n",
       "      <td>1935.000000</td>\n",
       "    </tr>\n",
       "    <tr>\n",
       "      <th>25%</th>\n",
       "      <td>44105.500000</td>\n",
       "      <td>2.000000</td>\n",
       "      <td>1983.000000</td>\n",
       "    </tr>\n",
       "    <tr>\n",
       "      <th>50%</th>\n",
       "      <td>141267.000000</td>\n",
       "      <td>6.000000</td>\n",
       "      <td>1992.000000</td>\n",
       "    </tr>\n",
       "    <tr>\n",
       "      <th>75%</th>\n",
       "      <td>213203.000000</td>\n",
       "      <td>15.000000</td>\n",
       "      <td>2003.000000</td>\n",
       "    </tr>\n",
       "    <tr>\n",
       "      <th>max</th>\n",
       "      <td>404010.000000</td>\n",
       "      <td>3093.000000</td>\n",
       "      <td>2013.000000</td>\n",
       "    </tr>\n",
       "  </tbody>\n",
       "</table>\n",
       "</div>"
      ],
      "text/plain": [
       "             page_id  APPEARANCES         YEAR\n",
       "count    6896.000000  6541.000000  6827.000000\n",
       "mean   147441.209252    23.625134  1989.766662\n",
       "std    108388.631149    87.378509    16.824194\n",
       "min      1380.000000     1.000000  1935.000000\n",
       "25%     44105.500000     2.000000  1983.000000\n",
       "50%    141267.000000     6.000000  1992.000000\n",
       "75%    213203.000000    15.000000  2003.000000\n",
       "max    404010.000000  3093.000000  2013.000000"
      ]
     },
     "execution_count": 7,
     "metadata": {},
     "output_type": "execute_result"
    }
   ],
   "source": [
    "my_data.describe()"
   ]
  },
  {
   "cell_type": "code",
   "execution_count": 8,
   "id": "4e162e4f",
   "metadata": {
    "execution": {
     "iopub.execute_input": "2024-11-20T15:36:45.704060Z",
     "iopub.status.busy": "2024-11-20T15:36:45.703551Z",
     "iopub.status.idle": "2024-11-20T15:36:45.711558Z",
     "shell.execute_reply": "2024-11-20T15:36:45.710354Z"
    },
    "papermill": {
     "duration": 0.017679,
     "end_time": "2024-11-20T15:36:45.713843",
     "exception": false,
     "start_time": "2024-11-20T15:36:45.696164",
     "status": "completed"
    },
    "tags": []
   },
   "outputs": [
    {
     "data": {
      "text/plain": [
       "6896"
      ]
     },
     "execution_count": 8,
     "metadata": {},
     "output_type": "execute_result"
    }
   ],
   "source": [
    "len(my_data)"
   ]
  },
  {
   "cell_type": "code",
   "execution_count": 9,
   "id": "fab93ad8",
   "metadata": {
    "execution": {
     "iopub.execute_input": "2024-11-20T15:36:45.729083Z",
     "iopub.status.busy": "2024-11-20T15:36:45.728334Z",
     "iopub.status.idle": "2024-11-20T15:36:45.750858Z",
     "shell.execute_reply": "2024-11-20T15:36:45.749414Z"
    },
    "papermill": {
     "duration": 0.032469,
     "end_time": "2024-11-20T15:36:45.753265",
     "exception": false,
     "start_time": "2024-11-20T15:36:45.720796",
     "status": "completed"
    },
    "tags": []
   },
   "outputs": [
    {
     "data": {
      "text/html": [
       "<div>\n",
       "<style scoped>\n",
       "    .dataframe tbody tr th:only-of-type {\n",
       "        vertical-align: middle;\n",
       "    }\n",
       "\n",
       "    .dataframe tbody tr th {\n",
       "        vertical-align: top;\n",
       "    }\n",
       "\n",
       "    .dataframe thead th {\n",
       "        text-align: right;\n",
       "    }\n",
       "</style>\n",
       "<table border=\"1\" class=\"dataframe\">\n",
       "  <thead>\n",
       "    <tr style=\"text-align: right;\">\n",
       "      <th></th>\n",
       "      <th>page_id</th>\n",
       "      <th>name</th>\n",
       "      <th>urlslug</th>\n",
       "      <th>ID</th>\n",
       "      <th>ALIGN</th>\n",
       "      <th>EYE</th>\n",
       "      <th>HAIR</th>\n",
       "      <th>SEX</th>\n",
       "      <th>GSM</th>\n",
       "      <th>ALIVE</th>\n",
       "      <th>APPEARANCES</th>\n",
       "      <th>FIRST APPEARANCE</th>\n",
       "      <th>YEAR</th>\n",
       "    </tr>\n",
       "  </thead>\n",
       "  <tbody>\n",
       "    <tr>\n",
       "      <th>0</th>\n",
       "      <td>1422</td>\n",
       "      <td>Batman (Bruce Wayne)</td>\n",
       "      <td>\\/wiki\\/Batman_(Bruce_Wayne)</td>\n",
       "      <td>Secret Identity</td>\n",
       "      <td>Good Characters</td>\n",
       "      <td>Blue Eyes</td>\n",
       "      <td>Black Hair</td>\n",
       "      <td>Male Characters</td>\n",
       "      <td>NaN</td>\n",
       "      <td>Living Characters</td>\n",
       "      <td>3093.0</td>\n",
       "      <td>1939, May</td>\n",
       "      <td>1939.0</td>\n",
       "    </tr>\n",
       "    <tr>\n",
       "      <th>1</th>\n",
       "      <td>23387</td>\n",
       "      <td>Superman (Clark Kent)</td>\n",
       "      <td>\\/wiki\\/Superman_(Clark_Kent)</td>\n",
       "      <td>Secret Identity</td>\n",
       "      <td>Good Characters</td>\n",
       "      <td>Blue Eyes</td>\n",
       "      <td>Black Hair</td>\n",
       "      <td>Male Characters</td>\n",
       "      <td>NaN</td>\n",
       "      <td>Living Characters</td>\n",
       "      <td>2496.0</td>\n",
       "      <td>1986, October</td>\n",
       "      <td>1986.0</td>\n",
       "    </tr>\n",
       "    <tr>\n",
       "      <th>2</th>\n",
       "      <td>1458</td>\n",
       "      <td>Green Lantern (Hal Jordan)</td>\n",
       "      <td>\\/wiki\\/Green_Lantern_(Hal_Jordan)</td>\n",
       "      <td>Secret Identity</td>\n",
       "      <td>Good Characters</td>\n",
       "      <td>Brown Eyes</td>\n",
       "      <td>Brown Hair</td>\n",
       "      <td>Male Characters</td>\n",
       "      <td>NaN</td>\n",
       "      <td>Living Characters</td>\n",
       "      <td>1565.0</td>\n",
       "      <td>1959, October</td>\n",
       "      <td>1959.0</td>\n",
       "    </tr>\n",
       "    <tr>\n",
       "      <th>3</th>\n",
       "      <td>1659</td>\n",
       "      <td>James Gordon (New Earth)</td>\n",
       "      <td>\\/wiki\\/James_Gordon_(New_Earth)</td>\n",
       "      <td>Public Identity</td>\n",
       "      <td>Good Characters</td>\n",
       "      <td>Brown Eyes</td>\n",
       "      <td>White Hair</td>\n",
       "      <td>Male Characters</td>\n",
       "      <td>NaN</td>\n",
       "      <td>Living Characters</td>\n",
       "      <td>1316.0</td>\n",
       "      <td>1987, February</td>\n",
       "      <td>1987.0</td>\n",
       "    </tr>\n",
       "    <tr>\n",
       "      <th>4</th>\n",
       "      <td>1576</td>\n",
       "      <td>Richard Grayson (New Earth)</td>\n",
       "      <td>\\/wiki\\/Richard_Grayson_(New_Earth)</td>\n",
       "      <td>Secret Identity</td>\n",
       "      <td>Good Characters</td>\n",
       "      <td>Blue Eyes</td>\n",
       "      <td>Black Hair</td>\n",
       "      <td>Male Characters</td>\n",
       "      <td>NaN</td>\n",
       "      <td>Living Characters</td>\n",
       "      <td>1237.0</td>\n",
       "      <td>1940, April</td>\n",
       "      <td>1940.0</td>\n",
       "    </tr>\n",
       "  </tbody>\n",
       "</table>\n",
       "</div>"
      ],
      "text/plain": [
       "   page_id                         name                              urlslug  \\\n",
       "0     1422         Batman (Bruce Wayne)         \\/wiki\\/Batman_(Bruce_Wayne)   \n",
       "1    23387        Superman (Clark Kent)        \\/wiki\\/Superman_(Clark_Kent)   \n",
       "2     1458   Green Lantern (Hal Jordan)   \\/wiki\\/Green_Lantern_(Hal_Jordan)   \n",
       "3     1659     James Gordon (New Earth)     \\/wiki\\/James_Gordon_(New_Earth)   \n",
       "4     1576  Richard Grayson (New Earth)  \\/wiki\\/Richard_Grayson_(New_Earth)   \n",
       "\n",
       "                ID            ALIGN         EYE        HAIR              SEX  \\\n",
       "0  Secret Identity  Good Characters   Blue Eyes  Black Hair  Male Characters   \n",
       "1  Secret Identity  Good Characters   Blue Eyes  Black Hair  Male Characters   \n",
       "2  Secret Identity  Good Characters  Brown Eyes  Brown Hair  Male Characters   \n",
       "3  Public Identity  Good Characters  Brown Eyes  White Hair  Male Characters   \n",
       "4  Secret Identity  Good Characters   Blue Eyes  Black Hair  Male Characters   \n",
       "\n",
       "   GSM              ALIVE  APPEARANCES FIRST APPEARANCE    YEAR  \n",
       "0  NaN  Living Characters       3093.0        1939, May  1939.0  \n",
       "1  NaN  Living Characters       2496.0    1986, October  1986.0  \n",
       "2  NaN  Living Characters       1565.0    1959, October  1959.0  \n",
       "3  NaN  Living Characters       1316.0   1987, February  1987.0  \n",
       "4  NaN  Living Characters       1237.0      1940, April  1940.0  "
      ]
     },
     "execution_count": 9,
     "metadata": {},
     "output_type": "execute_result"
    }
   ],
   "source": [
    "# Print the first five rows of the data\n",
    "my_data.head(5)"
   ]
  },
  {
   "cell_type": "markdown",
   "id": "c4fba514",
   "metadata": {
    "papermill": {
     "duration": 0.007442,
     "end_time": "2024-11-20T15:36:45.767679",
     "exception": false,
     "start_time": "2024-11-20T15:36:45.760237",
     "status": "completed"
    },
    "tags": []
   },
   "source": [
    "## Step 4: Visualize the data\n",
    "\n",
    "Use the next code cell to create a figure that tells a story behind your dataset.  You can use any chart type (_line chart, bar chart, heatmap, etc_) of your choosing!"
   ]
  },
  {
   "cell_type": "code",
   "execution_count": 10,
   "id": "be08bf4f",
   "metadata": {
    "execution": {
     "iopub.execute_input": "2024-11-20T15:36:45.783859Z",
     "iopub.status.busy": "2024-11-20T15:36:45.782916Z",
     "iopub.status.idle": "2024-11-20T15:36:46.162998Z",
     "shell.execute_reply": "2024-11-20T15:36:46.161771Z"
    },
    "papermill": {
     "duration": 0.389767,
     "end_time": "2024-11-20T15:36:46.165412",
     "exception": false,
     "start_time": "2024-11-20T15:36:45.775645",
     "status": "completed"
    },
    "tags": []
   },
   "outputs": [
    {
     "data": {
      "image/png": "[encoded data removed]",
      "text/plain": [
       "<Figure size 640x480 with 1 Axes>"
      ]
     },
     "metadata": {},
     "output_type": "display_data"
    }
   ],
   "source": [
    "# @title YEAR\n",
    "\n",
    "from matplotlib import pyplot as plt\n",
    "my_data['YEAR'].plot(kind='hist', bins=20, title='YEAR')\n",
    "plt.gca().spines[['top', 'right',]].set_visible(False)"
   ]
  },
  {
   "cell_type": "code",
   "execution_count": 11,
   "id": "3c6e285a",
   "metadata": {
    "execution": {
     "iopub.execute_input": "2024-11-20T15:36:46.179492Z",
     "iopub.status.busy": "2024-11-20T15:36:46.179083Z",
     "iopub.status.idle": "2024-11-20T15:36:46.515114Z",
     "shell.execute_reply": "2024-11-20T15:36:46.513838Z"
    },
    "papermill": {
     "duration": 0.34617,
     "end_time": "2024-11-20T15:36:46.517871",
     "exception": false,
     "start_time": "2024-11-20T15:36:46.171701",
     "status": "completed"
    },
    "tags": []
   },
   "outputs": [
    {
     "data": {
      "application/javascript": [
       "parent.postMessage({\"jupyterEvent\": \"custom.exercise_interaction\", \"data\": {\"outcomeType\": 1, \"valueTowardsCompletion\": 0.25, \"interactionType\": 1, \"questionType\": 2, \"questionId\": \"4_CreatePlot\", \"learnToolsVersion\": \"0.3.4\", \"failureMessage\": \"\", \"exceptionClass\": \"\", \"trace\": \"\"}}, \"*\")"
      ],
      "text/plain": [
       "<IPython.core.display.Javascript object>"
      ]
     },
     "metadata": {},
     "output_type": "display_data"
    },
    {
     "data": {
      "text/markdown": [
       "<span style=\"color:#33cc33\">Correct:</span> \n",
       "\n"
      ],
      "text/plain": [
       "Correct: \n"
      ]
     },
     "metadata": {},
     "output_type": "display_data"
    },
    {
     "data": {
      "image/png": "[encoded data removed]",
      "text/plain": [
       "<Figure size 640x480 with 1 Axes>"
      ]
     },
     "metadata": {},
     "output_type": "display_data"
    }
   ],
   "source": [
    "from matplotlib import pyplot as plt\n",
    "my_data['page_id'].plot(kind='hist', bins=20, title='page_id')\n",
    "plt.gca().spines[['top', 'right',]].set_visible(False)\n",
    "# Check that a figure appears below\n",
    "step_4.check()"
   ]
  },
  {
   "cell_type": "code",
   "execution_count": 12,
   "id": "6930136e",
   "metadata": {
    "execution": {
     "iopub.execute_input": "2024-11-20T15:36:46.534109Z",
     "iopub.status.busy": "2024-11-20T15:36:46.533743Z",
     "iopub.status.idle": "2024-11-20T15:36:46.862272Z",
     "shell.execute_reply": "2024-11-20T15:36:46.860897Z"
    },
    "papermill": {
     "duration": 0.339963,
     "end_time": "2024-11-20T15:36:46.865643",
     "exception": false,
     "start_time": "2024-11-20T15:36:46.525680",
     "status": "completed"
    },
    "tags": []
   },
   "outputs": [
    {
     "data": {
      "image/png": "[encoded data removed]",
      "text/plain": [
       "<Figure size 640x480 with 1 Axes>"
      ]
     },
     "metadata": {},
     "output_type": "display_data"
    }
   ],
   "source": [
    "# @title APPEARANCES vs YEAR\n",
    "\n",
    "from matplotlib import pyplot as plt\n",
    "my_data.plot(kind='scatter', x='APPEARANCES', y='YEAR', s=32, alpha=.8)\n",
    "plt.gca().spines[['top', 'right',]].set_visible(False)"
   ]
  },
  {
   "cell_type": "code",
   "execution_count": 13,
   "id": "3f7c7e9f",
   "metadata": {
    "execution": {
     "iopub.execute_input": "2024-11-20T15:36:46.884450Z",
     "iopub.status.busy": "2024-11-20T15:36:46.884004Z",
     "iopub.status.idle": "2024-11-20T15:36:47.236240Z",
     "shell.execute_reply": "2024-11-20T15:36:47.235133Z"
    },
    "papermill": {
     "duration": 0.364601,
     "end_time": "2024-11-20T15:36:47.238863",
     "exception": false,
     "start_time": "2024-11-20T15:36:46.874262",
     "status": "completed"
    },
    "tags": []
   },
   "outputs": [
    {
     "data": {
      "image/png": "[encoded data removed]",
      "text/plain": [
       "<Figure size 1200x480 with 1 Axes>"
      ]
     },
     "metadata": {},
     "output_type": "display_data"
    }
   ],
   "source": [
    "# @title ID vs page_id\n",
    "\n",
    "from matplotlib import pyplot as plt\n",
    "import seaborn as sns\n",
    "figsize = (12, 1.2 * len(my_data['ID'].unique()))\n",
    "plt.figure(figsize=figsize)\n",
    "sns.violinplot(my_data, x='page_id', y='ID', inner='box', palette='Dark2')\n",
    "sns.despine(top=True, right=True, bottom=True, left=True)"
   ]
  },
  {
   "cell_type": "markdown",
   "id": "246eda20",
   "metadata": {
    "papermill": {
     "duration": 0.012735,
     "end_time": "2024-11-20T15:36:47.260656",
     "exception": false,
     "start_time": "2024-11-20T15:36:47.247921",
     "status": "completed"
    },
    "tags": []
   },
   "source": [
    "## Keep going\n",
    "\n",
    "Learn how to use your skills after completing the micro-course to create data visualizations in a **[final tutorial](https://www.kaggle.com/alexisbcook/creating-your-own-notebooks)**."
   ]
  },
  {
   "cell_type": "markdown",
   "id": "24624f6e",
   "metadata": {
    "papermill": {
     "duration": 0.013405,
     "end_time": "2024-11-20T15:36:47.282869",
     "exception": false,
     "start_time": "2024-11-20T15:36:47.269464",
     "status": "completed"
    },
    "tags": []
   },
   "source": [
    "---\n",
    "\n",
    "\n",
    "\n",
    "\n",
    "*Have questions or comments? Visit the [course discussion forum](https://www.kaggle.com/learn/data-visualization/discussion) to chat with other learners.*"
   ]
  }
 ],
 "metadata": {
  "kaggle": {
   "accelerator": "none",
   "dataSources": [
    {
     "datasetId": 56596,
     "sourceId": 396588,
     "sourceType": "datasetVersion"
    }
   ],
   "isGpuEnabled": false,
   "isInternetEnabled": false,
   "language": "python",
   "sourceType": "notebook"
  },
  "kernelspec": {
   "display_name": "Python 3",
   "language": "python",
   "name": "python3"
  },
  "language_info": {
   "codemirror_mode": {
    "name": "ipython",
    "version": 3
   },
   "file_extension": ".py",
   "mimetype": "text/x-python",
   "name": "python",
   "nbconvert_exporter": "python",
   "pygments_lexer": "ipython3",
   "version": "3.10.14"
  },
  "papermill": {
   "default_parameters": {},
   "duration": 9.291416,
   "end_time": "2024-11-20T15:36:48.124880",
   "environment_variables": {},
   "exception": null,
   "input_path": "__notebook__.ipynb",
   "output_path": "__notebook__.ipynb",
   "parameters": {},
   "start_time": "2024-11-20T15:36:38.833464",
   "version": "2.6.0"
  }
 },
 "nbformat": 4,
 "nbformat_minor": 5
}

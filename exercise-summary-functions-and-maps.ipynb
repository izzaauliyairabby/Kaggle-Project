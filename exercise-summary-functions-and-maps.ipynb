{
 "cells": [
  {
   "cell_type": "markdown",
   "id": "aec43497",
   "metadata": {
    "papermill": {
     "duration": 0.007465,
     "end_time": "2024-11-10T21:14:52.371848",
     "exception": false,
     "start_time": "2024-11-10T21:14:52.364383",
     "status": "completed"
    },
    "tags": []
   },
   "source": [
    "**This notebook is an exercise in the [Pandas](https://www.kaggle.com/learn/pandas) course.  You can reference the tutorial at [this link](https://www.kaggle.com/residentmario/summary-functions-and-maps).**\n",
    "\n",
    "---\n"
   ]
  },
  {
   "cell_type": "markdown",
   "id": "835293e5",
   "metadata": {
    "papermill": {
     "duration": 0.005837,
     "end_time": "2024-11-10T21:14:52.384131",
     "exception": false,
     "start_time": "2024-11-10T21:14:52.378294",
     "status": "completed"
    },
    "tags": []
   },
   "source": [
    "# Introduction\n",
    "\n",
    "Now you are ready to get a deeper understanding of your data.\n",
    "\n",
    "Run the following cell to load your data and some utility functions (including code to check your answers)."
   ]
  },
  {
   "cell_type": "code",
   "execution_count": 1,
   "id": "e2c2f0c3",
   "metadata": {
    "execution": {
     "iopub.execute_input": "2024-11-10T21:14:52.399057Z",
     "iopub.status.busy": "2024-11-10T21:14:52.398479Z",
     "iopub.status.idle": "2024-11-10T21:14:59.869435Z",
     "shell.execute_reply": "2024-11-10T21:14:59.868249Z"
    },
    "papermill": {
     "duration": 7.481889,
     "end_time": "2024-11-10T21:14:59.872109",
     "exception": false,
     "start_time": "2024-11-10T21:14:52.390220",
     "status": "completed"
    },
    "tags": []
   },
   "outputs": [
    {
     "name": "stdout",
     "output_type": "stream",
     "text": [
      "Setup complete.\n"
     ]
    },
    {
     "data": {
      "text/html": [
       "<div>\n",
       "<style scoped>\n",
       "    .dataframe tbody tr th:only-of-type {\n",
       "        vertical-align: middle;\n",
       "    }\n",
       "\n",
       "    .dataframe tbody tr th {\n",
       "        vertical-align: top;\n",
       "    }\n",
       "\n",
       "    .dataframe thead th {\n",
       "        text-align: right;\n",
       "    }\n",
       "</style>\n",
       "<table border=\"1\" class=\"dataframe\">\n",
       "  <thead>\n",
       "    <tr style=\"text-align: right;\">\n",
       "      <th></th>\n",
       "      <th>country</th>\n",
       "      <th>description</th>\n",
       "      <th>designation</th>\n",
       "      <th>points</th>\n",
       "      <th>price</th>\n",
       "      <th>province</th>\n",
       "      <th>region_1</th>\n",
       "      <th>region_2</th>\n",
       "      <th>taster_name</th>\n",
       "      <th>taster_twitter_handle</th>\n",
       "      <th>title</th>\n",
       "      <th>variety</th>\n",
       "      <th>winery</th>\n",
       "    </tr>\n",
       "  </thead>\n",
       "  <tbody>\n",
       "    <tr>\n",
       "      <th>0</th>\n",
       "      <td>Italy</td>\n",
       "      <td>Aromas include tropical fruit, broom, brimston...</td>\n",
       "      <td>Vulkà Bianco</td>\n",
       "      <td>87</td>\n",
       "      <td>NaN</td>\n",
       "      <td>Sicily &amp; Sardinia</td>\n",
       "      <td>Etna</td>\n",
       "      <td>NaN</td>\n",
       "      <td>Kerin O’Keefe</td>\n",
       "      <td>@kerinokeefe</td>\n",
       "      <td>Nicosia 2013 Vulkà Bianco  (Etna)</td>\n",
       "      <td>White Blend</td>\n",
       "      <td>Nicosia</td>\n",
       "    </tr>\n",
       "    <tr>\n",
       "      <th>1</th>\n",
       "      <td>Portugal</td>\n",
       "      <td>This is ripe and fruity, a wine that is smooth...</td>\n",
       "      <td>Avidagos</td>\n",
       "      <td>87</td>\n",
       "      <td>15.0</td>\n",
       "      <td>Douro</td>\n",
       "      <td>NaN</td>\n",
       "      <td>NaN</td>\n",
       "      <td>Roger Voss</td>\n",
       "      <td>@vossroger</td>\n",
       "      <td>Quinta dos Avidagos 2011 Avidagos Red (Douro)</td>\n",
       "      <td>Portuguese Red</td>\n",
       "      <td>Quinta dos Avidagos</td>\n",
       "    </tr>\n",
       "    <tr>\n",
       "      <th>2</th>\n",
       "      <td>US</td>\n",
       "      <td>Tart and snappy, the flavors of lime flesh and...</td>\n",
       "      <td>NaN</td>\n",
       "      <td>87</td>\n",
       "      <td>14.0</td>\n",
       "      <td>Oregon</td>\n",
       "      <td>Willamette Valley</td>\n",
       "      <td>Willamette Valley</td>\n",
       "      <td>Paul Gregutt</td>\n",
       "      <td>@paulgwine</td>\n",
       "      <td>Rainstorm 2013 Pinot Gris (Willamette Valley)</td>\n",
       "      <td>Pinot Gris</td>\n",
       "      <td>Rainstorm</td>\n",
       "    </tr>\n",
       "    <tr>\n",
       "      <th>3</th>\n",
       "      <td>US</td>\n",
       "      <td>Pineapple rind, lemon pith and orange blossom ...</td>\n",
       "      <td>Reserve Late Harvest</td>\n",
       "      <td>87</td>\n",
       "      <td>13.0</td>\n",
       "      <td>Michigan</td>\n",
       "      <td>Lake Michigan Shore</td>\n",
       "      <td>NaN</td>\n",
       "      <td>Alexander Peartree</td>\n",
       "      <td>NaN</td>\n",
       "      <td>St. Julian 2013 Reserve Late Harvest Riesling ...</td>\n",
       "      <td>Riesling</td>\n",
       "      <td>St. Julian</td>\n",
       "    </tr>\n",
       "    <tr>\n",
       "      <th>4</th>\n",
       "      <td>US</td>\n",
       "      <td>Much like the regular bottling from 2012, this...</td>\n",
       "      <td>Vintner's Reserve Wild Child Block</td>\n",
       "      <td>87</td>\n",
       "      <td>65.0</td>\n",
       "      <td>Oregon</td>\n",
       "      <td>Willamette Valley</td>\n",
       "      <td>Willamette Valley</td>\n",
       "      <td>Paul Gregutt</td>\n",
       "      <td>@paulgwine</td>\n",
       "      <td>Sweet Cheeks 2012 Vintner's Reserve Wild Child...</td>\n",
       "      <td>Pinot Noir</td>\n",
       "      <td>Sweet Cheeks</td>\n",
       "    </tr>\n",
       "  </tbody>\n",
       "</table>\n",
       "</div>"
      ],
      "text/plain": [
       "    country                                        description  \\\n",
       "0     Italy  Aromas include tropical fruit, broom, brimston...   \n",
       "1  Portugal  This is ripe and fruity, a wine that is smooth...   \n",
       "2        US  Tart and snappy, the flavors of lime flesh and...   \n",
       "3        US  Pineapple rind, lemon pith and orange blossom ...   \n",
       "4        US  Much like the regular bottling from 2012, this...   \n",
       "\n",
       "                          designation  points  price           province  \\\n",
       "0                        Vulkà Bianco      87    NaN  Sicily & Sardinia   \n",
       "1                            Avidagos      87   15.0              Douro   \n",
       "2                                 NaN      87   14.0             Oregon   \n",
       "3                Reserve Late Harvest      87   13.0           Michigan   \n",
       "4  Vintner's Reserve Wild Child Block      87   65.0             Oregon   \n",
       "\n",
       "              region_1           region_2         taster_name  \\\n",
       "0                 Etna                NaN       Kerin O’Keefe   \n",
       "1                  NaN                NaN          Roger Voss   \n",
       "2    Willamette Valley  Willamette Valley        Paul Gregutt   \n",
       "3  Lake Michigan Shore                NaN  Alexander Peartree   \n",
       "4    Willamette Valley  Willamette Valley        Paul Gregutt   \n",
       "\n",
       "  taster_twitter_handle                                              title  \\\n",
       "0          @kerinokeefe                  Nicosia 2013 Vulkà Bianco  (Etna)   \n",
       "1            @vossroger      Quinta dos Avidagos 2011 Avidagos Red (Douro)   \n",
       "2           @paulgwine       Rainstorm 2013 Pinot Gris (Willamette Valley)   \n",
       "3                   NaN  St. Julian 2013 Reserve Late Harvest Riesling ...   \n",
       "4           @paulgwine   Sweet Cheeks 2012 Vintner's Reserve Wild Child...   \n",
       "\n",
       "          variety               winery  \n",
       "0     White Blend              Nicosia  \n",
       "1  Portuguese Red  Quinta dos Avidagos  \n",
       "2      Pinot Gris            Rainstorm  \n",
       "3        Riesling           St. Julian  \n",
       "4      Pinot Noir         Sweet Cheeks  "
      ]
     },
     "execution_count": 1,
     "metadata": {},
     "output_type": "execute_result"
    }
   ],
   "source": [
    "import pandas as pd\n",
    "pd.set_option(\"display.max_rows\", 5)\n",
    "reviews = pd.read_csv(\"../input/wine-reviews/winemag-data-130k-v2.csv\", index_col=0)\n",
    "\n",
    "from learntools.core import binder; binder.bind(globals())\n",
    "from learntools.pandas.summary_functions_and_maps import *\n",
    "print(\"Setup complete.\")\n",
    "\n",
    "reviews.head()"
   ]
  },
  {
   "cell_type": "markdown",
   "id": "79418a7e",
   "metadata": {
    "papermill": {
     "duration": 0.006267,
     "end_time": "2024-11-10T21:14:59.885026",
     "exception": false,
     "start_time": "2024-11-10T21:14:59.878759",
     "status": "completed"
    },
    "tags": []
   },
   "source": [
    "# Exercises"
   ]
  },
  {
   "cell_type": "markdown",
   "id": "83137fab",
   "metadata": {
    "papermill": {
     "duration": 0.006637,
     "end_time": "2024-11-10T21:14:59.898148",
     "exception": false,
     "start_time": "2024-11-10T21:14:59.891511",
     "status": "completed"
    },
    "tags": []
   },
   "source": [
    "## 1.\n",
    "\n",
    "What is the median of the `points` column in the `reviews` DataFrame?"
   ]
  },
  {
   "cell_type": "code",
   "execution_count": 2,
   "id": "4736a522",
   "metadata": {
    "execution": {
     "iopub.execute_input": "2024-11-10T21:14:59.919077Z",
     "iopub.status.busy": "2024-11-10T21:14:59.918032Z",
     "iopub.status.idle": "2024-11-10T21:14:59.929694Z",
     "shell.execute_reply": "2024-11-10T21:14:59.928575Z"
    },
    "papermill": {
     "duration": 0.022659,
     "end_time": "2024-11-10T21:14:59.932173",
     "exception": false,
     "start_time": "2024-11-10T21:14:59.909514",
     "status": "completed"
    },
    "tags": []
   },
   "outputs": [
    {
     "data": {
      "application/javascript": [
       "parent.postMessage({\"jupyterEvent\": \"custom.exercise_interaction\", \"data\": {\"outcomeType\": 1, \"valueTowardsCompletion\": 0.14285714285714285, \"interactionType\": 1, \"questionType\": 1, \"questionId\": \"1_MedianPoints\", \"learnToolsVersion\": \"0.3.4\", \"failureMessage\": \"\", \"exceptionClass\": \"\", \"trace\": \"\"}}, \"*\")"
      ],
      "text/plain": [
       "<IPython.core.display.Javascript object>"
      ]
     },
     "metadata": {},
     "output_type": "display_data"
    },
    {
     "data": {
      "text/markdown": [
       "<span style=\"color:#33cc33\">Correct</span>"
      ],
      "text/plain": [
       "Correct"
      ]
     },
     "metadata": {},
     "output_type": "display_data"
    }
   ],
   "source": [
    "median_points = reviews.points.median()\n",
    "\n",
    "# Check your answer\n",
    "q1.check()"
   ]
  },
  {
   "cell_type": "code",
   "execution_count": 3,
   "id": "61a79908",
   "metadata": {
    "execution": {
     "iopub.execute_input": "2024-11-10T21:14:59.948295Z",
     "iopub.status.busy": "2024-11-10T21:14:59.947858Z",
     "iopub.status.idle": "2024-11-10T21:14:59.952885Z",
     "shell.execute_reply": "2024-11-10T21:14:59.951788Z"
    },
    "papermill": {
     "duration": 0.01611,
     "end_time": "2024-11-10T21:14:59.955645",
     "exception": false,
     "start_time": "2024-11-10T21:14:59.939535",
     "status": "completed"
    },
    "tags": []
   },
   "outputs": [],
   "source": [
    "#q1.hint()\n",
    "#q1.solution()"
   ]
  },
  {
   "cell_type": "markdown",
   "id": "2097fa70",
   "metadata": {
    "papermill": {
     "duration": 0.00673,
     "end_time": "2024-11-10T21:14:59.969514",
     "exception": false,
     "start_time": "2024-11-10T21:14:59.962784",
     "status": "completed"
    },
    "tags": []
   },
   "source": [
    "## 2. \n",
    "What countries are represented in the dataset? (Your answer should not include any duplicates.)"
   ]
  },
  {
   "cell_type": "code",
   "execution_count": 4,
   "id": "1807e378",
   "metadata": {
    "execution": {
     "iopub.execute_input": "2024-11-10T21:14:59.986698Z",
     "iopub.status.busy": "2024-11-10T21:14:59.986256Z",
     "iopub.status.idle": "2024-11-10T21:15:00.001217Z",
     "shell.execute_reply": "2024-11-10T21:14:59.999501Z"
    },
    "papermill": {
     "duration": 0.025586,
     "end_time": "2024-11-10T21:15:00.003791",
     "exception": false,
     "start_time": "2024-11-10T21:14:59.978205",
     "status": "completed"
    },
    "tags": []
   },
   "outputs": [
    {
     "data": {
      "application/javascript": [
       "parent.postMessage({\"jupyterEvent\": \"custom.exercise_interaction\", \"data\": {\"outcomeType\": 1, \"valueTowardsCompletion\": 0.14285714285714285, \"interactionType\": 1, \"questionType\": 2, \"questionId\": \"2_UniqueCountries\", \"learnToolsVersion\": \"0.3.4\", \"failureMessage\": \"\", \"exceptionClass\": \"\", \"trace\": \"\"}}, \"*\")"
      ],
      "text/plain": [
       "<IPython.core.display.Javascript object>"
      ]
     },
     "metadata": {},
     "output_type": "display_data"
    },
    {
     "data": {
      "text/markdown": [
       "<span style=\"color:#33cc33\">Correct</span>"
      ],
      "text/plain": [
       "Correct"
      ]
     },
     "metadata": {},
     "output_type": "display_data"
    }
   ],
   "source": [
    "countries = reviews.country.unique()\n",
    "\n",
    "# Check your answer\n",
    "q2.check()"
   ]
  },
  {
   "cell_type": "code",
   "execution_count": 5,
   "id": "30dab7ad",
   "metadata": {
    "execution": {
     "iopub.execute_input": "2024-11-10T21:15:00.019904Z",
     "iopub.status.busy": "2024-11-10T21:15:00.019469Z",
     "iopub.status.idle": "2024-11-10T21:15:00.024439Z",
     "shell.execute_reply": "2024-11-10T21:15:00.023052Z"
    },
    "papermill": {
     "duration": 0.015968,
     "end_time": "2024-11-10T21:15:00.026941",
     "exception": false,
     "start_time": "2024-11-10T21:15:00.010973",
     "status": "completed"
    },
    "tags": []
   },
   "outputs": [],
   "source": [
    "#q2.hint()\n",
    "#q2.solution()"
   ]
  },
  {
   "cell_type": "markdown",
   "id": "d976a872",
   "metadata": {
    "papermill": {
     "duration": 0.006899,
     "end_time": "2024-11-10T21:15:00.041336",
     "exception": false,
     "start_time": "2024-11-10T21:15:00.034437",
     "status": "completed"
    },
    "tags": []
   },
   "source": [
    "## 3.\n",
    "How often does each country appear in the dataset? Create a Series `reviews_per_country` mapping countries to the count of reviews of wines from that country."
   ]
  },
  {
   "cell_type": "code",
   "execution_count": 6,
   "id": "c0c9b35d",
   "metadata": {
    "execution": {
     "iopub.execute_input": "2024-11-10T21:15:00.057336Z",
     "iopub.status.busy": "2024-11-10T21:15:00.056904Z",
     "iopub.status.idle": "2024-11-10T21:15:00.076472Z",
     "shell.execute_reply": "2024-11-10T21:15:00.075388Z"
    },
    "papermill": {
     "duration": 0.03039,
     "end_time": "2024-11-10T21:15:00.078756",
     "exception": false,
     "start_time": "2024-11-10T21:15:00.048366",
     "status": "completed"
    },
    "tags": []
   },
   "outputs": [
    {
     "data": {
      "application/javascript": [
       "parent.postMessage({\"jupyterEvent\": \"custom.exercise_interaction\", \"data\": {\"outcomeType\": 1, \"valueTowardsCompletion\": 0.14285714285714285, \"interactionType\": 1, \"questionType\": 1, \"questionId\": \"3_ReviewsPerCountry\", \"learnToolsVersion\": \"0.3.4\", \"failureMessage\": \"\", \"exceptionClass\": \"\", \"trace\": \"\"}}, \"*\")"
      ],
      "text/plain": [
       "<IPython.core.display.Javascript object>"
      ]
     },
     "metadata": {},
     "output_type": "display_data"
    },
    {
     "data": {
      "text/markdown": [
       "<span style=\"color:#33cc33\">Correct</span>"
      ],
      "text/plain": [
       "Correct"
      ]
     },
     "metadata": {},
     "output_type": "display_data"
    }
   ],
   "source": [
    "reviews_per_country = reviews.country.value_counts()\n",
    "\n",
    "# Check your answer\n",
    "q3.check()"
   ]
  },
  {
   "cell_type": "code",
   "execution_count": 7,
   "id": "d6c0dcfe",
   "metadata": {
    "execution": {
     "iopub.execute_input": "2024-11-10T21:15:00.095455Z",
     "iopub.status.busy": "2024-11-10T21:15:00.094990Z",
     "iopub.status.idle": "2024-11-10T21:15:00.100418Z",
     "shell.execute_reply": "2024-11-10T21:15:00.098651Z"
    },
    "papermill": {
     "duration": 0.017504,
     "end_time": "2024-11-10T21:15:00.103565",
     "exception": false,
     "start_time": "2024-11-10T21:15:00.086061",
     "status": "completed"
    },
    "tags": []
   },
   "outputs": [],
   "source": [
    "#q3.hint()\n",
    "#q3.solution()"
   ]
  },
  {
   "cell_type": "markdown",
   "id": "554e88c7",
   "metadata": {
    "papermill": {
     "duration": 0.007089,
     "end_time": "2024-11-10T21:15:00.118051",
     "exception": false,
     "start_time": "2024-11-10T21:15:00.110962",
     "status": "completed"
    },
    "tags": []
   },
   "source": [
    "## 4.\n",
    "Create variable `centered_price` containing a version of the `price` column with the mean price subtracted.\n",
    "\n",
    "(Note: this 'centering' transformation is a common preprocessing step before applying various machine learning algorithms.) "
   ]
  },
  {
   "cell_type": "code",
   "execution_count": 8,
   "id": "5a3ad1e4",
   "metadata": {
    "execution": {
     "iopub.execute_input": "2024-11-10T21:15:00.134942Z",
     "iopub.status.busy": "2024-11-10T21:15:00.133978Z",
     "iopub.status.idle": "2024-11-10T21:15:00.145586Z",
     "shell.execute_reply": "2024-11-10T21:15:00.144483Z"
    },
    "papermill": {
     "duration": 0.023062,
     "end_time": "2024-11-10T21:15:00.148430",
     "exception": false,
     "start_time": "2024-11-10T21:15:00.125368",
     "status": "completed"
    },
    "tags": []
   },
   "outputs": [
    {
     "data": {
      "application/javascript": [
       "parent.postMessage({\"jupyterEvent\": \"custom.exercise_interaction\", \"data\": {\"outcomeType\": 1, \"valueTowardsCompletion\": 0.14285714285714285, \"interactionType\": 1, \"questionType\": 1, \"questionId\": \"4_CenteredPrice\", \"learnToolsVersion\": \"0.3.4\", \"failureMessage\": \"\", \"exceptionClass\": \"\", \"trace\": \"\"}}, \"*\")"
      ],
      "text/plain": [
       "<IPython.core.display.Javascript object>"
      ]
     },
     "metadata": {},
     "output_type": "display_data"
    },
    {
     "data": {
      "text/markdown": [
       "<span style=\"color:#33cc33\">Correct</span>"
      ],
      "text/plain": [
       "Correct"
      ]
     },
     "metadata": {},
     "output_type": "display_data"
    }
   ],
   "source": [
    "centered_price = reviews.price - reviews['price'].mean()\n",
    "\n",
    "# Check your answer\n",
    "q4.check()"
   ]
  },
  {
   "cell_type": "code",
   "execution_count": 9,
   "id": "18671662",
   "metadata": {
    "execution": {
     "iopub.execute_input": "2024-11-10T21:15:00.166605Z",
     "iopub.status.busy": "2024-11-10T21:15:00.166175Z",
     "iopub.status.idle": "2024-11-10T21:15:00.170772Z",
     "shell.execute_reply": "2024-11-10T21:15:00.169572Z"
    },
    "papermill": {
     "duration": 0.016516,
     "end_time": "2024-11-10T21:15:00.173157",
     "exception": false,
     "start_time": "2024-11-10T21:15:00.156641",
     "status": "completed"
    },
    "tags": []
   },
   "outputs": [],
   "source": [
    "#q4.hint()\n",
    "#q4.solution()"
   ]
  },
  {
   "cell_type": "markdown",
   "id": "798fc81d",
   "metadata": {
    "papermill": {
     "duration": 0.007333,
     "end_time": "2024-11-10T21:15:00.188409",
     "exception": false,
     "start_time": "2024-11-10T21:15:00.181076",
     "status": "completed"
    },
    "tags": []
   },
   "source": [
    "## 5.\n",
    "I'm an economical wine buyer. Which wine is the \"best bargain\"? Create a variable `bargain_wine` with the title of the wine with the highest points-to-price ratio in the dataset."
   ]
  },
  {
   "cell_type": "code",
   "execution_count": 10,
   "id": "2beeab5f",
   "metadata": {
    "execution": {
     "iopub.execute_input": "2024-11-10T21:15:00.205730Z",
     "iopub.status.busy": "2024-11-10T21:15:00.205285Z",
     "iopub.status.idle": "2024-11-10T21:15:00.220802Z",
     "shell.execute_reply": "2024-11-10T21:15:00.219623Z"
    },
    "papermill": {
     "duration": 0.027309,
     "end_time": "2024-11-10T21:15:00.223654",
     "exception": false,
     "start_time": "2024-11-10T21:15:00.196345",
     "status": "completed"
    },
    "tags": []
   },
   "outputs": [
    {
     "data": {
      "application/javascript": [
       "parent.postMessage({\"jupyterEvent\": \"custom.exercise_interaction\", \"data\": {\"outcomeType\": 1, \"valueTowardsCompletion\": 0.14285714285714285, \"interactionType\": 1, \"questionType\": 2, \"questionId\": \"5_BargainWine\", \"learnToolsVersion\": \"0.3.4\", \"failureMessage\": \"\", \"exceptionClass\": \"\", \"trace\": \"\"}}, \"*\")"
      ],
      "text/plain": [
       "<IPython.core.display.Javascript object>"
      ]
     },
     "metadata": {},
     "output_type": "display_data"
    },
    {
     "data": {
      "text/markdown": [
       "<span style=\"color:#33cc33\">Correct</span>"
      ],
      "text/plain": [
       "Correct"
      ]
     },
     "metadata": {},
     "output_type": "display_data"
    }
   ],
   "source": [
    "bargain_idx = (reviews.points / reviews.price).idxmax()\n",
    "bargain_wine = reviews.loc[bargain_idx, 'title']\n",
    "\n",
    "# Check your answer\n",
    "q5.check()"
   ]
  },
  {
   "cell_type": "code",
   "execution_count": 11,
   "id": "76d82e8a",
   "metadata": {
    "execution": {
     "iopub.execute_input": "2024-11-10T21:15:00.241888Z",
     "iopub.status.busy": "2024-11-10T21:15:00.240855Z",
     "iopub.status.idle": "2024-11-10T21:15:00.245559Z",
     "shell.execute_reply": "2024-11-10T21:15:00.244459Z"
    },
    "papermill": {
     "duration": 0.016321,
     "end_time": "2024-11-10T21:15:00.247982",
     "exception": false,
     "start_time": "2024-11-10T21:15:00.231661",
     "status": "completed"
    },
    "tags": []
   },
   "outputs": [],
   "source": [
    "#q5.hint()\n",
    "#q5.solution()"
   ]
  },
  {
   "cell_type": "markdown",
   "id": "1d9fbb95",
   "metadata": {
    "papermill": {
     "duration": 0.007329,
     "end_time": "2024-11-10T21:15:00.263111",
     "exception": false,
     "start_time": "2024-11-10T21:15:00.255782",
     "status": "completed"
    },
    "tags": []
   },
   "source": [
    "## 6.\n",
    "There are only so many words you can use when describing a bottle of wine. Is a wine more likely to be \"tropical\" or \"fruity\"? Create a Series `descriptor_counts` counting how many times each of these two words appears in the `description` column in the dataset. (For simplicity, let's ignore the capitalized versions of these words.)"
   ]
  },
  {
   "cell_type": "code",
   "execution_count": 12,
   "id": "c91b1423",
   "metadata": {
    "execution": {
     "iopub.execute_input": "2024-11-10T21:15:00.280245Z",
     "iopub.status.busy": "2024-11-10T21:15:00.279770Z",
     "iopub.status.idle": "2024-11-10T21:15:00.430207Z",
     "shell.execute_reply": "2024-11-10T21:15:00.429000Z"
    },
    "papermill": {
     "duration": 0.163899,
     "end_time": "2024-11-10T21:15:00.434744",
     "exception": false,
     "start_time": "2024-11-10T21:15:00.270845",
     "status": "completed"
    },
    "tags": []
   },
   "outputs": [
    {
     "data": {
      "application/javascript": [
       "parent.postMessage({\"jupyterEvent\": \"custom.exercise_interaction\", \"data\": {\"outcomeType\": 1, \"valueTowardsCompletion\": 0.14285714285714285, \"interactionType\": 1, \"questionType\": 1, \"questionId\": \"6_DescriptorCounts\", \"learnToolsVersion\": \"0.3.4\", \"failureMessage\": \"\", \"exceptionClass\": \"\", \"trace\": \"\"}}, \"*\")"
      ],
      "text/plain": [
       "<IPython.core.display.Javascript object>"
      ]
     },
     "metadata": {},
     "output_type": "display_data"
    },
    {
     "data": {
      "text/markdown": [
       "<span style=\"color:#33cc33\">Correct</span>"
      ],
      "text/plain": [
       "Correct"
      ]
     },
     "metadata": {},
     "output_type": "display_data"
    }
   ],
   "source": [
    "n_trop = reviews.description.map(lambda desc: \"tropical\" in desc).sum()\n",
    "n_fruity = reviews.description.map(lambda desc: \"fruity\" in desc).sum()\n",
    "descriptor_counts = pd.Series([n_trop, n_fruity], index=['tropical', 'fruity'])\n",
    "\n",
    "# Check your answer\n",
    "q6.check()"
   ]
  },
  {
   "cell_type": "code",
   "execution_count": 13,
   "id": "f835af98",
   "metadata": {
    "execution": {
     "iopub.execute_input": "2024-11-10T21:15:00.458783Z",
     "iopub.status.busy": "2024-11-10T21:15:00.457850Z",
     "iopub.status.idle": "2024-11-10T21:15:00.466925Z",
     "shell.execute_reply": "2024-11-10T21:15:00.465545Z"
    },
    "papermill": {
     "duration": 0.023065,
     "end_time": "2024-11-10T21:15:00.469724",
     "exception": false,
     "start_time": "2024-11-10T21:15:00.446659",
     "status": "completed"
    },
    "tags": []
   },
   "outputs": [],
   "source": [
    "#q6.hint()\n",
    "#q6.solution()"
   ]
  },
  {
   "cell_type": "markdown",
   "id": "eaae7386",
   "metadata": {
    "papermill": {
     "duration": 0.00784,
     "end_time": "2024-11-10T21:15:00.485790",
     "exception": false,
     "start_time": "2024-11-10T21:15:00.477950",
     "status": "completed"
    },
    "tags": []
   },
   "source": [
    "## 7.\n",
    "We'd like to host these wine reviews on our website, but a rating system ranging from 80 to 100 points is too hard to understand - we'd like to translate them into simple star ratings. A score of 95 or higher counts as 3 stars, a score of at least 85 but less than 95 is 2 stars. Any other score is 1 star.\n",
    "\n",
    "Also, the Canadian Vintners Association bought a lot of ads on the site, so any wines from Canada should automatically get 3 stars, regardless of points.\n",
    "\n",
    "Create a series `star_ratings` with the number of stars corresponding to each review in the dataset."
   ]
  },
  {
   "cell_type": "code",
   "execution_count": 14,
   "id": "4d3a5bd1",
   "metadata": {
    "execution": {
     "iopub.execute_input": "2024-11-10T21:15:00.504736Z",
     "iopub.status.busy": "2024-11-10T21:15:00.504153Z",
     "iopub.status.idle": "2024-11-10T21:15:03.942804Z",
     "shell.execute_reply": "2024-11-10T21:15:03.941454Z"
    },
    "papermill": {
     "duration": 3.451194,
     "end_time": "2024-11-10T21:15:03.945207",
     "exception": false,
     "start_time": "2024-11-10T21:15:00.494013",
     "status": "completed"
    },
    "tags": []
   },
   "outputs": [
    {
     "data": {
      "application/javascript": [
       "parent.postMessage({\"jupyterEvent\": \"custom.exercise_interaction\", \"data\": {\"outcomeType\": 1, \"valueTowardsCompletion\": 0.14285714285714285, \"interactionType\": 1, \"questionType\": 1, \"questionId\": \"7_StarRatings\", \"learnToolsVersion\": \"0.3.4\", \"failureMessage\": \"\", \"exceptionClass\": \"\", \"trace\": \"\"}}, \"*\")"
      ],
      "text/plain": [
       "<IPython.core.display.Javascript object>"
      ]
     },
     "metadata": {},
     "output_type": "display_data"
    },
    {
     "data": {
      "text/markdown": [
       "<span style=\"color:#33cc33\">Correct</span>"
      ],
      "text/plain": [
       "Correct"
      ]
     },
     "metadata": {},
     "output_type": "display_data"
    }
   ],
   "source": [
    "def stars(row):\n",
    "    if row.country == 'Canada':\n",
    "        return 3\n",
    "    elif row.points >= 95:\n",
    "        return 3\n",
    "    elif row.points >= 85:\n",
    "        return 2\n",
    "    else :\n",
    "        return 1\n",
    "\n",
    "\n",
    "star_ratings = reviews.apply(stars, axis = 'columns')\n",
    "\n",
    "# Check your answer\n",
    "q7.check()"
   ]
  },
  {
   "cell_type": "code",
   "execution_count": 15,
   "id": "39931609",
   "metadata": {
    "execution": {
     "iopub.execute_input": "2024-11-10T21:15:03.965078Z",
     "iopub.status.busy": "2024-11-10T21:15:03.964127Z",
     "iopub.status.idle": "2024-11-10T21:15:03.969287Z",
     "shell.execute_reply": "2024-11-10T21:15:03.968091Z"
    },
    "papermill": {
     "duration": 0.018364,
     "end_time": "2024-11-10T21:15:03.971865",
     "exception": false,
     "start_time": "2024-11-10T21:15:03.953501",
     "status": "completed"
    },
    "tags": []
   },
   "outputs": [],
   "source": [
    "#q7.hint()\n",
    "#q7.solution()"
   ]
  },
  {
   "cell_type": "markdown",
   "id": "09e5fc0d",
   "metadata": {
    "papermill": {
     "duration": 0.008092,
     "end_time": "2024-11-10T21:15:03.988343",
     "exception": false,
     "start_time": "2024-11-10T21:15:03.980251",
     "status": "completed"
    },
    "tags": []
   },
   "source": [
    "# Keep going\n",
    "Continue to **[grouping and sorting](https://www.kaggle.com/residentmario/grouping-and-sorting)**."
   ]
  },
  {
   "cell_type": "markdown",
   "id": "39525869",
   "metadata": {
    "papermill": {
     "duration": 0.008011,
     "end_time": "2024-11-10T21:15:04.006294",
     "exception": false,
     "start_time": "2024-11-10T21:15:03.998283",
     "status": "completed"
    },
    "tags": []
   },
   "source": [
    "---\n",
    "\n",
    "\n",
    "\n",
    "\n",
    "*Have questions or comments? Visit the [course discussion forum](https://www.kaggle.com/learn/pandas/discussion) to chat with other learners.*"
   ]
  }
 ],
 "metadata": {
  "kaggle": {
   "accelerator": "none",
   "dataSources": [
    {
     "datasetId": 655,
     "sourceId": 1252,
     "sourceType": "datasetVersion"
    },
    {
     "datasetId": 2321,
     "sourceId": 3919,
     "sourceType": "datasetVersion"
    },
    {
     "datasetId": 2894,
     "sourceId": 4877,
     "sourceType": "datasetVersion"
    },
    {
     "datasetId": 3491,
     "sourceId": 5624,
     "sourceType": "datasetVersion"
    },
    {
     "datasetId": 1442,
     "sourceId": 8172,
     "sourceType": "datasetVersion"
    },
    {
     "datasetId": 9366,
     "sourceId": 13206,
     "sourceType": "datasetVersion"
    },
    {
     "datasetId": 179555,
     "sourceId": 403916,
     "sourceType": "datasetVersion"
    },
    {
     "datasetId": 4549,
     "sourceId": 466349,
     "sourceType": "datasetVersion"
    },
    {
     "datasetId": 2478,
     "sourceId": 1151655,
     "sourceType": "datasetVersion"
    },
    {
     "datasetId": 10128,
     "sourceId": 5438389,
     "sourceType": "datasetVersion"
    }
   ],
   "isGpuEnabled": false,
   "isInternetEnabled": false,
   "language": "python",
   "sourceType": "notebook"
  },
  "kernelspec": {
   "display_name": "Python 3",
   "language": "python",
   "name": "python3"
  },
  "language_info": {
   "codemirror_mode": {
    "name": "ipython",
    "version": 3
   },
   "file_extension": ".py",
   "mimetype": "text/x-python",
   "name": "python",
   "nbconvert_exporter": "python",
   "pygments_lexer": "ipython3",
   "version": "3.10.14"
  },
  "papermill": {
   "default_parameters": {},
   "duration": 15.167681,
   "end_time": "2024-11-10T21:15:04.636235",
   "environment_variables": {},
   "exception": null,
   "input_path": "__notebook__.ipynb",
   "output_path": "__notebook__.ipynb",
   "parameters": {},
   "start_time": "2024-11-10T21:14:49.468554",
   "version": "2.6.0"
  }
 },
 "nbformat": 4,
 "nbformat_minor": 5
}

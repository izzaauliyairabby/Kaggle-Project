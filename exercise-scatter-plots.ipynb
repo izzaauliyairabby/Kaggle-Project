{
 "cells": [
  {
   "cell_type": "markdown",
   "id": "73fd6d18",
   "metadata": {
    "papermill": {
     "duration": 0.007531,
     "end_time": "2024-11-20T14:30:14.727145",
     "exception": false,
     "start_time": "2024-11-20T14:30:14.719614",
     "status": "completed"
    },
    "tags": []
   },
   "source": [
    "**This notebook is an exercise in the [Data Visualization](https://www.kaggle.com/learn/data-visualization) course.  You can reference the tutorial at [this link](https://www.kaggle.com/alexisbcook/scatter-plots).**\n",
    "\n",
    "---\n"
   ]
  },
  {
   "cell_type": "markdown",
   "id": "7e5d8bd3",
   "metadata": {
    "papermill": {
     "duration": 0.006687,
     "end_time": "2024-11-20T14:30:14.740699",
     "exception": false,
     "start_time": "2024-11-20T14:30:14.734012",
     "status": "completed"
    },
    "tags": []
   },
   "source": [
    "In this exercise, you will use your new knowledge to propose a solution to a real-world scenario.  To succeed, you will need to import data into Python, answer questions using the data, and generate **scatter plots** to understand patterns in the data.\n",
    "\n",
    "## Scenario\n",
    "\n",
    "You work for a major candy producer, and your goal is to write a report that your company can use to guide the design of its next product.  Soon after starting your research, you stumble across this [very interesting dataset](https://fivethirtyeight.com/features/the-ultimate-halloween-candy-power-ranking/) containing results from a fun survey to crowdsource favorite candies.\n",
    "\n",
    "## Setup\n",
    "\n",
    "Run the next cell to import and configure the Python libraries that you need to complete the exercise."
   ]
  },
  {
   "cell_type": "code",
   "execution_count": 1,
   "id": "18e746a3",
   "metadata": {
    "execution": {
     "iopub.execute_input": "2024-11-20T14:30:14.755831Z",
     "iopub.status.busy": "2024-11-20T14:30:14.755414Z",
     "iopub.status.idle": "2024-11-20T14:30:17.423106Z",
     "shell.execute_reply": "2024-11-20T14:30:17.421979Z"
    },
    "papermill": {
     "duration": 2.67857,
     "end_time": "2024-11-20T14:30:17.426011",
     "exception": false,
     "start_time": "2024-11-20T14:30:14.747441",
     "status": "completed"
    },
    "tags": []
   },
   "outputs": [
    {
     "name": "stdout",
     "output_type": "stream",
     "text": [
      "Setup Complete\n"
     ]
    }
   ],
   "source": [
    "import pandas as pd\n",
    "pd.plotting.register_matplotlib_converters()\n",
    "import matplotlib.pyplot as plt\n",
    "%matplotlib inline\n",
    "import seaborn as sns\n",
    "print(\"Setup Complete\")"
   ]
  },
  {
   "cell_type": "markdown",
   "id": "d6d04cae",
   "metadata": {
    "papermill": {
     "duration": 0.006568,
     "end_time": "2024-11-20T14:30:17.440910",
     "exception": false,
     "start_time": "2024-11-20T14:30:17.434342",
     "status": "completed"
    },
    "tags": []
   },
   "source": [
    "The questions below will give you feedback on your work. Run the following cell to set up our feedback system."
   ]
  },
  {
   "cell_type": "code",
   "execution_count": 2,
   "id": "4e9b1caf",
   "metadata": {
    "execution": {
     "iopub.execute_input": "2024-11-20T14:30:17.456139Z",
     "iopub.status.busy": "2024-11-20T14:30:17.455617Z",
     "iopub.status.idle": "2024-11-20T14:30:17.528461Z",
     "shell.execute_reply": "2024-11-20T14:30:17.527294Z"
    },
    "papermill": {
     "duration": 0.083103,
     "end_time": "2024-11-20T14:30:17.530831",
     "exception": false,
     "start_time": "2024-11-20T14:30:17.447728",
     "status": "completed"
    },
    "tags": []
   },
   "outputs": [
    {
     "name": "stdout",
     "output_type": "stream",
     "text": [
      "Setup Complete\n"
     ]
    }
   ],
   "source": [
    "# Set up code checking\n",
    "import os\n",
    "if not os.path.exists(\"../input/candy.csv\"):\n",
    "    os.symlink(\"../input/data-for-datavis/candy.csv\", \"../input/candy.csv\") \n",
    "from learntools.core import binder\n",
    "binder.bind(globals())\n",
    "from learntools.data_viz_to_coder.ex4 import *\n",
    "print(\"Setup Complete\")"
   ]
  },
  {
   "cell_type": "markdown",
   "id": "0a93b7a3",
   "metadata": {
    "papermill": {
     "duration": 0.006864,
     "end_time": "2024-11-20T14:30:17.544947",
     "exception": false,
     "start_time": "2024-11-20T14:30:17.538083",
     "status": "completed"
    },
    "tags": []
   },
   "source": [
    "## Step 1: Load the Data\n",
    "\n",
    "Read the candy data file into `candy_data`.  Use the `\"id\"` column to label the rows."
   ]
  },
  {
   "cell_type": "code",
   "execution_count": 3,
   "id": "c0affae1",
   "metadata": {
    "execution": {
     "iopub.execute_input": "2024-11-20T14:30:17.561378Z",
     "iopub.status.busy": "2024-11-20T14:30:17.560400Z",
     "iopub.status.idle": "2024-11-20T14:30:17.575110Z",
     "shell.execute_reply": "2024-11-20T14:30:17.574084Z"
    },
    "papermill": {
     "duration": 0.024978,
     "end_time": "2024-11-20T14:30:17.577181",
     "exception": false,
     "start_time": "2024-11-20T14:30:17.552203",
     "status": "completed"
    },
    "tags": []
   },
   "outputs": [
    {
     "data": {
      "application/javascript": [
       "parent.postMessage({\"jupyterEvent\": \"custom.exercise_interaction\", \"data\": {\"outcomeType\": 1, \"valueTowardsCompletion\": 0.3333333333333333, \"interactionType\": 1, \"questionType\": 1, \"questionId\": \"1_LoadData\", \"learnToolsVersion\": \"0.3.4\", \"failureMessage\": \"\", \"exceptionClass\": \"\", \"trace\": \"\"}}, \"*\")"
      ],
      "text/plain": [
       "<IPython.core.display.Javascript object>"
      ]
     },
     "metadata": {},
     "output_type": "display_data"
    },
    {
     "data": {
      "text/markdown": [
       "<span style=\"color:#33cc33\">Correct</span>"
      ],
      "text/plain": [
       "Correct"
      ]
     },
     "metadata": {},
     "output_type": "display_data"
    }
   ],
   "source": [
    "# Path of the file to read\n",
    "candy_filepath = \"../input/candy.csv\"\n",
    "\n",
    "# Fill in the line below to read the file into a variable candy_data\n",
    "candy_data = pd.read_csv(candy_filepath, index_col='id')\n",
    "\n",
    "# Run the line below with no changes to check that you've loaded the data correctly\n",
    "step_1.check()"
   ]
  },
  {
   "cell_type": "code",
   "execution_count": 4,
   "id": "0d0805f9",
   "metadata": {
    "execution": {
     "iopub.execute_input": "2024-11-20T14:30:17.593191Z",
     "iopub.status.busy": "2024-11-20T14:30:17.592809Z",
     "iopub.status.idle": "2024-11-20T14:30:17.596805Z",
     "shell.execute_reply": "2024-11-20T14:30:17.595869Z"
    },
    "papermill": {
     "duration": 0.014463,
     "end_time": "2024-11-20T14:30:17.598885",
     "exception": false,
     "start_time": "2024-11-20T14:30:17.584422",
     "status": "completed"
    },
    "tags": []
   },
   "outputs": [],
   "source": [
    "# Lines below will give you a hint or solution code\n",
    "#step_1.hint()\n",
    "#step_1.solution()"
   ]
  },
  {
   "cell_type": "markdown",
   "id": "16a3e56b",
   "metadata": {
    "papermill": {
     "duration": 0.00682,
     "end_time": "2024-11-20T14:30:17.612926",
     "exception": false,
     "start_time": "2024-11-20T14:30:17.606106",
     "status": "completed"
    },
    "tags": []
   },
   "source": [
    "## Step 2: Review the data\n",
    "\n",
    "Use a Python command to print the first five rows of the data."
   ]
  },
  {
   "cell_type": "code",
   "execution_count": 5,
   "id": "64150947",
   "metadata": {
    "execution": {
     "iopub.execute_input": "2024-11-20T14:30:17.629250Z",
     "iopub.status.busy": "2024-11-20T14:30:17.628396Z",
     "iopub.status.idle": "2024-11-20T14:30:17.649374Z",
     "shell.execute_reply": "2024-11-20T14:30:17.648337Z"
    },
    "papermill": {
     "duration": 0.031601,
     "end_time": "2024-11-20T14:30:17.651614",
     "exception": false,
     "start_time": "2024-11-20T14:30:17.620013",
     "status": "completed"
    },
    "tags": []
   },
   "outputs": [
    {
     "data": {
      "text/html": [
       "<div>\n",
       "<style scoped>\n",
       "    .dataframe tbody tr th:only-of-type {\n",
       "        vertical-align: middle;\n",
       "    }\n",
       "\n",
       "    .dataframe tbody tr th {\n",
       "        vertical-align: top;\n",
       "    }\n",
       "\n",
       "    .dataframe thead th {\n",
       "        text-align: right;\n",
       "    }\n",
       "</style>\n",
       "<table border=\"1\" class=\"dataframe\">\n",
       "  <thead>\n",
       "    <tr style=\"text-align: right;\">\n",
       "      <th></th>\n",
       "      <th>competitorname</th>\n",
       "      <th>chocolate</th>\n",
       "      <th>fruity</th>\n",
       "      <th>caramel</th>\n",
       "      <th>peanutyalmondy</th>\n",
       "      <th>nougat</th>\n",
       "      <th>crispedricewafer</th>\n",
       "      <th>hard</th>\n",
       "      <th>bar</th>\n",
       "      <th>pluribus</th>\n",
       "      <th>sugarpercent</th>\n",
       "      <th>pricepercent</th>\n",
       "      <th>winpercent</th>\n",
       "    </tr>\n",
       "    <tr>\n",
       "      <th>id</th>\n",
       "      <th></th>\n",
       "      <th></th>\n",
       "      <th></th>\n",
       "      <th></th>\n",
       "      <th></th>\n",
       "      <th></th>\n",
       "      <th></th>\n",
       "      <th></th>\n",
       "      <th></th>\n",
       "      <th></th>\n",
       "      <th></th>\n",
       "      <th></th>\n",
       "      <th></th>\n",
       "    </tr>\n",
       "  </thead>\n",
       "  <tbody>\n",
       "    <tr>\n",
       "      <th>0</th>\n",
       "      <td>100 Grand</td>\n",
       "      <td>Yes</td>\n",
       "      <td>No</td>\n",
       "      <td>Yes</td>\n",
       "      <td>No</td>\n",
       "      <td>No</td>\n",
       "      <td>Yes</td>\n",
       "      <td>No</td>\n",
       "      <td>Yes</td>\n",
       "      <td>No</td>\n",
       "      <td>0.732</td>\n",
       "      <td>0.860</td>\n",
       "      <td>66.971725</td>\n",
       "    </tr>\n",
       "    <tr>\n",
       "      <th>1</th>\n",
       "      <td>3 Musketeers</td>\n",
       "      <td>Yes</td>\n",
       "      <td>No</td>\n",
       "      <td>No</td>\n",
       "      <td>No</td>\n",
       "      <td>Yes</td>\n",
       "      <td>No</td>\n",
       "      <td>No</td>\n",
       "      <td>Yes</td>\n",
       "      <td>No</td>\n",
       "      <td>0.604</td>\n",
       "      <td>0.511</td>\n",
       "      <td>67.602936</td>\n",
       "    </tr>\n",
       "    <tr>\n",
       "      <th>2</th>\n",
       "      <td>Air Heads</td>\n",
       "      <td>No</td>\n",
       "      <td>Yes</td>\n",
       "      <td>No</td>\n",
       "      <td>No</td>\n",
       "      <td>No</td>\n",
       "      <td>No</td>\n",
       "      <td>No</td>\n",
       "      <td>No</td>\n",
       "      <td>No</td>\n",
       "      <td>0.906</td>\n",
       "      <td>0.511</td>\n",
       "      <td>52.341465</td>\n",
       "    </tr>\n",
       "    <tr>\n",
       "      <th>3</th>\n",
       "      <td>Almond Joy</td>\n",
       "      <td>Yes</td>\n",
       "      <td>No</td>\n",
       "      <td>No</td>\n",
       "      <td>Yes</td>\n",
       "      <td>No</td>\n",
       "      <td>No</td>\n",
       "      <td>No</td>\n",
       "      <td>Yes</td>\n",
       "      <td>No</td>\n",
       "      <td>0.465</td>\n",
       "      <td>0.767</td>\n",
       "      <td>50.347546</td>\n",
       "    </tr>\n",
       "    <tr>\n",
       "      <th>4</th>\n",
       "      <td>Baby Ruth</td>\n",
       "      <td>Yes</td>\n",
       "      <td>No</td>\n",
       "      <td>Yes</td>\n",
       "      <td>Yes</td>\n",
       "      <td>Yes</td>\n",
       "      <td>No</td>\n",
       "      <td>No</td>\n",
       "      <td>Yes</td>\n",
       "      <td>No</td>\n",
       "      <td>0.604</td>\n",
       "      <td>0.767</td>\n",
       "      <td>56.914547</td>\n",
       "    </tr>\n",
       "  </tbody>\n",
       "</table>\n",
       "</div>"
      ],
      "text/plain": [
       "   competitorname chocolate fruity caramel peanutyalmondy nougat  \\\n",
       "id                                                                 \n",
       "0       100 Grand       Yes     No     Yes             No     No   \n",
       "1    3 Musketeers       Yes     No      No             No    Yes   \n",
       "2       Air Heads        No    Yes      No             No     No   \n",
       "3      Almond Joy       Yes     No      No            Yes     No   \n",
       "4       Baby Ruth       Yes     No     Yes            Yes    Yes   \n",
       "\n",
       "   crispedricewafer hard  bar pluribus  sugarpercent  pricepercent  winpercent  \n",
       "id                                                                              \n",
       "0               Yes   No  Yes       No         0.732         0.860   66.971725  \n",
       "1                No   No  Yes       No         0.604         0.511   67.602936  \n",
       "2                No   No   No       No         0.906         0.511   52.341465  \n",
       "3                No   No  Yes       No         0.465         0.767   50.347546  \n",
       "4                No   No  Yes       No         0.604         0.767   56.914547  "
      ]
     },
     "execution_count": 5,
     "metadata": {},
     "output_type": "execute_result"
    }
   ],
   "source": [
    "# Print the first five rows of the data\n",
    "candy_data.head(5) # Your code here"
   ]
  },
  {
   "cell_type": "markdown",
   "id": "467fc98c",
   "metadata": {
    "papermill": {
     "duration": 0.00725,
     "end_time": "2024-11-20T14:30:17.666284",
     "exception": false,
     "start_time": "2024-11-20T14:30:17.659034",
     "status": "completed"
    },
    "tags": []
   },
   "source": [
    "The dataset contains 83 rows, where each corresponds to a different candy bar.  There are 13 columns:\n",
    "- `'competitorname'` contains the name of the candy bar. \n",
    "- the next **9** columns (from `'chocolate'` to `'pluribus'`) describe the candy.  For instance, rows with chocolate candies have `\"Yes\"` in the `'chocolate'` column (and candies without chocolate have `\"No\"` in the same column).\n",
    "- `'sugarpercent'` provides some indication of the amount of sugar, where higher values signify higher sugar content.\n",
    "- `'pricepercent'` shows the price per unit, relative to the other candies in the dataset.\n",
    "- `'winpercent'` is calculated from the survey results; higher values indicate that the candy was more popular with survey respondents.\n",
    "\n",
    "Use the first five rows of the data to answer the questions below."
   ]
  },
  {
   "cell_type": "code",
   "execution_count": 6,
   "id": "020f3448",
   "metadata": {
    "execution": {
     "iopub.execute_input": "2024-11-20T14:30:17.683232Z",
     "iopub.status.busy": "2024-11-20T14:30:17.682136Z",
     "iopub.status.idle": "2024-11-20T14:30:17.691082Z",
     "shell.execute_reply": "2024-11-20T14:30:17.690104Z"
    },
    "papermill": {
     "duration": 0.019349,
     "end_time": "2024-11-20T14:30:17.692966",
     "exception": false,
     "start_time": "2024-11-20T14:30:17.673617",
     "status": "completed"
    },
    "tags": []
   },
   "outputs": [
    {
     "data": {
      "application/javascript": [
       "parent.postMessage({\"jupyterEvent\": \"custom.exercise_interaction\", \"data\": {\"outcomeType\": 1, \"valueTowardsCompletion\": 0.3333333333333333, \"interactionType\": 1, \"questionType\": 1, \"questionId\": \"2_ReviewData\", \"learnToolsVersion\": \"0.3.4\", \"failureMessage\": \"\", \"exceptionClass\": \"\", \"trace\": \"\"}}, \"*\")"
      ],
      "text/plain": [
       "<IPython.core.display.Javascript object>"
      ]
     },
     "metadata": {},
     "output_type": "display_data"
    },
    {
     "data": {
      "text/markdown": [
       "<span style=\"color:#33cc33\">Correct</span>"
      ],
      "text/plain": [
       "Correct"
      ]
     },
     "metadata": {},
     "output_type": "display_data"
    }
   ],
   "source": [
    "# Fill in the line below: Which candy was more popular with survey respondents:\n",
    "# '3 Musketeers' or 'Almond Joy'?  (Please enclose your answer in single quotes.)\n",
    "more_popular = '3 Musketeers'\n",
    "\n",
    "# Fill in the line below: Which candy has higher sugar content: 'Air Heads'\n",
    "# or 'Baby Ruth'? (Please enclose your answer in single quotes.)\n",
    "more_sugar = 'Air Heads'\n",
    "\n",
    "# Check your answers\n",
    "step_2.check()"
   ]
  },
  {
   "cell_type": "code",
   "execution_count": 7,
   "id": "9d1ee5f5",
   "metadata": {
    "execution": {
     "iopub.execute_input": "2024-11-20T14:30:17.709957Z",
     "iopub.status.busy": "2024-11-20T14:30:17.709610Z",
     "iopub.status.idle": "2024-11-20T14:30:17.713594Z",
     "shell.execute_reply": "2024-11-20T14:30:17.712655Z"
    },
    "papermill": {
     "duration": 0.014676,
     "end_time": "2024-11-20T14:30:17.715474",
     "exception": false,
     "start_time": "2024-11-20T14:30:17.700798",
     "status": "completed"
    },
    "tags": []
   },
   "outputs": [],
   "source": [
    "# Lines below will give you a hint or solution code\n",
    "#step_2.hint()\n",
    "#step_2.solution()"
   ]
  },
  {
   "cell_type": "markdown",
   "id": "14f73944",
   "metadata": {
    "papermill": {
     "duration": 0.007446,
     "end_time": "2024-11-20T14:30:17.730611",
     "exception": false,
     "start_time": "2024-11-20T14:30:17.723165",
     "status": "completed"
    },
    "tags": []
   },
   "source": [
    "## Step 3: The role of sugar\n",
    "\n",
    "Do people tend to prefer candies with higher sugar content?  \n",
    "\n",
    "#### Part A\n",
    "\n",
    "Create a scatter plot that shows the relationship between `'sugarpercent'` (on the horizontal x-axis) and `'winpercent'` (on the vertical y-axis).  _Don't add a regression line just yet -- you'll do that in the next step!_"
   ]
  },
  {
   "cell_type": "code",
   "execution_count": 8,
   "id": "851dcf0f",
   "metadata": {
    "execution": {
     "iopub.execute_input": "2024-11-20T14:30:17.747246Z",
     "iopub.status.busy": "2024-11-20T14:30:17.746893Z",
     "iopub.status.idle": "2024-11-20T14:30:18.006840Z",
     "shell.execute_reply": "2024-11-20T14:30:18.005848Z"
    },
    "papermill": {
     "duration": 0.27077,
     "end_time": "2024-11-20T14:30:18.008932",
     "exception": false,
     "start_time": "2024-11-20T14:30:17.738162",
     "status": "completed"
    },
    "tags": []
   },
   "outputs": [
    {
     "data": {
      "application/javascript": [
       "parent.postMessage({\"jupyterEvent\": \"custom.exercise_interaction\", \"data\": {\"outcomeType\": 1, \"valueTowardsCompletion\": 0.3333333333333333, \"interactionType\": 1, \"questionType\": 2, \"questionId\": \"3.1_PlotBlueScatter\", \"learnToolsVersion\": \"0.3.4\", \"failureMessage\": \"\", \"exceptionClass\": \"\", \"trace\": \"\"}}, \"*\")"
      ],
      "text/plain": [
       "<IPython.core.display.Javascript object>"
      ]
     },
     "metadata": {},
     "output_type": "display_data"
    },
    {
     "data": {
      "text/markdown": [
       "<span style=\"color:#33cc33\">Correct</span>"
      ],
      "text/plain": [
       "Correct"
      ]
     },
     "metadata": {},
     "output_type": "display_data"
    },
    {
     "data": {
      "image/png": "[encoded data removed]",
      "text/plain": [
       "<Figure size 640x480 with 1 Axes>"
      ]
     },
     "metadata": {},
     "output_type": "display_data"
    }
   ],
   "source": [
    "# Scatter plot showing the relationship between 'sugarpercent' and 'winpercent'\n",
    "sns.scatterplot(x=candy_data['sugarpercent'], y=candy_data['winpercent']) # Your code here\n",
    "\n",
    "# Check your answer\n",
    "step_3.a.check()"
   ]
  },
  {
   "cell_type": "code",
   "execution_count": 9,
   "id": "f20647d0",
   "metadata": {
    "execution": {
     "iopub.execute_input": "2024-11-20T14:30:18.027281Z",
     "iopub.status.busy": "2024-11-20T14:30:18.026903Z",
     "iopub.status.idle": "2024-11-20T14:30:18.031393Z",
     "shell.execute_reply": "2024-11-20T14:30:18.030343Z"
    },
    "papermill": {
     "duration": 0.016265,
     "end_time": "2024-11-20T14:30:18.033493",
     "exception": false,
     "start_time": "2024-11-20T14:30:18.017228",
     "status": "completed"
    },
    "tags": []
   },
   "outputs": [],
   "source": [
    "# Lines below will give you a hint or solution code\n",
    "#step_3.a.hint()\n",
    "#step_3.a.solution_plot()"
   ]
  },
  {
   "cell_type": "markdown",
   "id": "3d9e1b38",
   "metadata": {
    "papermill": {
     "duration": 0.007787,
     "end_time": "2024-11-20T14:30:18.049818",
     "exception": false,
     "start_time": "2024-11-20T14:30:18.042031",
     "status": "completed"
    },
    "tags": []
   },
   "source": [
    "#### Part B\n",
    "\n",
    "Does the scatter plot show a **strong** correlation between the two variables?  If so, are candies with more sugar relatively more or less popular with the survey respondents?"
   ]
  },
  {
   "cell_type": "code",
   "execution_count": 10,
   "id": "97a740a7",
   "metadata": {
    "execution": {
     "iopub.execute_input": "2024-11-20T14:30:18.067534Z",
     "iopub.status.busy": "2024-11-20T14:30:18.067145Z",
     "iopub.status.idle": "2024-11-20T14:30:18.071502Z",
     "shell.execute_reply": "2024-11-20T14:30:18.070673Z"
    },
    "papermill": {
     "duration": 0.015487,
     "end_time": "2024-11-20T14:30:18.073378",
     "exception": false,
     "start_time": "2024-11-20T14:30:18.057891",
     "status": "completed"
    },
    "tags": []
   },
   "outputs": [],
   "source": [
    "#step_3.b.hint()"
   ]
  },
  {
   "cell_type": "code",
   "execution_count": 11,
   "id": "3680cc1f",
   "metadata": {
    "execution": {
     "iopub.execute_input": "2024-11-20T14:30:18.091304Z",
     "iopub.status.busy": "2024-11-20T14:30:18.090761Z",
     "iopub.status.idle": "2024-11-20T14:30:18.099230Z",
     "shell.execute_reply": "2024-11-20T14:30:18.098167Z"
    },
    "papermill": {
     "duration": 0.019678,
     "end_time": "2024-11-20T14:30:18.101310",
     "exception": false,
     "start_time": "2024-11-20T14:30:18.081632",
     "status": "completed"
    },
    "tags": []
   },
   "outputs": [
    {
     "data": {
      "application/javascript": [
       "parent.postMessage({\"jupyterEvent\": \"custom.exercise_interaction\", \"data\": {\"interactionType\": 3, \"questionType\": 4, \"questionId\": \"3.2_ThinkBlueScatter\", \"learnToolsVersion\": \"0.3.4\", \"valueTowardsCompletion\": 0.0, \"failureMessage\": \"\", \"exceptionClass\": \"\", \"trace\": \"\", \"outcomeType\": 4}}, \"*\")"
      ],
      "text/plain": [
       "<IPython.core.display.Javascript object>"
      ]
     },
     "metadata": {},
     "output_type": "display_data"
    },
    {
     "data": {
      "text/markdown": [
       "<span style=\"color:#33cc99\">Solution:</span> The scatter plot does not show a strong correlation between the two variables. Since there is no clear relationship between the two variables, this tells us that sugar content does not play a strong role in candy popularity."
      ],
      "text/plain": [
       "Solution: The scatter plot does not show a strong correlation between the two variables. Since there is no clear relationship between the two variables, this tells us that sugar content does not play a strong role in candy popularity."
      ]
     },
     "metadata": {},
     "output_type": "display_data"
    }
   ],
   "source": [
    "# Check your answer (Run this code cell to receive credit!)\n",
    "step_3.b.solution()"
   ]
  },
  {
   "cell_type": "markdown",
   "id": "072082a3",
   "metadata": {
    "papermill": {
     "duration": 0.008008,
     "end_time": "2024-11-20T14:30:18.117923",
     "exception": false,
     "start_time": "2024-11-20T14:30:18.109915",
     "status": "completed"
    },
    "tags": []
   },
   "source": [
    "## Step 4: Take a closer look\n",
    "\n",
    "#### Part A\n",
    "\n",
    "Create the same scatter plot you created in **Step 3**, but now with a regression line!"
   ]
  },
  {
   "cell_type": "code",
   "execution_count": 12,
   "id": "39af62e3",
   "metadata": {
    "execution": {
     "iopub.execute_input": "2024-11-20T14:30:18.136105Z",
     "iopub.status.busy": "2024-11-20T14:30:18.135725Z",
     "iopub.status.idle": "2024-11-20T14:30:18.421475Z",
     "shell.execute_reply": "2024-11-20T14:30:18.420455Z"
    },
    "papermill": {
     "duration": 0.297356,
     "end_time": "2024-11-20T14:30:18.423593",
     "exception": false,
     "start_time": "2024-11-20T14:30:18.126237",
     "status": "completed"
    },
    "tags": []
   },
   "outputs": [
    {
     "data": {
      "text/plain": [
       "<Axes: xlabel='sugarpercent', ylabel='winpercent'>"
      ]
     },
     "execution_count": 12,
     "metadata": {},
     "output_type": "execute_result"
    },
    {
     "data": {
      "image/png": "[encoded data removed]",
      "text/plain": [
       "<Figure size 640x480 with 1 Axes>"
      ]
     },
     "metadata": {},
     "output_type": "display_data"
    }
   ],
   "source": [
    "# Scatter plot w/ regression line showing the relationship between 'sugarpercent' and 'winpercent'\n",
    "sns.regplot(x=candy_data['sugarpercent'], y=candy_data['winpercent']) # Your code here\n",
    "\n",
    "# Check your answer\n",
    "#step_4.a.check()"
   ]
  },
  {
   "cell_type": "code",
   "execution_count": 13,
   "id": "a9637d43",
   "metadata": {
    "execution": {
     "iopub.execute_input": "2024-11-20T14:30:18.443354Z",
     "iopub.status.busy": "2024-11-20T14:30:18.442994Z",
     "iopub.status.idle": "2024-11-20T14:30:18.447058Z",
     "shell.execute_reply": "2024-11-20T14:30:18.446241Z"
    },
    "papermill": {
     "duration": 0.016041,
     "end_time": "2024-11-20T14:30:18.448866",
     "exception": false,
     "start_time": "2024-11-20T14:30:18.432825",
     "status": "completed"
    },
    "tags": []
   },
   "outputs": [],
   "source": [
    "# Lines below will give you a hint or solution code\n",
    "#step_4.a.hint()\n",
    "#step_4.a.solution_plot()"
   ]
  },
  {
   "cell_type": "markdown",
   "id": "453c9fd3",
   "metadata": {
    "papermill": {
     "duration": 0.008449,
     "end_time": "2024-11-20T14:30:18.466418",
     "exception": false,
     "start_time": "2024-11-20T14:30:18.457969",
     "status": "completed"
    },
    "tags": []
   },
   "source": [
    "#### Part B\n",
    "\n",
    "According to the plot above, is there a **slight** correlation between `'winpercent'` and `'sugarpercent'`?  What does this tell you about the candy that people tend to prefer?"
   ]
  },
  {
   "cell_type": "code",
   "execution_count": 14,
   "id": "de11f59f",
   "metadata": {
    "execution": {
     "iopub.execute_input": "2024-11-20T14:30:18.486095Z",
     "iopub.status.busy": "2024-11-20T14:30:18.485307Z",
     "iopub.status.idle": "2024-11-20T14:30:18.489501Z",
     "shell.execute_reply": "2024-11-20T14:30:18.488592Z"
    },
    "papermill": {
     "duration": 0.016132,
     "end_time": "2024-11-20T14:30:18.491484",
     "exception": false,
     "start_time": "2024-11-20T14:30:18.475352",
     "status": "completed"
    },
    "tags": []
   },
   "outputs": [],
   "source": [
    "#step_4.b.hint()"
   ]
  },
  {
   "cell_type": "code",
   "execution_count": 15,
   "id": "5a9f8d4d",
   "metadata": {
    "execution": {
     "iopub.execute_input": "2024-11-20T14:30:18.510952Z",
     "iopub.status.busy": "2024-11-20T14:30:18.510580Z",
     "iopub.status.idle": "2024-11-20T14:30:18.519324Z",
     "shell.execute_reply": "2024-11-20T14:30:18.518290Z"
    },
    "papermill": {
     "duration": 0.020668,
     "end_time": "2024-11-20T14:30:18.521202",
     "exception": false,
     "start_time": "2024-11-20T14:30:18.500534",
     "status": "completed"
    },
    "tags": []
   },
   "outputs": [
    {
     "data": {
      "application/javascript": [
       "parent.postMessage({\"jupyterEvent\": \"custom.exercise_interaction\", \"data\": {\"interactionType\": 3, \"questionType\": 4, \"questionId\": \"4.2_ThinkBlueReg\", \"learnToolsVersion\": \"0.3.4\", \"valueTowardsCompletion\": 0.0, \"failureMessage\": \"\", \"exceptionClass\": \"\", \"trace\": \"\", \"outcomeType\": 4}}, \"*\")"
      ],
      "text/plain": [
       "<IPython.core.display.Javascript object>"
      ]
     },
     "metadata": {},
     "output_type": "display_data"
    },
    {
     "data": {
      "text/markdown": [
       "<span style=\"color:#33cc99\">Solution:</span> Since the regression line has a slightly positive slope, this tells us that there is a slightly positive correlation between `'winpercent'` and `'sugarpercent'`. Thus, people have a slight preference for candies containing relatively more sugar."
      ],
      "text/plain": [
       "Solution: Since the regression line has a slightly positive slope, this tells us that there is a slightly positive correlation between `'winpercent'` and `'sugarpercent'`. Thus, people have a slight preference for candies containing relatively more sugar."
      ]
     },
     "metadata": {},
     "output_type": "display_data"
    }
   ],
   "source": [
    "# Check your answer (Run this code cell to receive credit!)\n",
    "step_4.b.solution()"
   ]
  },
  {
   "cell_type": "markdown",
   "id": "02a3af3b",
   "metadata": {
    "papermill": {
     "duration": 0.008804,
     "end_time": "2024-11-20T14:30:18.539631",
     "exception": false,
     "start_time": "2024-11-20T14:30:18.530827",
     "status": "completed"
    },
    "tags": []
   },
   "source": [
    "## Step 5: Chocolate!\n",
    "\n",
    "In the code cell below, create a scatter plot to show the relationship between `'pricepercent'` (on the horizontal x-axis) and `'winpercent'` (on the vertical y-axis). Use the `'chocolate'` column to color-code the points.  _Don't add any regression lines just yet -- you'll do that in the next step!_"
   ]
  },
  {
   "cell_type": "code",
   "execution_count": 16,
   "id": "06bd3e74",
   "metadata": {
    "execution": {
     "iopub.execute_input": "2024-11-20T14:30:18.559478Z",
     "iopub.status.busy": "2024-11-20T14:30:18.558582Z",
     "iopub.status.idle": "2024-11-20T14:30:18.896075Z",
     "shell.execute_reply": "2024-11-20T14:30:18.894908Z"
    },
    "papermill": {
     "duration": 0.349528,
     "end_time": "2024-11-20T14:30:18.898103",
     "exception": false,
     "start_time": "2024-11-20T14:30:18.548575",
     "status": "completed"
    },
    "tags": []
   },
   "outputs": [
    {
     "data": {
      "application/javascript": [
       "parent.postMessage({\"jupyterEvent\": \"custom.exercise_interaction\", \"data\": {\"outcomeType\": 1, \"valueTowardsCompletion\": 0.3333333333333333, \"interactionType\": 1, \"questionType\": 2, \"questionId\": \"5_ColorScatter\", \"learnToolsVersion\": \"0.3.4\", \"failureMessage\": \"\", \"exceptionClass\": \"\", \"trace\": \"\"}}, \"*\")"
      ],
      "text/plain": [
       "<IPython.core.display.Javascript object>"
      ]
     },
     "metadata": {},
     "output_type": "display_data"
    },
    {
     "data": {
      "text/markdown": [
       "<span style=\"color:#33cc33\">Correct</span>"
      ],
      "text/plain": [
       "Correct"
      ]
     },
     "metadata": {},
     "output_type": "display_data"
    },
    {
     "data": {
      "image/png": "[encoded data removed]",
      "text/plain": [
       "<Figure size 640x480 with 1 Axes>"
      ]
     },
     "metadata": {},
     "output_type": "display_data"
    }
   ],
   "source": [
    "# Scatter plot showing the relationship between 'pricepercent', 'winpercent', and 'chocolate'\n",
    "sns.scatterplot(x=candy_data['pricepercent'], y=candy_data['winpercent'], hue=candy_data['chocolate']) # Your code here\n",
    "\n",
    "# Check your answer\n",
    "step_5.check()"
   ]
  },
  {
   "cell_type": "code",
   "execution_count": 17,
   "id": "f92d14c9",
   "metadata": {
    "execution": {
     "iopub.execute_input": "2024-11-20T14:30:18.920002Z",
     "iopub.status.busy": "2024-11-20T14:30:18.919636Z",
     "iopub.status.idle": "2024-11-20T14:30:18.923859Z",
     "shell.execute_reply": "2024-11-20T14:30:18.922866Z"
    },
    "papermill": {
     "duration": 0.017893,
     "end_time": "2024-11-20T14:30:18.925918",
     "exception": false,
     "start_time": "2024-11-20T14:30:18.908025",
     "status": "completed"
    },
    "tags": []
   },
   "outputs": [],
   "source": [
    "# Lines below will give you a hint or solution code\n",
    "#step_5.hint()\n",
    "#step_5.solution_plot()"
   ]
  },
  {
   "cell_type": "markdown",
   "id": "71ca67f0",
   "metadata": {
    "papermill": {
     "duration": 0.009278,
     "end_time": "2024-11-20T14:30:18.944960",
     "exception": false,
     "start_time": "2024-11-20T14:30:18.935682",
     "status": "completed"
    },
    "tags": []
   },
   "source": [
    "Can you see any interesting patterns in the scatter plot?  We'll investigate this plot further  by adding regression lines in the next step!\n",
    "\n",
    "## Step 6: Investigate chocolate\n",
    "\n",
    "#### Part A\n",
    "\n",
    "Create the same scatter plot you created in **Step 5**, but now with two regression lines, corresponding to (1) chocolate candies and (2) candies without chocolate."
   ]
  },
  {
   "cell_type": "code",
   "execution_count": 18,
   "id": "1151cf28",
   "metadata": {
    "execution": {
     "iopub.execute_input": "2024-11-20T14:30:18.966113Z",
     "iopub.status.busy": "2024-11-20T14:30:18.965321Z",
     "iopub.status.idle": "2024-11-20T14:30:19.678216Z",
     "shell.execute_reply": "2024-11-20T14:30:19.677247Z"
    },
    "papermill": {
     "duration": 0.726142,
     "end_time": "2024-11-20T14:30:19.680636",
     "exception": false,
     "start_time": "2024-11-20T14:30:18.954494",
     "status": "completed"
    },
    "tags": []
   },
   "outputs": [
    {
     "data": {
      "application/javascript": [
       "parent.postMessage({\"jupyterEvent\": \"custom.exercise_interaction\", \"data\": {\"outcomeType\": 1, \"valueTowardsCompletion\": 0.3333333333333333, \"interactionType\": 1, \"questionType\": 2, \"questionId\": \"6.1_PlotColorReg\", \"learnToolsVersion\": \"0.3.4\", \"failureMessage\": \"\", \"exceptionClass\": \"\", \"trace\": \"\"}}, \"*\")"
      ],
      "text/plain": [
       "<IPython.core.display.Javascript object>"
      ]
     },
     "metadata": {},
     "output_type": "display_data"
    },
    {
     "data": {
      "text/markdown": [
       "<span style=\"color:#33cc33\">Correct</span>"
      ],
      "text/plain": [
       "Correct"
      ]
     },
     "metadata": {},
     "output_type": "display_data"
    },
    {
     "data": {
      "image/png": "[encoded data removed]",
      "text/plain": [
       "<Figure size 578.611x500 with 1 Axes>"
      ]
     },
     "metadata": {},
     "output_type": "display_data"
    }
   ],
   "source": [
    "# Color-coded scatter plot w/ regression lines\n",
    "sns.lmplot(x=\"pricepercent\", y=\"winpercent\", hue=\"chocolate\", data=candy_data) # Your code here\n",
    "\n",
    "# Check your answer\n",
    "step_6.a.check()"
   ]
  },
  {
   "cell_type": "code",
   "execution_count": 19,
   "id": "fb9f216f",
   "metadata": {
    "execution": {
     "iopub.execute_input": "2024-11-20T14:30:19.704237Z",
     "iopub.status.busy": "2024-11-20T14:30:19.703322Z",
     "iopub.status.idle": "2024-11-20T14:30:19.707459Z",
     "shell.execute_reply": "2024-11-20T14:30:19.706597Z"
    },
    "papermill": {
     "duration": 0.017712,
     "end_time": "2024-11-20T14:30:19.709375",
     "exception": false,
     "start_time": "2024-11-20T14:30:19.691663",
     "status": "completed"
    },
    "tags": []
   },
   "outputs": [],
   "source": [
    "# Lines below will give you a hint or solution code\n",
    "#step_6.a.hint()\n",
    "#step_6.a.solution_plot()"
   ]
  },
  {
   "cell_type": "markdown",
   "id": "04ab0230",
   "metadata": {
    "papermill": {
     "duration": 0.010433,
     "end_time": "2024-11-20T14:30:19.730451",
     "exception": false,
     "start_time": "2024-11-20T14:30:19.720018",
     "status": "completed"
    },
    "tags": []
   },
   "source": [
    "#### Part B\n",
    "\n",
    "Using the regression lines, what conclusions can you draw about the effects of chocolate and price on candy popularity?"
   ]
  },
  {
   "cell_type": "code",
   "execution_count": 20,
   "id": "eedae115",
   "metadata": {
    "execution": {
     "iopub.execute_input": "2024-11-20T14:30:19.753317Z",
     "iopub.status.busy": "2024-11-20T14:30:19.752980Z",
     "iopub.status.idle": "2024-11-20T14:30:19.757279Z",
     "shell.execute_reply": "2024-11-20T14:30:19.756379Z"
    },
    "papermill": {
     "duration": 0.01843,
     "end_time": "2024-11-20T14:30:19.759316",
     "exception": false,
     "start_time": "2024-11-20T14:30:19.740886",
     "status": "completed"
    },
    "tags": []
   },
   "outputs": [],
   "source": [
    "#step_6.b.hint()"
   ]
  },
  {
   "cell_type": "code",
   "execution_count": 21,
   "id": "4c66a876",
   "metadata": {
    "execution": {
     "iopub.execute_input": "2024-11-20T14:30:19.782277Z",
     "iopub.status.busy": "2024-11-20T14:30:19.781645Z",
     "iopub.status.idle": "2024-11-20T14:30:19.789557Z",
     "shell.execute_reply": "2024-11-20T14:30:19.788592Z"
    },
    "papermill": {
     "duration": 0.021813,
     "end_time": "2024-11-20T14:30:19.791616",
     "exception": false,
     "start_time": "2024-11-20T14:30:19.769803",
     "status": "completed"
    },
    "tags": []
   },
   "outputs": [
    {
     "data": {
      "application/javascript": [
       "parent.postMessage({\"jupyterEvent\": \"custom.exercise_interaction\", \"data\": {\"interactionType\": 3, \"questionType\": 4, \"questionId\": \"6.2_ThinkColorReg\", \"learnToolsVersion\": \"0.3.4\", \"valueTowardsCompletion\": 0.0, \"failureMessage\": \"\", \"exceptionClass\": \"\", \"trace\": \"\", \"outcomeType\": 4}}, \"*\")"
      ],
      "text/plain": [
       "<IPython.core.display.Javascript object>"
      ]
     },
     "metadata": {},
     "output_type": "display_data"
    },
    {
     "data": {
      "text/markdown": [
       "<span style=\"color:#33cc99\">Solution:</span> We'll begin with the regression line for chocolate candies. Since this line has a slightly positive slope, we can say that more expensive chocolate candies tend to be more popular (than relatively cheaper chocolate candies).  Likewise, since the regression line for candies without chocolate has a negative slope, we can say that if candies don't contain chocolate, they tend to be more popular when they are cheaper.  One important note, however, is that the dataset is quite small -- so we shouldn't invest too much trust in these patterns!  To inspire more confidence in the results, we should add more candies to the dataset."
      ],
      "text/plain": [
       "Solution: We'll begin with the regression line for chocolate candies. Since this line has a slightly positive slope, we can say that more expensive chocolate candies tend to be more popular (than relatively cheaper chocolate candies).  Likewise, since the regression line for candies without chocolate has a negative slope, we can say that if candies don't contain chocolate, they tend to be more popular when they are cheaper.  One important note, however, is that the dataset is quite small -- so we shouldn't invest too much trust in these patterns!  To inspire more confidence in the results, we should add more candies to the dataset."
      ]
     },
     "metadata": {},
     "output_type": "display_data"
    }
   ],
   "source": [
    "# Check your answer (Run this code cell to receive credit!)\n",
    "step_6.b.solution()"
   ]
  },
  {
   "cell_type": "markdown",
   "id": "86d3d959",
   "metadata": {
    "papermill": {
     "duration": 0.01037,
     "end_time": "2024-11-20T14:30:19.813009",
     "exception": false,
     "start_time": "2024-11-20T14:30:19.802639",
     "status": "completed"
    },
    "tags": []
   },
   "source": [
    "## Step 7: Everybody loves chocolate.\n",
    "\n",
    "#### Part A\n",
    "\n",
    "Create a categorical scatter plot to highlight the relationship between `'chocolate'` and `'winpercent'`.  Put `'chocolate'` on the (horizontal) x-axis, and `'winpercent'` on the (vertical) y-axis."
   ]
  },
  {
   "cell_type": "code",
   "execution_count": 22,
   "id": "55f38bb1",
   "metadata": {
    "execution": {
     "iopub.execute_input": "2024-11-20T14:30:19.835996Z",
     "iopub.status.busy": "2024-11-20T14:30:19.835400Z",
     "iopub.status.idle": "2024-11-20T14:30:20.302124Z",
     "shell.execute_reply": "2024-11-20T14:30:20.300758Z"
    },
    "papermill": {
     "duration": 0.482649,
     "end_time": "2024-11-20T14:30:20.306333",
     "exception": false,
     "start_time": "2024-11-20T14:30:19.823684",
     "status": "completed"
    },
    "tags": []
   },
   "outputs": [
    {
     "data": {
      "application/javascript": [
       "parent.postMessage({\"jupyterEvent\": \"custom.exercise_interaction\", \"data\": {\"outcomeType\": 1, \"valueTowardsCompletion\": 0.3333333333333333, \"interactionType\": 1, \"questionType\": 2, \"questionId\": \"7.1_PlotSwarm\", \"learnToolsVersion\": \"0.3.4\", \"failureMessage\": \"\", \"exceptionClass\": \"\", \"trace\": \"\"}}, \"*\")"
      ],
      "text/plain": [
       "<IPython.core.display.Javascript object>"
      ]
     },
     "metadata": {},
     "output_type": "display_data"
    },
    {
     "data": {
      "text/markdown": [
       "<span style=\"color:#33cc33\">Correct</span>"
      ],
      "text/plain": [
       "Correct"
      ]
     },
     "metadata": {},
     "output_type": "display_data"
    },
    {
     "data": {
      "image/png": "[encoded data removed]",
      "text/plain": [
       "<Figure size 640x480 with 1 Axes>"
      ]
     },
     "metadata": {},
     "output_type": "display_data"
    }
   ],
   "source": [
    "# Scatter plot showing the relationship between 'chocolate' and 'winpercent'\n",
    "sns.swarmplot(x=candy_data['chocolate'], y=candy_data['winpercent'])\n",
    "\n",
    "# Check your answer\n",
    "step_7.a.check()"
   ]
  },
  {
   "cell_type": "code",
   "execution_count": 23,
   "id": "2a02a5fd",
   "metadata": {
    "execution": {
     "iopub.execute_input": "2024-11-20T14:30:20.355699Z",
     "iopub.status.busy": "2024-11-20T14:30:20.355306Z",
     "iopub.status.idle": "2024-11-20T14:30:20.359436Z",
     "shell.execute_reply": "2024-11-20T14:30:20.358399Z"
    },
    "papermill": {
     "duration": 0.021179,
     "end_time": "2024-11-20T14:30:20.361282",
     "exception": false,
     "start_time": "2024-11-20T14:30:20.340103",
     "status": "completed"
    },
    "tags": []
   },
   "outputs": [],
   "source": [
    "# Lines below will give you a hint or solution code\n",
    "#step_7.a.hint()\n",
    "#step_7.a.solution_plot()"
   ]
  },
  {
   "cell_type": "markdown",
   "id": "a1746600",
   "metadata": {
    "papermill": {
     "duration": 0.010689,
     "end_time": "2024-11-20T14:30:20.382906",
     "exception": false,
     "start_time": "2024-11-20T14:30:20.372217",
     "status": "completed"
    },
    "tags": []
   },
   "source": [
    "#### Part B\n",
    "\n",
    "You decide to dedicate a section of your report to the fact that chocolate candies tend to be more popular than candies without chocolate.  Which plot is more appropriate to tell this story: the plot from **Step 6**, or the plot from **Step 7**?"
   ]
  },
  {
   "cell_type": "code",
   "execution_count": 24,
   "id": "ffe74685",
   "metadata": {
    "execution": {
     "iopub.execute_input": "2024-11-20T14:30:20.405873Z",
     "iopub.status.busy": "2024-11-20T14:30:20.405467Z",
     "iopub.status.idle": "2024-11-20T14:30:20.409746Z",
     "shell.execute_reply": "2024-11-20T14:30:20.408908Z"
    },
    "papermill": {
     "duration": 0.018002,
     "end_time": "2024-11-20T14:30:20.411647",
     "exception": false,
     "start_time": "2024-11-20T14:30:20.393645",
     "status": "completed"
    },
    "tags": []
   },
   "outputs": [],
   "source": [
    "#step_7.b.hint()"
   ]
  },
  {
   "cell_type": "code",
   "execution_count": 25,
   "id": "0fdd63a2",
   "metadata": {
    "execution": {
     "iopub.execute_input": "2024-11-20T14:30:20.436164Z",
     "iopub.status.busy": "2024-11-20T14:30:20.435822Z",
     "iopub.status.idle": "2024-11-20T14:30:20.443473Z",
     "shell.execute_reply": "2024-11-20T14:30:20.442562Z"
    },
    "papermill": {
     "duration": 0.02234,
     "end_time": "2024-11-20T14:30:20.445382",
     "exception": false,
     "start_time": "2024-11-20T14:30:20.423042",
     "status": "completed"
    },
    "tags": []
   },
   "outputs": [
    {
     "data": {
      "application/javascript": [
       "parent.postMessage({\"jupyterEvent\": \"custom.exercise_interaction\", \"data\": {\"interactionType\": 3, \"questionType\": 4, \"questionId\": \"7.2_ThinkSwarm\", \"learnToolsVersion\": \"0.3.4\", \"valueTowardsCompletion\": 0.0, \"failureMessage\": \"\", \"exceptionClass\": \"\", \"trace\": \"\", \"outcomeType\": 4}}, \"*\")"
      ],
      "text/plain": [
       "<IPython.core.display.Javascript object>"
      ]
     },
     "metadata": {},
     "output_type": "display_data"
    },
    {
     "data": {
      "text/markdown": [
       "<span style=\"color:#33cc99\">Solution:</span> In this case, the categorical scatter plot from **Step 7** is the more appropriate plot. While both plots tell the desired story, the plot from **Step 6** conveys far more information that could distract from the main point."
      ],
      "text/plain": [
       "Solution: In this case, the categorical scatter plot from **Step 7** is the more appropriate plot. While both plots tell the desired story, the plot from **Step 6** conveys far more information that could distract from the main point."
      ]
     },
     "metadata": {},
     "output_type": "display_data"
    }
   ],
   "source": [
    "# Check your answer (Run this code cell to receive credit!)\n",
    "step_7.b.solution()"
   ]
  },
  {
   "cell_type": "markdown",
   "id": "c94990f8",
   "metadata": {
    "papermill": {
     "duration": 0.011088,
     "end_time": "2024-11-20T14:30:20.467731",
     "exception": false,
     "start_time": "2024-11-20T14:30:20.456643",
     "status": "completed"
    },
    "tags": []
   },
   "source": [
    "## Keep going\n",
    "\n",
    "Explore **[histograms and density plots](https://www.kaggle.com/alexisbcook/distributions)**."
   ]
  },
  {
   "cell_type": "markdown",
   "id": "cb1ab38e",
   "metadata": {
    "papermill": {
     "duration": 0.011081,
     "end_time": "2024-11-20T14:30:20.490084",
     "exception": false,
     "start_time": "2024-11-20T14:30:20.479003",
     "status": "completed"
    },
    "tags": []
   },
   "source": [
    "---\n",
    "\n",
    "\n",
    "\n",
    "\n",
    "*Have questions or comments? Visit the [course discussion forum](https://www.kaggle.com/learn/data-visualization/discussion) to chat with other learners.*"
   ]
  }
 ],
 "metadata": {
  "kaggle": {
   "accelerator": "none",
   "dataSources": [
    {
     "datasetId": 116573,
     "sourceId": 3551030,
     "sourceType": "datasetVersion"
    }
   ],
   "isGpuEnabled": false,
   "isInternetEnabled": false,
   "language": "python",
   "sourceType": "notebook"
  },
  "kernelspec": {
   "display_name": "Python 3",
   "language": "python",
   "name": "python3"
  },
  "language_info": {
   "codemirror_mode": {
    "name": "ipython",
    "version": 3
   },
   "file_extension": ".py",
   "mimetype": "text/x-python",
   "name": "python",
   "nbconvert_exporter": "python",
   "pygments_lexer": "ipython3",
   "version": "3.10.14"
  },
  "papermill": {
   "default_parameters": {},
   "duration": 9.146181,
   "end_time": "2024-11-20T14:30:21.122937",
   "environment_variables": {},
   "exception": null,
   "input_path": "__notebook__.ipynb",
   "output_path": "__notebook__.ipynb",
   "parameters": {},
   "start_time": "2024-11-20T14:30:11.976756",
   "version": "2.6.0"
  }
 },
 "nbformat": 4,
 "nbformat_minor": 5
}

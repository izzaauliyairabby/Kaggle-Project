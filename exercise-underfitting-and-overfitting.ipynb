{
 "cells": [
  {
   "cell_type": "markdown",
   "id": "597b163b",
   "metadata": {
    "papermill": {
     "duration": 0.004127,
     "end_time": "2024-11-09T09:27:07.684801",
     "exception": false,
     "start_time": "2024-11-09T09:27:07.680674",
     "status": "completed"
    },
    "tags": []
   },
   "source": [
    "**This notebook is an exercise in the [Introduction to Machine Learning](https://www.kaggle.com/learn/intro-to-machine-learning) course.  You can reference the tutorial at [this link](https://www.kaggle.com/dansbecker/underfitting-and-overfitting).**\n",
    "\n",
    "---\n"
   ]
  },
  {
   "cell_type": "markdown",
   "id": "e00efc72",
   "metadata": {
    "papermill": {
     "duration": 0.003248,
     "end_time": "2024-11-09T09:27:07.691979",
     "exception": false,
     "start_time": "2024-11-09T09:27:07.688731",
     "status": "completed"
    },
    "tags": []
   },
   "source": [
    "## Recap\n",
    "You've built your first model, and now it's time to optimize the size of the tree to make better predictions. Run this cell to set up your coding environment where the previous step left off."
   ]
  },
  {
   "cell_type": "code",
   "execution_count": 1,
   "id": "8db68589",
   "metadata": {
    "execution": {
     "iopub.execute_input": "2024-11-09T09:27:07.701121Z",
     "iopub.status.busy": "2024-11-09T09:27:07.700249Z",
     "iopub.status.idle": "2024-11-09T09:27:10.452974Z",
     "shell.execute_reply": "2024-11-09T09:27:10.451781Z"
    },
    "papermill": {
     "duration": 2.760037,
     "end_time": "2024-11-09T09:27:10.455478",
     "exception": false,
     "start_time": "2024-11-09T09:27:07.695441",
     "status": "completed"
    },
    "tags": []
   },
   "outputs": [
    {
     "name": "stdout",
     "output_type": "stream",
     "text": [
      "Validation MAE: 29,653\n",
      "\n",
      "Setup complete\n"
     ]
    }
   ],
   "source": [
    "# Code you have previously used to load data\n",
    "import pandas as pd\n",
    "from sklearn.metrics import mean_absolute_error\n",
    "from sklearn.model_selection import train_test_split\n",
    "from sklearn.tree import DecisionTreeRegressor\n",
    "\n",
    "\n",
    "# Path of the file to read\n",
    "iowa_file_path = '../input/home-data-for-ml-course/train.csv'\n",
    "\n",
    "home_data = pd.read_csv(iowa_file_path)\n",
    "# Create target object and call it y\n",
    "y = home_data.SalePrice\n",
    "# Create X\n",
    "features = ['LotArea', 'YearBuilt', '1stFlrSF', '2ndFlrSF', 'FullBath', 'BedroomAbvGr', 'TotRmsAbvGrd']\n",
    "X = home_data[features]\n",
    "\n",
    "# Split into validation and training data\n",
    "train_X, val_X, train_y, val_y = train_test_split(X, y, random_state=1)\n",
    "\n",
    "# Specify Model\n",
    "iowa_model = DecisionTreeRegressor(random_state=1)\n",
    "# Fit Model\n",
    "iowa_model.fit(train_X, train_y)\n",
    "\n",
    "# Make validation predictions and calculate mean absolute error\n",
    "val_predictions = iowa_model.predict(val_X)\n",
    "val_mae = mean_absolute_error(val_predictions, val_y)\n",
    "print(\"Validation MAE: {:,.0f}\".format(val_mae))\n",
    "\n",
    "# Set up code checking\n",
    "from learntools.core import binder\n",
    "binder.bind(globals())\n",
    "from learntools.machine_learning.ex5 import *\n",
    "print(\"\\nSetup complete\")"
   ]
  },
  {
   "cell_type": "markdown",
   "id": "d9238349",
   "metadata": {
    "papermill": {
     "duration": 0.003368,
     "end_time": "2024-11-09T09:27:10.462778",
     "exception": false,
     "start_time": "2024-11-09T09:27:10.459410",
     "status": "completed"
    },
    "tags": []
   },
   "source": [
    "# Exercises\n",
    "You could write the function `get_mae` yourself. For now, we'll supply it. This is the same function you read about in the previous lesson. Just run the cell below."
   ]
  },
  {
   "cell_type": "code",
   "execution_count": 2,
   "id": "0359d9bb",
   "metadata": {
    "execution": {
     "iopub.execute_input": "2024-11-09T09:27:10.471686Z",
     "iopub.status.busy": "2024-11-09T09:27:10.471283Z",
     "iopub.status.idle": "2024-11-09T09:27:10.478000Z",
     "shell.execute_reply": "2024-11-09T09:27:10.476725Z"
    },
    "papermill": {
     "duration": 0.014099,
     "end_time": "2024-11-09T09:27:10.480516",
     "exception": false,
     "start_time": "2024-11-09T09:27:10.466417",
     "status": "completed"
    },
    "tags": []
   },
   "outputs": [],
   "source": [
    "def get_mae(max_leaf_nodes, train_X, val_X, train_y, val_y):\n",
    "    model = DecisionTreeRegressor(max_leaf_nodes=max_leaf_nodes, random_state=0)\n",
    "    model.fit(train_X, train_y)\n",
    "    preds_val = model.predict(val_X)\n",
    "    mae = mean_absolute_error(val_y, preds_val)\n",
    "    return(mae)"
   ]
  },
  {
   "cell_type": "markdown",
   "id": "302938fb",
   "metadata": {
    "papermill": {
     "duration": 0.003453,
     "end_time": "2024-11-09T09:27:10.487839",
     "exception": false,
     "start_time": "2024-11-09T09:27:10.484386",
     "status": "completed"
    },
    "tags": []
   },
   "source": [
    "## Step 1: Compare Different Tree Sizes\n",
    "Write a loop that tries the following values for *max_leaf_nodes* from a set of possible values.\n",
    "\n",
    "Call the *get_mae* function on each value of max_leaf_nodes. Store the output in some way that allows you to select the value of `max_leaf_nodes` that gives the most accurate model on your data."
   ]
  },
  {
   "cell_type": "code",
   "execution_count": 3,
   "id": "6b8bd6d8",
   "metadata": {
    "execution": {
     "iopub.execute_input": "2024-11-09T09:27:10.496755Z",
     "iopub.status.busy": "2024-11-09T09:27:10.496361Z",
     "iopub.status.idle": "2024-11-09T09:27:10.546251Z",
     "shell.execute_reply": "2024-11-09T09:27:10.545265Z"
    },
    "papermill": {
     "duration": 0.057225,
     "end_time": "2024-11-09T09:27:10.548695",
     "exception": false,
     "start_time": "2024-11-09T09:27:10.491470",
     "status": "completed"
    },
    "tags": []
   },
   "outputs": [
    {
     "data": {
      "application/javascript": [
       "parent.postMessage({\"jupyterEvent\": \"custom.exercise_interaction\", \"data\": {\"outcomeType\": 1, \"valueTowardsCompletion\": 0.5, \"interactionType\": 1, \"questionType\": 1, \"questionId\": \"1_BestTreeSize\", \"learnToolsVersion\": \"0.3.4\", \"failureMessage\": \"\", \"exceptionClass\": \"\", \"trace\": \"\"}}, \"*\")"
      ],
      "text/plain": [
       "<IPython.core.display.Javascript object>"
      ]
     },
     "metadata": {},
     "output_type": "display_data"
    },
    {
     "data": {
      "text/markdown": [
       "<span style=\"color:#33cc33\">Correct</span>"
      ],
      "text/plain": [
       "Correct"
      ]
     },
     "metadata": {},
     "output_type": "display_data"
    }
   ],
   "source": [
    "candidate_max_leaf_nodes = [5, 25, 50, 100, 250, 500]\n",
    "# Write loop to find the ideal tree size from candidate_max_leaf_nodes\n",
    "scores = {leaf_size: get_mae(leaf_size, train_X, val_X, train_y, val_y) for leaf_size in candidate_max_leaf_nodes}\n",
    "\n",
    "# Store the best value of max_leaf_nodes (it will be either 5, 25, 50, 100, 250 or 500)\n",
    "best_tree_size = best_tree_size = min(scores, key=scores.get)\n",
    "\n",
    "# Check your answer\n",
    "step_1.check()"
   ]
  },
  {
   "cell_type": "code",
   "execution_count": 4,
   "id": "f736ea1f",
   "metadata": {
    "execution": {
     "iopub.execute_input": "2024-11-09T09:27:10.558393Z",
     "iopub.status.busy": "2024-11-09T09:27:10.557911Z",
     "iopub.status.idle": "2024-11-09T09:27:10.562848Z",
     "shell.execute_reply": "2024-11-09T09:27:10.561681Z"
    },
    "papermill": {
     "duration": 0.012669,
     "end_time": "2024-11-09T09:27:10.565358",
     "exception": false,
     "start_time": "2024-11-09T09:27:10.552689",
     "status": "completed"
    },
    "tags": []
   },
   "outputs": [],
   "source": [
    "# The lines below will show you a hint or the solution.\n",
    "# step_1.hint() \n",
    "#step_1.solution()"
   ]
  },
  {
   "cell_type": "markdown",
   "id": "e75ef0be",
   "metadata": {
    "papermill": {
     "duration": 0.003641,
     "end_time": "2024-11-09T09:27:10.573145",
     "exception": false,
     "start_time": "2024-11-09T09:27:10.569504",
     "status": "completed"
    },
    "tags": []
   },
   "source": [
    "## Step 2: Fit Model Using All Data\n",
    "You know the best tree size. If you were going to deploy this model in practice, you would make it even more accurate by using all of the data and keeping that tree size.  That is, you don't need to hold out the validation data now that you've made all your modeling decisions."
   ]
  },
  {
   "cell_type": "code",
   "execution_count": 5,
   "id": "22aea6d5",
   "metadata": {
    "execution": {
     "iopub.execute_input": "2024-11-09T09:27:10.583082Z",
     "iopub.status.busy": "2024-11-09T09:27:10.582627Z",
     "iopub.status.idle": "2024-11-09T09:27:10.602056Z",
     "shell.execute_reply": "2024-11-09T09:27:10.600884Z"
    },
    "papermill": {
     "duration": 0.027711,
     "end_time": "2024-11-09T09:27:10.604725",
     "exception": false,
     "start_time": "2024-11-09T09:27:10.577014",
     "status": "completed"
    },
    "tags": []
   },
   "outputs": [
    {
     "data": {
      "application/javascript": [
       "parent.postMessage({\"jupyterEvent\": \"custom.exercise_interaction\", \"data\": {\"outcomeType\": 1, \"valueTowardsCompletion\": 0.5, \"interactionType\": 1, \"questionType\": 2, \"questionId\": \"2_FitModelWithAllData\", \"learnToolsVersion\": \"0.3.4\", \"failureMessage\": \"\", \"exceptionClass\": \"\", \"trace\": \"\"}}, \"*\")"
      ],
      "text/plain": [
       "<IPython.core.display.Javascript object>"
      ]
     },
     "metadata": {},
     "output_type": "display_data"
    },
    {
     "data": {
      "text/markdown": [
       "<span style=\"color:#33cc33\">Correct</span>"
      ],
      "text/plain": [
       "Correct"
      ]
     },
     "metadata": {},
     "output_type": "display_data"
    }
   ],
   "source": [
    "# Fill in argument to make optimal size and uncomment\n",
    "final_model = DecisionTreeRegressor(max_leaf_nodes=best_tree_size, random_state=1)\n",
    "\n",
    "# fit the final model and uncomment the next two lines\n",
    "final_model.fit(X,y)\n",
    "\n",
    "# Check your answer\n",
    "step_2.check()"
   ]
  },
  {
   "cell_type": "code",
   "execution_count": 6,
   "id": "1bed253a",
   "metadata": {
    "execution": {
     "iopub.execute_input": "2024-11-09T09:27:10.616746Z",
     "iopub.status.busy": "2024-11-09T09:27:10.615943Z",
     "iopub.status.idle": "2024-11-09T09:27:10.620751Z",
     "shell.execute_reply": "2024-11-09T09:27:10.619699Z"
    },
    "papermill": {
     "duration": 0.013659,
     "end_time": "2024-11-09T09:27:10.623050",
     "exception": false,
     "start_time": "2024-11-09T09:27:10.609391",
     "status": "completed"
    },
    "tags": []
   },
   "outputs": [],
   "source": [
    "# step_2.hint()\n",
    "#step_2.solution()"
   ]
  },
  {
   "cell_type": "markdown",
   "id": "90d7a925",
   "metadata": {
    "papermill": {
     "duration": 0.003859,
     "end_time": "2024-11-09T09:27:10.631233",
     "exception": false,
     "start_time": "2024-11-09T09:27:10.627374",
     "status": "completed"
    },
    "tags": []
   },
   "source": [
    "You've tuned this model and improved your results. But we are still using Decision Tree models, which are not very sophisticated by modern machine learning standards. In the next step you will learn to use Random Forests to improve your models even more.\n",
    "\n",
    "# Keep Going\n",
    "\n",
    "You are ready for **[Random Forests](https://www.kaggle.com/dansbecker/random-forests).**\n"
   ]
  },
  {
   "cell_type": "markdown",
   "id": "eab8589a",
   "metadata": {
    "papermill": {
     "duration": 0.003842,
     "end_time": "2024-11-09T09:27:10.639209",
     "exception": false,
     "start_time": "2024-11-09T09:27:10.635367",
     "status": "completed"
    },
    "tags": []
   },
   "source": [
    "---\n",
    "\n",
    "\n",
    "\n",
    "\n",
    "*Have questions or comments? Visit the [course discussion forum](https://www.kaggle.com/learn/intro-to-machine-learning/discussion) to chat with other learners.*"
   ]
  }
 ],
 "metadata": {
  "kaggle": {
   "accelerator": "none",
   "dataSources": [
    {
     "databundleVersionId": 111096,
     "sourceId": 10211,
     "sourceType": "competition"
    },
    {
     "datasetId": 11167,
     "sourceId": 15520,
     "sourceType": "datasetVersion"
    },
    {
     "datasetId": 2709,
     "sourceId": 38454,
     "sourceType": "datasetVersion"
    }
   ],
   "isGpuEnabled": false,
   "isInternetEnabled": false,
   "language": "python",
   "sourceType": "notebook"
  },
  "kernelspec": {
   "display_name": "Python 3",
   "language": "python",
   "name": "python3"
  },
  "language_info": {
   "codemirror_mode": {
    "name": "ipython",
    "version": 3
   },
   "file_extension": ".py",
   "mimetype": "text/x-python",
   "name": "python",
   "nbconvert_exporter": "python",
   "pygments_lexer": "ipython3",
   "version": "3.10.14"
  },
  "papermill": {
   "default_parameters": {},
   "duration": 6.440799,
   "end_time": "2024-11-09T09:27:11.266127",
   "environment_variables": {},
   "exception": null,
   "input_path": "__notebook__.ipynb",
   "output_path": "__notebook__.ipynb",
   "parameters": {},
   "start_time": "2024-11-09T09:27:04.825328",
   "version": "2.6.0"
  }
 },
 "nbformat": 4,
 "nbformat_minor": 5
}

{
 "cells": [
  {
   "cell_type": "markdown",
   "id": "64e40501",
   "metadata": {
    "papermill": {
     "duration": 0.005353,
     "end_time": "2024-11-09T07:17:51.243369",
     "exception": false,
     "start_time": "2024-11-09T07:17:51.238016",
     "status": "completed"
    },
    "tags": []
   },
   "source": [
    "**This notebook is an exercise in the [Introduction to Machine Learning](https://www.kaggle.com/learn/intro-to-machine-learning) course.  You can reference the tutorial at [this link](https://www.kaggle.com/dansbecker/model-validation).**\n",
    "\n",
    "---\n"
   ]
  },
  {
   "cell_type": "markdown",
   "id": "cbff1a89",
   "metadata": {
    "papermill": {
     "duration": 0.004334,
     "end_time": "2024-11-09T07:17:51.252504",
     "exception": false,
     "start_time": "2024-11-09T07:17:51.248170",
     "status": "completed"
    },
    "tags": []
   },
   "source": [
    "## Recap\n",
    "You've built a model. In this exercise you will test how good your model is.\n",
    "\n",
    "Run the cell below to set up your coding environment where the previous exercise left off."
   ]
  },
  {
   "cell_type": "code",
   "execution_count": 1,
   "id": "064d159c",
   "metadata": {
    "execution": {
     "iopub.execute_input": "2024-11-09T07:17:51.264929Z",
     "iopub.status.busy": "2024-11-09T07:17:51.264486Z",
     "iopub.status.idle": "2024-11-09T07:17:54.310690Z",
     "shell.execute_reply": "2024-11-09T07:17:54.309447Z"
    },
    "papermill": {
     "duration": 3.05626,
     "end_time": "2024-11-09T07:17:54.313510",
     "exception": false,
     "start_time": "2024-11-09T07:17:51.257250",
     "status": "completed"
    },
    "tags": []
   },
   "outputs": [
    {
     "name": "stdout",
     "output_type": "stream",
     "text": [
      "First in-sample predictions: [208500. 181500. 223500. 140000. 250000.]\n",
      "Actual target values for those homes: [208500, 181500, 223500, 140000, 250000]\n",
      "Setup Complete\n"
     ]
    }
   ],
   "source": [
    "# Code you have previously used to load data\n",
    "import pandas as pd\n",
    "from sklearn.tree import DecisionTreeRegressor\n",
    "\n",
    "# Path of the file to read\n",
    "iowa_file_path = '../input/home-data-for-ml-course/train.csv'\n",
    "\n",
    "home_data = pd.read_csv(iowa_file_path)\n",
    "y = home_data.SalePrice\n",
    "feature_columns = ['LotArea', 'YearBuilt', '1stFlrSF', '2ndFlrSF', 'FullBath', 'BedroomAbvGr', 'TotRmsAbvGrd']\n",
    "X = home_data[feature_columns]\n",
    "\n",
    "# Specify Model\n",
    "iowa_model = DecisionTreeRegressor()\n",
    "# Fit Model\n",
    "iowa_model.fit(X, y)\n",
    "\n",
    "print(\"First in-sample predictions:\", iowa_model.predict(X.head()))\n",
    "print(\"Actual target values for those homes:\", y.head().tolist())\n",
    "\n",
    "# Set up code checking\n",
    "from learntools.core import binder\n",
    "binder.bind(globals())\n",
    "from learntools.machine_learning.ex4 import *\n",
    "print(\"Setup Complete\")"
   ]
  },
  {
   "cell_type": "markdown",
   "id": "aa682d8b",
   "metadata": {
    "papermill": {
     "duration": 0.004632,
     "end_time": "2024-11-09T07:17:54.323439",
     "exception": false,
     "start_time": "2024-11-09T07:17:54.318807",
     "status": "completed"
    },
    "tags": []
   },
   "source": [
    "# Exercises\n",
    "\n",
    "## Step 1: Split Your Data\n",
    "Use the `train_test_split` function to split up your data.\n",
    "\n",
    "Give it the argument `random_state=1` so the `check` functions know what to expect when verifying your code.\n",
    "\n",
    "Recall, your features are loaded in the DataFrame **X** and your target is loaded in **y**.\n"
   ]
  },
  {
   "cell_type": "code",
   "execution_count": 2,
   "id": "22264c08",
   "metadata": {
    "execution": {
     "iopub.execute_input": "2024-11-09T07:17:54.334942Z",
     "iopub.status.busy": "2024-11-09T07:17:54.334522Z",
     "iopub.status.idle": "2024-11-09T07:17:54.352869Z",
     "shell.execute_reply": "2024-11-09T07:17:54.351540Z"
    },
    "papermill": {
     "duration": 0.02699,
     "end_time": "2024-11-09T07:17:54.355400",
     "exception": false,
     "start_time": "2024-11-09T07:17:54.328410",
     "status": "completed"
    },
    "tags": []
   },
   "outputs": [
    {
     "data": {
      "application/javascript": [
       "parent.postMessage({\"jupyterEvent\": \"custom.exercise_interaction\", \"data\": {\"outcomeType\": 1, \"valueTowardsCompletion\": 0.25, \"interactionType\": 1, \"questionType\": 2, \"questionId\": \"1_SplitData\", \"learnToolsVersion\": \"0.3.4\", \"failureMessage\": \"\", \"exceptionClass\": \"\", \"trace\": \"\"}}, \"*\")"
      ],
      "text/plain": [
       "<IPython.core.display.Javascript object>"
      ]
     },
     "metadata": {},
     "output_type": "display_data"
    },
    {
     "data": {
      "text/markdown": [
       "<span style=\"color:#33cc33\">Correct</span>"
      ],
      "text/plain": [
       "Correct"
      ]
     },
     "metadata": {},
     "output_type": "display_data"
    }
   ],
   "source": [
    "# Import the train_test_split function and uncomment\n",
    "from sklearn.model_selection import train_test_split\n",
    "\n",
    "# fill in and uncomment\n",
    "train_X, val_X, train_y, val_y = train_test_split(X, y, random_state=1)\n",
    "\n",
    "# Check your answer\n",
    "step_1.check()"
   ]
  },
  {
   "cell_type": "code",
   "execution_count": 3,
   "id": "bed70752",
   "metadata": {
    "execution": {
     "iopub.execute_input": "2024-11-09T07:17:54.367545Z",
     "iopub.status.busy": "2024-11-09T07:17:54.367078Z",
     "iopub.status.idle": "2024-11-09T07:17:54.371773Z",
     "shell.execute_reply": "2024-11-09T07:17:54.370621Z"
    },
    "papermill": {
     "duration": 0.013643,
     "end_time": "2024-11-09T07:17:54.374180",
     "exception": false,
     "start_time": "2024-11-09T07:17:54.360537",
     "status": "completed"
    },
    "tags": []
   },
   "outputs": [],
   "source": [
    "# The lines below will show you a hint or the solution.\n",
    "# step_1.hint() \n",
    "#step_1.solution()\n"
   ]
  },
  {
   "cell_type": "markdown",
   "id": "78dcc706",
   "metadata": {
    "papermill": {
     "duration": 0.004744,
     "end_time": "2024-11-09T07:17:54.383938",
     "exception": false,
     "start_time": "2024-11-09T07:17:54.379194",
     "status": "completed"
    },
    "tags": []
   },
   "source": [
    "## Step 2: Specify and Fit the Model\n",
    "\n",
    "Create a `DecisionTreeRegressor` model and fit it to the relevant data.\n",
    "Set `random_state` to 1 again when creating the model."
   ]
  },
  {
   "cell_type": "code",
   "execution_count": 4,
   "id": "eef67761",
   "metadata": {
    "execution": {
     "iopub.execute_input": "2024-11-09T07:17:54.397429Z",
     "iopub.status.busy": "2024-11-09T07:17:54.396965Z",
     "iopub.status.idle": "2024-11-09T07:17:54.426462Z",
     "shell.execute_reply": "2024-11-09T07:17:54.425337Z"
    },
    "papermill": {
     "duration": 0.039743,
     "end_time": "2024-11-09T07:17:54.428822",
     "exception": false,
     "start_time": "2024-11-09T07:17:54.389079",
     "status": "completed"
    },
    "tags": []
   },
   "outputs": [
    {
     "name": "stdout",
     "output_type": "stream",
     "text": [
      "[186500. 184000. 130000.  92000. 164500. 220000. 335000. 144152. 215000.\n",
      " 262000.]\n",
      "[186500. 184000. 130000.  92000. 164500. 220000. 335000. 144152. 215000.\n",
      " 262000.]\n"
     ]
    },
    {
     "data": {
      "application/javascript": [
       "parent.postMessage({\"jupyterEvent\": \"custom.exercise_interaction\", \"data\": {\"outcomeType\": 1, \"valueTowardsCompletion\": 0.25, \"interactionType\": 1, \"questionType\": 2, \"questionId\": \"2_FitModelWithTrain\", \"learnToolsVersion\": \"0.3.4\", \"failureMessage\": \"\", \"exceptionClass\": \"\", \"trace\": \"\"}}, \"*\")"
      ],
      "text/plain": [
       "<IPython.core.display.Javascript object>"
      ]
     },
     "metadata": {},
     "output_type": "display_data"
    },
    {
     "data": {
      "text/markdown": [
       "<span style=\"color:#33cc33\">Correct</span>"
      ],
      "text/plain": [
       "Correct"
      ]
     },
     "metadata": {},
     "output_type": "display_data"
    }
   ],
   "source": [
    "# You imported DecisionTreeRegressor in your last exercise\n",
    "# and that code has been copied to the setup code above. So, no need to\n",
    "# import it again\n",
    "\n",
    "# Specify the model\n",
    "iowa_model = DecisionTreeRegressor(random_state=1)\n",
    "\n",
    "# Fit iowa_model with the training data.\n",
    "iowa_model.fit(train_X, train_y)\n",
    "\n",
    "# Check your answer\n",
    "step_2.check()"
   ]
  },
  {
   "cell_type": "code",
   "execution_count": 5,
   "id": "b3c30ca5",
   "metadata": {
    "execution": {
     "iopub.execute_input": "2024-11-09T07:17:54.441054Z",
     "iopub.status.busy": "2024-11-09T07:17:54.440659Z",
     "iopub.status.idle": "2024-11-09T07:17:54.446373Z",
     "shell.execute_reply": "2024-11-09T07:17:54.445414Z"
    },
    "papermill": {
     "duration": 0.014776,
     "end_time": "2024-11-09T07:17:54.448897",
     "exception": false,
     "start_time": "2024-11-09T07:17:54.434121",
     "status": "completed"
    },
    "tags": []
   },
   "outputs": [],
   "source": [
    "# step_2.hint()\n",
    "#step_2.solution()"
   ]
  },
  {
   "cell_type": "markdown",
   "id": "b2da9c9d",
   "metadata": {
    "papermill": {
     "duration": 0.005352,
     "end_time": "2024-11-09T07:17:54.459722",
     "exception": false,
     "start_time": "2024-11-09T07:17:54.454370",
     "status": "completed"
    },
    "tags": []
   },
   "source": [
    "## Step 3: Make Predictions with Validation data\n"
   ]
  },
  {
   "cell_type": "code",
   "execution_count": 6,
   "id": "e04816af",
   "metadata": {
    "execution": {
     "iopub.execute_input": "2024-11-09T07:17:54.472148Z",
     "iopub.status.busy": "2024-11-09T07:17:54.471746Z",
     "iopub.status.idle": "2024-11-09T07:17:54.484643Z",
     "shell.execute_reply": "2024-11-09T07:17:54.483504Z"
    },
    "papermill": {
     "duration": 0.022092,
     "end_time": "2024-11-09T07:17:54.487152",
     "exception": false,
     "start_time": "2024-11-09T07:17:54.465060",
     "status": "completed"
    },
    "tags": []
   },
   "outputs": [
    {
     "data": {
      "application/javascript": [
       "parent.postMessage({\"jupyterEvent\": \"custom.exercise_interaction\", \"data\": {\"outcomeType\": 1, \"valueTowardsCompletion\": 0.25, \"interactionType\": 1, \"questionType\": 2, \"questionId\": \"3_ValPreds\", \"learnToolsVersion\": \"0.3.4\", \"failureMessage\": \"\", \"exceptionClass\": \"\", \"trace\": \"\"}}, \"*\")"
      ],
      "text/plain": [
       "<IPython.core.display.Javascript object>"
      ]
     },
     "metadata": {},
     "output_type": "display_data"
    },
    {
     "data": {
      "text/markdown": [
       "<span style=\"color:#33cc33\">Correct</span>"
      ],
      "text/plain": [
       "Correct"
      ]
     },
     "metadata": {},
     "output_type": "display_data"
    }
   ],
   "source": [
    "# Predict with all validation observations\n",
    "val_predictions = iowa_model.predict(val_X)\n",
    "\n",
    "# Check your answer\n",
    "step_3.check()"
   ]
  },
  {
   "cell_type": "code",
   "execution_count": 7,
   "id": "440c5f91",
   "metadata": {
    "execution": {
     "iopub.execute_input": "2024-11-09T07:17:54.501017Z",
     "iopub.status.busy": "2024-11-09T07:17:54.499928Z",
     "iopub.status.idle": "2024-11-09T07:17:54.504858Z",
     "shell.execute_reply": "2024-11-09T07:17:54.503787Z"
    },
    "papermill": {
     "duration": 0.014411,
     "end_time": "2024-11-09T07:17:54.507187",
     "exception": false,
     "start_time": "2024-11-09T07:17:54.492776",
     "status": "completed"
    },
    "tags": []
   },
   "outputs": [],
   "source": [
    "# step_3.hint()\n",
    "#step_3.solution()"
   ]
  },
  {
   "cell_type": "markdown",
   "id": "062ca5e5",
   "metadata": {
    "papermill": {
     "duration": 0.005322,
     "end_time": "2024-11-09T07:17:54.518137",
     "exception": false,
     "start_time": "2024-11-09T07:17:54.512815",
     "status": "completed"
    },
    "tags": []
   },
   "source": [
    "Inspect your predictions and actual values from validation data."
   ]
  },
  {
   "cell_type": "code",
   "execution_count": 8,
   "id": "2ca6b217",
   "metadata": {
    "execution": {
     "iopub.execute_input": "2024-11-09T07:17:54.531088Z",
     "iopub.status.busy": "2024-11-09T07:17:54.530701Z",
     "iopub.status.idle": "2024-11-09T07:17:54.537793Z",
     "shell.execute_reply": "2024-11-09T07:17:54.536537Z"
    },
    "papermill": {
     "duration": 0.016822,
     "end_time": "2024-11-09T07:17:54.540548",
     "exception": false,
     "start_time": "2024-11-09T07:17:54.523726",
     "status": "completed"
    },
    "tags": []
   },
   "outputs": [
    {
     "name": "stdout",
     "output_type": "stream",
     "text": [
      "Top few validation predictions:\n",
      "[186500. 184000. 130000.  92000. 164500.]\n",
      "Top few actual prices:\n",
      "[208500 181500 223500 140000 250000]\n"
     ]
    }
   ],
   "source": [
    "# Print the top few validation predictions\n",
    "print(\"Top few validation predictions:\")\n",
    "print(val_predictions[:5])\n",
    "\n",
    "# Print the top few actual prices from validation data\n",
    "print(\"Top few actual prices:\")\n",
    "print(y.head().values)"
   ]
  },
  {
   "cell_type": "markdown",
   "id": "8430907e",
   "metadata": {
    "papermill": {
     "duration": 0.00535,
     "end_time": "2024-11-09T07:17:54.551648",
     "exception": false,
     "start_time": "2024-11-09T07:17:54.546298",
     "status": "completed"
    },
    "tags": []
   },
   "source": [
    "What do you notice that is different from what you saw with in-sample predictions (which are printed after the top code cell in this page).\n",
    "\n",
    "Do you remember why validation predictions differ from in-sample (or training) predictions? This is an important idea from the last lesson.\n",
    "\n",
    "## Step 4: Calculate the Mean Absolute Error in Validation Data\n"
   ]
  },
  {
   "cell_type": "code",
   "execution_count": 9,
   "id": "56b299ca",
   "metadata": {
    "execution": {
     "iopub.execute_input": "2024-11-09T07:17:54.564801Z",
     "iopub.status.busy": "2024-11-09T07:17:54.564400Z",
     "iopub.status.idle": "2024-11-09T07:17:54.576069Z",
     "shell.execute_reply": "2024-11-09T07:17:54.575013Z"
    },
    "papermill": {
     "duration": 0.021217,
     "end_time": "2024-11-09T07:17:54.578422",
     "exception": false,
     "start_time": "2024-11-09T07:17:54.557205",
     "status": "completed"
    },
    "tags": []
   },
   "outputs": [
    {
     "name": "stdout",
     "output_type": "stream",
     "text": [
      "29652.931506849316\n"
     ]
    },
    {
     "data": {
      "application/javascript": [
       "parent.postMessage({\"jupyterEvent\": \"custom.exercise_interaction\", \"data\": {\"outcomeType\": 1, \"valueTowardsCompletion\": 0.25, \"interactionType\": 1, \"questionType\": 1, \"questionId\": \"4_MAE\", \"learnToolsVersion\": \"0.3.4\", \"failureMessage\": \"\", \"exceptionClass\": \"\", \"trace\": \"\"}}, \"*\")"
      ],
      "text/plain": [
       "<IPython.core.display.Javascript object>"
      ]
     },
     "metadata": {},
     "output_type": "display_data"
    },
    {
     "data": {
      "text/markdown": [
       "<span style=\"color:#33cc33\">Correct</span>"
      ],
      "text/plain": [
       "Correct"
      ]
     },
     "metadata": {},
     "output_type": "display_data"
    }
   ],
   "source": [
    "from sklearn.metrics import mean_absolute_error\n",
    "val_mae = mean_absolute_error(val_y, val_predictions)\n",
    "\n",
    "# uncomment following line to see the validation_mae\n",
    "print(val_mae)\n",
    "\n",
    "# Check your answer\n",
    "step_4.check()"
   ]
  },
  {
   "cell_type": "code",
   "execution_count": 10,
   "id": "1cc17825",
   "metadata": {
    "execution": {
     "iopub.execute_input": "2024-11-09T07:17:54.591991Z",
     "iopub.status.busy": "2024-11-09T07:17:54.591607Z",
     "iopub.status.idle": "2024-11-09T07:17:54.596068Z",
     "shell.execute_reply": "2024-11-09T07:17:54.595035Z"
    },
    "papermill": {
     "duration": 0.014024,
     "end_time": "2024-11-09T07:17:54.598371",
     "exception": false,
     "start_time": "2024-11-09T07:17:54.584347",
     "status": "completed"
    },
    "tags": []
   },
   "outputs": [],
   "source": [
    "# step_4.hint()\n",
    "#step_4.solution()"
   ]
  },
  {
   "cell_type": "markdown",
   "id": "d761bef9",
   "metadata": {
    "papermill": {
     "duration": 0.005673,
     "end_time": "2024-11-09T07:17:54.610049",
     "exception": false,
     "start_time": "2024-11-09T07:17:54.604376",
     "status": "completed"
    },
    "tags": []
   },
   "source": [
    "Is that MAE good?  There isn't a general rule for what values are good that applies across applications. But you'll see how to use (and improve) this number in the next step.\n",
    "\n",
    "# Keep Going\n",
    "\n",
    "You are ready for **[Underfitting and Overfitting](https://www.kaggle.com/dansbecker/underfitting-and-overfitting).**\n"
   ]
  },
  {
   "cell_type": "markdown",
   "id": "a350f845",
   "metadata": {
    "papermill": {
     "duration": 0.005563,
     "end_time": "2024-11-09T07:17:54.621748",
     "exception": false,
     "start_time": "2024-11-09T07:17:54.616185",
     "status": "completed"
    },
    "tags": []
   },
   "source": [
    "---\n",
    "\n",
    "\n",
    "\n",
    "\n",
    "*Have questions or comments? Visit the [course discussion forum](https://www.kaggle.com/learn/intro-to-machine-learning/discussion) to chat with other learners.*"
   ]
  }
 ],
 "metadata": {
  "kaggle": {
   "accelerator": "none",
   "dataSources": [
    {
     "databundleVersionId": 111096,
     "sourceId": 10211,
     "sourceType": "competition"
    },
    {
     "datasetId": 11167,
     "sourceId": 15520,
     "sourceType": "datasetVersion"
    },
    {
     "datasetId": 2709,
     "sourceId": 38454,
     "sourceType": "datasetVersion"
    }
   ],
   "isGpuEnabled": false,
   "isInternetEnabled": false,
   "language": "python",
   "sourceType": "notebook"
  },
  "kernelspec": {
   "display_name": "Python 3",
   "language": "python",
   "name": "python3"
  },
  "language_info": {
   "codemirror_mode": {
    "name": "ipython",
    "version": 3
   },
   "file_extension": ".py",
   "mimetype": "text/x-python",
   "name": "python",
   "nbconvert_exporter": "python",
   "pygments_lexer": "ipython3",
   "version": "3.10.14"
  },
  "papermill": {
   "default_parameters": {},
   "duration": 7.183096,
   "end_time": "2024-11-09T07:17:55.250388",
   "environment_variables": {},
   "exception": null,
   "input_path": "__notebook__.ipynb",
   "output_path": "__notebook__.ipynb",
   "parameters": {},
   "start_time": "2024-11-09T07:17:48.067292",
   "version": "2.6.0"
  }
 },
 "nbformat": 4,
 "nbformat_minor": 5
}
